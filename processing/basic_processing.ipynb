﻿{
 "cells": [
  {
   "cell_type": "markdown",
   "metadata": {
    "collapsed": true
   },
   "source": [
    "# Imports and setup"
   ]
  },
  {
   "cell_type": "code",
   "execution_count": 1,
   "outputs": [],
   "source": [
    "# TODO: \n",
    "# 1. Construct API with pre-trained model (for ex: giving an activity.instance_id, return the winning team)\n",
    "# 2. Pretty Github"
   ],
   "metadata": {
    "collapsed": false
   }
  },
  {
   "cell_type": "code",
   "execution_count": 1,
   "outputs": [],
   "source": [
    "import time\n",
    "from pathlib import Path\n",
    "from datetime import datetime\n",
    "import pandas as pd\n",
    "import numpy as np\n",
    "import os, sys\n",
    "import seaborn as sns\n",
    "import json\n",
    "\n",
    "from sklearn.model_selection import train_test_split, cross_val_score\n",
    "from sklearn.metrics import accuracy_score, confusion_matrix, f1_score\n",
    "from sklearn.pipeline import make_pipeline\n",
    "from sklearn.preprocessing import MinMaxScaler, StandardScaler\n",
    "from sklearn.svm import SVC\n",
    "from sklearn.decomposition import PCA\n",
    "from sklearn.ensemble import RandomForestClassifier\n",
    "from catboost import CatBoostClassifier\n",
    "\n",
    "sys.path.extend([str(Path(os.getcwd()).parent.absolute())]) # include from top, pb with jupyter notebooks...\n",
    "from db import MainDBHelper\n",
    "from models.guardian import Guardian\n",
    "from models.activity import Activity\n",
    "from local_api import BungieAPI"
   ],
   "metadata": {
    "collapsed": false
   }
  },
  {
   "cell_type": "code",
   "execution_count": 2,
   "outputs": [],
   "source": [
    "ROOT_DATA_FOLDER = \"../data\""
   ],
   "metadata": {
    "collapsed": false
   }
  },
  {
   "cell_type": "code",
   "execution_count": 3,
   "outputs": [],
   "source": [
    "db_helper = MainDBHelper(name=\"main.db\", folder=ROOT_DATA_FOLDER)"
   ],
   "metadata": {
    "collapsed": false
   }
  },
  {
   "cell_type": "code",
   "execution_count": 4,
   "outputs": [],
   "source": [
    "def pad(l: list, n: int, value=0):\n",
    "    return l + [value] * (n - len(l))"
   ],
   "metadata": {
    "collapsed": false
   }
  },
  {
   "cell_type": "code",
   "execution_count": 5,
   "outputs": [],
   "source": [
    "def get_player_columns_name(feature_name):\n",
    "    return [f\"player_{i}_{feature_name}\" for i in range(1, 13)]"
   ],
   "metadata": {
    "collapsed": false
   }
  },
  {
   "cell_type": "code",
   "execution_count": 6,
   "outputs": [],
   "source": [
    "def get_cols_name(player_range_start: int, player_range_end: int):\n",
    "    return np.array(\n",
    "        [[f\"player_{i}_{stat}\" for stat in STATS_NAME] for i in range(player_range_start, player_range_end)]).reshape(\n",
    "        (player_range_end - player_range_start) * N_STATS)"
   ],
   "metadata": {
    "collapsed": false
   }
  },
  {
   "cell_type": "code",
   "execution_count": 7,
   "outputs": [],
   "source": [
    "def shuffle_winning_team(df):\n",
    "    # Not optimal - renaming columns but the rvalue consume memory as well\n",
    "    mid = len(df) // 2\n",
    "\n",
    "    # First shuffle dataframe to ensure dates are shuffle as well\n",
    "    df = df.sample(frac=1.0, random_state=42).reset_index(drop=True)\n",
    "\n",
    "    player_cols_team_A = get_cols_name(1, 7)\n",
    "    player_cols_team_B = get_cols_name(7, 13)\n",
    "    tmp_cols = [f\"tmp_{i}\" for i in range(6*N_STATS)]\n",
    "\n",
    "    # False positive warning (see https://stackoverflow.com/questions/20625582/how-to-deal-with-settingwithcopywarning-in-pandas)\n",
    "    df.loc[:mid] = (df.loc[:mid].rename(columns={player_cols_team_A[i]: tmp_cols[i] for i in range(len(player_cols_team_A))})\n",
    "                                    .rename(columns={player_cols_team_B[i]: player_cols_team_A[i] for i in range(len(player_cols_team_A))})\n",
    "                                    .rename(columns={tmp_cols[i]: player_cols_team_B[i] for i in range(len(player_cols_team_A))}))\\\n",
    "                                    [df.columns]  # reorder columns\n",
    "    df.loc[:mid, \"winner\"] = [1 for i in range(mid + 1)]\n",
    "    return df"
   ],
   "metadata": {
    "collapsed": false
   }
  },
  {
   "cell_type": "markdown",
   "source": [
    "### Get activities"
   ],
   "metadata": {
    "collapsed": false
   }
  },
  {
   "cell_type": "code",
   "execution_count": 6,
   "outputs": [
    {
     "name": "stdout",
     "output_type": "stream",
     "text": [
      "CPU times: total: 14.5 s\n",
      "Wall time: 38.1 s\n"
     ]
    }
   ],
   "source": [
    "%%time\n",
    "\n",
    "# Get activities\n",
    "request = \"SELECT * FROM main.activity\" # WHERE (activity.mode=71 OR activity.mode=73) AND activity.period > date('2022-01-01')\"\n",
    "r = db_helper.execute(request, [])"
   ],
   "metadata": {
    "collapsed": false
   }
  },
  {
   "cell_type": "code",
   "execution_count": 7,
   "outputs": [
    {
     "data": {
      "text/plain": "         instance_id                period  mode  is_private  win_score  \\\n0            1885169  2017-09-05T23:32:24Z    71           0         58   \n1            2024057  2017-09-05T23:42:27Z    71           0         39   \n2            2159868  2017-09-05T23:53:01Z    73           0         85   \n3            2269987  2017-09-06T00:04:05Z    73           0         77   \n4            7875392  2017-09-06T05:42:33Z    73           0         95   \n...              ...                   ...   ...         ...        ...   \n1024538  12018990154  2022-12-08T18:11:22Z    71           0         28   \n1024539  12019036307  2022-12-08T18:20:09Z    73           0        151   \n1024540  12019094299  2022-12-08T18:29:49Z    71           0         82   \n1024541  12019833328  2022-12-08T16:59:30Z    88           0          2   \n1024542  12020140409  2022-12-08T21:59:31Z    71           0        101   \n\n         loss_score                                            players  \n0                35  [{\"membership_id\": \"4611686018464804453\", \"mem...  \n1                36  [{\"membership_id\": \"4611686018455633803\", \"mem...  \n2                54  [{\"membership_id\": \"4611686018455633803\", \"mem...  \n3                25  [{\"membership_id\": \"4611686018455633803\", \"mem...  \n4                51  [{'membership_id': '4611686018432653582', 'mem...  \n...             ...                                                ...  \n1024538          24  [{\"membership_id\": \"4611686018473181248\", \"mem...  \n1024539          73  [{\"membership_id\": \"4611686018523869922\", \"mem...  \n1024540          62  [{\"membership_id\": \"4611686018476168686\", \"mem...  \n1024541           1  [{\"membership_id\": \"4611686018429466806\", \"mem...  \n1024542          78  [{\"membership_id\": \"4611686018465222698\", \"mem...  \n\n[1024543 rows x 7 columns]",
      "text/html": "<div>\n<style scoped>\n    .dataframe tbody tr th:only-of-type {\n        vertical-align: middle;\n    }\n\n    .dataframe tbody tr th {\n        vertical-align: top;\n    }\n\n    .dataframe thead th {\n        text-align: right;\n    }\n</style>\n<table border=\"1\" class=\"dataframe\">\n  <thead>\n    <tr style=\"text-align: right;\">\n      <th></th>\n      <th>instance_id</th>\n      <th>period</th>\n      <th>mode</th>\n      <th>is_private</th>\n      <th>win_score</th>\n      <th>loss_score</th>\n      <th>players</th>\n    </tr>\n  </thead>\n  <tbody>\n    <tr>\n      <th>0</th>\n      <td>1885169</td>\n      <td>2017-09-05T23:32:24Z</td>\n      <td>71</td>\n      <td>0</td>\n      <td>58</td>\n      <td>35</td>\n      <td>[{\"membership_id\": \"4611686018464804453\", \"mem...</td>\n    </tr>\n    <tr>\n      <th>1</th>\n      <td>2024057</td>\n      <td>2017-09-05T23:42:27Z</td>\n      <td>71</td>\n      <td>0</td>\n      <td>39</td>\n      <td>36</td>\n      <td>[{\"membership_id\": \"4611686018455633803\", \"mem...</td>\n    </tr>\n    <tr>\n      <th>2</th>\n      <td>2159868</td>\n      <td>2017-09-05T23:53:01Z</td>\n      <td>73</td>\n      <td>0</td>\n      <td>85</td>\n      <td>54</td>\n      <td>[{\"membership_id\": \"4611686018455633803\", \"mem...</td>\n    </tr>\n    <tr>\n      <th>3</th>\n      <td>2269987</td>\n      <td>2017-09-06T00:04:05Z</td>\n      <td>73</td>\n      <td>0</td>\n      <td>77</td>\n      <td>25</td>\n      <td>[{\"membership_id\": \"4611686018455633803\", \"mem...</td>\n    </tr>\n    <tr>\n      <th>4</th>\n      <td>7875392</td>\n      <td>2017-09-06T05:42:33Z</td>\n      <td>73</td>\n      <td>0</td>\n      <td>95</td>\n      <td>51</td>\n      <td>[{'membership_id': '4611686018432653582', 'mem...</td>\n    </tr>\n    <tr>\n      <th>...</th>\n      <td>...</td>\n      <td>...</td>\n      <td>...</td>\n      <td>...</td>\n      <td>...</td>\n      <td>...</td>\n      <td>...</td>\n    </tr>\n    <tr>\n      <th>1024538</th>\n      <td>12018990154</td>\n      <td>2022-12-08T18:11:22Z</td>\n      <td>71</td>\n      <td>0</td>\n      <td>28</td>\n      <td>24</td>\n      <td>[{\"membership_id\": \"4611686018473181248\", \"mem...</td>\n    </tr>\n    <tr>\n      <th>1024539</th>\n      <td>12019036307</td>\n      <td>2022-12-08T18:20:09Z</td>\n      <td>73</td>\n      <td>0</td>\n      <td>151</td>\n      <td>73</td>\n      <td>[{\"membership_id\": \"4611686018523869922\", \"mem...</td>\n    </tr>\n    <tr>\n      <th>1024540</th>\n      <td>12019094299</td>\n      <td>2022-12-08T18:29:49Z</td>\n      <td>71</td>\n      <td>0</td>\n      <td>82</td>\n      <td>62</td>\n      <td>[{\"membership_id\": \"4611686018476168686\", \"mem...</td>\n    </tr>\n    <tr>\n      <th>1024541</th>\n      <td>12019833328</td>\n      <td>2022-12-08T16:59:30Z</td>\n      <td>88</td>\n      <td>0</td>\n      <td>2</td>\n      <td>1</td>\n      <td>[{\"membership_id\": \"4611686018429466806\", \"mem...</td>\n    </tr>\n    <tr>\n      <th>1024542</th>\n      <td>12020140409</td>\n      <td>2022-12-08T21:59:31Z</td>\n      <td>71</td>\n      <td>0</td>\n      <td>101</td>\n      <td>78</td>\n      <td>[{\"membership_id\": \"4611686018465222698\", \"mem...</td>\n    </tr>\n  </tbody>\n</table>\n<p>1024543 rows × 7 columns</p>\n</div>"
     },
     "execution_count": 7,
     "metadata": {},
     "output_type": "execute_result"
    }
   ],
   "source": [
    "activities = pd.DataFrame(data=[dict(row) for row in r])\n",
    "activities"
   ],
   "metadata": {
    "collapsed": false
   }
  },
  {
   "cell_type": "markdown",
   "source": [
    "### Setup train df - combat_rating, kills_pga, assists_pga, deaths_pga, score_pga, win_ratio and winning team"
   ],
   "metadata": {
    "collapsed": false
   }
  },
  {
   "cell_type": "code",
   "execution_count": 8,
   "outputs": [],
   "source": [
    "# To use different features, simply modify the STATS_NAME array and the next function get_guardian_stats accordingly. The rest of the cells should adapt nicely.\n",
    "STATS_NAME = [\"activities_entered\", \"combat_rating\", \"kills_pga\", \"assists_pga\", \"deaths_pga\", \"score_pga\", \"win_ratio\", \"kd\", \"kda\"] # 85% acc\n",
    "N_STATS = len(STATS_NAME)\n",
    "PLAYERS_COLUMNS = np.array([[f\"player_{i}_{stat}\" for stat in STATS_NAME] for i in range(1, 13)]).reshape(12 * N_STATS)"
   ],
   "metadata": {
    "collapsed": false
   }
  },
  {
   "cell_type": "code",
   "execution_count": 9,
   "outputs": [],
   "source": [
    "def get_guardian_stats(membership_id, membership_type, character_id):\n",
    "    guardian = db_helper.get_guardian_from_ids(\n",
    "        Guardian(membership_id=membership_id, membership_type=membership_type, character_id=character_id))\n",
    "\n",
    "    if guardian is None:\n",
    "        return pad([], N_STATS, -1)\n",
    "\n",
    "    if guardian.is_private == 1:\n",
    "        return pad([], N_STATS, -1)\n",
    "\n",
    "    n = guardian.activities_entered\n",
    "    if n < 1:\n",
    "        return pad([], N_STATS, -1)\n",
    "    \n",
    "    try:\n",
    "        # with kd and kda\n",
    "        stats = [guardian.activities_entered,\n",
    "                 guardian.combat_rating,\n",
    "                 guardian.kills / n,\n",
    "                 guardian.assists / n,\n",
    "                 guardian.deaths / n,\n",
    "                 guardian.score / n,\n",
    "                 guardian.activities_won / n,\n",
    "                 guardian.kills / guardian.deaths,\n",
    "                 (guardian.kills + guardian.assists) / guardian.deaths]\n",
    "        \n",
    "    except ZeroDivisionError as err:\n",
    "        return pad([], N_STATS, -1)\n",
    "\n",
    "    return np.array(stats)"
   ],
   "metadata": {
    "collapsed": false
   }
  },
  {
   "cell_type": "code",
   "execution_count": 10,
   "outputs": [],
   "source": [
    "def extract_players_stats(players_json):\n",
    "    try:\n",
    "        (players_json) = (players_json.replace(\"'\", '\"')\n",
    "                          .replace(\"False\", \"false\")\n",
    "                          .replace(\"True\", \"true\"))\n",
    "        players = json.loads(players_json)\n",
    "    except json.JSONDecodeError as err:\n",
    "        return np.array([pad([], N_STATS, -1) for i in range(12)])\n",
    "\n",
    "    winners = []\n",
    "    losers = []\n",
    "    for player in players:\n",
    "        player_stats = get_guardian_stats(player[\"membership_id\"], player[\"membership_type\"], player[\"character_id\"])\n",
    "        if player[\"is_winner\"]:\n",
    "            winners.append(player_stats)\n",
    "        else:\n",
    "            losers.append(player_stats)\n",
    "\n",
    "    # -1 = stat missing (guardian private for ex)\n",
    "    #  0 = no entry (4v4 on a 6v6 game for ex)\n",
    "\n",
    "    return np.array(\n",
    "        pad(winners, 6, pad([], N_STATS, 0))[:6] + pad(losers, 6, pad([], N_STATS, 0))[:6])  # return winners first"
   ],
   "metadata": {
    "collapsed": false
   }
  },
  {
   "cell_type": "code",
   "execution_count": 11,
   "outputs": [
    {
     "name": "stdout",
     "output_type": "stream",
     "text": [
      "CPU times: total: 21min 43s\n",
      "Wall time: 22min 38s\n"
     ]
    }
   ],
   "source": [
    "%%time\n",
    "t = activities.players.apply(extract_players_stats)\n",
    "stack = np.stack(t, axis=0)\n",
    "stack = np.reshape(stack, (len(stack), 12 * N_STATS))"
   ],
   "metadata": {
    "collapsed": false
   }
  },
  {
   "cell_type": "code",
   "execution_count": 12,
   "outputs": [
    {
     "name": "stderr",
     "output_type": "stream",
     "text": [
      "C:\\Users\\Samuel\\AppData\\Local\\Temp\\ipykernel_17088\\1971949699.py:2: PerformanceWarning: DataFrame is highly fragmented.  This is usually the result of calling `frame.insert` many times, which has poor performance.  Consider joining all columns at once using pd.concat(axis=1) instead. To get a de-fragmented frame, use `newframe = frame.copy()`\n",
      "  train[PLAYERS_COLUMNS] = pd.DataFrame(stack, columns=PLAYERS_COLUMNS)\n",
      "C:\\Users\\Samuel\\AppData\\Local\\Temp\\ipykernel_17088\\1971949699.py:2: PerformanceWarning: DataFrame is highly fragmented.  This is usually the result of calling `frame.insert` many times, which has poor performance.  Consider joining all columns at once using pd.concat(axis=1) instead. To get a de-fragmented frame, use `newframe = frame.copy()`\n",
      "  train[PLAYERS_COLUMNS] = pd.DataFrame(stack, columns=PLAYERS_COLUMNS)\n",
      "C:\\Users\\Samuel\\AppData\\Local\\Temp\\ipykernel_17088\\1971949699.py:2: PerformanceWarning: DataFrame is highly fragmented.  This is usually the result of calling `frame.insert` many times, which has poor performance.  Consider joining all columns at once using pd.concat(axis=1) instead. To get a de-fragmented frame, use `newframe = frame.copy()`\n",
      "  train[PLAYERS_COLUMNS] = pd.DataFrame(stack, columns=PLAYERS_COLUMNS)\n",
      "C:\\Users\\Samuel\\AppData\\Local\\Temp\\ipykernel_17088\\1971949699.py:2: PerformanceWarning: DataFrame is highly fragmented.  This is usually the result of calling `frame.insert` many times, which has poor performance.  Consider joining all columns at once using pd.concat(axis=1) instead. To get a de-fragmented frame, use `newframe = frame.copy()`\n",
      "  train[PLAYERS_COLUMNS] = pd.DataFrame(stack, columns=PLAYERS_COLUMNS)\n",
      "C:\\Users\\Samuel\\AppData\\Local\\Temp\\ipykernel_17088\\1971949699.py:2: PerformanceWarning: DataFrame is highly fragmented.  This is usually the result of calling `frame.insert` many times, which has poor performance.  Consider joining all columns at once using pd.concat(axis=1) instead. To get a de-fragmented frame, use `newframe = frame.copy()`\n",
      "  train[PLAYERS_COLUMNS] = pd.DataFrame(stack, columns=PLAYERS_COLUMNS)\n",
      "C:\\Users\\Samuel\\AppData\\Local\\Temp\\ipykernel_17088\\1971949699.py:2: PerformanceWarning: DataFrame is highly fragmented.  This is usually the result of calling `frame.insert` many times, which has poor performance.  Consider joining all columns at once using pd.concat(axis=1) instead. To get a de-fragmented frame, use `newframe = frame.copy()`\n",
      "  train[PLAYERS_COLUMNS] = pd.DataFrame(stack, columns=PLAYERS_COLUMNS)\n",
      "C:\\Users\\Samuel\\AppData\\Local\\Temp\\ipykernel_17088\\1971949699.py:2: PerformanceWarning: DataFrame is highly fragmented.  This is usually the result of calling `frame.insert` many times, which has poor performance.  Consider joining all columns at once using pd.concat(axis=1) instead. To get a de-fragmented frame, use `newframe = frame.copy()`\n",
      "  train[PLAYERS_COLUMNS] = pd.DataFrame(stack, columns=PLAYERS_COLUMNS)\n",
      "C:\\Users\\Samuel\\AppData\\Local\\Temp\\ipykernel_17088\\1971949699.py:2: PerformanceWarning: DataFrame is highly fragmented.  This is usually the result of calling `frame.insert` many times, which has poor performance.  Consider joining all columns at once using pd.concat(axis=1) instead. To get a de-fragmented frame, use `newframe = frame.copy()`\n",
      "  train[PLAYERS_COLUMNS] = pd.DataFrame(stack, columns=PLAYERS_COLUMNS)\n",
      "C:\\Users\\Samuel\\AppData\\Local\\Temp\\ipykernel_17088\\1971949699.py:3: PerformanceWarning: DataFrame is highly fragmented.  This is usually the result of calling `frame.insert` many times, which has poor performance.  Consider joining all columns at once using pd.concat(axis=1) instead. To get a de-fragmented frame, use `newframe = frame.copy()`\n",
      "  train[\"winner\"] = np.zeros(len(train))\n",
      "C:\\Users\\Samuel\\AppData\\Local\\Temp\\ipykernel_17088\\1971949699.py:4: PerformanceWarning: DataFrame is highly fragmented.  This is usually the result of calling `frame.insert` many times, which has poor performance.  Consider joining all columns at once using pd.concat(axis=1) instead. To get a de-fragmented frame, use `newframe = frame.copy()`\n",
      "  train[\"mode\"] = activities[\"mode\"]\n",
      "C:\\Users\\Samuel\\AppData\\Local\\Temp\\ipykernel_17088\\1971949699.py:5: PerformanceWarning: DataFrame is highly fragmented.  This is usually the result of calling `frame.insert` many times, which has poor performance.  Consider joining all columns at once using pd.concat(axis=1) instead. To get a de-fragmented frame, use `newframe = frame.copy()`\n",
      "  train[\"period\"] = pd.to_datetime(activities[\"period\"], format=BungieAPI.API_DATE_FORMAT)\n",
      "C:\\Users\\Samuel\\AppData\\Local\\Temp\\ipykernel_17088\\1971949699.py:6: PerformanceWarning: DataFrame is highly fragmented.  This is usually the result of calling `frame.insert` many times, which has poor performance.  Consider joining all columns at once using pd.concat(axis=1) instead. To get a de-fragmented frame, use `newframe = frame.copy()`\n",
      "  train[\"instance_id\"] = activities[\"instance_id\"]\n"
     ]
    },
    {
     "data": {
      "text/plain": "         player_1_activities_entered  player_1_combat_rating  \\\n0                              261.0              168.135969   \n1                              390.0              161.895219   \n2                              390.0              161.895219   \n3                              390.0              161.895219   \n4                               17.0              130.364239   \n...                              ...                     ...   \n1024538                      33121.0              151.767243   \n1024539                        205.0              106.204519   \n1024540                       5810.0              158.251602   \n1024541                      33121.0              151.767243   \n1024542                        419.0              156.880766   \n\n         player_1_kills_pga  player_1_assists_pga  player_1_deaths_pga  \\\n0                  8.103448              3.252874             8.176245   \n1                 11.684615              3.951282             8.828205   \n2                 11.684615              3.951282             8.828205   \n3                 11.684615              3.951282             8.828205   \n4                 10.176471              5.176471            10.764706   \n...                     ...                   ...                  ...   \n1024538           13.157091              2.760122             7.054618   \n1024539            9.434146              3.965854             7.668293   \n1024540           14.374355              4.447332             9.278141   \n1024541           13.157091              2.760122             7.054618   \n1024542           15.448687              4.558473             8.360382   \n\n         player_1_score_pga  player_1_win_ratio  player_1_kd  player_1_kda  \\\n0                  5.896552            0.444444     0.991097      1.388941   \n1                 15.935897            0.551282     1.323555      1.771130   \n2                 15.935897            0.551282     1.323555      1.771130   \n3                 15.935897            0.551282     1.323555      1.771130   \n4                 15.411765            0.352941     0.945355      1.426230   \n...                     ...                 ...          ...           ...   \n1024538           18.008031            0.597959     1.865032      2.256283   \n1024539           12.492683            0.497561     1.230280      1.747455   \n1024540           27.070224            0.481239     1.549271      2.028605   \n1024541           18.008031            0.597959     1.865032      2.256283   \n1024542           25.085919            0.539379     1.847845      2.393092   \n\n         player_2_activities_entered  ...  player_12_assists_pga  \\\n0                             2417.0  ...               0.000000   \n1                             2417.0  ...               0.000000   \n2                             2417.0  ...               0.000000   \n3                             2417.0  ...               0.000000   \n4                               49.0  ...               0.000000   \n...                              ...  ...                    ...   \n1024538                       4026.0  ...               3.380557   \n1024539                         69.0  ...               3.130886   \n1024540                       1693.0  ...               3.800287   \n1024541                        799.0  ...               3.353251   \n1024542                       7843.0  ...               2.579592   \n\n         player_12_deaths_pga  player_12_score_pga  player_12_win_ratio  \\\n0                    0.000000             0.000000             0.000000   \n1                    0.000000             0.000000             0.000000   \n2                    0.000000             0.000000             0.000000   \n3                    0.000000             0.000000             0.000000   \n4                    0.000000             0.000000             0.000000   \n...                       ...                  ...                  ...   \n1024538              8.950066            23.629230             0.603351   \n1024539              8.006385            16.950519             0.374302   \n1024540              9.218901            17.859679             0.346038   \n1024541              9.996485            20.509666             0.471002   \n1024542              7.706122            18.910204             0.546939   \n\n         player_12_kd  player_12_kda  winner  mode              period  \\\n0            0.000000       0.000000     0.0    71 2017-09-05 23:32:24   \n1            0.000000       0.000000     0.0    71 2017-09-05 23:42:27   \n2            0.000000       0.000000     0.0    73 2017-09-05 23:53:01   \n3            0.000000       0.000000     0.0    73 2017-09-06 00:04:05   \n4            0.000000       0.000000     0.0    73 2017-09-06 05:42:33   \n...               ...            ...     ...   ...                 ...   \n1024538      1.693500       2.071213     0.0    71 2022-12-08 18:11:22   \n1024539      0.989833       1.380881     0.0    73 2022-12-08 18:20:09   \n1024540      1.059581       1.471809     0.0    71 2022-12-08 18:29:49   \n1024541      0.899965       1.235408     0.0    88 2022-12-08 16:59:30   \n1024542      1.940678       2.275424     0.0    71 2022-12-08 21:59:31   \n\n         instance_id  \n0            1885169  \n1            2024057  \n2            2159868  \n3            2269987  \n4            7875392  \n...              ...  \n1024538  12018990154  \n1024539  12019036307  \n1024540  12019094299  \n1024541  12019833328  \n1024542  12020140409  \n\n[1024543 rows x 112 columns]",
      "text/html": "<div>\n<style scoped>\n    .dataframe tbody tr th:only-of-type {\n        vertical-align: middle;\n    }\n\n    .dataframe tbody tr th {\n        vertical-align: top;\n    }\n\n    .dataframe thead th {\n        text-align: right;\n    }\n</style>\n<table border=\"1\" class=\"dataframe\">\n  <thead>\n    <tr style=\"text-align: right;\">\n      <th></th>\n      <th>player_1_activities_entered</th>\n      <th>player_1_combat_rating</th>\n      <th>player_1_kills_pga</th>\n      <th>player_1_assists_pga</th>\n      <th>player_1_deaths_pga</th>\n      <th>player_1_score_pga</th>\n      <th>player_1_win_ratio</th>\n      <th>player_1_kd</th>\n      <th>player_1_kda</th>\n      <th>player_2_activities_entered</th>\n      <th>...</th>\n      <th>player_12_assists_pga</th>\n      <th>player_12_deaths_pga</th>\n      <th>player_12_score_pga</th>\n      <th>player_12_win_ratio</th>\n      <th>player_12_kd</th>\n      <th>player_12_kda</th>\n      <th>winner</th>\n      <th>mode</th>\n      <th>period</th>\n      <th>instance_id</th>\n    </tr>\n  </thead>\n  <tbody>\n    <tr>\n      <th>0</th>\n      <td>261.0</td>\n      <td>168.135969</td>\n      <td>8.103448</td>\n      <td>3.252874</td>\n      <td>8.176245</td>\n      <td>5.896552</td>\n      <td>0.444444</td>\n      <td>0.991097</td>\n      <td>1.388941</td>\n      <td>2417.0</td>\n      <td>...</td>\n      <td>0.000000</td>\n      <td>0.000000</td>\n      <td>0.000000</td>\n      <td>0.000000</td>\n      <td>0.000000</td>\n      <td>0.000000</td>\n      <td>0.0</td>\n      <td>71</td>\n      <td>2017-09-05 23:32:24</td>\n      <td>1885169</td>\n    </tr>\n    <tr>\n      <th>1</th>\n      <td>390.0</td>\n      <td>161.895219</td>\n      <td>11.684615</td>\n      <td>3.951282</td>\n      <td>8.828205</td>\n      <td>15.935897</td>\n      <td>0.551282</td>\n      <td>1.323555</td>\n      <td>1.771130</td>\n      <td>2417.0</td>\n      <td>...</td>\n      <td>0.000000</td>\n      <td>0.000000</td>\n      <td>0.000000</td>\n      <td>0.000000</td>\n      <td>0.000000</td>\n      <td>0.000000</td>\n      <td>0.0</td>\n      <td>71</td>\n      <td>2017-09-05 23:42:27</td>\n      <td>2024057</td>\n    </tr>\n    <tr>\n      <th>2</th>\n      <td>390.0</td>\n      <td>161.895219</td>\n      <td>11.684615</td>\n      <td>3.951282</td>\n      <td>8.828205</td>\n      <td>15.935897</td>\n      <td>0.551282</td>\n      <td>1.323555</td>\n      <td>1.771130</td>\n      <td>2417.0</td>\n      <td>...</td>\n      <td>0.000000</td>\n      <td>0.000000</td>\n      <td>0.000000</td>\n      <td>0.000000</td>\n      <td>0.000000</td>\n      <td>0.000000</td>\n      <td>0.0</td>\n      <td>73</td>\n      <td>2017-09-05 23:53:01</td>\n      <td>2159868</td>\n    </tr>\n    <tr>\n      <th>3</th>\n      <td>390.0</td>\n      <td>161.895219</td>\n      <td>11.684615</td>\n      <td>3.951282</td>\n      <td>8.828205</td>\n      <td>15.935897</td>\n      <td>0.551282</td>\n      <td>1.323555</td>\n      <td>1.771130</td>\n      <td>2417.0</td>\n      <td>...</td>\n      <td>0.000000</td>\n      <td>0.000000</td>\n      <td>0.000000</td>\n      <td>0.000000</td>\n      <td>0.000000</td>\n      <td>0.000000</td>\n      <td>0.0</td>\n      <td>73</td>\n      <td>2017-09-06 00:04:05</td>\n      <td>2269987</td>\n    </tr>\n    <tr>\n      <th>4</th>\n      <td>17.0</td>\n      <td>130.364239</td>\n      <td>10.176471</td>\n      <td>5.176471</td>\n      <td>10.764706</td>\n      <td>15.411765</td>\n      <td>0.352941</td>\n      <td>0.945355</td>\n      <td>1.426230</td>\n      <td>49.0</td>\n      <td>...</td>\n      <td>0.000000</td>\n      <td>0.000000</td>\n      <td>0.000000</td>\n      <td>0.000000</td>\n      <td>0.000000</td>\n      <td>0.000000</td>\n      <td>0.0</td>\n      <td>73</td>\n      <td>2017-09-06 05:42:33</td>\n      <td>7875392</td>\n    </tr>\n    <tr>\n      <th>...</th>\n      <td>...</td>\n      <td>...</td>\n      <td>...</td>\n      <td>...</td>\n      <td>...</td>\n      <td>...</td>\n      <td>...</td>\n      <td>...</td>\n      <td>...</td>\n      <td>...</td>\n      <td>...</td>\n      <td>...</td>\n      <td>...</td>\n      <td>...</td>\n      <td>...</td>\n      <td>...</td>\n      <td>...</td>\n      <td>...</td>\n      <td>...</td>\n      <td>...</td>\n      <td>...</td>\n    </tr>\n    <tr>\n      <th>1024538</th>\n      <td>33121.0</td>\n      <td>151.767243</td>\n      <td>13.157091</td>\n      <td>2.760122</td>\n      <td>7.054618</td>\n      <td>18.008031</td>\n      <td>0.597959</td>\n      <td>1.865032</td>\n      <td>2.256283</td>\n      <td>4026.0</td>\n      <td>...</td>\n      <td>3.380557</td>\n      <td>8.950066</td>\n      <td>23.629230</td>\n      <td>0.603351</td>\n      <td>1.693500</td>\n      <td>2.071213</td>\n      <td>0.0</td>\n      <td>71</td>\n      <td>2022-12-08 18:11:22</td>\n      <td>12018990154</td>\n    </tr>\n    <tr>\n      <th>1024539</th>\n      <td>205.0</td>\n      <td>106.204519</td>\n      <td>9.434146</td>\n      <td>3.965854</td>\n      <td>7.668293</td>\n      <td>12.492683</td>\n      <td>0.497561</td>\n      <td>1.230280</td>\n      <td>1.747455</td>\n      <td>69.0</td>\n      <td>...</td>\n      <td>3.130886</td>\n      <td>8.006385</td>\n      <td>16.950519</td>\n      <td>0.374302</td>\n      <td>0.989833</td>\n      <td>1.380881</td>\n      <td>0.0</td>\n      <td>73</td>\n      <td>2022-12-08 18:20:09</td>\n      <td>12019036307</td>\n    </tr>\n    <tr>\n      <th>1024540</th>\n      <td>5810.0</td>\n      <td>158.251602</td>\n      <td>14.374355</td>\n      <td>4.447332</td>\n      <td>9.278141</td>\n      <td>27.070224</td>\n      <td>0.481239</td>\n      <td>1.549271</td>\n      <td>2.028605</td>\n      <td>1693.0</td>\n      <td>...</td>\n      <td>3.800287</td>\n      <td>9.218901</td>\n      <td>17.859679</td>\n      <td>0.346038</td>\n      <td>1.059581</td>\n      <td>1.471809</td>\n      <td>0.0</td>\n      <td>71</td>\n      <td>2022-12-08 18:29:49</td>\n      <td>12019094299</td>\n    </tr>\n    <tr>\n      <th>1024541</th>\n      <td>33121.0</td>\n      <td>151.767243</td>\n      <td>13.157091</td>\n      <td>2.760122</td>\n      <td>7.054618</td>\n      <td>18.008031</td>\n      <td>0.597959</td>\n      <td>1.865032</td>\n      <td>2.256283</td>\n      <td>799.0</td>\n      <td>...</td>\n      <td>3.353251</td>\n      <td>9.996485</td>\n      <td>20.509666</td>\n      <td>0.471002</td>\n      <td>0.899965</td>\n      <td>1.235408</td>\n      <td>0.0</td>\n      <td>88</td>\n      <td>2022-12-08 16:59:30</td>\n      <td>12019833328</td>\n    </tr>\n    <tr>\n      <th>1024542</th>\n      <td>419.0</td>\n      <td>156.880766</td>\n      <td>15.448687</td>\n      <td>4.558473</td>\n      <td>8.360382</td>\n      <td>25.085919</td>\n      <td>0.539379</td>\n      <td>1.847845</td>\n      <td>2.393092</td>\n      <td>7843.0</td>\n      <td>...</td>\n      <td>2.579592</td>\n      <td>7.706122</td>\n      <td>18.910204</td>\n      <td>0.546939</td>\n      <td>1.940678</td>\n      <td>2.275424</td>\n      <td>0.0</td>\n      <td>71</td>\n      <td>2022-12-08 21:59:31</td>\n      <td>12020140409</td>\n    </tr>\n  </tbody>\n</table>\n<p>1024543 rows × 112 columns</p>\n</div>"
     },
     "execution_count": 12,
     "metadata": {},
     "output_type": "execute_result"
    }
   ],
   "source": [
    "train = pd.DataFrame()\n",
    "train[PLAYERS_COLUMNS] = pd.DataFrame(stack, columns=PLAYERS_COLUMNS)\n",
    "train[\"winner\"] = np.zeros(len(train))\n",
    "train[\"mode\"] = activities[\"mode\"]\n",
    "train[\"period\"] = pd.to_datetime(activities[\"period\"], format=BungieAPI.API_DATE_FORMAT)\n",
    "train[\"instance_id\"] = activities[\"instance_id\"]\n",
    "train"
   ],
   "metadata": {
    "collapsed": false
   }
  },
  {
   "cell_type": "code",
   "execution_count": 13,
   "outputs": [
    {
     "data": {
      "text/plain": "        player_1_activities_entered  player_1_combat_rating  \\\n0                             261.0              168.135969   \n1                             390.0              161.895219   \n2                             390.0              161.895219   \n3                              17.0              130.364239   \n4                             124.0              162.975152   \n...                             ...                     ...   \n261675                       4597.0              151.835510   \n261676                       2843.0              168.818530   \n261677                       3918.0              125.366135   \n261678                       2317.0              114.896575   \n261679                        222.0              132.792214   \n\n        player_1_kills_pga  player_1_assists_pga  player_1_deaths_pga  \\\n0                 8.103448              3.252874             8.176245   \n1                11.684615              3.951282             8.828205   \n2                11.684615              3.951282             8.828205   \n3                10.176471              5.176471            10.764706   \n4                11.685484              3.766129             9.895161   \n...                    ...                   ...                  ...   \n261675           13.185556              3.380030             7.398956   \n261676           13.645445              3.984875             9.429828   \n261677           10.766718              4.420878            10.269270   \n261678           11.761329              2.908071             8.903323   \n261679           13.387387              3.351351            10.270270   \n\n        player_1_score_pga  player_1_win_ratio  player_1_kd  player_1_kda  \\\n0                 5.896552            0.444444     0.991097      1.388941   \n1                15.935897            0.551282     1.323555      1.771130   \n2                15.935897            0.551282     1.323555      1.771130   \n3                15.411765            0.352941     0.945355      1.426230   \n4                17.645161            0.564516     1.180929      1.561532   \n...                    ...                 ...          ...           ...   \n261675           18.242985            0.639983     1.782083      2.238909   \n261676           34.108688            0.543088     1.447051      1.869633   \n261677           17.177131            0.483665     1.048440      1.478936   \n261678           16.892102            0.460509     1.321004      1.647632   \n261679           17.468468            0.504505     1.303509      1.629825   \n\n        player_2_activities_entered  ...  player_12_kills_pga  \\\n0                            2417.0  ...             0.000000   \n1                            2417.0  ...             0.000000   \n2                            2417.0  ...             0.000000   \n3                              49.0  ...             0.000000   \n4                             547.0  ...             0.000000   \n...                             ...  ...                  ...   \n261675                       2843.0  ...             9.879747   \n261676                       4597.0  ...             8.000000   \n261677                         99.0  ...             7.388227   \n261678                       3111.0  ...             8.598291   \n261679                       4264.0  ...             9.838095   \n\n        player_12_assists_pga  player_12_deaths_pga  player_12_score_pga  \\\n0                    0.000000              0.000000             0.000000   \n1                    0.000000              0.000000             0.000000   \n2                    0.000000              0.000000             0.000000   \n3                    0.000000              0.000000             0.000000   \n4                    0.000000              0.000000             0.000000   \n...                       ...                   ...                  ...   \n261675               3.510549              7.845992            20.166667   \n261676               2.665044              8.201558             9.972736   \n261677               2.852832              9.560730            11.857675   \n261678               3.422748              8.274162             8.852728   \n261679               3.577778             11.088889            15.568254   \n\n        player_12_win_ratio  player_12_kd  player_12_kda  winner  mode  \\\n0                  0.000000      0.000000       0.000000     0.0    71   \n1                  0.000000      0.000000       0.000000     0.0    71   \n2                  0.000000      0.000000       0.000000     0.0    73   \n3                  0.000000      0.000000       0.000000     0.0    73   \n4                  0.000000      0.000000       0.000000     0.0    73   \n...                     ...           ...            ...     ...   ...   \n261675             0.443038      1.259209       1.706642     0.0    73   \n261676             0.543330      0.975424       1.300368     0.0    73   \n261677             0.292101      0.772768       1.071159     0.0    73   \n261678             0.491124      1.039174       1.452841     0.0    73   \n261679             0.384127      0.887203       1.209848     0.0    73   \n\n                    period  \n0      2017-09-05 23:32:24  \n1      2017-09-05 23:42:27  \n2      2017-09-05 23:53:01  \n3      2017-09-06 05:42:33  \n4      2017-09-06 09:14:55  \n...                    ...  \n261675 2022-11-29 12:45:19  \n261676 2022-11-29 12:57:04  \n261677 2022-11-29 13:06:36  \n261678 2022-11-29 13:10:23  \n261679 2022-11-29 13:22:41  \n\n[261680 rows x 111 columns]",
      "text/html": "<div>\n<style scoped>\n    .dataframe tbody tr th:only-of-type {\n        vertical-align: middle;\n    }\n\n    .dataframe tbody tr th {\n        vertical-align: top;\n    }\n\n    .dataframe thead th {\n        text-align: right;\n    }\n</style>\n<table border=\"1\" class=\"dataframe\">\n  <thead>\n    <tr style=\"text-align: right;\">\n      <th></th>\n      <th>player_1_activities_entered</th>\n      <th>player_1_combat_rating</th>\n      <th>player_1_kills_pga</th>\n      <th>player_1_assists_pga</th>\n      <th>player_1_deaths_pga</th>\n      <th>player_1_score_pga</th>\n      <th>player_1_win_ratio</th>\n      <th>player_1_kd</th>\n      <th>player_1_kda</th>\n      <th>player_2_activities_entered</th>\n      <th>...</th>\n      <th>player_12_kills_pga</th>\n      <th>player_12_assists_pga</th>\n      <th>player_12_deaths_pga</th>\n      <th>player_12_score_pga</th>\n      <th>player_12_win_ratio</th>\n      <th>player_12_kd</th>\n      <th>player_12_kda</th>\n      <th>winner</th>\n      <th>mode</th>\n      <th>period</th>\n    </tr>\n  </thead>\n  <tbody>\n    <tr>\n      <th>0</th>\n      <td>261.0</td>\n      <td>168.135969</td>\n      <td>8.103448</td>\n      <td>3.252874</td>\n      <td>8.176245</td>\n      <td>5.896552</td>\n      <td>0.444444</td>\n      <td>0.991097</td>\n      <td>1.388941</td>\n      <td>2417.0</td>\n      <td>...</td>\n      <td>0.000000</td>\n      <td>0.000000</td>\n      <td>0.000000</td>\n      <td>0.000000</td>\n      <td>0.000000</td>\n      <td>0.000000</td>\n      <td>0.000000</td>\n      <td>0.0</td>\n      <td>71</td>\n      <td>2017-09-05 23:32:24</td>\n    </tr>\n    <tr>\n      <th>1</th>\n      <td>390.0</td>\n      <td>161.895219</td>\n      <td>11.684615</td>\n      <td>3.951282</td>\n      <td>8.828205</td>\n      <td>15.935897</td>\n      <td>0.551282</td>\n      <td>1.323555</td>\n      <td>1.771130</td>\n      <td>2417.0</td>\n      <td>...</td>\n      <td>0.000000</td>\n      <td>0.000000</td>\n      <td>0.000000</td>\n      <td>0.000000</td>\n      <td>0.000000</td>\n      <td>0.000000</td>\n      <td>0.000000</td>\n      <td>0.0</td>\n      <td>71</td>\n      <td>2017-09-05 23:42:27</td>\n    </tr>\n    <tr>\n      <th>2</th>\n      <td>390.0</td>\n      <td>161.895219</td>\n      <td>11.684615</td>\n      <td>3.951282</td>\n      <td>8.828205</td>\n      <td>15.935897</td>\n      <td>0.551282</td>\n      <td>1.323555</td>\n      <td>1.771130</td>\n      <td>2417.0</td>\n      <td>...</td>\n      <td>0.000000</td>\n      <td>0.000000</td>\n      <td>0.000000</td>\n      <td>0.000000</td>\n      <td>0.000000</td>\n      <td>0.000000</td>\n      <td>0.000000</td>\n      <td>0.0</td>\n      <td>73</td>\n      <td>2017-09-05 23:53:01</td>\n    </tr>\n    <tr>\n      <th>3</th>\n      <td>17.0</td>\n      <td>130.364239</td>\n      <td>10.176471</td>\n      <td>5.176471</td>\n      <td>10.764706</td>\n      <td>15.411765</td>\n      <td>0.352941</td>\n      <td>0.945355</td>\n      <td>1.426230</td>\n      <td>49.0</td>\n      <td>...</td>\n      <td>0.000000</td>\n      <td>0.000000</td>\n      <td>0.000000</td>\n      <td>0.000000</td>\n      <td>0.000000</td>\n      <td>0.000000</td>\n      <td>0.000000</td>\n      <td>0.0</td>\n      <td>73</td>\n      <td>2017-09-06 05:42:33</td>\n    </tr>\n    <tr>\n      <th>4</th>\n      <td>124.0</td>\n      <td>162.975152</td>\n      <td>11.685484</td>\n      <td>3.766129</td>\n      <td>9.895161</td>\n      <td>17.645161</td>\n      <td>0.564516</td>\n      <td>1.180929</td>\n      <td>1.561532</td>\n      <td>547.0</td>\n      <td>...</td>\n      <td>0.000000</td>\n      <td>0.000000</td>\n      <td>0.000000</td>\n      <td>0.000000</td>\n      <td>0.000000</td>\n      <td>0.000000</td>\n      <td>0.000000</td>\n      <td>0.0</td>\n      <td>73</td>\n      <td>2017-09-06 09:14:55</td>\n    </tr>\n    <tr>\n      <th>...</th>\n      <td>...</td>\n      <td>...</td>\n      <td>...</td>\n      <td>...</td>\n      <td>...</td>\n      <td>...</td>\n      <td>...</td>\n      <td>...</td>\n      <td>...</td>\n      <td>...</td>\n      <td>...</td>\n      <td>...</td>\n      <td>...</td>\n      <td>...</td>\n      <td>...</td>\n      <td>...</td>\n      <td>...</td>\n      <td>...</td>\n      <td>...</td>\n      <td>...</td>\n      <td>...</td>\n    </tr>\n    <tr>\n      <th>261675</th>\n      <td>4597.0</td>\n      <td>151.835510</td>\n      <td>13.185556</td>\n      <td>3.380030</td>\n      <td>7.398956</td>\n      <td>18.242985</td>\n      <td>0.639983</td>\n      <td>1.782083</td>\n      <td>2.238909</td>\n      <td>2843.0</td>\n      <td>...</td>\n      <td>9.879747</td>\n      <td>3.510549</td>\n      <td>7.845992</td>\n      <td>20.166667</td>\n      <td>0.443038</td>\n      <td>1.259209</td>\n      <td>1.706642</td>\n      <td>0.0</td>\n      <td>73</td>\n      <td>2022-11-29 12:45:19</td>\n    </tr>\n    <tr>\n      <th>261676</th>\n      <td>2843.0</td>\n      <td>168.818530</td>\n      <td>13.645445</td>\n      <td>3.984875</td>\n      <td>9.429828</td>\n      <td>34.108688</td>\n      <td>0.543088</td>\n      <td>1.447051</td>\n      <td>1.869633</td>\n      <td>4597.0</td>\n      <td>...</td>\n      <td>8.000000</td>\n      <td>2.665044</td>\n      <td>8.201558</td>\n      <td>9.972736</td>\n      <td>0.543330</td>\n      <td>0.975424</td>\n      <td>1.300368</td>\n      <td>0.0</td>\n      <td>73</td>\n      <td>2022-11-29 12:57:04</td>\n    </tr>\n    <tr>\n      <th>261677</th>\n      <td>3918.0</td>\n      <td>125.366135</td>\n      <td>10.766718</td>\n      <td>4.420878</td>\n      <td>10.269270</td>\n      <td>17.177131</td>\n      <td>0.483665</td>\n      <td>1.048440</td>\n      <td>1.478936</td>\n      <td>99.0</td>\n      <td>...</td>\n      <td>7.388227</td>\n      <td>2.852832</td>\n      <td>9.560730</td>\n      <td>11.857675</td>\n      <td>0.292101</td>\n      <td>0.772768</td>\n      <td>1.071159</td>\n      <td>0.0</td>\n      <td>73</td>\n      <td>2022-11-29 13:06:36</td>\n    </tr>\n    <tr>\n      <th>261678</th>\n      <td>2317.0</td>\n      <td>114.896575</td>\n      <td>11.761329</td>\n      <td>2.908071</td>\n      <td>8.903323</td>\n      <td>16.892102</td>\n      <td>0.460509</td>\n      <td>1.321004</td>\n      <td>1.647632</td>\n      <td>3111.0</td>\n      <td>...</td>\n      <td>8.598291</td>\n      <td>3.422748</td>\n      <td>8.274162</td>\n      <td>8.852728</td>\n      <td>0.491124</td>\n      <td>1.039174</td>\n      <td>1.452841</td>\n      <td>0.0</td>\n      <td>73</td>\n      <td>2022-11-29 13:10:23</td>\n    </tr>\n    <tr>\n      <th>261679</th>\n      <td>222.0</td>\n      <td>132.792214</td>\n      <td>13.387387</td>\n      <td>3.351351</td>\n      <td>10.270270</td>\n      <td>17.468468</td>\n      <td>0.504505</td>\n      <td>1.303509</td>\n      <td>1.629825</td>\n      <td>4264.0</td>\n      <td>...</td>\n      <td>9.838095</td>\n      <td>3.577778</td>\n      <td>11.088889</td>\n      <td>15.568254</td>\n      <td>0.384127</td>\n      <td>0.887203</td>\n      <td>1.209848</td>\n      <td>0.0</td>\n      <td>73</td>\n      <td>2022-11-29 13:22:41</td>\n    </tr>\n  </tbody>\n</table>\n<p>261680 rows × 111 columns</p>\n</div>"
     },
     "execution_count": 13,
     "metadata": {},
     "output_type": "execute_result"
    }
   ],
   "source": [
    "# Select only valid rows\n",
    "req = [f\"(train['{col}'] > -0.5)\" for col in PLAYERS_COLUMNS]\n",
    "req = \" & \".join(req)\n",
    "train = train[eval(req)]  # hey, it's not stupid if it works\n",
    "train.reset_index(inplace=True, drop=True)\n",
    "train"
   ],
   "metadata": {
    "collapsed": false
   }
  },
  {
   "cell_type": "code",
   "execution_count": 22,
   "outputs": [
    {
     "data": {
      "text/plain": "        player_1_activities_entered  player_1_combat_rating  \\\n0                            3006.0              140.927047   \n1                            1327.0              125.298255   \n2                             869.0              118.415947   \n3                            1588.0              124.947100   \n4                            2685.0              130.251135   \n...                             ...                     ...   \n319149                        632.0              141.030044   \n319150                        203.0              136.877528   \n319151                         64.0              154.306516   \n319152                       3293.0              143.795397   \n319153                        711.0              133.302752   \n\n        player_1_kills_pga  player_1_assists_pga  player_1_deaths_pga  \\\n0                11.294079              3.253493             7.496341   \n1                10.066315              2.862095             7.789751   \n2                 9.799770              3.321059            10.711162   \n3                 9.008186              3.734257            10.868388   \n4                11.120670              3.796276            10.071508   \n...                    ...                   ...                  ...   \n319149           14.403481              3.403481             8.417722   \n319150           10.817734              3.266010             9.517241   \n319151           14.078125              3.421875            10.140625   \n319152           13.306104              4.732463             7.730641   \n319153           12.855134              3.265823            11.445851   \n\n        player_1_score_pga  player_1_win_ratio  player_1_kd  player_1_kda  \\\n0                15.836660            0.564538     1.506612      1.940623   \n1                 5.051243            0.568953     1.292251      1.659669   \n2                19.094361            0.497123     0.914912      1.224968   \n3                26.816751            0.494332     0.828843      1.172432   \n4                22.404842            0.467412     1.104171      1.481103   \n...                    ...                 ...          ...           ...   \n319149           22.696203            0.606013     1.711090      2.115414   \n319150           23.995074            0.458128     1.136646      1.479814   \n319151           23.796875            0.515625     1.388290      1.725732   \n319152           23.766778            0.484361     1.721216      2.333386   \n319153           22.350211            0.472574     1.123126      1.408454   \n\n        player_2_activities_entered  ...  player_12_assists_pga  \\\n0                             890.0  ...              -1.000000   \n1                            1689.0  ...               0.000000   \n2                            2433.0  ...               0.000000   \n3                            3071.0  ...               3.920195   \n4                             380.0  ...               3.600000   \n...                             ...  ...                    ...   \n319149                      10648.0  ...               3.164987   \n319150                       2536.0  ...               3.411765   \n319151                        914.0  ...               2.306306   \n319152                       5064.0  ...               4.132653   \n319153                       6421.0  ...               2.960089   \n\n        player_12_deaths_pga  player_12_score_pga  player_12_win_ratio  \\\n0                  -1.000000            -1.000000            -1.000000   \n1                   0.000000             0.000000             0.000000   \n2                   0.000000             0.000000             0.000000   \n3                  10.253466             9.867366             0.437430   \n4                   9.251852            16.755556             0.444444   \n...                      ...                  ...                  ...   \n319149              9.997481            12.778338             0.423174   \n319150             11.747899            16.554622             0.470588   \n319151              6.801802             3.990991             0.423423   \n319152             13.010204            21.673469             0.469388   \n319153              8.955654            12.815965             0.481153   \n\n        player_12_kd  player_12_kda  winner  mode              period  \\\n0          -1.000000      -1.000000     1.0    73 2019-06-18 18:49:58   \n1           0.000000       0.000000     1.0    37 2022-05-23 18:49:12   \n2           0.000000       0.000000     1.0    84 2022-03-12 11:20:14   \n3           0.627017       1.009345     1.0    73 2022-01-02 16:38:55   \n4           0.960769       1.349880     1.0    73 2020-10-13 02:07:33   \n...              ...            ...     ...   ...                 ...   \n319149      0.664777       0.981356     0.0    73 2021-07-21 18:33:55   \n319150      0.567239       0.857654     0.0    73 2022-06-10 04:15:41   \n319151      0.717881       1.056954     0.0    73 2021-10-28 16:19:18   \n319152      0.671373       0.989020     0.0    73 2022-01-08 22:36:30   \n319153      1.263432       1.593959     0.0    73 2021-08-06 21:22:56   \n\n        instance_id  \n0        4117245501  \n1       10780049448  \n2       10390894151  \n3        9879754618  \n4        7020190536  \n...             ...  \n319149   8867559004  \n319150  10932685171  \n319151   9525900345  \n319152   9916688737  \n319153   8936111784  \n\n[319154 rows x 112 columns]",
      "text/html": "<div>\n<style scoped>\n    .dataframe tbody tr th:only-of-type {\n        vertical-align: middle;\n    }\n\n    .dataframe tbody tr th {\n        vertical-align: top;\n    }\n\n    .dataframe thead th {\n        text-align: right;\n    }\n</style>\n<table border=\"1\" class=\"dataframe\">\n  <thead>\n    <tr style=\"text-align: right;\">\n      <th></th>\n      <th>player_1_activities_entered</th>\n      <th>player_1_combat_rating</th>\n      <th>player_1_kills_pga</th>\n      <th>player_1_assists_pga</th>\n      <th>player_1_deaths_pga</th>\n      <th>player_1_score_pga</th>\n      <th>player_1_win_ratio</th>\n      <th>player_1_kd</th>\n      <th>player_1_kda</th>\n      <th>player_2_activities_entered</th>\n      <th>...</th>\n      <th>player_12_assists_pga</th>\n      <th>player_12_deaths_pga</th>\n      <th>player_12_score_pga</th>\n      <th>player_12_win_ratio</th>\n      <th>player_12_kd</th>\n      <th>player_12_kda</th>\n      <th>winner</th>\n      <th>mode</th>\n      <th>period</th>\n      <th>instance_id</th>\n    </tr>\n  </thead>\n  <tbody>\n    <tr>\n      <th>0</th>\n      <td>3006.0</td>\n      <td>140.927047</td>\n      <td>11.294079</td>\n      <td>3.253493</td>\n      <td>7.496341</td>\n      <td>15.836660</td>\n      <td>0.564538</td>\n      <td>1.506612</td>\n      <td>1.940623</td>\n      <td>890.0</td>\n      <td>...</td>\n      <td>-1.000000</td>\n      <td>-1.000000</td>\n      <td>-1.000000</td>\n      <td>-1.000000</td>\n      <td>-1.000000</td>\n      <td>-1.000000</td>\n      <td>1.0</td>\n      <td>73</td>\n      <td>2019-06-18 18:49:58</td>\n      <td>4117245501</td>\n    </tr>\n    <tr>\n      <th>1</th>\n      <td>1327.0</td>\n      <td>125.298255</td>\n      <td>10.066315</td>\n      <td>2.862095</td>\n      <td>7.789751</td>\n      <td>5.051243</td>\n      <td>0.568953</td>\n      <td>1.292251</td>\n      <td>1.659669</td>\n      <td>1689.0</td>\n      <td>...</td>\n      <td>0.000000</td>\n      <td>0.000000</td>\n      <td>0.000000</td>\n      <td>0.000000</td>\n      <td>0.000000</td>\n      <td>0.000000</td>\n      <td>1.0</td>\n      <td>37</td>\n      <td>2022-05-23 18:49:12</td>\n      <td>10780049448</td>\n    </tr>\n    <tr>\n      <th>2</th>\n      <td>869.0</td>\n      <td>118.415947</td>\n      <td>9.799770</td>\n      <td>3.321059</td>\n      <td>10.711162</td>\n      <td>19.094361</td>\n      <td>0.497123</td>\n      <td>0.914912</td>\n      <td>1.224968</td>\n      <td>2433.0</td>\n      <td>...</td>\n      <td>0.000000</td>\n      <td>0.000000</td>\n      <td>0.000000</td>\n      <td>0.000000</td>\n      <td>0.000000</td>\n      <td>0.000000</td>\n      <td>1.0</td>\n      <td>84</td>\n      <td>2022-03-12 11:20:14</td>\n      <td>10390894151</td>\n    </tr>\n    <tr>\n      <th>3</th>\n      <td>1588.0</td>\n      <td>124.947100</td>\n      <td>9.008186</td>\n      <td>3.734257</td>\n      <td>10.868388</td>\n      <td>26.816751</td>\n      <td>0.494332</td>\n      <td>0.828843</td>\n      <td>1.172432</td>\n      <td>3071.0</td>\n      <td>...</td>\n      <td>3.920195</td>\n      <td>10.253466</td>\n      <td>9.867366</td>\n      <td>0.437430</td>\n      <td>0.627017</td>\n      <td>1.009345</td>\n      <td>1.0</td>\n      <td>73</td>\n      <td>2022-01-02 16:38:55</td>\n      <td>9879754618</td>\n    </tr>\n    <tr>\n      <th>4</th>\n      <td>2685.0</td>\n      <td>130.251135</td>\n      <td>11.120670</td>\n      <td>3.796276</td>\n      <td>10.071508</td>\n      <td>22.404842</td>\n      <td>0.467412</td>\n      <td>1.104171</td>\n      <td>1.481103</td>\n      <td>380.0</td>\n      <td>...</td>\n      <td>3.600000</td>\n      <td>9.251852</td>\n      <td>16.755556</td>\n      <td>0.444444</td>\n      <td>0.960769</td>\n      <td>1.349880</td>\n      <td>1.0</td>\n      <td>73</td>\n      <td>2020-10-13 02:07:33</td>\n      <td>7020190536</td>\n    </tr>\n    <tr>\n      <th>...</th>\n      <td>...</td>\n      <td>...</td>\n      <td>...</td>\n      <td>...</td>\n      <td>...</td>\n      <td>...</td>\n      <td>...</td>\n      <td>...</td>\n      <td>...</td>\n      <td>...</td>\n      <td>...</td>\n      <td>...</td>\n      <td>...</td>\n      <td>...</td>\n      <td>...</td>\n      <td>...</td>\n      <td>...</td>\n      <td>...</td>\n      <td>...</td>\n      <td>...</td>\n      <td>...</td>\n    </tr>\n    <tr>\n      <th>319149</th>\n      <td>632.0</td>\n      <td>141.030044</td>\n      <td>14.403481</td>\n      <td>3.403481</td>\n      <td>8.417722</td>\n      <td>22.696203</td>\n      <td>0.606013</td>\n      <td>1.711090</td>\n      <td>2.115414</td>\n      <td>10648.0</td>\n      <td>...</td>\n      <td>3.164987</td>\n      <td>9.997481</td>\n      <td>12.778338</td>\n      <td>0.423174</td>\n      <td>0.664777</td>\n      <td>0.981356</td>\n      <td>0.0</td>\n      <td>73</td>\n      <td>2021-07-21 18:33:55</td>\n      <td>8867559004</td>\n    </tr>\n    <tr>\n      <th>319150</th>\n      <td>203.0</td>\n      <td>136.877528</td>\n      <td>10.817734</td>\n      <td>3.266010</td>\n      <td>9.517241</td>\n      <td>23.995074</td>\n      <td>0.458128</td>\n      <td>1.136646</td>\n      <td>1.479814</td>\n      <td>2536.0</td>\n      <td>...</td>\n      <td>3.411765</td>\n      <td>11.747899</td>\n      <td>16.554622</td>\n      <td>0.470588</td>\n      <td>0.567239</td>\n      <td>0.857654</td>\n      <td>0.0</td>\n      <td>73</td>\n      <td>2022-06-10 04:15:41</td>\n      <td>10932685171</td>\n    </tr>\n    <tr>\n      <th>319151</th>\n      <td>64.0</td>\n      <td>154.306516</td>\n      <td>14.078125</td>\n      <td>3.421875</td>\n      <td>10.140625</td>\n      <td>23.796875</td>\n      <td>0.515625</td>\n      <td>1.388290</td>\n      <td>1.725732</td>\n      <td>914.0</td>\n      <td>...</td>\n      <td>2.306306</td>\n      <td>6.801802</td>\n      <td>3.990991</td>\n      <td>0.423423</td>\n      <td>0.717881</td>\n      <td>1.056954</td>\n      <td>0.0</td>\n      <td>73</td>\n      <td>2021-10-28 16:19:18</td>\n      <td>9525900345</td>\n    </tr>\n    <tr>\n      <th>319152</th>\n      <td>3293.0</td>\n      <td>143.795397</td>\n      <td>13.306104</td>\n      <td>4.732463</td>\n      <td>7.730641</td>\n      <td>23.766778</td>\n      <td>0.484361</td>\n      <td>1.721216</td>\n      <td>2.333386</td>\n      <td>5064.0</td>\n      <td>...</td>\n      <td>4.132653</td>\n      <td>13.010204</td>\n      <td>21.673469</td>\n      <td>0.469388</td>\n      <td>0.671373</td>\n      <td>0.989020</td>\n      <td>0.0</td>\n      <td>73</td>\n      <td>2022-01-08 22:36:30</td>\n      <td>9916688737</td>\n    </tr>\n    <tr>\n      <th>319153</th>\n      <td>711.0</td>\n      <td>133.302752</td>\n      <td>12.855134</td>\n      <td>3.265823</td>\n      <td>11.445851</td>\n      <td>22.350211</td>\n      <td>0.472574</td>\n      <td>1.123126</td>\n      <td>1.408454</td>\n      <td>6421.0</td>\n      <td>...</td>\n      <td>2.960089</td>\n      <td>8.955654</td>\n      <td>12.815965</td>\n      <td>0.481153</td>\n      <td>1.263432</td>\n      <td>1.593959</td>\n      <td>0.0</td>\n      <td>73</td>\n      <td>2021-08-06 21:22:56</td>\n      <td>8936111784</td>\n    </tr>\n  </tbody>\n</table>\n<p>319154 rows × 112 columns</p>\n</div>"
     },
     "execution_count": 22,
     "metadata": {},
     "output_type": "execute_result"
    }
   ],
   "source": [
    "# Shuffle teams so that half of the activities were won\n",
    "def get_cols_name(player_range_start: int, player_range_end: int):\n",
    "    return np.array(\n",
    "        [[f\"player_{i}_{stat}\" for stat in STATS_NAME] for i in range(player_range_start, player_range_end)]).reshape(\n",
    "        (player_range_end - player_range_start) * N_STATS)\n",
    "\n",
    "# Not optimal - renaming columns but the rvalue consume memory as well\n",
    "mid = len(train) // 2\n",
    "\n",
    "# First shuffle dataframe to ensure dates are shuffle as well\n",
    "train = train.sample(frac=1.0, random_state=42).reset_index(drop=True)\n",
    "\n",
    "player_cols_team_A = get_cols_name(1, 7)\n",
    "player_cols_team_B = get_cols_name(7, 13)\n",
    "tmp_cols = [f\"tmp_{i}\" for i in range(6*N_STATS)]\n",
    "\n",
    "# False positive warning (see https://stackoverflow.com/questions/20625582/how-to-deal-with-settingwithcopywarning-in-pandas)\n",
    "train.loc[:mid] = (train.loc[:mid].rename(columns={player_cols_team_A[i]: tmp_cols[i] for i in range(len(player_cols_team_A))})\n",
    "                                  .rename(columns={player_cols_team_B[i]: player_cols_team_A[i] for i in range(len(player_cols_team_A))})\n",
    "                                  .rename(columns={tmp_cols[i]: player_cols_team_B[i] for i in range(len(player_cols_team_A))}))\\\n",
    "                                  [train.columns]  # reorder columns\n",
    "train.loc[:mid, \"winner\"] = [1 for i in range(mid + 1)]\n",
    "train"
   ],
   "metadata": {
    "collapsed": false
   }
  },
  {
   "cell_type": "code",
   "execution_count": 13,
   "outputs": [
    {
     "name": "stdout",
     "output_type": "stream",
     "text": [
      "CPU times: total: 3min 28s\n",
      "Wall time: 3min 35s\n"
     ]
    }
   ],
   "source": [
    "%%time\n",
    "# Save in csv for faster loading\n",
    "train.to_csv(os.path.join(ROOT_DATA_FOLDER, \"train.csv\"), index=False)"
   ],
   "metadata": {
    "collapsed": false
   }
  },
  {
   "cell_type": "code",
   "execution_count": 16,
   "outputs": [],
   "source": [],
   "metadata": {
    "collapsed": false
   }
  },
  {
   "cell_type": "code",
   "execution_count": 79,
   "outputs": [],
   "source": [
    "a = train.iloc[0]"
   ],
   "metadata": {
    "collapsed": false
   }
  },
  {
   "cell_type": "code",
   "execution_count": 80,
   "outputs": [
    {
     "data": {
      "text/plain": "4117245501"
     },
     "execution_count": 80,
     "metadata": {},
     "output_type": "execute_result"
    }
   ],
   "source": [
    "a[\"instance_id\"]"
   ],
   "metadata": {
    "collapsed": false
   }
  },
  {
   "cell_type": "code",
   "execution_count": 81,
   "outputs": [],
   "source": [
    "b = json.loads(activities[activities.instance_id == a[\"instance_id\"]][\"players\"].iloc[0].replace(\"'\", '\"').replace(\"False\", \"false\").replace(\"True\", \"true\"))"
   ],
   "metadata": {
    "collapsed": false
   }
  },
  {
   "cell_type": "code",
   "execution_count": 86,
   "outputs": [
    {
     "data": {
      "text/plain": "140.92704650881467"
     },
     "execution_count": 86,
     "metadata": {},
     "output_type": "execute_result"
    }
   ],
   "source": [
    "request = \"SELECT * FROM main.guardian WHERE guardian.membership_id=? AND guardian.character_id=? AND guardian.membership_type=?\"\n",
    "r = db_helper.execute(request, [b[2][\"membership_id\"], b[2][\"character_id\"], b[2][\"membership_type\"]])\n",
    "r = dict(r[0])\n",
    "r[\"combat_rating\"]"
   ],
   "metadata": {
    "collapsed": false
   }
  },
  {
   "cell_type": "code",
   "execution_count": 83,
   "outputs": [
    {
     "data": {
      "text/plain": "player_1_combat_rating     140.927047\nplayer_2_combat_rating     110.213336\nplayer_3_combat_rating     122.484145\nplayer_4_combat_rating     133.621166\nplayer_5_combat_rating           -1.0\nplayer_6_combat_rating     150.373448\nplayer_7_combat_rating     165.750648\nplayer_8_combat_rating     110.454233\nplayer_9_combat_rating     153.865787\nplayer_10_combat_rating    101.156737\nplayer_11_combat_rating    107.410778\nplayer_12_combat_rating          -1.0\nName: 0, dtype: object"
     },
     "execution_count": 83,
     "metadata": {},
     "output_type": "execute_result"
    }
   ],
   "source": [
    "a[[f\"player_{i}_combat_rating\" for i in range(1, 13)]]"
   ],
   "metadata": {
    "collapsed": false
   }
  },
  {
   "cell_type": "code",
   "execution_count": 84,
   "outputs": [
    {
     "data": {
      "text/plain": "1.0"
     },
     "execution_count": 84,
     "metadata": {},
     "output_type": "execute_result"
    }
   ],
   "source": [
    "a[\"winner\"]"
   ],
   "metadata": {
    "collapsed": false
   }
  },
  {
   "cell_type": "markdown",
   "source": [
    "### SKlearn basic models with train v2"
   ],
   "metadata": {
    "collapsed": false
   }
  },
  {
   "cell_type": "code",
   "execution_count": 15,
   "outputs": [],
   "source": [
    "X = train.drop(columns=[\"winner\", \"period\"])\n",
    "Y = train[\"winner\"]\n",
    "X_train, X_test, y_train, y_test = train_test_split(X, Y, test_size=0.3, random_state=42, stratify=Y)\n",
    "\n",
    "# Keep period\n",
    "# X = train.drop(columns=[\"winner\"])\n",
    "# Y = train[\"winner\"]\n",
    "# X_train, X_test, y_train, y_test = train_test_split(X, Y, test_size=0.3, random_state=42, stratify=Y)\n",
    "#\n",
    "# X_train_period = X_train[\"period\"]\n",
    "# X_test_period = X_test[\"period\"]\n",
    "# X_train.drop(columns=[\"period\"], inplace=True)\n",
    "# X_test.drop(columns=[\"period\"], inplace=True)\n",
    "\n",
    "# Cut with date\n",
    "# max_train_date = datetime(year=2022, month=5, day=1)\n",
    "# X_train = train[train.period < max_train_date]\n",
    "# y_train = X_train[\"winner\"]\n",
    "# X_train.drop(columns=[\"winner\", \"period\"], inplace=True)\n",
    "# X_test = train[train.period >= max_train_date]\n",
    "# y_test = X_test[\"winner\"]\n",
    "# X_test.drop(columns=[\"winner\", \"period\"], inplace=True)"
   ],
   "metadata": {
    "collapsed": false
   }
  },
  {
   "cell_type": "code",
   "execution_count": null,
   "outputs": [],
   "source": [
    "# Mean of every stat per team -> Decrease performance (79% acc)\n",
    "TEAM_COLUMNS = [f\"team_A_{stat}\" for stat in STATS_NAME] + [f\"team_B_{stat}\" for stat in STATS_NAME]\n",
    "for i in range(len(STATS_NAME)):\n",
    "    col = TEAM_COLUMNS[i]\n",
    "    stat = STATS_NAME[i]\n",
    "    sel = [f\"player_{k}_{stat}\" for k in range(1, 7)]\n",
    "    X[col] = X.loc[:, sel].mean(axis=1)\n",
    "for i in range(len(STATS_NAME)):\n",
    "    col = TEAM_COLUMNS[i+6]\n",
    "    stat = STATS_NAME[i]\n",
    "    sel = [f\"player_{k}_{stat}\" for k in range(7, 13)]\n",
    "    X[col] = X.loc[:, sel].mean(axis=1)\n",
    "X.drop(columns=PLAYERS_COLUMNS, inplace=True)\n",
    "X"
   ],
   "metadata": {
    "collapsed": false,
    "pycharm": {
     "is_executing": true
    }
   }
  },
  {
   "cell_type": "code",
   "execution_count": null,
   "outputs": [],
   "source": [
    "pipeline = make_pipeline(StandardScaler(), SVC())\n",
    "acc_scores = cross_val_score(pipeline, X, Y, cv=4, scoring=\"accuracy\", n_jobs=-1)\n",
    "print(f\"Mean acc = {acc_scores.mean()}, Std acc = {acc_scores.std()}\")\n",
    "pipeline"
   ],
   "metadata": {
    "collapsed": false,
    "pycharm": {
     "is_executing": true
    }
   }
  },
  {
   "cell_type": "code",
   "execution_count": null,
   "outputs": [],
   "source": [
    "pipeline = make_pipeline(StandardScaler(), RandomForestClassifier())\n",
    "acc_scores = cross_val_score(pipeline, X, Y, cv=4, scoring=\"accuracy\", n_jobs=-1)\n",
    "print(f\"Mean acc = {acc_scores.mean()}, Std acc = {acc_scores.std()}\")\n",
    "print(pipeline)"
   ],
   "metadata": {
    "collapsed": false,
    "pycharm": {
     "is_executing": true
    }
   }
  },
  {
   "cell_type": "code",
   "execution_count": null,
   "outputs": [],
   "source": [
    "forest = RandomForestClassifier()\n",
    "forest.fit(X, Y)\n",
    "importances = {\n",
    "    \"combat_rating\": forest.feature_importances_[[i for i in range(0, 12*N_STATS, N_STATS)]].sum(),\n",
    "    \"kills_pga\": forest.feature_importances_[[i for i in range(1, 12*N_STATS, N_STATS)]].sum(),\n",
    "    \"assists_pga\": forest.feature_importances_[[i for i in range(2, 12*N_STATS, N_STATS)]].sum(),\n",
    "    \"deaths_pga\": forest.feature_importances_[[i for i in range(3, 12*N_STATS, N_STATS)]].sum(),\n",
    "    \"score_pga\": forest.feature_importances_[[i for i in range(4, 12*N_STATS, N_STATS)]].sum(),\n",
    "    \"win_ratio\": forest.feature_importances_[[i for i in range(5, 12*N_STATS, N_STATS)]].sum()\n",
    "}\n",
    "pd.DataFrame([v for v in importances.values()], index=[k for k in importances], columns=[\"value\"]).sort_values(by=[\"value\"], ascending=False)"
   ],
   "metadata": {
    "collapsed": false,
    "pycharm": {
     "is_executing": true
    }
   }
  },
  {
   "cell_type": "code",
   "execution_count": 26,
   "outputs": [
    {
     "name": "stdout",
     "output_type": "stream",
     "text": [
      "Accuracy: 0.6622035155148465\n",
      "F1-score: 0.6488769229099042\n",
      "[[33519 14354]\n",
      " [17989 29885]]\n",
      "<catboost.core.CatBoostClassifier object at 0x0000023DA2ACE050>\n",
      "Mean proba for each section of the confusion matrix:\n",
      "[[0.79315154 0.70205781]\n",
      " [0.72243322 0.77767144]]\n"
     ]
    }
   ],
   "source": [
    "clf = CatBoostClassifier(verbose=False, random_state=42)\n",
    "clf.fit(X_train, y_train, cat_features=[\"mode\"])\n",
    "\n",
    "y_pred = clf.predict(X_test)\n",
    "print(\"Accuracy:\", accuracy_score(y_test, y_pred))\n",
    "print(\"F1-score:\", f1_score(y_test, y_pred))\n",
    "print(confusion_matrix(y_test, y_pred))\n",
    "print(clf)\n",
    "\n",
    "probs = clf.predict_proba(X_test).max(axis=1)\n",
    "confusion_matrix_mean_prob = np.array([[probs[np.where((y_test == y_pred) & (y_test == 0))].mean(), probs[np.where((y_pred == 1) & (y_test == 0))].mean()],\n",
    "                                       [probs[np.where((y_pred == 0) & (y_test == 1))].mean(), probs[np.where((y_test == y_pred) & (y_test == 1))].mean()]])\n",
    "print(\"Mean proba for each section of the confusion matrix:\")\n",
    "print(confusion_matrix_mean_prob)"
   ],
   "metadata": {
    "collapsed": false
   }
  },
  {
   "cell_type": "code",
   "execution_count": null,
   "outputs": [],
   "source": [
    "clf.save_model(\"model_quickplay.json\", format=\"json\")"
   ],
   "metadata": {
    "collapsed": false,
    "pycharm": {
     "is_executing": true
    }
   }
  },
  {
   "cell_type": "code",
   "execution_count": 25,
   "outputs": [
    {
     "data": {
      "text/plain": "<catboost.core.CatBoostClassifier at 0x23da2ace050>"
     },
     "execution_count": 25,
     "metadata": {},
     "output_type": "execute_result"
    }
   ],
   "source": [
    "import catboost\n",
    "\n",
    "clf = catboost.CatBoostClassifier(verbose=False)\n",
    "clf.load_model(\"model_quickplay.json\", \"json\")"
   ],
   "metadata": {
    "collapsed": false
   }
  },
  {
   "cell_type": "markdown",
   "source": [
    "# Deep learning model"
   ],
   "metadata": {
    "collapsed": false
   }
  },
  {
   "cell_type": "code",
   "execution_count": null,
   "outputs": [],
   "source": [
    "import tensorflow as tf\n",
    "from tensorflow import keras\n",
    "from tensorflow.keras import layers\n",
    "from scikeras.wrappers import KerasClassifier\n",
    "# tf.config.list_physical_devices('GPU')"
   ],
   "metadata": {
    "collapsed": false,
    "pycharm": {
     "is_executing": true
    }
   }
  },
  {
   "cell_type": "code",
   "execution_count": null,
   "outputs": [],
   "source": [
    "X = train[train[\"mode\"] == 73].drop(columns=[\"winner\", \"period\", \"mode\"])\n",
    "Y = train[train[\"mode\"] == 73][\"winner\"]\n",
    "X_train, X_test, y_train, y_test = train_test_split(X, Y, test_size=0.3, random_state=42, stratify=Y)"
   ],
   "metadata": {
    "collapsed": false,
    "pycharm": {
     "is_executing": true
    }
   }
  },
  {
   "cell_type": "code",
   "execution_count": null,
   "outputs": [],
   "source": [
    "model = keras.Sequential()\n",
    "model.add(keras.Input(shape=(len(X_train.columns),)))\n",
    "model.add(layers.Dense(12, activation=\"relu\"))\n",
    "model.add(layers.Dense(1, activation=\"sigmoid\"))\n",
    "model.compile(loss='binary_crossentropy', optimizer='adam', metrics=['accuracy'])\n",
    "clf = KerasClassifier(model=model, epochs=50, batch_size=5)\n",
    "pipeline = make_pipeline(StandardScaler(), clf)\n",
    "\n",
    "model.summary()"
   ],
   "metadata": {
    "collapsed": false,
    "pycharm": {
     "is_executing": true
    }
   }
  },
  {
   "cell_type": "code",
   "execution_count": null,
   "outputs": [],
   "source": [
    "pipeline.fit(X_train, y_train)"
   ],
   "metadata": {
    "collapsed": false,
    "pycharm": {
     "is_executing": true
    }
   }
  },
  {
   "cell_type": "code",
   "execution_count": null,
   "outputs": [],
   "source": [
    "y_pred = pipeline.predict(X_test)\n",
    "print(\"Accuracy:\", accuracy_score(y_test, y_pred))\n",
    "print(\"F1-score:\", f1_score(y_test, y_pred))\n",
    "print(confusion_matrix(y_test, y_pred))\n",
    "print(pipeline)"
   ],
   "metadata": {
    "collapsed": false,
    "pycharm": {
     "is_executing": true
    }
   }
  },
  {
   "cell_type": "markdown",
   "source": [
    "# Test on competitive (3v3)\n",
    "Result: need 2 models, one for quickplay (6v6) and one for competitive (at least for osiris) (3v3)\n",
    "Result2: TBD with mode as categorical feature"
   ],
   "metadata": {
    "collapsed": false
   }
  },
  {
   "cell_type": "code",
   "execution_count": null,
   "outputs": [],
   "source": [
    "# Get activities\n",
    "request = \"SELECT * FROM main.activity WHERE activity.mode=84\"\n",
    "r = db_helper.execute(request, [])\n",
    "activities = pd.DataFrame(data=[dict(row) for row in r])\n",
    "activities"
   ],
   "metadata": {
    "collapsed": false,
    "pycharm": {
     "is_executing": true
    }
   }
  },
  {
   "cell_type": "code",
   "execution_count": null,
   "outputs": [],
   "source": [
    "t = activities.players.apply(extract_players_stats)\n",
    "stack2 = np.stack(t, axis=0)\n",
    "stack2 = np.reshape(stack2, (len(stack2), 12 * N_STATS))"
   ],
   "metadata": {
    "collapsed": false,
    "pycharm": {
     "is_executing": true
    }
   }
  },
  {
   "cell_type": "code",
   "execution_count": null,
   "outputs": [],
   "source": [
    "train_comp = pd.DataFrame()\n",
    "train_comp[PLAYERS_COLUMNS] = pd.DataFrame(stack2, columns=PLAYERS_COLUMNS)\n",
    "train_comp[\"winner\"] = np.zeros(len(train_comp))\n",
    "train_comp"
   ],
   "metadata": {
    "collapsed": false,
    "pycharm": {
     "is_executing": true
    }
   }
  },
  {
   "cell_type": "code",
   "execution_count": null,
   "outputs": [],
   "source": [
    "# Shuffle winning team\n",
    "mid = len(train_comp) // 2\n",
    "\n",
    "player_cols_team_A = get_cols_name(1, 7)\n",
    "player_cols_team_B = get_cols_name(7, 13)\n",
    "tmp_cols = [f\"tmp_{i}\" for i in range(6*N_STATS)]\n",
    "\n",
    "# False positive warning (see https://stackoverflow.com/questions/20625582/how-to-deal-with-settingwithcopywarning-in-pandas)\n",
    "train_comp.loc[:mid] = (train_comp.loc[:mid].rename(columns={player_cols_team_A[i]: tmp_cols[i] for i in range(len(player_cols_team_A))})\n",
    "                                            .rename(columns={player_cols_team_B[i]: player_cols_team_A[i] for i in range(len(player_cols_team_A))})\n",
    "                                            .rename(columns={tmp_cols[i]: player_cols_team_B[i] for i in range(len(player_cols_team_A))}))\\\n",
    "                                            [list(PLAYERS_COLUMNS) + [\"winner\"]]  # reorder columns\n",
    "train_comp.loc[:mid, \"winner\"] = [1 for i in range(mid + 1)]\n",
    "train_comp = train_comp.sample(frac=1.0).reset_index(drop=True)\n",
    "train_comp"
   ],
   "metadata": {
    "collapsed": false,
    "pycharm": {
     "is_executing": true
    }
   }
  },
  {
   "cell_type": "code",
   "execution_count": null,
   "outputs": [],
   "source": [
    "X, Y = train_comp[PLAYERS_COLUMNS], train_comp[\"winner\"]\n",
    "X_train, X_test, y_train, y_test = train_test_split(X, Y, test_size=0.3, random_state=42, stratify=Y)\n",
    "\n",
    "clf_comp = CatBoostClassifier(verbose=False)\n",
    "clf_comp.fit(X_train, y_train)\n",
    "\n",
    "y_pred = clf_comp.predict(X_test)\n",
    "print(\"Accuracy:\", accuracy_score(y_test, y_pred))\n",
    "print(\"F1-score:\", f1_score(y_test, y_pred))\n",
    "print(confusion_matrix(y_test, y_pred))\n",
    "print(clf)\n",
    "\n",
    "probs = clf.predict_proba(X_test).max(axis=1)\n",
    "confusion_matrix_mean_prob = np.array([[probs[np.where((y_test == y_pred) & (y_test == 0))].mean(), probs[np.where((y_pred == 1) & (y_test == 0))].mean()],\n",
    "                                       [probs[np.where((y_pred == 0) & (y_test == 1))].mean(), probs[np.where((y_test == y_pred) & (y_test == 1))].mean()]])\n",
    "print(\"Mean proba for each section of the confusion matrix:\")\n",
    "print(confusion_matrix_mean_prob)"
   ],
   "metadata": {
    "collapsed": false,
    "pycharm": {
     "is_executing": true
    }
   }
  },
  {
   "cell_type": "markdown",
   "source": [
    "### Compare time sql and pandas"
   ],
   "metadata": {
    "collapsed": false
   }
  },
  {
   "cell_type": "code",
   "execution_count": null,
   "outputs": [],
   "source": [
    "membership_id = 4611686018489429030\n",
    "membership_type = 3\n",
    "character_id = 2305843009503194358\n",
    "\n",
    "# Retrieve guardian with sql\n",
    "start_time = time.time()\n",
    "for i in range(1000):\n",
    "    g = db_helper.get_guardian_from_ids(\n",
    "        Guardian(membership_id=membership_id, membership_type=membership_type, character_id=character_id))\n",
    "print(f\"SQL query took {time.time() - start_time}s to complete.\")\n",
    "\n",
    "# Retrieve guardian with pandas\n",
    "start_time = time.time()\n",
    "for i in range(1000):\n",
    "    g = guardians.loc[(guardians.membership_id == membership_id) & (guardians.membership_type == membership_type) & (\n",
    "                guardians.character_id == character_id)]\n",
    "print(f\"Pandas query took {time.time() - start_time}s to complete.\")"
   ],
   "metadata": {
    "collapsed": false,
    "pycharm": {
     "is_executing": true
    }
   }
  }
 ],
 "metadata": {
  "kernelspec": {
   "display_name": "Python 3",
   "language": "python",
   "name": "python3"
  },
  "language_info": {
   "codemirror_mode": {
    "name": "ipython",
    "version": 2
   },
   "file_extension": ".py",
   "mimetype": "text/x-python",
   "name": "python",
   "nbconvert_exporter": "python",
   "pygments_lexer": "ipython2",
   "version": "2.7.6"
  }
 },
 "nbformat": 4,
 "nbformat_minor": 0
}
