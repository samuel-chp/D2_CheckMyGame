﻿{
 "cells": [
  {
   "cell_type": "markdown",
   "metadata": {
    "collapsed": true
   },
   "source": [
    "# Imports and setup"
   ]
  },
  {
   "cell_type": "code",
   "execution_count": 1,
   "outputs": [],
   "source": [
    "# TODO: \n",
    "# 1. Construct API with pre-trained model (for ex: giving an activity.instance_id, return the winning team)\n",
    "# 2. Pretty Github"
   ],
   "metadata": {
    "collapsed": false
   }
  },
  {
   "cell_type": "code",
   "execution_count": 7,
   "outputs": [],
   "source": [
    "import time\n",
    "from pathlib import Path\n",
    "import pandas as pd\n",
    "import numpy as np\n",
    "import os, sys\n",
    "import seaborn as sns\n",
    "import json\n",
    "\n",
    "from sklearn.model_selection import train_test_split, cross_val_score\n",
    "from sklearn.metrics import accuracy_score, confusion_matrix, f1_score\n",
    "from sklearn.pipeline import make_pipeline\n",
    "from sklearn.preprocessing import MinMaxScaler, StandardScaler\n",
    "from sklearn.svm import SVC\n",
    "from sklearn.ensemble import RandomForestClassifier\n",
    "from catboost import CatBoostClassifier\n",
    "\n",
    "sys.path.extend([str(Path(os.getcwd()).parent.absolute())]) # include from top, pb with jupyter notebooks...\n",
    "from db import MainDBHelper\n",
    "from models.guardian import Guardian\n",
    "from models.activity import Activity\n",
    "from local_api import BungieAPI"
   ],
   "metadata": {
    "collapsed": false
   }
  },
  {
   "cell_type": "code",
   "execution_count": 3,
   "outputs": [],
   "source": [
    "ROOT_DATA_FOLDER = \"../data\""
   ],
   "metadata": {
    "collapsed": false
   }
  },
  {
   "cell_type": "code",
   "execution_count": 4,
   "outputs": [],
   "source": [
    "db_helper = MainDBHelper(name=\"main.db\", folder=ROOT_DATA_FOLDER)"
   ],
   "metadata": {
    "collapsed": false
   }
  },
  {
   "cell_type": "code",
   "execution_count": 5,
   "outputs": [],
   "source": [
    "def pad(l: list, n: int, value=0):\n",
    "    return l + [value] * (n - len(l))"
   ],
   "metadata": {
    "collapsed": false
   }
  },
  {
   "cell_type": "markdown",
   "source": [
    "### Get activities"
   ],
   "metadata": {
    "collapsed": false
   }
  },
  {
   "cell_type": "code",
   "execution_count": 6,
   "outputs": [],
   "source": [
    "# Get activities\n",
    "request = \"SELECT * FROM main.activity WHERE (activity.mode=71 OR activity.mode=73) AND activity.period > date('2022-01-01')\"\n",
    "r = db_helper.execute(request, [])"
   ],
   "metadata": {
    "collapsed": false
   }
  },
  {
   "cell_type": "code",
   "execution_count": 7,
   "outputs": [
    {
     "data": {
      "text/plain": "       instance_id                period  mode  is_private  win_score  \\\n0       9868839001  2022-01-01T00:07:14Z    73           0         97   \n1       9868853647  2022-01-01T00:05:57Z    73           0        150   \n2       9868858383  2022-01-01T00:05:14Z    73           0        144   \n3       9868885277  2022-01-01T00:15:00Z    73           0        150   \n4       9868933563  2022-01-01T00:21:25Z    73           0        150   \n...            ...                   ...   ...         ...        ...   \n88329  11980093257  2022-11-29T12:45:19Z    73           0        150   \n88330  11980110261  2022-11-29T12:57:04Z    73           0        153   \n88331  11980119969  2022-11-29T13:06:36Z    73           0         97   \n88332  11980134517  2022-11-29T13:10:23Z    73           0        150   \n88333  11980154525  2022-11-29T13:22:41Z    73           0        150   \n\n       loss_score                                            players  \n0              32  [{\"membership_id\": \"4611686018492356731\", \"mem...  \n1              82  [{\"membership_id\": \"4611686018475284935\", \"mem...  \n2             111  [{\"membership_id\": \"4611686018476438205\", \"mem...  \n3              79  [{\"membership_id\": \"4611686018441517867\", \"mem...  \n4              85  [{\"membership_id\": \"4611686018511307572\", \"mem...  \n...           ...                                                ...  \n88329         104  [{\"membership_id\": \"4611686018467326754\", \"mem...  \n88330          75  [{\"membership_id\": \"4611686018513125077\", \"mem...  \n88331          36  [{\"membership_id\": \"4611686018475052461\", \"mem...  \n88332         118  [{\"membership_id\": \"4611686018487627730\", \"mem...  \n88333         130  [{\"membership_id\": \"4611686018502423215\", \"mem...  \n\n[88334 rows x 7 columns]",
      "text/html": "<div>\n<style scoped>\n    .dataframe tbody tr th:only-of-type {\n        vertical-align: middle;\n    }\n\n    .dataframe tbody tr th {\n        vertical-align: top;\n    }\n\n    .dataframe thead th {\n        text-align: right;\n    }\n</style>\n<table border=\"1\" class=\"dataframe\">\n  <thead>\n    <tr style=\"text-align: right;\">\n      <th></th>\n      <th>instance_id</th>\n      <th>period</th>\n      <th>mode</th>\n      <th>is_private</th>\n      <th>win_score</th>\n      <th>loss_score</th>\n      <th>players</th>\n    </tr>\n  </thead>\n  <tbody>\n    <tr>\n      <th>0</th>\n      <td>9868839001</td>\n      <td>2022-01-01T00:07:14Z</td>\n      <td>73</td>\n      <td>0</td>\n      <td>97</td>\n      <td>32</td>\n      <td>[{\"membership_id\": \"4611686018492356731\", \"mem...</td>\n    </tr>\n    <tr>\n      <th>1</th>\n      <td>9868853647</td>\n      <td>2022-01-01T00:05:57Z</td>\n      <td>73</td>\n      <td>0</td>\n      <td>150</td>\n      <td>82</td>\n      <td>[{\"membership_id\": \"4611686018475284935\", \"mem...</td>\n    </tr>\n    <tr>\n      <th>2</th>\n      <td>9868858383</td>\n      <td>2022-01-01T00:05:14Z</td>\n      <td>73</td>\n      <td>0</td>\n      <td>144</td>\n      <td>111</td>\n      <td>[{\"membership_id\": \"4611686018476438205\", \"mem...</td>\n    </tr>\n    <tr>\n      <th>3</th>\n      <td>9868885277</td>\n      <td>2022-01-01T00:15:00Z</td>\n      <td>73</td>\n      <td>0</td>\n      <td>150</td>\n      <td>79</td>\n      <td>[{\"membership_id\": \"4611686018441517867\", \"mem...</td>\n    </tr>\n    <tr>\n      <th>4</th>\n      <td>9868933563</td>\n      <td>2022-01-01T00:21:25Z</td>\n      <td>73</td>\n      <td>0</td>\n      <td>150</td>\n      <td>85</td>\n      <td>[{\"membership_id\": \"4611686018511307572\", \"mem...</td>\n    </tr>\n    <tr>\n      <th>...</th>\n      <td>...</td>\n      <td>...</td>\n      <td>...</td>\n      <td>...</td>\n      <td>...</td>\n      <td>...</td>\n      <td>...</td>\n    </tr>\n    <tr>\n      <th>88329</th>\n      <td>11980093257</td>\n      <td>2022-11-29T12:45:19Z</td>\n      <td>73</td>\n      <td>0</td>\n      <td>150</td>\n      <td>104</td>\n      <td>[{\"membership_id\": \"4611686018467326754\", \"mem...</td>\n    </tr>\n    <tr>\n      <th>88330</th>\n      <td>11980110261</td>\n      <td>2022-11-29T12:57:04Z</td>\n      <td>73</td>\n      <td>0</td>\n      <td>153</td>\n      <td>75</td>\n      <td>[{\"membership_id\": \"4611686018513125077\", \"mem...</td>\n    </tr>\n    <tr>\n      <th>88331</th>\n      <td>11980119969</td>\n      <td>2022-11-29T13:06:36Z</td>\n      <td>73</td>\n      <td>0</td>\n      <td>97</td>\n      <td>36</td>\n      <td>[{\"membership_id\": \"4611686018475052461\", \"mem...</td>\n    </tr>\n    <tr>\n      <th>88332</th>\n      <td>11980134517</td>\n      <td>2022-11-29T13:10:23Z</td>\n      <td>73</td>\n      <td>0</td>\n      <td>150</td>\n      <td>118</td>\n      <td>[{\"membership_id\": \"4611686018487627730\", \"mem...</td>\n    </tr>\n    <tr>\n      <th>88333</th>\n      <td>11980154525</td>\n      <td>2022-11-29T13:22:41Z</td>\n      <td>73</td>\n      <td>0</td>\n      <td>150</td>\n      <td>130</td>\n      <td>[{\"membership_id\": \"4611686018502423215\", \"mem...</td>\n    </tr>\n  </tbody>\n</table>\n<p>88334 rows × 7 columns</p>\n</div>"
     },
     "execution_count": 7,
     "metadata": {},
     "output_type": "execute_result"
    }
   ],
   "source": [
    "activities = pd.DataFrame(data=[dict(row) for row in r])\n",
    "activities"
   ],
   "metadata": {
    "collapsed": false
   }
  },
  {
   "cell_type": "code",
   "execution_count": 8,
   "outputs": [
    {
     "data": {
      "text/plain": "        instance_id              period  mode  is_private  win_score  \\\n0        9868826934 2022-01-01 00:01:15    84           0          5   \n1        9868839001 2022-01-01 00:07:14    73           0         97   \n2        9868851944 2022-01-01 00:08:20    84           0          5   \n3        9868853647 2022-01-01 00:05:57    73           0        150   \n4        9868858383 2022-01-01 00:05:14    73           0        144   \n...             ...                 ...   ...         ...        ...   \n118887  11968726555 2022-11-25 23:30:43    84           0          5   \n118888  11970327060 2022-11-26 12:22:32    37           0          4   \n118889  11970352533 2022-11-26 12:34:08    37           0          4   \n118890  11970377921 2022-11-26 12:49:45    37           0          4   \n118891  11970402652 2022-11-26 13:02:45    37           0          4   \n\n        loss_score                                            players  \n0                3  [{\"membership_id\": \"4611686018429273020\", \"mem...  \n1               32  [{\"membership_id\": \"4611686018492356731\", \"mem...  \n2                2  [{\"membership_id\": \"4611686018485879325\", \"mem...  \n3               82  [{\"membership_id\": \"4611686018475284935\", \"mem...  \n4              111  [{\"membership_id\": \"4611686018476438205\", \"mem...  \n...            ...                                                ...  \n118887           0  [{\"membership_id\": \"4611686018452635660\", \"mem...  \n118888           0  [{\"membership_id\": \"4611686018447676806\", \"mem...  \n118889           1  [{\"membership_id\": \"4611686018467772266\", \"mem...  \n118890           1  [{\"membership_id\": \"4611686018438166973\", \"mem...  \n118891           0  [{\"membership_id\": \"4611686018446956358\", \"mem...  \n\n[118892 rows x 7 columns]",
      "text/html": "<div>\n<style scoped>\n    .dataframe tbody tr th:only-of-type {\n        vertical-align: middle;\n    }\n\n    .dataframe tbody tr th {\n        vertical-align: top;\n    }\n\n    .dataframe thead th {\n        text-align: right;\n    }\n</style>\n<table border=\"1\" class=\"dataframe\">\n  <thead>\n    <tr style=\"text-align: right;\">\n      <th></th>\n      <th>instance_id</th>\n      <th>period</th>\n      <th>mode</th>\n      <th>is_private</th>\n      <th>win_score</th>\n      <th>loss_score</th>\n      <th>players</th>\n    </tr>\n  </thead>\n  <tbody>\n    <tr>\n      <th>0</th>\n      <td>9868826934</td>\n      <td>2022-01-01 00:01:15</td>\n      <td>84</td>\n      <td>0</td>\n      <td>5</td>\n      <td>3</td>\n      <td>[{\"membership_id\": \"4611686018429273020\", \"mem...</td>\n    </tr>\n    <tr>\n      <th>1</th>\n      <td>9868839001</td>\n      <td>2022-01-01 00:07:14</td>\n      <td>73</td>\n      <td>0</td>\n      <td>97</td>\n      <td>32</td>\n      <td>[{\"membership_id\": \"4611686018492356731\", \"mem...</td>\n    </tr>\n    <tr>\n      <th>2</th>\n      <td>9868851944</td>\n      <td>2022-01-01 00:08:20</td>\n      <td>84</td>\n      <td>0</td>\n      <td>5</td>\n      <td>2</td>\n      <td>[{\"membership_id\": \"4611686018485879325\", \"mem...</td>\n    </tr>\n    <tr>\n      <th>3</th>\n      <td>9868853647</td>\n      <td>2022-01-01 00:05:57</td>\n      <td>73</td>\n      <td>0</td>\n      <td>150</td>\n      <td>82</td>\n      <td>[{\"membership_id\": \"4611686018475284935\", \"mem...</td>\n    </tr>\n    <tr>\n      <th>4</th>\n      <td>9868858383</td>\n      <td>2022-01-01 00:05:14</td>\n      <td>73</td>\n      <td>0</td>\n      <td>144</td>\n      <td>111</td>\n      <td>[{\"membership_id\": \"4611686018476438205\", \"mem...</td>\n    </tr>\n    <tr>\n      <th>...</th>\n      <td>...</td>\n      <td>...</td>\n      <td>...</td>\n      <td>...</td>\n      <td>...</td>\n      <td>...</td>\n      <td>...</td>\n    </tr>\n    <tr>\n      <th>118887</th>\n      <td>11968726555</td>\n      <td>2022-11-25 23:30:43</td>\n      <td>84</td>\n      <td>0</td>\n      <td>5</td>\n      <td>0</td>\n      <td>[{\"membership_id\": \"4611686018452635660\", \"mem...</td>\n    </tr>\n    <tr>\n      <th>118888</th>\n      <td>11970327060</td>\n      <td>2022-11-26 12:22:32</td>\n      <td>37</td>\n      <td>0</td>\n      <td>4</td>\n      <td>0</td>\n      <td>[{\"membership_id\": \"4611686018447676806\", \"mem...</td>\n    </tr>\n    <tr>\n      <th>118889</th>\n      <td>11970352533</td>\n      <td>2022-11-26 12:34:08</td>\n      <td>37</td>\n      <td>0</td>\n      <td>4</td>\n      <td>1</td>\n      <td>[{\"membership_id\": \"4611686018467772266\", \"mem...</td>\n    </tr>\n    <tr>\n      <th>118890</th>\n      <td>11970377921</td>\n      <td>2022-11-26 12:49:45</td>\n      <td>37</td>\n      <td>0</td>\n      <td>4</td>\n      <td>1</td>\n      <td>[{\"membership_id\": \"4611686018438166973\", \"mem...</td>\n    </tr>\n    <tr>\n      <th>118891</th>\n      <td>11970402652</td>\n      <td>2022-11-26 13:02:45</td>\n      <td>37</td>\n      <td>0</td>\n      <td>4</td>\n      <td>0</td>\n      <td>[{\"membership_id\": \"4611686018446956358\", \"mem...</td>\n    </tr>\n  </tbody>\n</table>\n<p>118892 rows × 7 columns</p>\n</div>"
     },
     "execution_count": 8,
     "metadata": {},
     "output_type": "execute_result"
    }
   ],
   "source": [
    "# Select activities from date interval (better do it in sql)\n",
    "activities.period = pd.to_datetime(activities.period, format=BungieAPI.API_DATE_FORMAT)\n",
    "activities = activities[activities.period > \"2022\"]\n",
    "activities.reset_index(drop=True, inplace=True)\n",
    "activities"
   ],
   "metadata": {
    "collapsed": false
   }
  },
  {
   "cell_type": "markdown",
   "source": [
    "### Setup train df - combat_rating, kills_pga, assists_pga, deaths_pga, score_pga, win_ratio and winning team"
   ],
   "metadata": {
    "collapsed": false
   }
  },
  {
   "cell_type": "code",
   "execution_count": 20,
   "outputs": [],
   "source": [
    "# To use different features, simply modify the STATS_NAME array and the next function get_guardian_stats accordingly. The rest of the cells should adapt nicely.\n",
    "# STATS_NAME = [\"combat_rating\", \"kills_pga\", \"assists_pga\", \"deaths_pga\", \"score_pga\", \"win_ratio\"]  # best version 85% acc\n",
    "# STATS_NAME = [\"kills_pga\", \"assists_pga\", \"deaths_pga\", \"score_pga\", \"win_ratio\"] # 82 % acc\n",
    "# STATS_NAME = [\"activities_entered\", \"activities_won\", \"assists\", \"kills\", \"seconds_played\", \"deaths\", \"average_lifespan\", \"score\", \"opponents_defeated\", \"precision_kills\"] # 80% acc\n",
    "STATS_NAME = [\"combat_rating\", \"kills_pga\", \"assists_pga\", \"deaths_pga\", \"score_pga\", \"win_ratio\", \"kd\", \"kda\"] # 85% acc\n",
    "N_STATS = len(STATS_NAME)\n",
    "PLAYERS_COLUMNS = np.array([[f\"player_{i}_{stat}\" for stat in STATS_NAME] for i in range(1, 13)]).reshape(12 * N_STATS)"
   ],
   "metadata": {
    "collapsed": false
   }
  },
  {
   "cell_type": "code",
   "execution_count": 21,
   "outputs": [],
   "source": [
    "def get_guardian_stats(membership_id, membership_type, character_id):\n",
    "    guardian = db_helper.get_guardian_from_ids(\n",
    "        Guardian(membership_id=membership_id, membership_type=membership_type, character_id=character_id))\n",
    "\n",
    "    if guardian is None:\n",
    "        return pad([], N_STATS, -1)\n",
    "\n",
    "    n = guardian.activities_entered\n",
    "    if n < 1:\n",
    "        return pad([], N_STATS, -1)\n",
    "    \n",
    "    try:\n",
    "        # default\n",
    "        # stats = [guardian.combat_rating,\n",
    "        #          guardian.kills / n,\n",
    "        #          guardian.assists / n,\n",
    "        #          guardian.deaths / n,\n",
    "        #          guardian.score / n,\n",
    "        #          guardian.activities_won / n]\n",
    "    \n",
    "        # without combat_rating\n",
    "        # stats = [guardian.kills / n,\n",
    "        #          guardian.assists / n,\n",
    "        #          guardian.deaths / n,\n",
    "        #          guardian.score / n,\n",
    "        #          guardian.activities_won / n]\n",
    "        \n",
    "        # raw\n",
    "        # stats = [guardian.activities_entered,\n",
    "        #          guardian.activities_won,\n",
    "        #          guardian.assists,\n",
    "        #          guardian.kills,\n",
    "        #          guardian.seconds_played,\n",
    "        #          guardian.deaths,\n",
    "        #          guardian.average_lifespan,\n",
    "        #          guardian.score,\n",
    "        #          guardian.opponents_defeated,\n",
    "        #          guardian.precision_kills]\n",
    "        \n",
    "        # with kd and kda\n",
    "        stats = [guardian.combat_rating,\n",
    "                 guardian.kills / n,\n",
    "                 guardian.assists / n,\n",
    "                 guardian.deaths / n,\n",
    "                 guardian.score / n,\n",
    "                 guardian.activities_won / n,\n",
    "                 guardian.kills / guardian.deaths,\n",
    "                 (guardian.kills + guardian.assists) / guardian.deaths]\n",
    "        \n",
    "    except ZeroDivisionError as err:\n",
    "        return pad([], N_STATS, -1)\n",
    "\n",
    "    return np.array(stats)"
   ],
   "metadata": {
    "collapsed": false
   }
  },
  {
   "cell_type": "code",
   "execution_count": 22,
   "outputs": [],
   "source": [
    "def extract_players_stats(players_json):\n",
    "    try:\n",
    "        (players_json) = (players_json.replace(\"'\", '\"')\n",
    "                          .replace(\"False\", \"false\")\n",
    "                          .replace(\"True\", \"true\"))\n",
    "        players = json.loads(players_json)\n",
    "    except json.JSONDecodeError as err:\n",
    "        return np.array([pad([], N_STATS, 0) for i in range(12)])\n",
    "\n",
    "    winners = []\n",
    "    losers = []\n",
    "    for player in players:\n",
    "        player_stats = get_guardian_stats(player[\"membership_id\"], player[\"membership_type\"], player[\"character_id\"])\n",
    "        if player[\"is_winner\"]:\n",
    "            winners.append(player_stats)\n",
    "        else:\n",
    "            losers.append(player_stats)\n",
    "\n",
    "    return np.array(\n",
    "        pad(winners, 6, pad([], N_STATS, 0))[:6] + pad(losers, 6, pad([], N_STATS, 0))[:6])  # return winners first"
   ],
   "metadata": {
    "collapsed": false
   }
  },
  {
   "cell_type": "code",
   "execution_count": 23,
   "outputs": [],
   "source": [
    "t = activities.players.apply(extract_players_stats)\n",
    "stack = np.stack(t, axis=0)\n",
    "stack = np.reshape(stack, (len(stack), 12 * N_STATS))"
   ],
   "metadata": {
    "collapsed": false
   }
  },
  {
   "cell_type": "code",
   "execution_count": 24,
   "outputs": [
    {
     "data": {
      "text/plain": "       player_1_combat_rating  player_1_kills_pga  player_1_assists_pga  \\\n0                  171.866448           15.488152              5.208531   \n1                  144.329975           12.304066              4.525944   \n2                  130.682790           12.390798              3.461270   \n3                  172.773079           14.569876              3.473085   \n4                  160.782433           16.085000              4.530000   \n...                       ...                 ...                   ...   \n88329              151.835510           13.185556              3.380030   \n88330              168.818530           13.645445              3.984875   \n88331              125.366135           10.766718              4.420878   \n88332              114.896575           11.761329              2.908071   \n88333              132.792214           13.387387              3.351351   \n\n       player_1_deaths_pga  player_1_score_pga  player_1_win_ratio  \\\n0                10.516588           30.137441            0.563981   \n1                 8.136786           22.689351            0.518006   \n2                 7.910600           16.080082            0.502038   \n3                 8.370600           20.961698            0.573499   \n4                 8.740000           25.575000            0.490000   \n...                    ...                 ...                 ...   \n88329             7.398956           18.242985            0.639983   \n88330             9.429828           34.108688            0.543088   \n88331            10.269270           17.177131            0.483665   \n88332             8.903323           16.892102            0.460509   \n88333            10.270270           17.468468            0.504505   \n\n       player_1_kd  player_1_kda  player_2_combat_rating  player_2_kills_pga  \\\n0         1.472735      1.968004              201.613244           18.811948   \n1         1.512153      2.068385              104.250846            9.541262   \n2         1.566354      2.003902              132.519180           12.817466   \n3         1.740601      2.155516              144.702941           12.669959   \n4         1.840389      2.358696              168.364910           13.360000   \n...            ...           ...                     ...                 ...   \n88329     1.782083      2.238909              168.818530           13.645445   \n88330     1.447051      1.869633              151.835510           13.185556   \n88331     1.048440      1.478936               67.565632            5.151515   \n88332     1.321004      1.647632              170.366888           15.070395   \n88333     1.303509      1.629825              113.730502           10.447233   \n\n       ...  player_11_kda  player_12_combat_rating  player_12_kills_pga  \\\n0      ...       1.290753               109.085451            10.026667   \n1      ...       0.857883                59.681777             5.270936   \n2      ...       1.309036                84.624560             5.511628   \n3      ...       1.361126               121.290846            11.846154   \n4      ...       1.470331               139.976587            11.367798   \n...    ...            ...                      ...                  ...   \n88329  ...       1.506958               115.575588             9.879747   \n88330  ...       1.185786                98.068328             8.000000   \n88331  ...       1.844141                83.093245             7.388227   \n88332  ...       0.855049               102.747137             8.598291   \n88333  ...       1.661277                96.709251             9.838095   \n\n       player_12_assists_pga  player_12_deaths_pga  player_12_score_pga  \\\n0                   3.109630             12.373827            16.361975   \n1                   2.586207             10.221675             7.586207   \n2                   3.348837             11.604651            13.651163   \n3                   3.131222             10.610860            21.524887   \n4                   5.058406              8.987372            24.823204   \n...                      ...                   ...                  ...   \n88329               3.510549              7.845992            20.166667   \n88330               2.665044              8.201558             9.972736   \n88331               2.852832              9.560730            11.857675   \n88332               3.422748              8.274162             8.852728   \n88333               3.577778             11.088889            15.568254   \n\n       player_12_win_ratio  player_12_kd  player_12_kda  winner  \n0                 0.438025      0.810312       1.061620     0.0  \n1                 0.399015      0.515663       0.768675     0.0  \n2                 0.511628      0.474950       0.763527     0.0  \n3                 0.443439      1.116418       1.411514     0.0  \n4                 0.440410      1.264863       1.827698     0.0  \n...                    ...           ...            ...     ...  \n88329             0.443038      1.259209       1.706642     0.0  \n88330             0.543330      0.975424       1.300368     0.0  \n88331             0.292101      0.772768       1.071159     0.0  \n88332             0.491124      1.039174       1.452841     0.0  \n88333             0.384127      0.887203       1.209848     0.0  \n\n[88334 rows x 97 columns]",
      "text/html": "<div>\n<style scoped>\n    .dataframe tbody tr th:only-of-type {\n        vertical-align: middle;\n    }\n\n    .dataframe tbody tr th {\n        vertical-align: top;\n    }\n\n    .dataframe thead th {\n        text-align: right;\n    }\n</style>\n<table border=\"1\" class=\"dataframe\">\n  <thead>\n    <tr style=\"text-align: right;\">\n      <th></th>\n      <th>player_1_combat_rating</th>\n      <th>player_1_kills_pga</th>\n      <th>player_1_assists_pga</th>\n      <th>player_1_deaths_pga</th>\n      <th>player_1_score_pga</th>\n      <th>player_1_win_ratio</th>\n      <th>player_1_kd</th>\n      <th>player_1_kda</th>\n      <th>player_2_combat_rating</th>\n      <th>player_2_kills_pga</th>\n      <th>...</th>\n      <th>player_11_kda</th>\n      <th>player_12_combat_rating</th>\n      <th>player_12_kills_pga</th>\n      <th>player_12_assists_pga</th>\n      <th>player_12_deaths_pga</th>\n      <th>player_12_score_pga</th>\n      <th>player_12_win_ratio</th>\n      <th>player_12_kd</th>\n      <th>player_12_kda</th>\n      <th>winner</th>\n    </tr>\n  </thead>\n  <tbody>\n    <tr>\n      <th>0</th>\n      <td>171.866448</td>\n      <td>15.488152</td>\n      <td>5.208531</td>\n      <td>10.516588</td>\n      <td>30.137441</td>\n      <td>0.563981</td>\n      <td>1.472735</td>\n      <td>1.968004</td>\n      <td>201.613244</td>\n      <td>18.811948</td>\n      <td>...</td>\n      <td>1.290753</td>\n      <td>109.085451</td>\n      <td>10.026667</td>\n      <td>3.109630</td>\n      <td>12.373827</td>\n      <td>16.361975</td>\n      <td>0.438025</td>\n      <td>0.810312</td>\n      <td>1.061620</td>\n      <td>0.0</td>\n    </tr>\n    <tr>\n      <th>1</th>\n      <td>144.329975</td>\n      <td>12.304066</td>\n      <td>4.525944</td>\n      <td>8.136786</td>\n      <td>22.689351</td>\n      <td>0.518006</td>\n      <td>1.512153</td>\n      <td>2.068385</td>\n      <td>104.250846</td>\n      <td>9.541262</td>\n      <td>...</td>\n      <td>0.857883</td>\n      <td>59.681777</td>\n      <td>5.270936</td>\n      <td>2.586207</td>\n      <td>10.221675</td>\n      <td>7.586207</td>\n      <td>0.399015</td>\n      <td>0.515663</td>\n      <td>0.768675</td>\n      <td>0.0</td>\n    </tr>\n    <tr>\n      <th>2</th>\n      <td>130.682790</td>\n      <td>12.390798</td>\n      <td>3.461270</td>\n      <td>7.910600</td>\n      <td>16.080082</td>\n      <td>0.502038</td>\n      <td>1.566354</td>\n      <td>2.003902</td>\n      <td>132.519180</td>\n      <td>12.817466</td>\n      <td>...</td>\n      <td>1.309036</td>\n      <td>84.624560</td>\n      <td>5.511628</td>\n      <td>3.348837</td>\n      <td>11.604651</td>\n      <td>13.651163</td>\n      <td>0.511628</td>\n      <td>0.474950</td>\n      <td>0.763527</td>\n      <td>0.0</td>\n    </tr>\n    <tr>\n      <th>3</th>\n      <td>172.773079</td>\n      <td>14.569876</td>\n      <td>3.473085</td>\n      <td>8.370600</td>\n      <td>20.961698</td>\n      <td>0.573499</td>\n      <td>1.740601</td>\n      <td>2.155516</td>\n      <td>144.702941</td>\n      <td>12.669959</td>\n      <td>...</td>\n      <td>1.361126</td>\n      <td>121.290846</td>\n      <td>11.846154</td>\n      <td>3.131222</td>\n      <td>10.610860</td>\n      <td>21.524887</td>\n      <td>0.443439</td>\n      <td>1.116418</td>\n      <td>1.411514</td>\n      <td>0.0</td>\n    </tr>\n    <tr>\n      <th>4</th>\n      <td>160.782433</td>\n      <td>16.085000</td>\n      <td>4.530000</td>\n      <td>8.740000</td>\n      <td>25.575000</td>\n      <td>0.490000</td>\n      <td>1.840389</td>\n      <td>2.358696</td>\n      <td>168.364910</td>\n      <td>13.360000</td>\n      <td>...</td>\n      <td>1.470331</td>\n      <td>139.976587</td>\n      <td>11.367798</td>\n      <td>5.058406</td>\n      <td>8.987372</td>\n      <td>24.823204</td>\n      <td>0.440410</td>\n      <td>1.264863</td>\n      <td>1.827698</td>\n      <td>0.0</td>\n    </tr>\n    <tr>\n      <th>...</th>\n      <td>...</td>\n      <td>...</td>\n      <td>...</td>\n      <td>...</td>\n      <td>...</td>\n      <td>...</td>\n      <td>...</td>\n      <td>...</td>\n      <td>...</td>\n      <td>...</td>\n      <td>...</td>\n      <td>...</td>\n      <td>...</td>\n      <td>...</td>\n      <td>...</td>\n      <td>...</td>\n      <td>...</td>\n      <td>...</td>\n      <td>...</td>\n      <td>...</td>\n      <td>...</td>\n    </tr>\n    <tr>\n      <th>88329</th>\n      <td>151.835510</td>\n      <td>13.185556</td>\n      <td>3.380030</td>\n      <td>7.398956</td>\n      <td>18.242985</td>\n      <td>0.639983</td>\n      <td>1.782083</td>\n      <td>2.238909</td>\n      <td>168.818530</td>\n      <td>13.645445</td>\n      <td>...</td>\n      <td>1.506958</td>\n      <td>115.575588</td>\n      <td>9.879747</td>\n      <td>3.510549</td>\n      <td>7.845992</td>\n      <td>20.166667</td>\n      <td>0.443038</td>\n      <td>1.259209</td>\n      <td>1.706642</td>\n      <td>0.0</td>\n    </tr>\n    <tr>\n      <th>88330</th>\n      <td>168.818530</td>\n      <td>13.645445</td>\n      <td>3.984875</td>\n      <td>9.429828</td>\n      <td>34.108688</td>\n      <td>0.543088</td>\n      <td>1.447051</td>\n      <td>1.869633</td>\n      <td>151.835510</td>\n      <td>13.185556</td>\n      <td>...</td>\n      <td>1.185786</td>\n      <td>98.068328</td>\n      <td>8.000000</td>\n      <td>2.665044</td>\n      <td>8.201558</td>\n      <td>9.972736</td>\n      <td>0.543330</td>\n      <td>0.975424</td>\n      <td>1.300368</td>\n      <td>0.0</td>\n    </tr>\n    <tr>\n      <th>88331</th>\n      <td>125.366135</td>\n      <td>10.766718</td>\n      <td>4.420878</td>\n      <td>10.269270</td>\n      <td>17.177131</td>\n      <td>0.483665</td>\n      <td>1.048440</td>\n      <td>1.478936</td>\n      <td>67.565632</td>\n      <td>5.151515</td>\n      <td>...</td>\n      <td>1.844141</td>\n      <td>83.093245</td>\n      <td>7.388227</td>\n      <td>2.852832</td>\n      <td>9.560730</td>\n      <td>11.857675</td>\n      <td>0.292101</td>\n      <td>0.772768</td>\n      <td>1.071159</td>\n      <td>0.0</td>\n    </tr>\n    <tr>\n      <th>88332</th>\n      <td>114.896575</td>\n      <td>11.761329</td>\n      <td>2.908071</td>\n      <td>8.903323</td>\n      <td>16.892102</td>\n      <td>0.460509</td>\n      <td>1.321004</td>\n      <td>1.647632</td>\n      <td>170.366888</td>\n      <td>15.070395</td>\n      <td>...</td>\n      <td>0.855049</td>\n      <td>102.747137</td>\n      <td>8.598291</td>\n      <td>3.422748</td>\n      <td>8.274162</td>\n      <td>8.852728</td>\n      <td>0.491124</td>\n      <td>1.039174</td>\n      <td>1.452841</td>\n      <td>0.0</td>\n    </tr>\n    <tr>\n      <th>88333</th>\n      <td>132.792214</td>\n      <td>13.387387</td>\n      <td>3.351351</td>\n      <td>10.270270</td>\n      <td>17.468468</td>\n      <td>0.504505</td>\n      <td>1.303509</td>\n      <td>1.629825</td>\n      <td>113.730502</td>\n      <td>10.447233</td>\n      <td>...</td>\n      <td>1.661277</td>\n      <td>96.709251</td>\n      <td>9.838095</td>\n      <td>3.577778</td>\n      <td>11.088889</td>\n      <td>15.568254</td>\n      <td>0.384127</td>\n      <td>0.887203</td>\n      <td>1.209848</td>\n      <td>0.0</td>\n    </tr>\n  </tbody>\n</table>\n<p>88334 rows × 97 columns</p>\n</div>"
     },
     "execution_count": 24,
     "metadata": {},
     "output_type": "execute_result"
    }
   ],
   "source": [
    "train = pd.DataFrame()\n",
    "train[PLAYERS_COLUMNS] = pd.DataFrame(stack, columns=PLAYERS_COLUMNS)\n",
    "train[\"winner\"] = np.zeros(len(train))\n",
    "train"
   ],
   "metadata": {
    "collapsed": false
   }
  },
  {
   "cell_type": "code",
   "execution_count": 25,
   "outputs": [
    {
     "data": {
      "text/plain": "       player_1_combat_rating  player_1_kills_pga  player_1_assists_pga  \\\n0                  171.866448           15.488152              5.208531   \n1                  144.329975           12.304066              4.525944   \n2                  130.682790           12.390798              3.461270   \n3                  172.773079           14.569876              3.473085   \n4                  160.782433           16.085000              4.530000   \n...                       ...                 ...                   ...   \n74470              151.835510           13.185556              3.380030   \n74471              168.818530           13.645445              3.984875   \n74472              125.366135           10.766718              4.420878   \n74473              114.896575           11.761329              2.908071   \n74474              132.792214           13.387387              3.351351   \n\n       player_1_deaths_pga  player_1_score_pga  player_1_win_ratio  \\\n0                10.516588           30.137441            0.563981   \n1                 8.136786           22.689351            0.518006   \n2                 7.910600           16.080082            0.502038   \n3                 8.370600           20.961698            0.573499   \n4                 8.740000           25.575000            0.490000   \n...                    ...                 ...                 ...   \n74470             7.398956           18.242985            0.639983   \n74471             9.429828           34.108688            0.543088   \n74472            10.269270           17.177131            0.483665   \n74473             8.903323           16.892102            0.460509   \n74474            10.270270           17.468468            0.504505   \n\n       player_1_kd  player_1_kda  player_2_combat_rating  player_2_kills_pga  \\\n0         1.472735      1.968004              201.613244           18.811948   \n1         1.512153      2.068385              104.250846            9.541262   \n2         1.566354      2.003902              132.519180           12.817466   \n3         1.740601      2.155516              144.702941           12.669959   \n4         1.840389      2.358696              168.364910           13.360000   \n...            ...           ...                     ...                 ...   \n74470     1.782083      2.238909              168.818530           13.645445   \n74471     1.447051      1.869633              151.835510           13.185556   \n74472     1.048440      1.478936               67.565632            5.151515   \n74473     1.321004      1.647632              170.366888           15.070395   \n74474     1.303509      1.629825              113.730502           10.447233   \n\n       ...  player_11_kda  player_12_combat_rating  player_12_kills_pga  \\\n0      ...       1.290753               109.085451            10.026667   \n1      ...       0.857883                59.681777             5.270936   \n2      ...       1.309036                84.624560             5.511628   \n3      ...       1.361126               121.290846            11.846154   \n4      ...       1.470331               139.976587            11.367798   \n...    ...            ...                      ...                  ...   \n74470  ...       1.506958               115.575588             9.879747   \n74471  ...       1.185786                98.068328             8.000000   \n74472  ...       1.844141                83.093245             7.388227   \n74473  ...       0.855049               102.747137             8.598291   \n74474  ...       1.661277                96.709251             9.838095   \n\n       player_12_assists_pga  player_12_deaths_pga  player_12_score_pga  \\\n0                   3.109630             12.373827            16.361975   \n1                   2.586207             10.221675             7.586207   \n2                   3.348837             11.604651            13.651163   \n3                   3.131222             10.610860            21.524887   \n4                   5.058406              8.987372            24.823204   \n...                      ...                   ...                  ...   \n74470               3.510549              7.845992            20.166667   \n74471               2.665044              8.201558             9.972736   \n74472               2.852832              9.560730            11.857675   \n74473               3.422748              8.274162             8.852728   \n74474               3.577778             11.088889            15.568254   \n\n       player_12_win_ratio  player_12_kd  player_12_kda  winner  \n0                 0.438025      0.810312       1.061620     0.0  \n1                 0.399015      0.515663       0.768675     0.0  \n2                 0.511628      0.474950       0.763527     0.0  \n3                 0.443439      1.116418       1.411514     0.0  \n4                 0.440410      1.264863       1.827698     0.0  \n...                    ...           ...            ...     ...  \n74470             0.443038      1.259209       1.706642     0.0  \n74471             0.543330      0.975424       1.300368     0.0  \n74472             0.292101      0.772768       1.071159     0.0  \n74473             0.491124      1.039174       1.452841     0.0  \n74474             0.384127      0.887203       1.209848     0.0  \n\n[74475 rows x 97 columns]",
      "text/html": "<div>\n<style scoped>\n    .dataframe tbody tr th:only-of-type {\n        vertical-align: middle;\n    }\n\n    .dataframe tbody tr th {\n        vertical-align: top;\n    }\n\n    .dataframe thead th {\n        text-align: right;\n    }\n</style>\n<table border=\"1\" class=\"dataframe\">\n  <thead>\n    <tr style=\"text-align: right;\">\n      <th></th>\n      <th>player_1_combat_rating</th>\n      <th>player_1_kills_pga</th>\n      <th>player_1_assists_pga</th>\n      <th>player_1_deaths_pga</th>\n      <th>player_1_score_pga</th>\n      <th>player_1_win_ratio</th>\n      <th>player_1_kd</th>\n      <th>player_1_kda</th>\n      <th>player_2_combat_rating</th>\n      <th>player_2_kills_pga</th>\n      <th>...</th>\n      <th>player_11_kda</th>\n      <th>player_12_combat_rating</th>\n      <th>player_12_kills_pga</th>\n      <th>player_12_assists_pga</th>\n      <th>player_12_deaths_pga</th>\n      <th>player_12_score_pga</th>\n      <th>player_12_win_ratio</th>\n      <th>player_12_kd</th>\n      <th>player_12_kda</th>\n      <th>winner</th>\n    </tr>\n  </thead>\n  <tbody>\n    <tr>\n      <th>0</th>\n      <td>171.866448</td>\n      <td>15.488152</td>\n      <td>5.208531</td>\n      <td>10.516588</td>\n      <td>30.137441</td>\n      <td>0.563981</td>\n      <td>1.472735</td>\n      <td>1.968004</td>\n      <td>201.613244</td>\n      <td>18.811948</td>\n      <td>...</td>\n      <td>1.290753</td>\n      <td>109.085451</td>\n      <td>10.026667</td>\n      <td>3.109630</td>\n      <td>12.373827</td>\n      <td>16.361975</td>\n      <td>0.438025</td>\n      <td>0.810312</td>\n      <td>1.061620</td>\n      <td>0.0</td>\n    </tr>\n    <tr>\n      <th>1</th>\n      <td>144.329975</td>\n      <td>12.304066</td>\n      <td>4.525944</td>\n      <td>8.136786</td>\n      <td>22.689351</td>\n      <td>0.518006</td>\n      <td>1.512153</td>\n      <td>2.068385</td>\n      <td>104.250846</td>\n      <td>9.541262</td>\n      <td>...</td>\n      <td>0.857883</td>\n      <td>59.681777</td>\n      <td>5.270936</td>\n      <td>2.586207</td>\n      <td>10.221675</td>\n      <td>7.586207</td>\n      <td>0.399015</td>\n      <td>0.515663</td>\n      <td>0.768675</td>\n      <td>0.0</td>\n    </tr>\n    <tr>\n      <th>2</th>\n      <td>130.682790</td>\n      <td>12.390798</td>\n      <td>3.461270</td>\n      <td>7.910600</td>\n      <td>16.080082</td>\n      <td>0.502038</td>\n      <td>1.566354</td>\n      <td>2.003902</td>\n      <td>132.519180</td>\n      <td>12.817466</td>\n      <td>...</td>\n      <td>1.309036</td>\n      <td>84.624560</td>\n      <td>5.511628</td>\n      <td>3.348837</td>\n      <td>11.604651</td>\n      <td>13.651163</td>\n      <td>0.511628</td>\n      <td>0.474950</td>\n      <td>0.763527</td>\n      <td>0.0</td>\n    </tr>\n    <tr>\n      <th>3</th>\n      <td>172.773079</td>\n      <td>14.569876</td>\n      <td>3.473085</td>\n      <td>8.370600</td>\n      <td>20.961698</td>\n      <td>0.573499</td>\n      <td>1.740601</td>\n      <td>2.155516</td>\n      <td>144.702941</td>\n      <td>12.669959</td>\n      <td>...</td>\n      <td>1.361126</td>\n      <td>121.290846</td>\n      <td>11.846154</td>\n      <td>3.131222</td>\n      <td>10.610860</td>\n      <td>21.524887</td>\n      <td>0.443439</td>\n      <td>1.116418</td>\n      <td>1.411514</td>\n      <td>0.0</td>\n    </tr>\n    <tr>\n      <th>4</th>\n      <td>160.782433</td>\n      <td>16.085000</td>\n      <td>4.530000</td>\n      <td>8.740000</td>\n      <td>25.575000</td>\n      <td>0.490000</td>\n      <td>1.840389</td>\n      <td>2.358696</td>\n      <td>168.364910</td>\n      <td>13.360000</td>\n      <td>...</td>\n      <td>1.470331</td>\n      <td>139.976587</td>\n      <td>11.367798</td>\n      <td>5.058406</td>\n      <td>8.987372</td>\n      <td>24.823204</td>\n      <td>0.440410</td>\n      <td>1.264863</td>\n      <td>1.827698</td>\n      <td>0.0</td>\n    </tr>\n    <tr>\n      <th>...</th>\n      <td>...</td>\n      <td>...</td>\n      <td>...</td>\n      <td>...</td>\n      <td>...</td>\n      <td>...</td>\n      <td>...</td>\n      <td>...</td>\n      <td>...</td>\n      <td>...</td>\n      <td>...</td>\n      <td>...</td>\n      <td>...</td>\n      <td>...</td>\n      <td>...</td>\n      <td>...</td>\n      <td>...</td>\n      <td>...</td>\n      <td>...</td>\n      <td>...</td>\n      <td>...</td>\n    </tr>\n    <tr>\n      <th>74470</th>\n      <td>151.835510</td>\n      <td>13.185556</td>\n      <td>3.380030</td>\n      <td>7.398956</td>\n      <td>18.242985</td>\n      <td>0.639983</td>\n      <td>1.782083</td>\n      <td>2.238909</td>\n      <td>168.818530</td>\n      <td>13.645445</td>\n      <td>...</td>\n      <td>1.506958</td>\n      <td>115.575588</td>\n      <td>9.879747</td>\n      <td>3.510549</td>\n      <td>7.845992</td>\n      <td>20.166667</td>\n      <td>0.443038</td>\n      <td>1.259209</td>\n      <td>1.706642</td>\n      <td>0.0</td>\n    </tr>\n    <tr>\n      <th>74471</th>\n      <td>168.818530</td>\n      <td>13.645445</td>\n      <td>3.984875</td>\n      <td>9.429828</td>\n      <td>34.108688</td>\n      <td>0.543088</td>\n      <td>1.447051</td>\n      <td>1.869633</td>\n      <td>151.835510</td>\n      <td>13.185556</td>\n      <td>...</td>\n      <td>1.185786</td>\n      <td>98.068328</td>\n      <td>8.000000</td>\n      <td>2.665044</td>\n      <td>8.201558</td>\n      <td>9.972736</td>\n      <td>0.543330</td>\n      <td>0.975424</td>\n      <td>1.300368</td>\n      <td>0.0</td>\n    </tr>\n    <tr>\n      <th>74472</th>\n      <td>125.366135</td>\n      <td>10.766718</td>\n      <td>4.420878</td>\n      <td>10.269270</td>\n      <td>17.177131</td>\n      <td>0.483665</td>\n      <td>1.048440</td>\n      <td>1.478936</td>\n      <td>67.565632</td>\n      <td>5.151515</td>\n      <td>...</td>\n      <td>1.844141</td>\n      <td>83.093245</td>\n      <td>7.388227</td>\n      <td>2.852832</td>\n      <td>9.560730</td>\n      <td>11.857675</td>\n      <td>0.292101</td>\n      <td>0.772768</td>\n      <td>1.071159</td>\n      <td>0.0</td>\n    </tr>\n    <tr>\n      <th>74473</th>\n      <td>114.896575</td>\n      <td>11.761329</td>\n      <td>2.908071</td>\n      <td>8.903323</td>\n      <td>16.892102</td>\n      <td>0.460509</td>\n      <td>1.321004</td>\n      <td>1.647632</td>\n      <td>170.366888</td>\n      <td>15.070395</td>\n      <td>...</td>\n      <td>0.855049</td>\n      <td>102.747137</td>\n      <td>8.598291</td>\n      <td>3.422748</td>\n      <td>8.274162</td>\n      <td>8.852728</td>\n      <td>0.491124</td>\n      <td>1.039174</td>\n      <td>1.452841</td>\n      <td>0.0</td>\n    </tr>\n    <tr>\n      <th>74474</th>\n      <td>132.792214</td>\n      <td>13.387387</td>\n      <td>3.351351</td>\n      <td>10.270270</td>\n      <td>17.468468</td>\n      <td>0.504505</td>\n      <td>1.303509</td>\n      <td>1.629825</td>\n      <td>113.730502</td>\n      <td>10.447233</td>\n      <td>...</td>\n      <td>1.661277</td>\n      <td>96.709251</td>\n      <td>9.838095</td>\n      <td>3.577778</td>\n      <td>11.088889</td>\n      <td>15.568254</td>\n      <td>0.384127</td>\n      <td>0.887203</td>\n      <td>1.209848</td>\n      <td>0.0</td>\n    </tr>\n  </tbody>\n</table>\n<p>74475 rows × 97 columns</p>\n</div>"
     },
     "execution_count": 25,
     "metadata": {},
     "output_type": "execute_result"
    }
   ],
   "source": [
    "# Select only valid rows (better results without)\n",
    "req = [f\"(train['{col}'] > 0)\" for col in PLAYERS_COLUMNS]\n",
    "req = \" & \".join(req)\n",
    "train = train[eval(req)]  # hey, it's not stupid if it works\n",
    "train.reset_index(inplace=True, drop=True)\n",
    "train"
   ],
   "metadata": {
    "collapsed": false
   }
  },
  {
   "cell_type": "code",
   "execution_count": 26,
   "outputs": [
    {
     "name": "stderr",
     "output_type": "stream",
     "text": [
      "C:\\Users\\Eagle\\AppData\\Local\\Temp\\ipykernel_1216\\3311911447.py:22: SettingWithCopyWarning: \n",
      "A value is trying to be set on a copy of a slice from a DataFrame\n",
      "\n",
      "See the caveats in the documentation: https://pandas.pydata.org/pandas-docs/stable/user_guide/indexing.html#returning-a-view-versus-a-copy\n",
      "  train.loc[:mid] = (train.loc[:mid].rename(columns={player_cols_team_A[i]: tmp_cols[i] for i in range(len(player_cols_team_A))})\n",
      "C:\\Users\\Eagle\\AppData\\Local\\Temp\\ipykernel_1216\\3311911447.py:26: SettingWithCopyWarning: \n",
      "A value is trying to be set on a copy of a slice from a DataFrame\n",
      "\n",
      "See the caveats in the documentation: https://pandas.pydata.org/pandas-docs/stable/user_guide/indexing.html#returning-a-view-versus-a-copy\n",
      "  train.loc[:mid, \"winner\"] = [1 for i in range(mid + 1)]\n"
     ]
    },
    {
     "data": {
      "text/plain": "       player_1_combat_rating  player_1_kills_pga  player_1_assists_pga  \\\n0                  154.918285           14.597444              4.210863   \n1                  121.735362           11.464286              2.769793   \n2                  182.747287           16.055660              6.420263   \n3                  103.733618            7.773810              5.011905   \n4                  175.309352           14.604278              4.836007   \n...                       ...                 ...                   ...   \n74470              151.835510           13.185556              3.380030   \n74471              168.818530           13.645445              3.984875   \n74472              125.366135           10.766718              4.420878   \n74473              114.896575           11.761329              2.908071   \n74474              132.792214           13.387387              3.351351   \n\n       player_1_deaths_pga  player_1_score_pga  player_1_win_ratio  \\\n0                10.217252           29.795527            0.501597   \n1                10.471601           22.005594            0.466867   \n2                10.163852           34.513446            0.484053   \n3                11.011905           16.559524            0.404762   \n4                10.524064           30.843137            0.508021   \n...                    ...                 ...                 ...   \n74470             7.398956           18.242985            0.639983   \n74471             9.429828           34.108688            0.543088   \n74472            10.269270           17.177131            0.483665   \n74473             8.903323           16.892102            0.460509   \n74474            10.270270           17.468468            0.504505   \n\n       player_1_kd  player_1_kda  player_2_combat_rating  player_2_kills_pga  \\\n0         1.428705      1.840838              169.595771           15.483871   \n1         1.094798      1.359303              148.546626           11.564039   \n2         1.579683      2.211359              122.641862            9.546075   \n3         0.705946      1.161081              159.931058           13.592593   \n4         1.387703      1.847222              152.829824           11.286429   \n...            ...           ...                     ...                 ...   \n74470     1.782083      2.238909              168.818530           13.645445   \n74471     1.447051      1.869633              151.835510           13.185556   \n74472     1.048440      1.478936               67.565632            5.151515   \n74473     1.321004      1.647632              170.366888           15.070395   \n74474     1.303509      1.629825              113.730502           10.447233   \n\n       ...  player_11_kda  player_12_combat_rating  player_12_kills_pga  \\\n0      ...       1.537792               102.101709             7.812903   \n1      ...       1.348943               107.831604            10.505824   \n2      ...       1.081999                85.596959             4.898438   \n3      ...       2.744592                86.356314             4.855319   \n4      ...       1.325027                88.312201             5.327103   \n...    ...            ...                      ...                  ...   \n74470  ...       1.506958               115.575588             9.879747   \n74471  ...       1.185786                98.068328             8.000000   \n74472  ...       1.844141                83.093245             7.388227   \n74473  ...       0.855049               102.747137             8.598291   \n74474  ...       1.661277                96.709251             9.838095   \n\n       player_12_assists_pga  player_12_deaths_pga  player_12_score_pga  \\\n0                   3.825806             10.064516            17.683871   \n1                   3.575707             10.895175            18.885191   \n2                   3.460938              9.592187            15.303125   \n3                   3.042553             11.625532            15.293617   \n4                   3.495327             11.009346            16.476636   \n...                      ...                   ...                  ...   \n74470               3.510549              7.845992            20.166667   \n74471               2.665044              8.201558             9.972736   \n74472               2.852832              9.560730            11.857675   \n74473               3.422748              8.274162             8.852728   \n74474               3.577778             11.088889            15.568254   \n\n       player_12_win_ratio  player_12_kd  player_12_kda  winner  \n0                 0.425806      0.776282       1.156410     1.0  \n1                 0.434276      0.964264       1.292456     1.0  \n2                 0.468750      0.510669       0.871477     1.0  \n3                 0.455319      0.417643       0.679356     1.0  \n4                 0.411215      0.483871       0.801358     1.0  \n...                    ...           ...            ...     ...  \n74470             0.443038      1.259209       1.706642     0.0  \n74471             0.543330      0.975424       1.300368     0.0  \n74472             0.292101      0.772768       1.071159     0.0  \n74473             0.491124      1.039174       1.452841     0.0  \n74474             0.384127      0.887203       1.209848     0.0  \n\n[74475 rows x 97 columns]",
      "text/html": "<div>\n<style scoped>\n    .dataframe tbody tr th:only-of-type {\n        vertical-align: middle;\n    }\n\n    .dataframe tbody tr th {\n        vertical-align: top;\n    }\n\n    .dataframe thead th {\n        text-align: right;\n    }\n</style>\n<table border=\"1\" class=\"dataframe\">\n  <thead>\n    <tr style=\"text-align: right;\">\n      <th></th>\n      <th>player_1_combat_rating</th>\n      <th>player_1_kills_pga</th>\n      <th>player_1_assists_pga</th>\n      <th>player_1_deaths_pga</th>\n      <th>player_1_score_pga</th>\n      <th>player_1_win_ratio</th>\n      <th>player_1_kd</th>\n      <th>player_1_kda</th>\n      <th>player_2_combat_rating</th>\n      <th>player_2_kills_pga</th>\n      <th>...</th>\n      <th>player_11_kda</th>\n      <th>player_12_combat_rating</th>\n      <th>player_12_kills_pga</th>\n      <th>player_12_assists_pga</th>\n      <th>player_12_deaths_pga</th>\n      <th>player_12_score_pga</th>\n      <th>player_12_win_ratio</th>\n      <th>player_12_kd</th>\n      <th>player_12_kda</th>\n      <th>winner</th>\n    </tr>\n  </thead>\n  <tbody>\n    <tr>\n      <th>0</th>\n      <td>154.918285</td>\n      <td>14.597444</td>\n      <td>4.210863</td>\n      <td>10.217252</td>\n      <td>29.795527</td>\n      <td>0.501597</td>\n      <td>1.428705</td>\n      <td>1.840838</td>\n      <td>169.595771</td>\n      <td>15.483871</td>\n      <td>...</td>\n      <td>1.537792</td>\n      <td>102.101709</td>\n      <td>7.812903</td>\n      <td>3.825806</td>\n      <td>10.064516</td>\n      <td>17.683871</td>\n      <td>0.425806</td>\n      <td>0.776282</td>\n      <td>1.156410</td>\n      <td>1.0</td>\n    </tr>\n    <tr>\n      <th>1</th>\n      <td>121.735362</td>\n      <td>11.464286</td>\n      <td>2.769793</td>\n      <td>10.471601</td>\n      <td>22.005594</td>\n      <td>0.466867</td>\n      <td>1.094798</td>\n      <td>1.359303</td>\n      <td>148.546626</td>\n      <td>11.564039</td>\n      <td>...</td>\n      <td>1.348943</td>\n      <td>107.831604</td>\n      <td>10.505824</td>\n      <td>3.575707</td>\n      <td>10.895175</td>\n      <td>18.885191</td>\n      <td>0.434276</td>\n      <td>0.964264</td>\n      <td>1.292456</td>\n      <td>1.0</td>\n    </tr>\n    <tr>\n      <th>2</th>\n      <td>182.747287</td>\n      <td>16.055660</td>\n      <td>6.420263</td>\n      <td>10.163852</td>\n      <td>34.513446</td>\n      <td>0.484053</td>\n      <td>1.579683</td>\n      <td>2.211359</td>\n      <td>122.641862</td>\n      <td>9.546075</td>\n      <td>...</td>\n      <td>1.081999</td>\n      <td>85.596959</td>\n      <td>4.898438</td>\n      <td>3.460938</td>\n      <td>9.592187</td>\n      <td>15.303125</td>\n      <td>0.468750</td>\n      <td>0.510669</td>\n      <td>0.871477</td>\n      <td>1.0</td>\n    </tr>\n    <tr>\n      <th>3</th>\n      <td>103.733618</td>\n      <td>7.773810</td>\n      <td>5.011905</td>\n      <td>11.011905</td>\n      <td>16.559524</td>\n      <td>0.404762</td>\n      <td>0.705946</td>\n      <td>1.161081</td>\n      <td>159.931058</td>\n      <td>13.592593</td>\n      <td>...</td>\n      <td>2.744592</td>\n      <td>86.356314</td>\n      <td>4.855319</td>\n      <td>3.042553</td>\n      <td>11.625532</td>\n      <td>15.293617</td>\n      <td>0.455319</td>\n      <td>0.417643</td>\n      <td>0.679356</td>\n      <td>1.0</td>\n    </tr>\n    <tr>\n      <th>4</th>\n      <td>175.309352</td>\n      <td>14.604278</td>\n      <td>4.836007</td>\n      <td>10.524064</td>\n      <td>30.843137</td>\n      <td>0.508021</td>\n      <td>1.387703</td>\n      <td>1.847222</td>\n      <td>152.829824</td>\n      <td>11.286429</td>\n      <td>...</td>\n      <td>1.325027</td>\n      <td>88.312201</td>\n      <td>5.327103</td>\n      <td>3.495327</td>\n      <td>11.009346</td>\n      <td>16.476636</td>\n      <td>0.411215</td>\n      <td>0.483871</td>\n      <td>0.801358</td>\n      <td>1.0</td>\n    </tr>\n    <tr>\n      <th>...</th>\n      <td>...</td>\n      <td>...</td>\n      <td>...</td>\n      <td>...</td>\n      <td>...</td>\n      <td>...</td>\n      <td>...</td>\n      <td>...</td>\n      <td>...</td>\n      <td>...</td>\n      <td>...</td>\n      <td>...</td>\n      <td>...</td>\n      <td>...</td>\n      <td>...</td>\n      <td>...</td>\n      <td>...</td>\n      <td>...</td>\n      <td>...</td>\n      <td>...</td>\n      <td>...</td>\n    </tr>\n    <tr>\n      <th>74470</th>\n      <td>151.835510</td>\n      <td>13.185556</td>\n      <td>3.380030</td>\n      <td>7.398956</td>\n      <td>18.242985</td>\n      <td>0.639983</td>\n      <td>1.782083</td>\n      <td>2.238909</td>\n      <td>168.818530</td>\n      <td>13.645445</td>\n      <td>...</td>\n      <td>1.506958</td>\n      <td>115.575588</td>\n      <td>9.879747</td>\n      <td>3.510549</td>\n      <td>7.845992</td>\n      <td>20.166667</td>\n      <td>0.443038</td>\n      <td>1.259209</td>\n      <td>1.706642</td>\n      <td>0.0</td>\n    </tr>\n    <tr>\n      <th>74471</th>\n      <td>168.818530</td>\n      <td>13.645445</td>\n      <td>3.984875</td>\n      <td>9.429828</td>\n      <td>34.108688</td>\n      <td>0.543088</td>\n      <td>1.447051</td>\n      <td>1.869633</td>\n      <td>151.835510</td>\n      <td>13.185556</td>\n      <td>...</td>\n      <td>1.185786</td>\n      <td>98.068328</td>\n      <td>8.000000</td>\n      <td>2.665044</td>\n      <td>8.201558</td>\n      <td>9.972736</td>\n      <td>0.543330</td>\n      <td>0.975424</td>\n      <td>1.300368</td>\n      <td>0.0</td>\n    </tr>\n    <tr>\n      <th>74472</th>\n      <td>125.366135</td>\n      <td>10.766718</td>\n      <td>4.420878</td>\n      <td>10.269270</td>\n      <td>17.177131</td>\n      <td>0.483665</td>\n      <td>1.048440</td>\n      <td>1.478936</td>\n      <td>67.565632</td>\n      <td>5.151515</td>\n      <td>...</td>\n      <td>1.844141</td>\n      <td>83.093245</td>\n      <td>7.388227</td>\n      <td>2.852832</td>\n      <td>9.560730</td>\n      <td>11.857675</td>\n      <td>0.292101</td>\n      <td>0.772768</td>\n      <td>1.071159</td>\n      <td>0.0</td>\n    </tr>\n    <tr>\n      <th>74473</th>\n      <td>114.896575</td>\n      <td>11.761329</td>\n      <td>2.908071</td>\n      <td>8.903323</td>\n      <td>16.892102</td>\n      <td>0.460509</td>\n      <td>1.321004</td>\n      <td>1.647632</td>\n      <td>170.366888</td>\n      <td>15.070395</td>\n      <td>...</td>\n      <td>0.855049</td>\n      <td>102.747137</td>\n      <td>8.598291</td>\n      <td>3.422748</td>\n      <td>8.274162</td>\n      <td>8.852728</td>\n      <td>0.491124</td>\n      <td>1.039174</td>\n      <td>1.452841</td>\n      <td>0.0</td>\n    </tr>\n    <tr>\n      <th>74474</th>\n      <td>132.792214</td>\n      <td>13.387387</td>\n      <td>3.351351</td>\n      <td>10.270270</td>\n      <td>17.468468</td>\n      <td>0.504505</td>\n      <td>1.303509</td>\n      <td>1.629825</td>\n      <td>113.730502</td>\n      <td>10.447233</td>\n      <td>...</td>\n      <td>1.661277</td>\n      <td>96.709251</td>\n      <td>9.838095</td>\n      <td>3.577778</td>\n      <td>11.088889</td>\n      <td>15.568254</td>\n      <td>0.384127</td>\n      <td>0.887203</td>\n      <td>1.209848</td>\n      <td>0.0</td>\n    </tr>\n  </tbody>\n</table>\n<p>74475 rows × 97 columns</p>\n</div>"
     },
     "execution_count": 26,
     "metadata": {},
     "output_type": "execute_result"
    }
   ],
   "source": [
    "# Shuffle teams so that half of the activities were won\n",
    "def get_cols_name(player_range_start: int, player_range_end: int):\n",
    "    return np.array(\n",
    "        [[f\"player_{i}_{stat}\" for stat in STATS_NAME] for i in range(player_range_start, player_range_end)]).reshape(\n",
    "        (player_range_end - player_range_start) * N_STATS)\n",
    "\n",
    "# Not optimal - lot of memory used, prefer renaming columns (current draft not working, must select subset)\n",
    "# tmp_cols = [f\"tmp_{i}\" for i in range(6*N_STATS)]\n",
    "# train[tmp_cols] = train[get_cols_name(1, 7)]\n",
    "# train[get_cols_name(1, 7)] = train[get_cols_name(7, 13)]\n",
    "# train[get_cols_name(7, 13)] = train[tmp_cols]\n",
    "# train.drop(tmp_cols, axis=1, inplace=True)\n",
    "\n",
    "# Not better - renaming columns but the rvalue consume memory as well\n",
    "mid = len(train) // 2\n",
    "\n",
    "player_cols_team_A = get_cols_name(1, 7)\n",
    "player_cols_team_B = get_cols_name(7, 13)\n",
    "tmp_cols = [f\"tmp_{i}\" for i in range(6*N_STATS)]\n",
    "\n",
    "# False positive warning (see https://stackoverflow.com/questions/20625582/how-to-deal-with-settingwithcopywarning-in-pandas)\n",
    "train.loc[:mid] = (train.loc[:mid].rename(columns={player_cols_team_A[i]: tmp_cols[i] for i in range(len(player_cols_team_A))})\n",
    "                                  .rename(columns={player_cols_team_B[i]: player_cols_team_A[i] for i in range(len(player_cols_team_A))})\n",
    "                                  .rename(columns={tmp_cols[i]: player_cols_team_B[i] for i in range(len(player_cols_team_A))}))\\\n",
    "                                  [list(PLAYERS_COLUMNS) + [\"winner\"]]  # reorder columns\n",
    "train.loc[:mid, \"winner\"] = [1 for i in range(mid + 1)]\n",
    "train"
   ],
   "metadata": {
    "collapsed": false
   }
  },
  {
   "cell_type": "markdown",
   "source": [
    "### SKlearn basic models with train v2"
   ],
   "metadata": {
    "collapsed": false
   }
  },
  {
   "cell_type": "code",
   "execution_count": 27,
   "outputs": [
    {
     "data": {
      "text/plain": "       player_1_combat_rating  player_1_kills_pga  player_1_assists_pga  \\\n0                  154.918285           14.597444              4.210863   \n1                  121.735362           11.464286              2.769793   \n2                  182.747287           16.055660              6.420263   \n3                  103.733618            7.773810              5.011905   \n4                  175.309352           14.604278              4.836007   \n...                       ...                 ...                   ...   \n74470              151.835510           13.185556              3.380030   \n74471              168.818530           13.645445              3.984875   \n74472              125.366135           10.766718              4.420878   \n74473              114.896575           11.761329              2.908071   \n74474              132.792214           13.387387              3.351351   \n\n       player_1_deaths_pga  player_1_score_pga  player_1_win_ratio  \\\n0                10.217252           29.795527            0.501597   \n1                10.471601           22.005594            0.466867   \n2                10.163852           34.513446            0.484053   \n3                11.011905           16.559524            0.404762   \n4                10.524064           30.843137            0.508021   \n...                    ...                 ...                 ...   \n74470             7.398956           18.242985            0.639983   \n74471             9.429828           34.108688            0.543088   \n74472            10.269270           17.177131            0.483665   \n74473             8.903323           16.892102            0.460509   \n74474            10.270270           17.468468            0.504505   \n\n       player_1_kd  player_1_kda  player_2_combat_rating  player_2_kills_pga  \\\n0         1.428705      1.840838              169.595771           15.483871   \n1         1.094798      1.359303              148.546626           11.564039   \n2         1.579683      2.211359              122.641862            9.546075   \n3         0.705946      1.161081              159.931058           13.592593   \n4         1.387703      1.847222              152.829824           11.286429   \n...            ...           ...                     ...                 ...   \n74470     1.782083      2.238909              168.818530           13.645445   \n74471     1.447051      1.869633              151.835510           13.185556   \n74472     1.048440      1.478936               67.565632            5.151515   \n74473     1.321004      1.647632              170.366888           15.070395   \n74474     1.303509      1.629825              113.730502           10.447233   \n\n       ...  player_11_kd  player_11_kda  player_12_combat_rating  \\\n0      ...      1.215391       1.537792               102.101709   \n1      ...      0.971903       1.348943               107.831604   \n2      ...      0.625475       1.081999                85.596959   \n3      ...      1.987924       2.744592                86.356314   \n4      ...      0.959855       1.325027                88.312201   \n...    ...           ...            ...                      ...   \n74470  ...      1.191425       1.506958               115.575588   \n74471  ...      0.811721       1.185786                98.068328   \n74472  ...      1.429352       1.844141                83.093245   \n74473  ...      0.647457       0.855049               102.747137   \n74474  ...      1.227704       1.661277                96.709251   \n\n       player_12_kills_pga  player_12_assists_pga  player_12_deaths_pga  \\\n0                 7.812903               3.825806             10.064516   \n1                10.505824               3.575707             10.895175   \n2                 4.898438               3.460938              9.592187   \n3                 4.855319               3.042553             11.625532   \n4                 5.327103               3.495327             11.009346   \n...                    ...                    ...                   ...   \n74470             9.879747               3.510549              7.845992   \n74471             8.000000               2.665044              8.201558   \n74472             7.388227               2.852832              9.560730   \n74473             8.598291               3.422748              8.274162   \n74474             9.838095               3.577778             11.088889   \n\n       player_12_score_pga  player_12_win_ratio  player_12_kd  player_12_kda  \n0                17.683871             0.425806      0.776282       1.156410  \n1                18.885191             0.434276      0.964264       1.292456  \n2                15.303125             0.468750      0.510669       0.871477  \n3                15.293617             0.455319      0.417643       0.679356  \n4                16.476636             0.411215      0.483871       0.801358  \n...                    ...                  ...           ...            ...  \n74470            20.166667             0.443038      1.259209       1.706642  \n74471             9.972736             0.543330      0.975424       1.300368  \n74472            11.857675             0.292101      0.772768       1.071159  \n74473             8.852728             0.491124      1.039174       1.452841  \n74474            15.568254             0.384127      0.887203       1.209848  \n\n[74475 rows x 96 columns]",
      "text/html": "<div>\n<style scoped>\n    .dataframe tbody tr th:only-of-type {\n        vertical-align: middle;\n    }\n\n    .dataframe tbody tr th {\n        vertical-align: top;\n    }\n\n    .dataframe thead th {\n        text-align: right;\n    }\n</style>\n<table border=\"1\" class=\"dataframe\">\n  <thead>\n    <tr style=\"text-align: right;\">\n      <th></th>\n      <th>player_1_combat_rating</th>\n      <th>player_1_kills_pga</th>\n      <th>player_1_assists_pga</th>\n      <th>player_1_deaths_pga</th>\n      <th>player_1_score_pga</th>\n      <th>player_1_win_ratio</th>\n      <th>player_1_kd</th>\n      <th>player_1_kda</th>\n      <th>player_2_combat_rating</th>\n      <th>player_2_kills_pga</th>\n      <th>...</th>\n      <th>player_11_kd</th>\n      <th>player_11_kda</th>\n      <th>player_12_combat_rating</th>\n      <th>player_12_kills_pga</th>\n      <th>player_12_assists_pga</th>\n      <th>player_12_deaths_pga</th>\n      <th>player_12_score_pga</th>\n      <th>player_12_win_ratio</th>\n      <th>player_12_kd</th>\n      <th>player_12_kda</th>\n    </tr>\n  </thead>\n  <tbody>\n    <tr>\n      <th>0</th>\n      <td>154.918285</td>\n      <td>14.597444</td>\n      <td>4.210863</td>\n      <td>10.217252</td>\n      <td>29.795527</td>\n      <td>0.501597</td>\n      <td>1.428705</td>\n      <td>1.840838</td>\n      <td>169.595771</td>\n      <td>15.483871</td>\n      <td>...</td>\n      <td>1.215391</td>\n      <td>1.537792</td>\n      <td>102.101709</td>\n      <td>7.812903</td>\n      <td>3.825806</td>\n      <td>10.064516</td>\n      <td>17.683871</td>\n      <td>0.425806</td>\n      <td>0.776282</td>\n      <td>1.156410</td>\n    </tr>\n    <tr>\n      <th>1</th>\n      <td>121.735362</td>\n      <td>11.464286</td>\n      <td>2.769793</td>\n      <td>10.471601</td>\n      <td>22.005594</td>\n      <td>0.466867</td>\n      <td>1.094798</td>\n      <td>1.359303</td>\n      <td>148.546626</td>\n      <td>11.564039</td>\n      <td>...</td>\n      <td>0.971903</td>\n      <td>1.348943</td>\n      <td>107.831604</td>\n      <td>10.505824</td>\n      <td>3.575707</td>\n      <td>10.895175</td>\n      <td>18.885191</td>\n      <td>0.434276</td>\n      <td>0.964264</td>\n      <td>1.292456</td>\n    </tr>\n    <tr>\n      <th>2</th>\n      <td>182.747287</td>\n      <td>16.055660</td>\n      <td>6.420263</td>\n      <td>10.163852</td>\n      <td>34.513446</td>\n      <td>0.484053</td>\n      <td>1.579683</td>\n      <td>2.211359</td>\n      <td>122.641862</td>\n      <td>9.546075</td>\n      <td>...</td>\n      <td>0.625475</td>\n      <td>1.081999</td>\n      <td>85.596959</td>\n      <td>4.898438</td>\n      <td>3.460938</td>\n      <td>9.592187</td>\n      <td>15.303125</td>\n      <td>0.468750</td>\n      <td>0.510669</td>\n      <td>0.871477</td>\n    </tr>\n    <tr>\n      <th>3</th>\n      <td>103.733618</td>\n      <td>7.773810</td>\n      <td>5.011905</td>\n      <td>11.011905</td>\n      <td>16.559524</td>\n      <td>0.404762</td>\n      <td>0.705946</td>\n      <td>1.161081</td>\n      <td>159.931058</td>\n      <td>13.592593</td>\n      <td>...</td>\n      <td>1.987924</td>\n      <td>2.744592</td>\n      <td>86.356314</td>\n      <td>4.855319</td>\n      <td>3.042553</td>\n      <td>11.625532</td>\n      <td>15.293617</td>\n      <td>0.455319</td>\n      <td>0.417643</td>\n      <td>0.679356</td>\n    </tr>\n    <tr>\n      <th>4</th>\n      <td>175.309352</td>\n      <td>14.604278</td>\n      <td>4.836007</td>\n      <td>10.524064</td>\n      <td>30.843137</td>\n      <td>0.508021</td>\n      <td>1.387703</td>\n      <td>1.847222</td>\n      <td>152.829824</td>\n      <td>11.286429</td>\n      <td>...</td>\n      <td>0.959855</td>\n      <td>1.325027</td>\n      <td>88.312201</td>\n      <td>5.327103</td>\n      <td>3.495327</td>\n      <td>11.009346</td>\n      <td>16.476636</td>\n      <td>0.411215</td>\n      <td>0.483871</td>\n      <td>0.801358</td>\n    </tr>\n    <tr>\n      <th>...</th>\n      <td>...</td>\n      <td>...</td>\n      <td>...</td>\n      <td>...</td>\n      <td>...</td>\n      <td>...</td>\n      <td>...</td>\n      <td>...</td>\n      <td>...</td>\n      <td>...</td>\n      <td>...</td>\n      <td>...</td>\n      <td>...</td>\n      <td>...</td>\n      <td>...</td>\n      <td>...</td>\n      <td>...</td>\n      <td>...</td>\n      <td>...</td>\n      <td>...</td>\n      <td>...</td>\n    </tr>\n    <tr>\n      <th>74470</th>\n      <td>151.835510</td>\n      <td>13.185556</td>\n      <td>3.380030</td>\n      <td>7.398956</td>\n      <td>18.242985</td>\n      <td>0.639983</td>\n      <td>1.782083</td>\n      <td>2.238909</td>\n      <td>168.818530</td>\n      <td>13.645445</td>\n      <td>...</td>\n      <td>1.191425</td>\n      <td>1.506958</td>\n      <td>115.575588</td>\n      <td>9.879747</td>\n      <td>3.510549</td>\n      <td>7.845992</td>\n      <td>20.166667</td>\n      <td>0.443038</td>\n      <td>1.259209</td>\n      <td>1.706642</td>\n    </tr>\n    <tr>\n      <th>74471</th>\n      <td>168.818530</td>\n      <td>13.645445</td>\n      <td>3.984875</td>\n      <td>9.429828</td>\n      <td>34.108688</td>\n      <td>0.543088</td>\n      <td>1.447051</td>\n      <td>1.869633</td>\n      <td>151.835510</td>\n      <td>13.185556</td>\n      <td>...</td>\n      <td>0.811721</td>\n      <td>1.185786</td>\n      <td>98.068328</td>\n      <td>8.000000</td>\n      <td>2.665044</td>\n      <td>8.201558</td>\n      <td>9.972736</td>\n      <td>0.543330</td>\n      <td>0.975424</td>\n      <td>1.300368</td>\n    </tr>\n    <tr>\n      <th>74472</th>\n      <td>125.366135</td>\n      <td>10.766718</td>\n      <td>4.420878</td>\n      <td>10.269270</td>\n      <td>17.177131</td>\n      <td>0.483665</td>\n      <td>1.048440</td>\n      <td>1.478936</td>\n      <td>67.565632</td>\n      <td>5.151515</td>\n      <td>...</td>\n      <td>1.429352</td>\n      <td>1.844141</td>\n      <td>83.093245</td>\n      <td>7.388227</td>\n      <td>2.852832</td>\n      <td>9.560730</td>\n      <td>11.857675</td>\n      <td>0.292101</td>\n      <td>0.772768</td>\n      <td>1.071159</td>\n    </tr>\n    <tr>\n      <th>74473</th>\n      <td>114.896575</td>\n      <td>11.761329</td>\n      <td>2.908071</td>\n      <td>8.903323</td>\n      <td>16.892102</td>\n      <td>0.460509</td>\n      <td>1.321004</td>\n      <td>1.647632</td>\n      <td>170.366888</td>\n      <td>15.070395</td>\n      <td>...</td>\n      <td>0.647457</td>\n      <td>0.855049</td>\n      <td>102.747137</td>\n      <td>8.598291</td>\n      <td>3.422748</td>\n      <td>8.274162</td>\n      <td>8.852728</td>\n      <td>0.491124</td>\n      <td>1.039174</td>\n      <td>1.452841</td>\n    </tr>\n    <tr>\n      <th>74474</th>\n      <td>132.792214</td>\n      <td>13.387387</td>\n      <td>3.351351</td>\n      <td>10.270270</td>\n      <td>17.468468</td>\n      <td>0.504505</td>\n      <td>1.303509</td>\n      <td>1.629825</td>\n      <td>113.730502</td>\n      <td>10.447233</td>\n      <td>...</td>\n      <td>1.227704</td>\n      <td>1.661277</td>\n      <td>96.709251</td>\n      <td>9.838095</td>\n      <td>3.577778</td>\n      <td>11.088889</td>\n      <td>15.568254</td>\n      <td>0.384127</td>\n      <td>0.887203</td>\n      <td>1.209848</td>\n    </tr>\n  </tbody>\n</table>\n<p>74475 rows × 96 columns</p>\n</div>"
     },
     "execution_count": 27,
     "metadata": {},
     "output_type": "execute_result"
    }
   ],
   "source": [
    "X = train[PLAYERS_COLUMNS]\n",
    "Y = train[\"winner\"]\n",
    "# X_train, X_test, y_train, y_test = train_test_split(X, Y, test_size=0.3, random_state=42, stratify=Y)\n",
    "X"
   ],
   "metadata": {
    "collapsed": false
   }
  },
  {
   "cell_type": "code",
   "execution_count": 19,
   "outputs": [
    {
     "data": {
      "text/plain": "        team_A_combat_rating  team_A_kills_pga  team_A_assists_pga  \\\n0                 113.060126          8.068427            3.438515   \n1                 145.938238         11.010223            3.825794   \n2                 120.329533          9.812137            3.539109   \n3                 128.721577          9.889536            3.748398   \n4                 121.834889          9.508596            3.524176   \n...                      ...               ...                 ...   \n112758            124.579855         10.542732            4.017803   \n112759            122.805618          9.363540            3.904330   \n112760            114.248576          9.585313            3.827678   \n112761            135.329443         10.794326            4.130578   \n112762            139.190939         10.202925            4.294226   \n\n        team_A_deaths_pga  team_A_score_pga  team_A_win_ratio   team_A_kd  \\\n0                9.351107         15.760801          0.434917  104.333605   \n1                8.099489         17.927997          0.531433  151.851179   \n2               10.194328         17.140939          0.390322  123.341654   \n3                9.801619         18.249298          0.481573  128.830919   \n4               10.904994         18.163205          0.473125  131.409405   \n...                   ...               ...               ...         ...   \n112758          10.803507         22.917658          0.432988  118.056240   \n112759          11.317119         24.280477          0.626596  110.968929   \n112760           9.545315         18.958146          0.409039  133.597176   \n112761           9.382815         22.181775          0.499960  139.235930   \n112762          10.493969         26.178246          0.469841  115.528703   \n\n        team_A_kda  team_B_combat_rating  team_B_kills_pga  \\\n0         7.632033              3.185438          9.173066   \n1        11.400594              3.769069          8.781801   \n2         9.614351              3.711304          9.620290   \n3        10.258719              4.036704          9.195230   \n4        10.581667              3.953761          9.004254   \n...            ...                   ...               ...   \n112758    9.332051              3.947713         11.043002   \n112759    9.029639              3.735980         10.700439   \n112760   11.543925              4.037514         10.504738   \n112761   11.316749              4.031736          9.479446   \n112762    9.665910              3.603700         10.454683   \n\n        team_B_assists_pga  team_B_deaths_pga  team_B_score_pga  \\\n0                15.045864           0.456978          0.851435   \n1                20.011913           0.538099          1.338476   \n2                18.674679           0.447699          1.003197   \n3                19.272906           0.523155          1.119120   \n4                17.860801           0.520287          1.179598   \n...                    ...                ...               ...   \n112758           20.703011           0.438001          0.843833   \n112759           19.245703           0.441516          0.844396   \n112760           22.039461           0.461644          1.147245   \n112761           21.308441           0.485789          1.237723   \n112762           19.617867           0.484351          0.947988   \n\n        team_B_win_ratio  \n0               1.211079  \n1               1.779117  \n2               1.390126  \n3               1.558877  \n4               1.617527  \n...                  ...  \n112758          1.202667  \n112759          1.197644  \n112760          1.546002  \n112761          1.681636  \n112762          1.296001  \n\n[112763 rows x 14 columns]",
      "text/html": "<div>\n<style scoped>\n    .dataframe tbody tr th:only-of-type {\n        vertical-align: middle;\n    }\n\n    .dataframe tbody tr th {\n        vertical-align: top;\n    }\n\n    .dataframe thead th {\n        text-align: right;\n    }\n</style>\n<table border=\"1\" class=\"dataframe\">\n  <thead>\n    <tr style=\"text-align: right;\">\n      <th></th>\n      <th>team_A_combat_rating</th>\n      <th>team_A_kills_pga</th>\n      <th>team_A_assists_pga</th>\n      <th>team_A_deaths_pga</th>\n      <th>team_A_score_pga</th>\n      <th>team_A_win_ratio</th>\n      <th>team_A_kd</th>\n      <th>team_A_kda</th>\n      <th>team_B_combat_rating</th>\n      <th>team_B_kills_pga</th>\n      <th>team_B_assists_pga</th>\n      <th>team_B_deaths_pga</th>\n      <th>team_B_score_pga</th>\n      <th>team_B_win_ratio</th>\n    </tr>\n  </thead>\n  <tbody>\n    <tr>\n      <th>0</th>\n      <td>113.060126</td>\n      <td>8.068427</td>\n      <td>3.438515</td>\n      <td>9.351107</td>\n      <td>15.760801</td>\n      <td>0.434917</td>\n      <td>104.333605</td>\n      <td>7.632033</td>\n      <td>3.185438</td>\n      <td>9.173066</td>\n      <td>15.045864</td>\n      <td>0.456978</td>\n      <td>0.851435</td>\n      <td>1.211079</td>\n    </tr>\n    <tr>\n      <th>1</th>\n      <td>145.938238</td>\n      <td>11.010223</td>\n      <td>3.825794</td>\n      <td>8.099489</td>\n      <td>17.927997</td>\n      <td>0.531433</td>\n      <td>151.851179</td>\n      <td>11.400594</td>\n      <td>3.769069</td>\n      <td>8.781801</td>\n      <td>20.011913</td>\n      <td>0.538099</td>\n      <td>1.338476</td>\n      <td>1.779117</td>\n    </tr>\n    <tr>\n      <th>2</th>\n      <td>120.329533</td>\n      <td>9.812137</td>\n      <td>3.539109</td>\n      <td>10.194328</td>\n      <td>17.140939</td>\n      <td>0.390322</td>\n      <td>123.341654</td>\n      <td>9.614351</td>\n      <td>3.711304</td>\n      <td>9.620290</td>\n      <td>18.674679</td>\n      <td>0.447699</td>\n      <td>1.003197</td>\n      <td>1.390126</td>\n    </tr>\n    <tr>\n      <th>3</th>\n      <td>128.721577</td>\n      <td>9.889536</td>\n      <td>3.748398</td>\n      <td>9.801619</td>\n      <td>18.249298</td>\n      <td>0.481573</td>\n      <td>128.830919</td>\n      <td>10.258719</td>\n      <td>4.036704</td>\n      <td>9.195230</td>\n      <td>19.272906</td>\n      <td>0.523155</td>\n      <td>1.119120</td>\n      <td>1.558877</td>\n    </tr>\n    <tr>\n      <th>4</th>\n      <td>121.834889</td>\n      <td>9.508596</td>\n      <td>3.524176</td>\n      <td>10.904994</td>\n      <td>18.163205</td>\n      <td>0.473125</td>\n      <td>131.409405</td>\n      <td>10.581667</td>\n      <td>3.953761</td>\n      <td>9.004254</td>\n      <td>17.860801</td>\n      <td>0.520287</td>\n      <td>1.179598</td>\n      <td>1.617527</td>\n    </tr>\n    <tr>\n      <th>...</th>\n      <td>...</td>\n      <td>...</td>\n      <td>...</td>\n      <td>...</td>\n      <td>...</td>\n      <td>...</td>\n      <td>...</td>\n      <td>...</td>\n      <td>...</td>\n      <td>...</td>\n      <td>...</td>\n      <td>...</td>\n      <td>...</td>\n      <td>...</td>\n    </tr>\n    <tr>\n      <th>112758</th>\n      <td>124.579855</td>\n      <td>10.542732</td>\n      <td>4.017803</td>\n      <td>10.803507</td>\n      <td>22.917658</td>\n      <td>0.432988</td>\n      <td>118.056240</td>\n      <td>9.332051</td>\n      <td>3.947713</td>\n      <td>11.043002</td>\n      <td>20.703011</td>\n      <td>0.438001</td>\n      <td>0.843833</td>\n      <td>1.202667</td>\n    </tr>\n    <tr>\n      <th>112759</th>\n      <td>122.805618</td>\n      <td>9.363540</td>\n      <td>3.904330</td>\n      <td>11.317119</td>\n      <td>24.280477</td>\n      <td>0.626596</td>\n      <td>110.968929</td>\n      <td>9.029639</td>\n      <td>3.735980</td>\n      <td>10.700439</td>\n      <td>19.245703</td>\n      <td>0.441516</td>\n      <td>0.844396</td>\n      <td>1.197644</td>\n    </tr>\n    <tr>\n      <th>112760</th>\n      <td>114.248576</td>\n      <td>9.585313</td>\n      <td>3.827678</td>\n      <td>9.545315</td>\n      <td>18.958146</td>\n      <td>0.409039</td>\n      <td>133.597176</td>\n      <td>11.543925</td>\n      <td>4.037514</td>\n      <td>10.504738</td>\n      <td>22.039461</td>\n      <td>0.461644</td>\n      <td>1.147245</td>\n      <td>1.546002</td>\n    </tr>\n    <tr>\n      <th>112761</th>\n      <td>135.329443</td>\n      <td>10.794326</td>\n      <td>4.130578</td>\n      <td>9.382815</td>\n      <td>22.181775</td>\n      <td>0.499960</td>\n      <td>139.235930</td>\n      <td>11.316749</td>\n      <td>4.031736</td>\n      <td>9.479446</td>\n      <td>21.308441</td>\n      <td>0.485789</td>\n      <td>1.237723</td>\n      <td>1.681636</td>\n    </tr>\n    <tr>\n      <th>112762</th>\n      <td>139.190939</td>\n      <td>10.202925</td>\n      <td>4.294226</td>\n      <td>10.493969</td>\n      <td>26.178246</td>\n      <td>0.469841</td>\n      <td>115.528703</td>\n      <td>9.665910</td>\n      <td>3.603700</td>\n      <td>10.454683</td>\n      <td>19.617867</td>\n      <td>0.484351</td>\n      <td>0.947988</td>\n      <td>1.296001</td>\n    </tr>\n  </tbody>\n</table>\n<p>112763 rows × 14 columns</p>\n</div>"
     },
     "execution_count": 19,
     "metadata": {},
     "output_type": "execute_result"
    }
   ],
   "source": [
    "# Mean of every stat per team -> Decrease performance (79% acc)\n",
    "TEAM_COLUMNS = [f\"team_A_{stat}\" for stat in STATS_NAME] + [f\"team_B_{stat}\" for stat in STATS_NAME]\n",
    "for i in range(len(STATS_NAME)):\n",
    "    col = TEAM_COLUMNS[i]\n",
    "    stat = STATS_NAME[i]\n",
    "    sel = [f\"player_{k}_{stat}\" for k in range(1, 7)]\n",
    "    X[col] = X.loc[:, sel].mean(axis=1)\n",
    "for i in range(len(STATS_NAME)):\n",
    "    col = TEAM_COLUMNS[i+6]\n",
    "    stat = STATS_NAME[i]\n",
    "    sel = [f\"player_{k}_{stat}\" for k in range(7, 13)]\n",
    "    X[col] = X.loc[:, sel].mean(axis=1)\n",
    "X.drop(columns=PLAYERS_COLUMNS, inplace=True)\n",
    "X"
   ],
   "metadata": {
    "collapsed": false
   }
  },
  {
   "cell_type": "code",
   "execution_count": 22,
   "outputs": [
    {
     "name": "stdout",
     "output_type": "stream",
     "text": [
      "Mean acc = 0.7821262006777389, Std acc = 0.06417286907833572\n"
     ]
    },
    {
     "data": {
      "text/plain": "Pipeline(steps=[('standardscaler', StandardScaler()), ('svc', SVC())])"
     },
     "execution_count": 22,
     "metadata": {},
     "output_type": "execute_result"
    }
   ],
   "source": [
    "pipeline = make_pipeline(StandardScaler(), SVC())\n",
    "acc_scores = cross_val_score(pipeline, X, Y, cv=4, scoring=\"accuracy\", n_jobs=-1)\n",
    "print(f\"Mean acc = {acc_scores.mean()}, Std acc = {acc_scores.std()}\")\n",
    "pipeline"
   ],
   "metadata": {
    "collapsed": false
   }
  },
  {
   "cell_type": "code",
   "execution_count": 23,
   "outputs": [
    {
     "name": "stdout",
     "output_type": "stream",
     "text": [
      "Mean acc = 0.7168123494715248, Std acc = 0.05309508461203796\n",
      "Pipeline(steps=[('standardscaler', StandardScaler()),\n",
      "                ('randomforestclassifier', RandomForestClassifier())])\n"
     ]
    }
   ],
   "source": [
    "pipeline = make_pipeline(StandardScaler(), RandomForestClassifier())\n",
    "acc_scores = cross_val_score(pipeline, X, Y, cv=4, scoring=\"accuracy\", n_jobs=-1)\n",
    "print(f\"Mean acc = {acc_scores.mean()}, Std acc = {acc_scores.std()}\")\n",
    "print(pipeline)"
   ],
   "metadata": {
    "collapsed": false
   }
  },
  {
   "cell_type": "code",
   "execution_count": 124,
   "outputs": [
    {
     "name": "stderr",
     "output_type": "stream",
     "text": [
      "D:\\GameDev\\ThesisPy\\venv\\lib\\site-packages\\sklearn\\utils\\validation.py:1688: FutureWarning: Feature names only support names that are all strings. Got feature names with dtypes: ['str_']. An error will be raised in 1.2.\n",
      "  warnings.warn(\n"
     ]
    },
    {
     "data": {
      "text/plain": "                  value\ndeaths_pga     0.093478\nassists_pga    0.084786\nkills_pga      0.082987\nscore_pga      0.082340\nwin_ratio      0.082321\ncombat_rating  0.081257",
      "text/html": "<div>\n<style scoped>\n    .dataframe tbody tr th:only-of-type {\n        vertical-align: middle;\n    }\n\n    .dataframe tbody tr th {\n        vertical-align: top;\n    }\n\n    .dataframe thead th {\n        text-align: right;\n    }\n</style>\n<table border=\"1\" class=\"dataframe\">\n  <thead>\n    <tr style=\"text-align: right;\">\n      <th></th>\n      <th>value</th>\n    </tr>\n  </thead>\n  <tbody>\n    <tr>\n      <th>deaths_pga</th>\n      <td>0.093478</td>\n    </tr>\n    <tr>\n      <th>assists_pga</th>\n      <td>0.084786</td>\n    </tr>\n    <tr>\n      <th>kills_pga</th>\n      <td>0.082987</td>\n    </tr>\n    <tr>\n      <th>score_pga</th>\n      <td>0.082340</td>\n    </tr>\n    <tr>\n      <th>win_ratio</th>\n      <td>0.082321</td>\n    </tr>\n    <tr>\n      <th>combat_rating</th>\n      <td>0.081257</td>\n    </tr>\n  </tbody>\n</table>\n</div>"
     },
     "execution_count": 124,
     "metadata": {},
     "output_type": "execute_result"
    }
   ],
   "source": [
    "forest = RandomForestClassifier()\n",
    "forest.fit(X, Y)\n",
    "importances = {\n",
    "    \"combat_rating\": forest.feature_importances_[[i for i in range(0, 12*N_STATS, N_STATS)]].sum(),\n",
    "    \"kills_pga\": forest.feature_importances_[[i for i in range(1, 12*N_STATS, N_STATS)]].sum(),\n",
    "    \"assists_pga\": forest.feature_importances_[[i for i in range(2, 12*N_STATS, N_STATS)]].sum(),\n",
    "    \"deaths_pga\": forest.feature_importances_[[i for i in range(3, 12*N_STATS, N_STATS)]].sum(),\n",
    "    \"score_pga\": forest.feature_importances_[[i for i in range(4, 12*N_STATS, N_STATS)]].sum(),\n",
    "    \"win_ratio\": forest.feature_importances_[[i for i in range(5, 12*N_STATS, N_STATS)]].sum()\n",
    "}\n",
    "pd.DataFrame([v for v in importances.values()], index=[k for k in importances], columns=[\"value\"]).sort_values(by=[\"value\"], ascending=False)"
   ],
   "metadata": {
    "collapsed": false
   }
  },
  {
   "cell_type": "code",
   "execution_count": 28,
   "outputs": [
    {
     "name": "stdout",
     "output_type": "stream",
     "text": [
      "Accuracy: 0.7892404780020588\n",
      "F1-score: 0.7922530551021308\n",
      "[[8655 2516]\n",
      " [2193 8979]]\n",
      "<catboost.core.CatBoostClassifier object at 0x000002670D3B62B0>\n",
      "Mean proba for each section of the confusion matrix:\n",
      "[[0.80647651 0.66993496]\n",
      " [0.66332882 0.79536047]]\n"
     ]
    }
   ],
   "source": [
    "X_train, X_test, y_train, y_test = train_test_split(X, Y, test_size=0.3, random_state=42, stratify=Y)\n",
    "\n",
    "clf = CatBoostClassifier(verbose=False)\n",
    "clf.fit(X_train, y_train)\n",
    "\n",
    "y_pred = clf.predict(X_test)\n",
    "print(\"Accuracy:\", accuracy_score(y_test, y_pred))\n",
    "print(\"F1-score:\", f1_score(y_test, y_pred))\n",
    "print(confusion_matrix(y_test, y_pred))\n",
    "print(clf)\n",
    "\n",
    "probs = clf.predict_proba(X_test).max(axis=1)\n",
    "confusion_matrix_mean_prob = np.array([[probs[np.where((y_test == y_pred) & (y_test == 0))].mean(), probs[np.where((y_pred == 1) & (y_test == 0))].mean()],\n",
    "                                       [probs[np.where((y_pred == 0) & (y_test == 1))].mean(), probs[np.where((y_test == y_pred) & (y_test == 1))].mean()]])\n",
    "print(\"Mean proba for each section of the confusion matrix:\")\n",
    "print(confusion_matrix_mean_prob)"
   ],
   "metadata": {
    "collapsed": false
   }
  },
  {
   "cell_type": "code",
   "execution_count": 29,
   "outputs": [],
   "source": [
    "clf.save_model(\"model_quickplay.json\", format=\"json\")"
   ],
   "metadata": {
    "collapsed": false
   }
  },
  {
   "cell_type": "markdown",
   "source": [
    "# Test on competitive (3v3)\n",
    "Result: need 2 models, one for quickplay (6v6) and one for competitive (at least for osiris) (3v3)"
   ],
   "metadata": {
    "collapsed": false
   }
  },
  {
   "cell_type": "code",
   "execution_count": 31,
   "outputs": [
    {
     "data": {
      "text/plain": "       instance_id                period  mode  is_private  win_score  \\\n0       9868826934  2022-01-01T00:01:15Z    84           0          5   \n1       9868851944  2022-01-01T00:08:20Z    84           0          5   \n2       9868863696  2022-01-01T00:11:17Z    84           0          5   \n3       9868888247  2022-01-01T00:16:11Z    84           0          5   \n4       9868894831  2022-01-01T00:18:44Z    84           0          5   \n...            ...                   ...   ...         ...        ...   \n25032  11968655176  2022-11-25T23:01:08Z    84           0          5   \n25033  11968667869  2022-11-25T23:08:27Z    84           0          5   \n25034  11968684496  2022-11-25T23:13:47Z    84           0          5   \n25035  11968711243  2022-11-25T23:24:12Z    84           0          5   \n25036  11968726555  2022-11-25T23:30:43Z    84           0          5   \n\n       loss_score                                            players  \n0               3  [{\"membership_id\": \"4611686018429273020\", \"mem...  \n1               2  [{\"membership_id\": \"4611686018485879325\", \"mem...  \n2               1  [{\"membership_id\": \"4611686018430058840\", \"mem...  \n3               2  [{\"membership_id\": \"4611686018431697058\", \"mem...  \n4               0  [{\"membership_id\": \"4611686018428440611\", \"mem...  \n...           ...                                                ...  \n25032           2  [{\"membership_id\": \"4611686018429021853\", \"mem...  \n25033           0  [{\"membership_id\": \"4611686018428638688\", \"mem...  \n25034           2  [{\"membership_id\": \"4611686018428423357\", \"mem...  \n25035           0  [{\"membership_id\": \"4611686018456907962\", \"mem...  \n25036           0  [{\"membership_id\": \"4611686018452635660\", \"mem...  \n\n[25037 rows x 7 columns]",
      "text/html": "<div>\n<style scoped>\n    .dataframe tbody tr th:only-of-type {\n        vertical-align: middle;\n    }\n\n    .dataframe tbody tr th {\n        vertical-align: top;\n    }\n\n    .dataframe thead th {\n        text-align: right;\n    }\n</style>\n<table border=\"1\" class=\"dataframe\">\n  <thead>\n    <tr style=\"text-align: right;\">\n      <th></th>\n      <th>instance_id</th>\n      <th>period</th>\n      <th>mode</th>\n      <th>is_private</th>\n      <th>win_score</th>\n      <th>loss_score</th>\n      <th>players</th>\n    </tr>\n  </thead>\n  <tbody>\n    <tr>\n      <th>0</th>\n      <td>9868826934</td>\n      <td>2022-01-01T00:01:15Z</td>\n      <td>84</td>\n      <td>0</td>\n      <td>5</td>\n      <td>3</td>\n      <td>[{\"membership_id\": \"4611686018429273020\", \"mem...</td>\n    </tr>\n    <tr>\n      <th>1</th>\n      <td>9868851944</td>\n      <td>2022-01-01T00:08:20Z</td>\n      <td>84</td>\n      <td>0</td>\n      <td>5</td>\n      <td>2</td>\n      <td>[{\"membership_id\": \"4611686018485879325\", \"mem...</td>\n    </tr>\n    <tr>\n      <th>2</th>\n      <td>9868863696</td>\n      <td>2022-01-01T00:11:17Z</td>\n      <td>84</td>\n      <td>0</td>\n      <td>5</td>\n      <td>1</td>\n      <td>[{\"membership_id\": \"4611686018430058840\", \"mem...</td>\n    </tr>\n    <tr>\n      <th>3</th>\n      <td>9868888247</td>\n      <td>2022-01-01T00:16:11Z</td>\n      <td>84</td>\n      <td>0</td>\n      <td>5</td>\n      <td>2</td>\n      <td>[{\"membership_id\": \"4611686018431697058\", \"mem...</td>\n    </tr>\n    <tr>\n      <th>4</th>\n      <td>9868894831</td>\n      <td>2022-01-01T00:18:44Z</td>\n      <td>84</td>\n      <td>0</td>\n      <td>5</td>\n      <td>0</td>\n      <td>[{\"membership_id\": \"4611686018428440611\", \"mem...</td>\n    </tr>\n    <tr>\n      <th>...</th>\n      <td>...</td>\n      <td>...</td>\n      <td>...</td>\n      <td>...</td>\n      <td>...</td>\n      <td>...</td>\n      <td>...</td>\n    </tr>\n    <tr>\n      <th>25032</th>\n      <td>11968655176</td>\n      <td>2022-11-25T23:01:08Z</td>\n      <td>84</td>\n      <td>0</td>\n      <td>5</td>\n      <td>2</td>\n      <td>[{\"membership_id\": \"4611686018429021853\", \"mem...</td>\n    </tr>\n    <tr>\n      <th>25033</th>\n      <td>11968667869</td>\n      <td>2022-11-25T23:08:27Z</td>\n      <td>84</td>\n      <td>0</td>\n      <td>5</td>\n      <td>0</td>\n      <td>[{\"membership_id\": \"4611686018428638688\", \"mem...</td>\n    </tr>\n    <tr>\n      <th>25034</th>\n      <td>11968684496</td>\n      <td>2022-11-25T23:13:47Z</td>\n      <td>84</td>\n      <td>0</td>\n      <td>5</td>\n      <td>2</td>\n      <td>[{\"membership_id\": \"4611686018428423357\", \"mem...</td>\n    </tr>\n    <tr>\n      <th>25035</th>\n      <td>11968711243</td>\n      <td>2022-11-25T23:24:12Z</td>\n      <td>84</td>\n      <td>0</td>\n      <td>5</td>\n      <td>0</td>\n      <td>[{\"membership_id\": \"4611686018456907962\", \"mem...</td>\n    </tr>\n    <tr>\n      <th>25036</th>\n      <td>11968726555</td>\n      <td>2022-11-25T23:30:43Z</td>\n      <td>84</td>\n      <td>0</td>\n      <td>5</td>\n      <td>0</td>\n      <td>[{\"membership_id\": \"4611686018452635660\", \"mem...</td>\n    </tr>\n  </tbody>\n</table>\n<p>25037 rows × 7 columns</p>\n</div>"
     },
     "execution_count": 31,
     "metadata": {},
     "output_type": "execute_result"
    }
   ],
   "source": [
    "# Get activities\n",
    "request = \"SELECT * FROM main.activity WHERE activity.mode=84\"\n",
    "r = db_helper.execute(request, [])\n",
    "activities = pd.DataFrame(data=[dict(row) for row in r])\n",
    "activities"
   ],
   "metadata": {
    "collapsed": false
   }
  },
  {
   "cell_type": "code",
   "execution_count": 32,
   "outputs": [],
   "source": [
    "t = activities.players.apply(extract_players_stats)\n",
    "stack2 = np.stack(t, axis=0)\n",
    "stack2 = np.reshape(stack2, (len(stack2), 12 * N_STATS))"
   ],
   "metadata": {
    "collapsed": false
   }
  },
  {
   "cell_type": "code",
   "execution_count": 51,
   "outputs": [
    {
     "data": {
      "text/plain": "       player_1_combat_rating  player_1_kills_pga  player_1_assists_pga  \\\n0                  130.110954           11.506887              3.008264   \n1                  193.190578           18.354146              5.396098   \n2                  111.135054            6.916300              3.687225   \n3                  126.847280           13.431384              3.364454   \n4                  159.039104           14.026588              3.694239   \n...                       ...                 ...                   ...   \n25032              150.178377           12.552256              4.720973   \n25033              149.463505           11.095960              5.419192   \n25034              198.235609           17.878617              4.018414   \n25035              156.639293           11.218408              2.836142   \n25036              192.786751           15.334412              3.106943   \n\n       player_1_deaths_pga  player_1_score_pga  player_1_win_ratio  \\\n0                 9.904500           10.358127            0.474747   \n1                10.070244           32.717073            0.520976   \n2                 9.810573           18.356828            0.458150   \n3                 8.537120           13.847582            0.510124   \n4                11.502216           28.506647            0.500739   \n...                    ...                 ...                 ...   \n25032             8.864941           22.594400            0.575166   \n25033            13.058081           24.146465            0.424242   \n25034             8.514656           34.931229            0.588876   \n25035             6.241997           15.604044            0.655855   \n25036             7.030406           15.669865            0.707787   \n\n       player_1_kd  player_1_kda  player_2_combat_rating  player_2_kills_pga  \\\n0         1.161784      1.465511              146.102935           11.198822   \n1         1.822612      2.358458              140.919078           11.837428   \n2         0.704984      1.080826              127.620833           10.906051   \n3         1.573292      1.967389              177.763064           19.648368   \n4         1.219468      1.540645              127.620833           10.906051   \n...            ...           ...                     ...                 ...   \n25032     1.415943      1.948488                0.000000            6.000000   \n25033     0.849739      1.264746              137.492195           10.796270   \n25034     2.099746      2.571687              158.247174           14.123250   \n25035     1.797247      2.251611              150.178377           12.552256   \n25036     2.181156      2.623085              150.178377           12.552256   \n\n       ...  player_11_kda  player_12_combat_rating  player_12_kills_pga  \\\n0      ...            0.0                      0.0                  0.0   \n1      ...            0.0                      0.0                  0.0   \n2      ...            0.0                      0.0                  0.0   \n3      ...            0.0                      0.0                  0.0   \n4      ...            0.0                      0.0                  0.0   \n...    ...            ...                      ...                  ...   \n25032  ...            0.0                      0.0                  0.0   \n25033  ...            0.0                      0.0                  0.0   \n25034  ...            0.0                      0.0                  0.0   \n25035  ...            0.0                      0.0                  0.0   \n25036  ...            0.0                      0.0                  0.0   \n\n       player_12_assists_pga  player_12_deaths_pga  player_12_score_pga  \\\n0                        0.0                   0.0                  0.0   \n1                        0.0                   0.0                  0.0   \n2                        0.0                   0.0                  0.0   \n3                        0.0                   0.0                  0.0   \n4                        0.0                   0.0                  0.0   \n...                      ...                   ...                  ...   \n25032                    0.0                   0.0                  0.0   \n25033                    0.0                   0.0                  0.0   \n25034                    0.0                   0.0                  0.0   \n25035                    0.0                   0.0                  0.0   \n25036                    0.0                   0.0                  0.0   \n\n       player_12_win_ratio  player_12_kd  player_12_kda  winner  \n0                      0.0           0.0            0.0     0.0  \n1                      0.0           0.0            0.0     0.0  \n2                      0.0           0.0            0.0     0.0  \n3                      0.0           0.0            0.0     0.0  \n4                      0.0           0.0            0.0     0.0  \n...                    ...           ...            ...     ...  \n25032                  0.0           0.0            0.0     0.0  \n25033                  0.0           0.0            0.0     0.0  \n25034                  0.0           0.0            0.0     0.0  \n25035                  0.0           0.0            0.0     0.0  \n25036                  0.0           0.0            0.0     0.0  \n\n[25037 rows x 97 columns]",
      "text/html": "<div>\n<style scoped>\n    .dataframe tbody tr th:only-of-type {\n        vertical-align: middle;\n    }\n\n    .dataframe tbody tr th {\n        vertical-align: top;\n    }\n\n    .dataframe thead th {\n        text-align: right;\n    }\n</style>\n<table border=\"1\" class=\"dataframe\">\n  <thead>\n    <tr style=\"text-align: right;\">\n      <th></th>\n      <th>player_1_combat_rating</th>\n      <th>player_1_kills_pga</th>\n      <th>player_1_assists_pga</th>\n      <th>player_1_deaths_pga</th>\n      <th>player_1_score_pga</th>\n      <th>player_1_win_ratio</th>\n      <th>player_1_kd</th>\n      <th>player_1_kda</th>\n      <th>player_2_combat_rating</th>\n      <th>player_2_kills_pga</th>\n      <th>...</th>\n      <th>player_11_kda</th>\n      <th>player_12_combat_rating</th>\n      <th>player_12_kills_pga</th>\n      <th>player_12_assists_pga</th>\n      <th>player_12_deaths_pga</th>\n      <th>player_12_score_pga</th>\n      <th>player_12_win_ratio</th>\n      <th>player_12_kd</th>\n      <th>player_12_kda</th>\n      <th>winner</th>\n    </tr>\n  </thead>\n  <tbody>\n    <tr>\n      <th>0</th>\n      <td>130.110954</td>\n      <td>11.506887</td>\n      <td>3.008264</td>\n      <td>9.904500</td>\n      <td>10.358127</td>\n      <td>0.474747</td>\n      <td>1.161784</td>\n      <td>1.465511</td>\n      <td>146.102935</td>\n      <td>11.198822</td>\n      <td>...</td>\n      <td>0.0</td>\n      <td>0.0</td>\n      <td>0.0</td>\n      <td>0.0</td>\n      <td>0.0</td>\n      <td>0.0</td>\n      <td>0.0</td>\n      <td>0.0</td>\n      <td>0.0</td>\n      <td>0.0</td>\n    </tr>\n    <tr>\n      <th>1</th>\n      <td>193.190578</td>\n      <td>18.354146</td>\n      <td>5.396098</td>\n      <td>10.070244</td>\n      <td>32.717073</td>\n      <td>0.520976</td>\n      <td>1.822612</td>\n      <td>2.358458</td>\n      <td>140.919078</td>\n      <td>11.837428</td>\n      <td>...</td>\n      <td>0.0</td>\n      <td>0.0</td>\n      <td>0.0</td>\n      <td>0.0</td>\n      <td>0.0</td>\n      <td>0.0</td>\n      <td>0.0</td>\n      <td>0.0</td>\n      <td>0.0</td>\n      <td>0.0</td>\n    </tr>\n    <tr>\n      <th>2</th>\n      <td>111.135054</td>\n      <td>6.916300</td>\n      <td>3.687225</td>\n      <td>9.810573</td>\n      <td>18.356828</td>\n      <td>0.458150</td>\n      <td>0.704984</td>\n      <td>1.080826</td>\n      <td>127.620833</td>\n      <td>10.906051</td>\n      <td>...</td>\n      <td>0.0</td>\n      <td>0.0</td>\n      <td>0.0</td>\n      <td>0.0</td>\n      <td>0.0</td>\n      <td>0.0</td>\n      <td>0.0</td>\n      <td>0.0</td>\n      <td>0.0</td>\n      <td>0.0</td>\n    </tr>\n    <tr>\n      <th>3</th>\n      <td>126.847280</td>\n      <td>13.431384</td>\n      <td>3.364454</td>\n      <td>8.537120</td>\n      <td>13.847582</td>\n      <td>0.510124</td>\n      <td>1.573292</td>\n      <td>1.967389</td>\n      <td>177.763064</td>\n      <td>19.648368</td>\n      <td>...</td>\n      <td>0.0</td>\n      <td>0.0</td>\n      <td>0.0</td>\n      <td>0.0</td>\n      <td>0.0</td>\n      <td>0.0</td>\n      <td>0.0</td>\n      <td>0.0</td>\n      <td>0.0</td>\n      <td>0.0</td>\n    </tr>\n    <tr>\n      <th>4</th>\n      <td>159.039104</td>\n      <td>14.026588</td>\n      <td>3.694239</td>\n      <td>11.502216</td>\n      <td>28.506647</td>\n      <td>0.500739</td>\n      <td>1.219468</td>\n      <td>1.540645</td>\n      <td>127.620833</td>\n      <td>10.906051</td>\n      <td>...</td>\n      <td>0.0</td>\n      <td>0.0</td>\n      <td>0.0</td>\n      <td>0.0</td>\n      <td>0.0</td>\n      <td>0.0</td>\n      <td>0.0</td>\n      <td>0.0</td>\n      <td>0.0</td>\n      <td>0.0</td>\n    </tr>\n    <tr>\n      <th>...</th>\n      <td>...</td>\n      <td>...</td>\n      <td>...</td>\n      <td>...</td>\n      <td>...</td>\n      <td>...</td>\n      <td>...</td>\n      <td>...</td>\n      <td>...</td>\n      <td>...</td>\n      <td>...</td>\n      <td>...</td>\n      <td>...</td>\n      <td>...</td>\n      <td>...</td>\n      <td>...</td>\n      <td>...</td>\n      <td>...</td>\n      <td>...</td>\n      <td>...</td>\n      <td>...</td>\n    </tr>\n    <tr>\n      <th>25032</th>\n      <td>150.178377</td>\n      <td>12.552256</td>\n      <td>4.720973</td>\n      <td>8.864941</td>\n      <td>22.594400</td>\n      <td>0.575166</td>\n      <td>1.415943</td>\n      <td>1.948488</td>\n      <td>0.000000</td>\n      <td>6.000000</td>\n      <td>...</td>\n      <td>0.0</td>\n      <td>0.0</td>\n      <td>0.0</td>\n      <td>0.0</td>\n      <td>0.0</td>\n      <td>0.0</td>\n      <td>0.0</td>\n      <td>0.0</td>\n      <td>0.0</td>\n      <td>0.0</td>\n    </tr>\n    <tr>\n      <th>25033</th>\n      <td>149.463505</td>\n      <td>11.095960</td>\n      <td>5.419192</td>\n      <td>13.058081</td>\n      <td>24.146465</td>\n      <td>0.424242</td>\n      <td>0.849739</td>\n      <td>1.264746</td>\n      <td>137.492195</td>\n      <td>10.796270</td>\n      <td>...</td>\n      <td>0.0</td>\n      <td>0.0</td>\n      <td>0.0</td>\n      <td>0.0</td>\n      <td>0.0</td>\n      <td>0.0</td>\n      <td>0.0</td>\n      <td>0.0</td>\n      <td>0.0</td>\n      <td>0.0</td>\n    </tr>\n    <tr>\n      <th>25034</th>\n      <td>198.235609</td>\n      <td>17.878617</td>\n      <td>4.018414</td>\n      <td>8.514656</td>\n      <td>34.931229</td>\n      <td>0.588876</td>\n      <td>2.099746</td>\n      <td>2.571687</td>\n      <td>158.247174</td>\n      <td>14.123250</td>\n      <td>...</td>\n      <td>0.0</td>\n      <td>0.0</td>\n      <td>0.0</td>\n      <td>0.0</td>\n      <td>0.0</td>\n      <td>0.0</td>\n      <td>0.0</td>\n      <td>0.0</td>\n      <td>0.0</td>\n      <td>0.0</td>\n    </tr>\n    <tr>\n      <th>25035</th>\n      <td>156.639293</td>\n      <td>11.218408</td>\n      <td>2.836142</td>\n      <td>6.241997</td>\n      <td>15.604044</td>\n      <td>0.655855</td>\n      <td>1.797247</td>\n      <td>2.251611</td>\n      <td>150.178377</td>\n      <td>12.552256</td>\n      <td>...</td>\n      <td>0.0</td>\n      <td>0.0</td>\n      <td>0.0</td>\n      <td>0.0</td>\n      <td>0.0</td>\n      <td>0.0</td>\n      <td>0.0</td>\n      <td>0.0</td>\n      <td>0.0</td>\n      <td>0.0</td>\n    </tr>\n    <tr>\n      <th>25036</th>\n      <td>192.786751</td>\n      <td>15.334412</td>\n      <td>3.106943</td>\n      <td>7.030406</td>\n      <td>15.669865</td>\n      <td>0.707787</td>\n      <td>2.181156</td>\n      <td>2.623085</td>\n      <td>150.178377</td>\n      <td>12.552256</td>\n      <td>...</td>\n      <td>0.0</td>\n      <td>0.0</td>\n      <td>0.0</td>\n      <td>0.0</td>\n      <td>0.0</td>\n      <td>0.0</td>\n      <td>0.0</td>\n      <td>0.0</td>\n      <td>0.0</td>\n      <td>0.0</td>\n    </tr>\n  </tbody>\n</table>\n<p>25037 rows × 97 columns</p>\n</div>"
     },
     "execution_count": 51,
     "metadata": {},
     "output_type": "execute_result"
    }
   ],
   "source": [
    "train_comp = pd.DataFrame()\n",
    "train_comp[PLAYERS_COLUMNS] = pd.DataFrame(stack2, columns=PLAYERS_COLUMNS)\n",
    "train_comp[\"winner\"] = np.zeros(len(train_comp))\n",
    "train_comp"
   ],
   "metadata": {
    "collapsed": false
   }
  },
  {
   "cell_type": "code",
   "execution_count": 52,
   "outputs": [
    {
     "data": {
      "text/plain": "       player_1_combat_rating  player_1_kills_pga  player_1_assists_pga  \\\n0                   95.910761            9.209150              2.389978   \n1                  106.892533            8.507407              3.366667   \n2                   87.947342            7.654267              2.757112   \n3                  135.327363           11.603383              4.292293   \n4                  158.041529           13.086037              4.587512   \n...                       ...                 ...                   ...   \n25032              110.368156            9.432633              3.193655   \n25033               64.684944            6.666667              3.331267   \n25034              131.981020            9.013680              2.911739   \n25035              185.031909           16.884868              5.029605   \n25036              132.783873            9.683049              3.681043   \n\n       player_1_deaths_pga  player_1_score_pga  player_1_win_ratio  \\\n0                10.235294           13.435730            0.444444   \n1                 8.718519            7.781481            0.603704   \n2                 8.048140           17.010941            0.498906   \n3                 8.535714           23.344925            0.411654   \n4                 9.130285           25.128810            0.568338   \n...                    ...                 ...                 ...   \n25032             9.671611           12.336218            0.500206   \n25033            10.447658           10.758264            0.457300   \n25034             7.484996           13.619594            0.648720   \n25035             9.552632           28.309211            0.648026   \n25036             5.883651           12.254764            0.636911   \n\n       player_1_kd  player_1_kda  player_2_combat_rating  player_2_kills_pga  \\\n0         0.899745      1.133248              113.134274            9.086331   \n1         0.975786      1.361937              114.584205           10.938983   \n2         0.951060      1.293638              141.391354           12.434084   \n3         1.359392      1.862255              111.799705           12.456746   \n4         1.433256      1.935706              183.626286           10.580054   \n...            ...           ...                     ...                 ...   \n25032     0.975291      1.305500               99.064171            9.226101   \n25033     0.638102      0.956955              132.285745           12.422655   \n25034     1.204233      1.593243              134.112921           10.735471   \n25035     1.767562      2.294077              150.178377           12.552256   \n25036     1.645755      2.271394              147.613884           13.149254   \n\n       ...  player_11_kda  player_12_combat_rating  player_12_kills_pga  \\\n0      ...            0.0                      0.0                  0.0   \n1      ...            0.0                      0.0                  0.0   \n2      ...            0.0                      0.0                  0.0   \n3      ...            0.0                      0.0                  0.0   \n4      ...            0.0                      0.0                  0.0   \n...    ...            ...                      ...                  ...   \n25032  ...            0.0                      0.0                  0.0   \n25033  ...            0.0                      0.0                  0.0   \n25034  ...            0.0                      0.0                  0.0   \n25035  ...            0.0                      0.0                  0.0   \n25036  ...            0.0                      0.0                  0.0   \n\n       player_12_assists_pga  player_12_deaths_pga  player_12_score_pga  \\\n0                        0.0                   0.0                  0.0   \n1                        0.0                   0.0                  0.0   \n2                        0.0                   0.0                  0.0   \n3                        0.0                   0.0                  0.0   \n4                        0.0                   0.0                  0.0   \n...                      ...                   ...                  ...   \n25032                    0.0                   0.0                  0.0   \n25033                    0.0                   0.0                  0.0   \n25034                    0.0                   0.0                  0.0   \n25035                    0.0                   0.0                  0.0   \n25036                    0.0                   0.0                  0.0   \n\n       player_12_win_ratio  player_12_kd  player_12_kda  winner  \n0                      0.0           0.0            0.0     1.0  \n1                      0.0           0.0            0.0     1.0  \n2                      0.0           0.0            0.0     0.0  \n3                      0.0           0.0            0.0     1.0  \n4                      0.0           0.0            0.0     1.0  \n...                    ...           ...            ...     ...  \n25032                  0.0           0.0            0.0     1.0  \n25033                  0.0           0.0            0.0     1.0  \n25034                  0.0           0.0            0.0     0.0  \n25035                  0.0           0.0            0.0     0.0  \n25036                  0.0           0.0            0.0     0.0  \n\n[25037 rows x 97 columns]",
      "text/html": "<div>\n<style scoped>\n    .dataframe tbody tr th:only-of-type {\n        vertical-align: middle;\n    }\n\n    .dataframe tbody tr th {\n        vertical-align: top;\n    }\n\n    .dataframe thead th {\n        text-align: right;\n    }\n</style>\n<table border=\"1\" class=\"dataframe\">\n  <thead>\n    <tr style=\"text-align: right;\">\n      <th></th>\n      <th>player_1_combat_rating</th>\n      <th>player_1_kills_pga</th>\n      <th>player_1_assists_pga</th>\n      <th>player_1_deaths_pga</th>\n      <th>player_1_score_pga</th>\n      <th>player_1_win_ratio</th>\n      <th>player_1_kd</th>\n      <th>player_1_kda</th>\n      <th>player_2_combat_rating</th>\n      <th>player_2_kills_pga</th>\n      <th>...</th>\n      <th>player_11_kda</th>\n      <th>player_12_combat_rating</th>\n      <th>player_12_kills_pga</th>\n      <th>player_12_assists_pga</th>\n      <th>player_12_deaths_pga</th>\n      <th>player_12_score_pga</th>\n      <th>player_12_win_ratio</th>\n      <th>player_12_kd</th>\n      <th>player_12_kda</th>\n      <th>winner</th>\n    </tr>\n  </thead>\n  <tbody>\n    <tr>\n      <th>0</th>\n      <td>95.910761</td>\n      <td>9.209150</td>\n      <td>2.389978</td>\n      <td>10.235294</td>\n      <td>13.435730</td>\n      <td>0.444444</td>\n      <td>0.899745</td>\n      <td>1.133248</td>\n      <td>113.134274</td>\n      <td>9.086331</td>\n      <td>...</td>\n      <td>0.0</td>\n      <td>0.0</td>\n      <td>0.0</td>\n      <td>0.0</td>\n      <td>0.0</td>\n      <td>0.0</td>\n      <td>0.0</td>\n      <td>0.0</td>\n      <td>0.0</td>\n      <td>1.0</td>\n    </tr>\n    <tr>\n      <th>1</th>\n      <td>106.892533</td>\n      <td>8.507407</td>\n      <td>3.366667</td>\n      <td>8.718519</td>\n      <td>7.781481</td>\n      <td>0.603704</td>\n      <td>0.975786</td>\n      <td>1.361937</td>\n      <td>114.584205</td>\n      <td>10.938983</td>\n      <td>...</td>\n      <td>0.0</td>\n      <td>0.0</td>\n      <td>0.0</td>\n      <td>0.0</td>\n      <td>0.0</td>\n      <td>0.0</td>\n      <td>0.0</td>\n      <td>0.0</td>\n      <td>0.0</td>\n      <td>1.0</td>\n    </tr>\n    <tr>\n      <th>2</th>\n      <td>87.947342</td>\n      <td>7.654267</td>\n      <td>2.757112</td>\n      <td>8.048140</td>\n      <td>17.010941</td>\n      <td>0.498906</td>\n      <td>0.951060</td>\n      <td>1.293638</td>\n      <td>141.391354</td>\n      <td>12.434084</td>\n      <td>...</td>\n      <td>0.0</td>\n      <td>0.0</td>\n      <td>0.0</td>\n      <td>0.0</td>\n      <td>0.0</td>\n      <td>0.0</td>\n      <td>0.0</td>\n      <td>0.0</td>\n      <td>0.0</td>\n      <td>0.0</td>\n    </tr>\n    <tr>\n      <th>3</th>\n      <td>135.327363</td>\n      <td>11.603383</td>\n      <td>4.292293</td>\n      <td>8.535714</td>\n      <td>23.344925</td>\n      <td>0.411654</td>\n      <td>1.359392</td>\n      <td>1.862255</td>\n      <td>111.799705</td>\n      <td>12.456746</td>\n      <td>...</td>\n      <td>0.0</td>\n      <td>0.0</td>\n      <td>0.0</td>\n      <td>0.0</td>\n      <td>0.0</td>\n      <td>0.0</td>\n      <td>0.0</td>\n      <td>0.0</td>\n      <td>0.0</td>\n      <td>1.0</td>\n    </tr>\n    <tr>\n      <th>4</th>\n      <td>158.041529</td>\n      <td>13.086037</td>\n      <td>4.587512</td>\n      <td>9.130285</td>\n      <td>25.128810</td>\n      <td>0.568338</td>\n      <td>1.433256</td>\n      <td>1.935706</td>\n      <td>183.626286</td>\n      <td>10.580054</td>\n      <td>...</td>\n      <td>0.0</td>\n      <td>0.0</td>\n      <td>0.0</td>\n      <td>0.0</td>\n      <td>0.0</td>\n      <td>0.0</td>\n      <td>0.0</td>\n      <td>0.0</td>\n      <td>0.0</td>\n      <td>1.0</td>\n    </tr>\n    <tr>\n      <th>...</th>\n      <td>...</td>\n      <td>...</td>\n      <td>...</td>\n      <td>...</td>\n      <td>...</td>\n      <td>...</td>\n      <td>...</td>\n      <td>...</td>\n      <td>...</td>\n      <td>...</td>\n      <td>...</td>\n      <td>...</td>\n      <td>...</td>\n      <td>...</td>\n      <td>...</td>\n      <td>...</td>\n      <td>...</td>\n      <td>...</td>\n      <td>...</td>\n      <td>...</td>\n      <td>...</td>\n    </tr>\n    <tr>\n      <th>25032</th>\n      <td>110.368156</td>\n      <td>9.432633</td>\n      <td>3.193655</td>\n      <td>9.671611</td>\n      <td>12.336218</td>\n      <td>0.500206</td>\n      <td>0.975291</td>\n      <td>1.305500</td>\n      <td>99.064171</td>\n      <td>9.226101</td>\n      <td>...</td>\n      <td>0.0</td>\n      <td>0.0</td>\n      <td>0.0</td>\n      <td>0.0</td>\n      <td>0.0</td>\n      <td>0.0</td>\n      <td>0.0</td>\n      <td>0.0</td>\n      <td>0.0</td>\n      <td>1.0</td>\n    </tr>\n    <tr>\n      <th>25033</th>\n      <td>64.684944</td>\n      <td>6.666667</td>\n      <td>3.331267</td>\n      <td>10.447658</td>\n      <td>10.758264</td>\n      <td>0.457300</td>\n      <td>0.638102</td>\n      <td>0.956955</td>\n      <td>132.285745</td>\n      <td>12.422655</td>\n      <td>...</td>\n      <td>0.0</td>\n      <td>0.0</td>\n      <td>0.0</td>\n      <td>0.0</td>\n      <td>0.0</td>\n      <td>0.0</td>\n      <td>0.0</td>\n      <td>0.0</td>\n      <td>0.0</td>\n      <td>1.0</td>\n    </tr>\n    <tr>\n      <th>25034</th>\n      <td>131.981020</td>\n      <td>9.013680</td>\n      <td>2.911739</td>\n      <td>7.484996</td>\n      <td>13.619594</td>\n      <td>0.648720</td>\n      <td>1.204233</td>\n      <td>1.593243</td>\n      <td>134.112921</td>\n      <td>10.735471</td>\n      <td>...</td>\n      <td>0.0</td>\n      <td>0.0</td>\n      <td>0.0</td>\n      <td>0.0</td>\n      <td>0.0</td>\n      <td>0.0</td>\n      <td>0.0</td>\n      <td>0.0</td>\n      <td>0.0</td>\n      <td>0.0</td>\n    </tr>\n    <tr>\n      <th>25035</th>\n      <td>185.031909</td>\n      <td>16.884868</td>\n      <td>5.029605</td>\n      <td>9.552632</td>\n      <td>28.309211</td>\n      <td>0.648026</td>\n      <td>1.767562</td>\n      <td>2.294077</td>\n      <td>150.178377</td>\n      <td>12.552256</td>\n      <td>...</td>\n      <td>0.0</td>\n      <td>0.0</td>\n      <td>0.0</td>\n      <td>0.0</td>\n      <td>0.0</td>\n      <td>0.0</td>\n      <td>0.0</td>\n      <td>0.0</td>\n      <td>0.0</td>\n      <td>0.0</td>\n    </tr>\n    <tr>\n      <th>25036</th>\n      <td>132.783873</td>\n      <td>9.683049</td>\n      <td>3.681043</td>\n      <td>5.883651</td>\n      <td>12.254764</td>\n      <td>0.636911</td>\n      <td>1.645755</td>\n      <td>2.271394</td>\n      <td>147.613884</td>\n      <td>13.149254</td>\n      <td>...</td>\n      <td>0.0</td>\n      <td>0.0</td>\n      <td>0.0</td>\n      <td>0.0</td>\n      <td>0.0</td>\n      <td>0.0</td>\n      <td>0.0</td>\n      <td>0.0</td>\n      <td>0.0</td>\n      <td>0.0</td>\n    </tr>\n  </tbody>\n</table>\n<p>25037 rows × 97 columns</p>\n</div>"
     },
     "execution_count": 52,
     "metadata": {},
     "output_type": "execute_result"
    }
   ],
   "source": [
    "# Shuffle winning team\n",
    "mid = len(train_comp) // 2\n",
    "\n",
    "player_cols_team_A = get_cols_name(1, 7)\n",
    "player_cols_team_B = get_cols_name(7, 13)\n",
    "tmp_cols = [f\"tmp_{i}\" for i in range(6*N_STATS)]\n",
    "\n",
    "# False positive warning (see https://stackoverflow.com/questions/20625582/how-to-deal-with-settingwithcopywarning-in-pandas)\n",
    "train_comp.loc[:mid] = (train_comp.loc[:mid].rename(columns={player_cols_team_A[i]: tmp_cols[i] for i in range(len(player_cols_team_A))})\n",
    "                                            .rename(columns={player_cols_team_B[i]: player_cols_team_A[i] for i in range(len(player_cols_team_A))})\n",
    "                                            .rename(columns={tmp_cols[i]: player_cols_team_B[i] for i in range(len(player_cols_team_A))}))\\\n",
    "                                            [list(PLAYERS_COLUMNS) + [\"winner\"]]  # reorder columns\n",
    "train_comp.loc[:mid, \"winner\"] = [1 for i in range(mid + 1)]\n",
    "train_comp = train_comp.sample(frac=1.0).reset_index(drop=True)\n",
    "train_comp"
   ],
   "metadata": {
    "collapsed": false
   }
  },
  {
   "cell_type": "code",
   "execution_count": 53,
   "outputs": [
    {
     "name": "stdout",
     "output_type": "stream",
     "text": [
      "Accuracy: 0.8463791267305645\n",
      "F1-score: 0.8463791267305645\n",
      "[[3179  577]\n",
      " [ 577 3179]]\n",
      "<catboost.core.CatBoostClassifier object at 0x000001DDA1912250>\n",
      "Mean proba for each section of the confusion matrix:\n",
      "[[0.81300895 0.92122624]\n",
      " [0.86917212 0.94464431]]\n"
     ]
    }
   ],
   "source": [
    "X, Y = train_comp[PLAYERS_COLUMNS], train_comp[\"winner\"]\n",
    "X_train, X_test, y_train, y_test = train_test_split(X, Y, test_size=0.3, random_state=42, stratify=Y)\n",
    "\n",
    "clf_comp = CatBoostClassifier(verbose=False)\n",
    "clf_comp.fit(X_train, y_train)\n",
    "\n",
    "y_pred = clf_comp.predict(X_test)\n",
    "print(\"Accuracy:\", accuracy_score(y_test, y_pred))\n",
    "print(\"F1-score:\", f1_score(y_test, y_pred))\n",
    "print(confusion_matrix(y_test, y_pred))\n",
    "print(clf)\n",
    "\n",
    "probs = clf.predict_proba(X_test).max(axis=1)\n",
    "confusion_matrix_mean_prob = np.array([[probs[np.where((y_test == y_pred) & (y_test == 0))].mean(), probs[np.where((y_pred == 1) & (y_test == 0))].mean()],\n",
    "                                       [probs[np.where((y_pred == 0) & (y_test == 1))].mean(), probs[np.where((y_test == y_pred) & (y_test == 1))].mean()]])\n",
    "print(\"Mean proba for each section of the confusion matrix:\")\n",
    "print(confusion_matrix_mean_prob)"
   ],
   "metadata": {
    "collapsed": false
   }
  },
  {
   "cell_type": "markdown",
   "source": [
    "### Compare time sql and pandas"
   ],
   "metadata": {
    "collapsed": false
   }
  },
  {
   "cell_type": "code",
   "execution_count": 42,
   "outputs": [
    {
     "name": "stdout",
     "output_type": "stream",
     "text": [
      "SQL query took 0.030026674270629883s to complete.\n",
      "Pandas query took 0.9188318252563477s to complete.\n"
     ]
    }
   ],
   "source": [
    "membership_id = 4611686018489429030\n",
    "membership_type = 3\n",
    "character_id = 2305843009503194358\n",
    "\n",
    "# Retrieve guardian with sql\n",
    "start_time = time.time()\n",
    "for i in range(1000):\n",
    "    g = db_helper.get_guardian_from_ids(\n",
    "        Guardian(membership_id=membership_id, membership_type=membership_type, character_id=character_id))\n",
    "print(f\"SQL query took {time.time() - start_time}s to complete.\")\n",
    "\n",
    "# Retrieve guardian with pandas\n",
    "start_time = time.time()\n",
    "for i in range(1000):\n",
    "    g = guardians.loc[(guardians.membership_id == membership_id) & (guardians.membership_type == membership_type) & (\n",
    "                guardians.character_id == character_id)]\n",
    "print(f\"Pandas query took {time.time() - start_time}s to complete.\")"
   ],
   "metadata": {
    "collapsed": false
   }
  }
 ],
 "metadata": {
  "kernelspec": {
   "display_name": "Python 3",
   "language": "python",
   "name": "python3"
  },
  "language_info": {
   "codemirror_mode": {
    "name": "ipython",
    "version": 2
   },
   "file_extension": ".py",
   "mimetype": "text/x-python",
   "name": "python",
   "nbconvert_exporter": "python",
   "pygments_lexer": "ipython2",
   "version": "2.7.6"
  }
 },
 "nbformat": 4,
 "nbformat_minor": 0
}
