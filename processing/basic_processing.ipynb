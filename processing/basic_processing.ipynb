﻿{
 "cells": [
  {
   "cell_type": "markdown",
   "metadata": {
    "collapsed": true
   },
   "source": [
    "# Imports and setup"
   ]
  },
  {
   "cell_type": "code",
   "execution_count": 1,
   "outputs": [],
   "source": [
    "# TODO: \n",
    "# 1. Construct API with pre-trained model (for ex: giving an activity.instance_id, return the winning team)\n",
    "# 2. Pretty Github"
   ],
   "metadata": {
    "collapsed": false
   }
  },
  {
   "cell_type": "code",
   "execution_count": 2,
   "outputs": [],
   "source": [
    "import time\n",
    "from pathlib import Path\n",
    "from datetime import datetime\n",
    "import pandas as pd\n",
    "import numpy as np\n",
    "import os, sys\n",
    "import seaborn as sns\n",
    "import json\n",
    "\n",
    "from sklearn.model_selection import train_test_split, cross_val_score\n",
    "from sklearn.metrics import accuracy_score, confusion_matrix, f1_score\n",
    "from sklearn.pipeline import make_pipeline\n",
    "from sklearn.preprocessing import MinMaxScaler, StandardScaler\n",
    "from sklearn.svm import SVC\n",
    "from sklearn.decomposition import PCA\n",
    "from sklearn.ensemble import RandomForestClassifier\n",
    "from catboost import CatBoostClassifier\n",
    "\n",
    "sys.path.extend([str(Path(os.getcwd()).parent.absolute())]) # include from top, pb with jupyter notebooks...\n",
    "from db import MainDBHelper\n",
    "from models.guardian import Guardian\n",
    "from models.activity import Activity\n",
    "from local_api import BungieAPI"
   ],
   "metadata": {
    "collapsed": false
   }
  },
  {
   "cell_type": "code",
   "execution_count": 3,
   "outputs": [],
   "source": [
    "ROOT_DATA_FOLDER = \"../data\""
   ],
   "metadata": {
    "collapsed": false
   }
  },
  {
   "cell_type": "code",
   "execution_count": 4,
   "outputs": [],
   "source": [
    "db_helper = MainDBHelper(name=\"main.db\", folder=ROOT_DATA_FOLDER)"
   ],
   "metadata": {
    "collapsed": false
   }
  },
  {
   "cell_type": "code",
   "execution_count": 5,
   "outputs": [],
   "source": [
    "def pad(l: list, n: int, value=0):\n",
    "    return l + [value] * (n - len(l))"
   ],
   "metadata": {
    "collapsed": false
   }
  },
  {
   "cell_type": "code",
   "execution_count": 6,
   "outputs": [],
   "source": [
    "def get_player_columns_name(feature_name):\n",
    "    return [f\"player_{i}_{feature_name}\" for i in range(1, 13)]"
   ],
   "metadata": {
    "collapsed": false
   }
  },
  {
   "cell_type": "code",
   "execution_count": 7,
   "outputs": [],
   "source": [
    "def get_cols_name(player_range_start: int, player_range_end: int):\n",
    "    return np.array(\n",
    "        [[f\"player_{i}_{stat}\" for stat in STATS_NAME] for i in range(player_range_start, player_range_end)]).reshape(\n",
    "        (player_range_end - player_range_start) * N_STATS)"
   ],
   "metadata": {
    "collapsed": false
   }
  },
  {
   "cell_type": "code",
   "execution_count": 8,
   "outputs": [],
   "source": [
    "def shuffle_winning_team(df):\n",
    "    # Not optimal - renaming columns but the rvalue consume memory as well\n",
    "    mid = len(df) // 2\n",
    "\n",
    "    # First shuffle dataframe to ensure dates are shuffle as well\n",
    "    df = df.sample(frac=1.0, random_state=42).reset_index(drop=True)\n",
    "\n",
    "    player_cols_team_A = get_cols_name(1, 7)\n",
    "    player_cols_team_B = get_cols_name(7, 13)\n",
    "    tmp_cols = [f\"tmp_{i}\" for i in range(6*N_STATS)]\n",
    "\n",
    "    # False positive warning (see https://stackoverflow.com/questions/20625582/how-to-deal-with-settingwithcopywarning-in-pandas)\n",
    "    df.loc[:mid] = (df.loc[:mid].rename(columns={player_cols_team_A[i]: tmp_cols[i] for i in range(len(player_cols_team_A))})\n",
    "                                    .rename(columns={player_cols_team_B[i]: player_cols_team_A[i] for i in range(len(player_cols_team_A))})\n",
    "                                    .rename(columns={tmp_cols[i]: player_cols_team_B[i] for i in range(len(player_cols_team_A))}))\\\n",
    "                                    [df.columns]  # reorder columns\n",
    "    df.loc[:mid, \"winner\"] = [1 for i in range(mid + 1)]\n",
    "    return df"
   ],
   "metadata": {
    "collapsed": false
   }
  },
  {
   "cell_type": "markdown",
   "source": [
    "### Get activities"
   ],
   "metadata": {
    "collapsed": false
   }
  },
  {
   "cell_type": "code",
   "execution_count": 9,
   "outputs": [
    {
     "name": "stdout",
     "output_type": "stream",
     "text": [
      "CPU times: total: 15.8 s\n",
      "Wall time: 3min 46s\n"
     ]
    }
   ],
   "source": [
    "%%time\n",
    "\n",
    "# Get activities\n",
    "request = \"SELECT * FROM main.activity\" # WHERE (activity.mode=71 OR activity.mode=73) AND activity.period > date('2022-01-01')\"\n",
    "r = db_helper.execute(request, [])"
   ],
   "metadata": {
    "collapsed": false
   }
  },
  {
   "cell_type": "code",
   "execution_count": 10,
   "outputs": [
    {
     "data": {
      "text/plain": "         instance_id                period  mode  is_private  win_score  \\\n0            1885169  2017-09-05T23:32:24Z    71           0         58   \n1            2024057  2017-09-05T23:42:27Z    71           0         39   \n2            2159868  2017-09-05T23:53:01Z    73           0         85   \n3            2269987  2017-09-06T00:04:05Z    73           0         77   \n4            7875392  2017-09-06T05:42:33Z    73           0         95   \n...              ...                   ...   ...         ...        ...   \n1730453  12153675395  2022-12-28T18:58:17Z    73           0        149   \n1730454  12153780908  2022-12-28T19:16:05Z    73           0        142   \n1730455  12153874512  2022-12-28T19:32:36Z    73           0        151   \n1730456  12153943044  2022-12-28T19:45:04Z    73           0        151   \n1730457  12154292337  2022-12-28T20:42:27Z    71           0         95   \n\n         loss_score                                            players  \n0                35  [{\"membership_id\": \"4611686018464804453\", \"mem...  \n1                36  [{\"membership_id\": \"4611686018455633803\", \"mem...  \n2                54  [{\"membership_id\": \"4611686018455633803\", \"mem...  \n3                25  [{\"membership_id\": \"4611686018455633803\", \"mem...  \n4                51  [{'membership_id': '4611686018432653582', 'mem...  \n...             ...                                                ...  \n1730453          98  [{\"membership_id\": \"4611686018467305609\", \"mem...  \n1730454         116  [{\"membership_id\": \"4611686018473773867\", \"mem...  \n1730455         149  [{\"membership_id\": \"4611686018464126855\", \"mem...  \n1730456         138  [{\"membership_id\": \"4611686018464126855\", \"mem...  \n1730457          69  [{\"membership_id\": \"4611686018445667533\", \"mem...  \n\n[1730458 rows x 7 columns]",
      "text/html": "<div>\n<style scoped>\n    .dataframe tbody tr th:only-of-type {\n        vertical-align: middle;\n    }\n\n    .dataframe tbody tr th {\n        vertical-align: top;\n    }\n\n    .dataframe thead th {\n        text-align: right;\n    }\n</style>\n<table border=\"1\" class=\"dataframe\">\n  <thead>\n    <tr style=\"text-align: right;\">\n      <th></th>\n      <th>instance_id</th>\n      <th>period</th>\n      <th>mode</th>\n      <th>is_private</th>\n      <th>win_score</th>\n      <th>loss_score</th>\n      <th>players</th>\n    </tr>\n  </thead>\n  <tbody>\n    <tr>\n      <th>0</th>\n      <td>1885169</td>\n      <td>2017-09-05T23:32:24Z</td>\n      <td>71</td>\n      <td>0</td>\n      <td>58</td>\n      <td>35</td>\n      <td>[{\"membership_id\": \"4611686018464804453\", \"mem...</td>\n    </tr>\n    <tr>\n      <th>1</th>\n      <td>2024057</td>\n      <td>2017-09-05T23:42:27Z</td>\n      <td>71</td>\n      <td>0</td>\n      <td>39</td>\n      <td>36</td>\n      <td>[{\"membership_id\": \"4611686018455633803\", \"mem...</td>\n    </tr>\n    <tr>\n      <th>2</th>\n      <td>2159868</td>\n      <td>2017-09-05T23:53:01Z</td>\n      <td>73</td>\n      <td>0</td>\n      <td>85</td>\n      <td>54</td>\n      <td>[{\"membership_id\": \"4611686018455633803\", \"mem...</td>\n    </tr>\n    <tr>\n      <th>3</th>\n      <td>2269987</td>\n      <td>2017-09-06T00:04:05Z</td>\n      <td>73</td>\n      <td>0</td>\n      <td>77</td>\n      <td>25</td>\n      <td>[{\"membership_id\": \"4611686018455633803\", \"mem...</td>\n    </tr>\n    <tr>\n      <th>4</th>\n      <td>7875392</td>\n      <td>2017-09-06T05:42:33Z</td>\n      <td>73</td>\n      <td>0</td>\n      <td>95</td>\n      <td>51</td>\n      <td>[{'membership_id': '4611686018432653582', 'mem...</td>\n    </tr>\n    <tr>\n      <th>...</th>\n      <td>...</td>\n      <td>...</td>\n      <td>...</td>\n      <td>...</td>\n      <td>...</td>\n      <td>...</td>\n      <td>...</td>\n    </tr>\n    <tr>\n      <th>1730453</th>\n      <td>12153675395</td>\n      <td>2022-12-28T18:58:17Z</td>\n      <td>73</td>\n      <td>0</td>\n      <td>149</td>\n      <td>98</td>\n      <td>[{\"membership_id\": \"4611686018467305609\", \"mem...</td>\n    </tr>\n    <tr>\n      <th>1730454</th>\n      <td>12153780908</td>\n      <td>2022-12-28T19:16:05Z</td>\n      <td>73</td>\n      <td>0</td>\n      <td>142</td>\n      <td>116</td>\n      <td>[{\"membership_id\": \"4611686018473773867\", \"mem...</td>\n    </tr>\n    <tr>\n      <th>1730455</th>\n      <td>12153874512</td>\n      <td>2022-12-28T19:32:36Z</td>\n      <td>73</td>\n      <td>0</td>\n      <td>151</td>\n      <td>149</td>\n      <td>[{\"membership_id\": \"4611686018464126855\", \"mem...</td>\n    </tr>\n    <tr>\n      <th>1730456</th>\n      <td>12153943044</td>\n      <td>2022-12-28T19:45:04Z</td>\n      <td>73</td>\n      <td>0</td>\n      <td>151</td>\n      <td>138</td>\n      <td>[{\"membership_id\": \"4611686018464126855\", \"mem...</td>\n    </tr>\n    <tr>\n      <th>1730457</th>\n      <td>12154292337</td>\n      <td>2022-12-28T20:42:27Z</td>\n      <td>71</td>\n      <td>0</td>\n      <td>95</td>\n      <td>69</td>\n      <td>[{\"membership_id\": \"4611686018445667533\", \"mem...</td>\n    </tr>\n  </tbody>\n</table>\n<p>1730458 rows × 7 columns</p>\n</div>"
     },
     "execution_count": 10,
     "metadata": {},
     "output_type": "execute_result"
    }
   ],
   "source": [
    "activities = pd.DataFrame(data=[dict(row) for row in r])\n",
    "activities"
   ],
   "metadata": {
    "collapsed": false
   }
  },
  {
   "cell_type": "markdown",
   "source": [
    "### Setup train df - combat_rating, kills_pga, assists_pga, deaths_pga, score_pga, win_ratio and winning team"
   ],
   "metadata": {
    "collapsed": false
   }
  },
  {
   "cell_type": "code",
   "execution_count": 11,
   "outputs": [],
   "source": [
    "# To use different features, simply modify the STATS_NAME array and the next function get_guardian_stats accordingly. The rest of the cells should adapt nicely.\n",
    "STATS_NAME = [\"activities_entered\", \"combat_rating\", \"kills_pga\", \"assists_pga\", \"deaths_pga\", \"score_pga\", \"win_ratio\", \"kd\", \"kda\"]\n",
    "N_STATS = len(STATS_NAME)\n",
    "PLAYERS_COLUMNS = np.array([[f\"player_{i}_{stat}\" for stat in STATS_NAME] for i in range(1, 13)]).reshape(12 * N_STATS)"
   ],
   "metadata": {
    "collapsed": false
   }
  },
  {
   "cell_type": "code",
   "execution_count": 12,
   "outputs": [],
   "source": [
    "def get_guardian_stats(membership_id, membership_type, character_id):\n",
    "    guardian = db_helper.get_guardian_from_ids(\n",
    "        Guardian(membership_id=membership_id, membership_type=membership_type, character_id=character_id))\n",
    "\n",
    "    if guardian is None:\n",
    "        return pad([], N_STATS, -1)\n",
    "\n",
    "    if guardian.is_private == 1:\n",
    "        return pad([], N_STATS, -1)\n",
    "\n",
    "    n = guardian.activities_entered\n",
    "    if n < 1:\n",
    "        return pad([], N_STATS, -1)\n",
    "    \n",
    "    try:\n",
    "        # with kd and kda\n",
    "        stats = [guardian.activities_entered,\n",
    "                 guardian.combat_rating,\n",
    "                 guardian.kills / n,\n",
    "                 guardian.assists / n,\n",
    "                 guardian.deaths / n,\n",
    "                 guardian.score / n,\n",
    "                 guardian.activities_won / n,\n",
    "                 guardian.kills / guardian.deaths,\n",
    "                 (guardian.kills + guardian.assists) / guardian.deaths]\n",
    "        \n",
    "    except ZeroDivisionError as err:\n",
    "        return pad([], N_STATS, -1)\n",
    "\n",
    "    return np.array(stats)"
   ],
   "metadata": {
    "collapsed": false
   }
  },
  {
   "cell_type": "code",
   "execution_count": 13,
   "outputs": [],
   "source": [
    "def extract_players_stats(players_json):\n",
    "    try:\n",
    "        (players_json) = (players_json.replace(\"'\", '\"')\n",
    "                          .replace(\"False\", \"false\")\n",
    "                          .replace(\"True\", \"true\"))\n",
    "        players = json.loads(players_json)\n",
    "    except json.JSONDecodeError as err:\n",
    "        return np.array([pad([], N_STATS, -1) for i in range(12)])\n",
    "\n",
    "    winners = []\n",
    "    losers = []\n",
    "    for player in players:\n",
    "        player_stats = get_guardian_stats(player[\"membership_id\"], player[\"membership_type\"], player[\"character_id\"])\n",
    "        if player[\"is_winner\"]:\n",
    "            winners.append(player_stats)\n",
    "        else:\n",
    "            losers.append(player_stats)\n",
    "\n",
    "    # -1 = stat missing (guardian private for ex)\n",
    "    #  0 = no entry (4v4 on a 6v6 game for ex)\n",
    "\n",
    "    return np.array(\n",
    "        pad(winners, 6, pad([], N_STATS, 0))[:6] + pad(losers, 6, pad([], N_STATS, 0))[:6])  # return winners first"
   ],
   "metadata": {
    "collapsed": false
   }
  },
  {
   "cell_type": "code",
   "execution_count": 14,
   "outputs": [
    {
     "name": "stdout",
     "output_type": "stream",
     "text": [
      "CPU times: total: 14min 45s\n",
      "Wall time: 15min 13s\n"
     ]
    }
   ],
   "source": [
    "%%time\n",
    "t = activities.players.apply(extract_players_stats)\n",
    "stack = np.stack(t, axis=0)\n",
    "stack = np.reshape(stack, (len(stack), 12 * N_STATS))"
   ],
   "metadata": {
    "collapsed": false
   }
  },
  {
   "cell_type": "code",
   "execution_count": 15,
   "outputs": [
    {
     "name": "stderr",
     "output_type": "stream",
     "text": [
      "C:\\Users\\Eagle\\AppData\\Local\\Temp\\ipykernel_2700\\2604102188.py:2: PerformanceWarning: DataFrame is highly fragmented.  This is usually the result of calling `frame.insert` many times, which has poor performance.  Consider joining all columns at once using pd.concat(axis=1) instead. To get a de-fragmented frame, use `newframe = frame.copy()`\n",
      "  train[PLAYERS_COLUMNS] = pd.DataFrame(stack, columns=PLAYERS_COLUMNS)\n",
      "C:\\Users\\Eagle\\AppData\\Local\\Temp\\ipykernel_2700\\2604102188.py:2: PerformanceWarning: DataFrame is highly fragmented.  This is usually the result of calling `frame.insert` many times, which has poor performance.  Consider joining all columns at once using pd.concat(axis=1) instead. To get a de-fragmented frame, use `newframe = frame.copy()`\n",
      "  train[PLAYERS_COLUMNS] = pd.DataFrame(stack, columns=PLAYERS_COLUMNS)\n",
      "C:\\Users\\Eagle\\AppData\\Local\\Temp\\ipykernel_2700\\2604102188.py:2: PerformanceWarning: DataFrame is highly fragmented.  This is usually the result of calling `frame.insert` many times, which has poor performance.  Consider joining all columns at once using pd.concat(axis=1) instead. To get a de-fragmented frame, use `newframe = frame.copy()`\n",
      "  train[PLAYERS_COLUMNS] = pd.DataFrame(stack, columns=PLAYERS_COLUMNS)\n",
      "C:\\Users\\Eagle\\AppData\\Local\\Temp\\ipykernel_2700\\2604102188.py:2: PerformanceWarning: DataFrame is highly fragmented.  This is usually the result of calling `frame.insert` many times, which has poor performance.  Consider joining all columns at once using pd.concat(axis=1) instead. To get a de-fragmented frame, use `newframe = frame.copy()`\n",
      "  train[PLAYERS_COLUMNS] = pd.DataFrame(stack, columns=PLAYERS_COLUMNS)\n",
      "C:\\Users\\Eagle\\AppData\\Local\\Temp\\ipykernel_2700\\2604102188.py:2: PerformanceWarning: DataFrame is highly fragmented.  This is usually the result of calling `frame.insert` many times, which has poor performance.  Consider joining all columns at once using pd.concat(axis=1) instead. To get a de-fragmented frame, use `newframe = frame.copy()`\n",
      "  train[PLAYERS_COLUMNS] = pd.DataFrame(stack, columns=PLAYERS_COLUMNS)\n",
      "C:\\Users\\Eagle\\AppData\\Local\\Temp\\ipykernel_2700\\2604102188.py:2: PerformanceWarning: DataFrame is highly fragmented.  This is usually the result of calling `frame.insert` many times, which has poor performance.  Consider joining all columns at once using pd.concat(axis=1) instead. To get a de-fragmented frame, use `newframe = frame.copy()`\n",
      "  train[PLAYERS_COLUMNS] = pd.DataFrame(stack, columns=PLAYERS_COLUMNS)\n",
      "C:\\Users\\Eagle\\AppData\\Local\\Temp\\ipykernel_2700\\2604102188.py:2: PerformanceWarning: DataFrame is highly fragmented.  This is usually the result of calling `frame.insert` many times, which has poor performance.  Consider joining all columns at once using pd.concat(axis=1) instead. To get a de-fragmented frame, use `newframe = frame.copy()`\n",
      "  train[PLAYERS_COLUMNS] = pd.DataFrame(stack, columns=PLAYERS_COLUMNS)\n",
      "C:\\Users\\Eagle\\AppData\\Local\\Temp\\ipykernel_2700\\2604102188.py:2: PerformanceWarning: DataFrame is highly fragmented.  This is usually the result of calling `frame.insert` many times, which has poor performance.  Consider joining all columns at once using pd.concat(axis=1) instead. To get a de-fragmented frame, use `newframe = frame.copy()`\n",
      "  train[PLAYERS_COLUMNS] = pd.DataFrame(stack, columns=PLAYERS_COLUMNS)\n",
      "C:\\Users\\Eagle\\AppData\\Local\\Temp\\ipykernel_2700\\2604102188.py:3: PerformanceWarning: DataFrame is highly fragmented.  This is usually the result of calling `frame.insert` many times, which has poor performance.  Consider joining all columns at once using pd.concat(axis=1) instead. To get a de-fragmented frame, use `newframe = frame.copy()`\n",
      "  train[\"winner\"] = np.zeros(len(train))\n",
      "C:\\Users\\Eagle\\AppData\\Local\\Temp\\ipykernel_2700\\2604102188.py:4: PerformanceWarning: DataFrame is highly fragmented.  This is usually the result of calling `frame.insert` many times, which has poor performance.  Consider joining all columns at once using pd.concat(axis=1) instead. To get a de-fragmented frame, use `newframe = frame.copy()`\n",
      "  train[\"mode\"] = activities[\"mode\"]\n",
      "C:\\Users\\Eagle\\AppData\\Local\\Temp\\ipykernel_2700\\2604102188.py:5: PerformanceWarning: DataFrame is highly fragmented.  This is usually the result of calling `frame.insert` many times, which has poor performance.  Consider joining all columns at once using pd.concat(axis=1) instead. To get a de-fragmented frame, use `newframe = frame.copy()`\n",
      "  train[\"period\"] = pd.to_datetime(activities[\"period\"], format=BungieAPI.API_DATE_FORMAT)\n",
      "C:\\Users\\Eagle\\AppData\\Local\\Temp\\ipykernel_2700\\2604102188.py:6: PerformanceWarning: DataFrame is highly fragmented.  This is usually the result of calling `frame.insert` many times, which has poor performance.  Consider joining all columns at once using pd.concat(axis=1) instead. To get a de-fragmented frame, use `newframe = frame.copy()`\n",
      "  train[\"instance_id\"] = activities[\"instance_id\"]\n",
      "C:\\Users\\Eagle\\AppData\\Local\\Temp\\ipykernel_2700\\2604102188.py:7: PerformanceWarning: DataFrame is highly fragmented.  This is usually the result of calling `frame.insert` many times, which has poor performance.  Consider joining all columns at once using pd.concat(axis=1) instead. To get a de-fragmented frame, use `newframe = frame.copy()`\n",
      "  train[\"win_score\"] = activities[\"win_score\"]\n",
      "C:\\Users\\Eagle\\AppData\\Local\\Temp\\ipykernel_2700\\2604102188.py:8: PerformanceWarning: DataFrame is highly fragmented.  This is usually the result of calling `frame.insert` many times, which has poor performance.  Consider joining all columns at once using pd.concat(axis=1) instead. To get a de-fragmented frame, use `newframe = frame.copy()`\n",
      "  train[\"loss_score\"] = activities[\"loss_score\"]\n"
     ]
    },
    {
     "data": {
      "text/plain": "         player_1_activities_entered  player_1_combat_rating  \\\n0                              261.0              168.135969   \n1                              390.0              161.895219   \n2                              390.0              161.895219   \n3                              390.0              161.895219   \n4                               17.0              130.364239   \n...                              ...                     ...   \n1730453                         -1.0               -1.000000   \n1730454                      15174.0              170.628974   \n1730455                       3852.0              153.905220   \n1730456                       2196.0              163.112964   \n1730457                        184.0              219.015600   \n\n         player_1_kills_pga  player_1_assists_pga  player_1_deaths_pga  \\\n0                  8.103448              3.252874             8.176245   \n1                 11.684615              3.951282             8.828205   \n2                 11.684615              3.951282             8.828205   \n3                 11.684615              3.951282             8.828205   \n4                 10.176471              5.176471            10.764706   \n...                     ...                   ...                  ...   \n1730453           -1.000000             -1.000000            -1.000000   \n1730454           16.674839              4.118492             8.530513   \n1730455            9.868640              1.928868             6.599429   \n1730456           16.972678              4.117486             9.576503   \n1730457           17.793478              3.972826             7.907609   \n\n         player_1_score_pga  player_1_win_ratio  player_1_kd  player_1_kda  \\\n0                  5.896552            0.444444     0.991097      1.388941   \n1                 15.935897            0.551282     1.323555      1.771130   \n2                 15.935897            0.551282     1.323555      1.771130   \n3                 15.935897            0.551282     1.323555      1.771130   \n4                 15.411765            0.352941     0.945355      1.426230   \n...                     ...                 ...          ...           ...   \n1730453           -1.000000           -1.000000    -1.000000     -1.000000   \n1730454           24.418545            0.545341     1.954729      2.437524   \n1730455            7.002077            0.594756     1.495378      1.787656   \n1730456           26.020036            0.528233     1.772325      2.202282   \n1730457           34.869565            0.782609     2.250172      2.752577   \n\n         player_2_activities_entered  ...  player_12_score_pga  \\\n0                             2417.0  ...             0.000000   \n1                             2417.0  ...             0.000000   \n2                             2417.0  ...             0.000000   \n3                             2417.0  ...             0.000000   \n4                               49.0  ...             0.000000   \n...                              ...  ...                  ...   \n1730453                         -1.0  ...            -1.000000   \n1730454                       2024.0  ...            21.497872   \n1730455                      15174.0  ...            27.348982   \n1730456                       1141.0  ...            22.379874   \n1730457                       3384.0  ...            20.612193   \n\n         player_12_win_ratio  player_12_kd  player_12_kda  winner  mode  \\\n0                   0.000000      0.000000       0.000000     0.0    71   \n1                   0.000000      0.000000       0.000000     0.0    71   \n2                   0.000000      0.000000       0.000000     0.0    73   \n3                   0.000000      0.000000       0.000000     0.0    73   \n4                   0.000000      0.000000       0.000000     0.0    73   \n...                      ...           ...            ...     ...   ...   \n1730453            -1.000000     -1.000000      -1.000000     0.0    73   \n1730454             0.451064      1.239148       1.604013     0.0    73   \n1730455             0.592195      1.516892       1.976510     0.0    73   \n1730456             0.483019      1.239597       1.707276     0.0    73   \n1730457             0.418033      1.043242       1.411790     0.0    71   \n\n                     period  instance_id  win_score  loss_score  \n0       2017-09-05 23:32:24      1885169         58          35  \n1       2017-09-05 23:42:27      2024057         39          36  \n2       2017-09-05 23:53:01      2159868         85          54  \n3       2017-09-06 00:04:05      2269987         77          25  \n4       2017-09-06 05:42:33      7875392         95          51  \n...                     ...          ...        ...         ...  \n1730453 2022-12-28 18:58:17  12153675395        149          98  \n1730454 2022-12-28 19:16:05  12153780908        142         116  \n1730455 2022-12-28 19:32:36  12153874512        151         149  \n1730456 2022-12-28 19:45:04  12153943044        151         138  \n1730457 2022-12-28 20:42:27  12154292337         95          69  \n\n[1730458 rows x 114 columns]",
      "text/html": "<div>\n<style scoped>\n    .dataframe tbody tr th:only-of-type {\n        vertical-align: middle;\n    }\n\n    .dataframe tbody tr th {\n        vertical-align: top;\n    }\n\n    .dataframe thead th {\n        text-align: right;\n    }\n</style>\n<table border=\"1\" class=\"dataframe\">\n  <thead>\n    <tr style=\"text-align: right;\">\n      <th></th>\n      <th>player_1_activities_entered</th>\n      <th>player_1_combat_rating</th>\n      <th>player_1_kills_pga</th>\n      <th>player_1_assists_pga</th>\n      <th>player_1_deaths_pga</th>\n      <th>player_1_score_pga</th>\n      <th>player_1_win_ratio</th>\n      <th>player_1_kd</th>\n      <th>player_1_kda</th>\n      <th>player_2_activities_entered</th>\n      <th>...</th>\n      <th>player_12_score_pga</th>\n      <th>player_12_win_ratio</th>\n      <th>player_12_kd</th>\n      <th>player_12_kda</th>\n      <th>winner</th>\n      <th>mode</th>\n      <th>period</th>\n      <th>instance_id</th>\n      <th>win_score</th>\n      <th>loss_score</th>\n    </tr>\n  </thead>\n  <tbody>\n    <tr>\n      <th>0</th>\n      <td>261.0</td>\n      <td>168.135969</td>\n      <td>8.103448</td>\n      <td>3.252874</td>\n      <td>8.176245</td>\n      <td>5.896552</td>\n      <td>0.444444</td>\n      <td>0.991097</td>\n      <td>1.388941</td>\n      <td>2417.0</td>\n      <td>...</td>\n      <td>0.000000</td>\n      <td>0.000000</td>\n      <td>0.000000</td>\n      <td>0.000000</td>\n      <td>0.0</td>\n      <td>71</td>\n      <td>2017-09-05 23:32:24</td>\n      <td>1885169</td>\n      <td>58</td>\n      <td>35</td>\n    </tr>\n    <tr>\n      <th>1</th>\n      <td>390.0</td>\n      <td>161.895219</td>\n      <td>11.684615</td>\n      <td>3.951282</td>\n      <td>8.828205</td>\n      <td>15.935897</td>\n      <td>0.551282</td>\n      <td>1.323555</td>\n      <td>1.771130</td>\n      <td>2417.0</td>\n      <td>...</td>\n      <td>0.000000</td>\n      <td>0.000000</td>\n      <td>0.000000</td>\n      <td>0.000000</td>\n      <td>0.0</td>\n      <td>71</td>\n      <td>2017-09-05 23:42:27</td>\n      <td>2024057</td>\n      <td>39</td>\n      <td>36</td>\n    </tr>\n    <tr>\n      <th>2</th>\n      <td>390.0</td>\n      <td>161.895219</td>\n      <td>11.684615</td>\n      <td>3.951282</td>\n      <td>8.828205</td>\n      <td>15.935897</td>\n      <td>0.551282</td>\n      <td>1.323555</td>\n      <td>1.771130</td>\n      <td>2417.0</td>\n      <td>...</td>\n      <td>0.000000</td>\n      <td>0.000000</td>\n      <td>0.000000</td>\n      <td>0.000000</td>\n      <td>0.0</td>\n      <td>73</td>\n      <td>2017-09-05 23:53:01</td>\n      <td>2159868</td>\n      <td>85</td>\n      <td>54</td>\n    </tr>\n    <tr>\n      <th>3</th>\n      <td>390.0</td>\n      <td>161.895219</td>\n      <td>11.684615</td>\n      <td>3.951282</td>\n      <td>8.828205</td>\n      <td>15.935897</td>\n      <td>0.551282</td>\n      <td>1.323555</td>\n      <td>1.771130</td>\n      <td>2417.0</td>\n      <td>...</td>\n      <td>0.000000</td>\n      <td>0.000000</td>\n      <td>0.000000</td>\n      <td>0.000000</td>\n      <td>0.0</td>\n      <td>73</td>\n      <td>2017-09-06 00:04:05</td>\n      <td>2269987</td>\n      <td>77</td>\n      <td>25</td>\n    </tr>\n    <tr>\n      <th>4</th>\n      <td>17.0</td>\n      <td>130.364239</td>\n      <td>10.176471</td>\n      <td>5.176471</td>\n      <td>10.764706</td>\n      <td>15.411765</td>\n      <td>0.352941</td>\n      <td>0.945355</td>\n      <td>1.426230</td>\n      <td>49.0</td>\n      <td>...</td>\n      <td>0.000000</td>\n      <td>0.000000</td>\n      <td>0.000000</td>\n      <td>0.000000</td>\n      <td>0.0</td>\n      <td>73</td>\n      <td>2017-09-06 05:42:33</td>\n      <td>7875392</td>\n      <td>95</td>\n      <td>51</td>\n    </tr>\n    <tr>\n      <th>...</th>\n      <td>...</td>\n      <td>...</td>\n      <td>...</td>\n      <td>...</td>\n      <td>...</td>\n      <td>...</td>\n      <td>...</td>\n      <td>...</td>\n      <td>...</td>\n      <td>...</td>\n      <td>...</td>\n      <td>...</td>\n      <td>...</td>\n      <td>...</td>\n      <td>...</td>\n      <td>...</td>\n      <td>...</td>\n      <td>...</td>\n      <td>...</td>\n      <td>...</td>\n      <td>...</td>\n    </tr>\n    <tr>\n      <th>1730453</th>\n      <td>-1.0</td>\n      <td>-1.000000</td>\n      <td>-1.000000</td>\n      <td>-1.000000</td>\n      <td>-1.000000</td>\n      <td>-1.000000</td>\n      <td>-1.000000</td>\n      <td>-1.000000</td>\n      <td>-1.000000</td>\n      <td>-1.0</td>\n      <td>...</td>\n      <td>-1.000000</td>\n      <td>-1.000000</td>\n      <td>-1.000000</td>\n      <td>-1.000000</td>\n      <td>0.0</td>\n      <td>73</td>\n      <td>2022-12-28 18:58:17</td>\n      <td>12153675395</td>\n      <td>149</td>\n      <td>98</td>\n    </tr>\n    <tr>\n      <th>1730454</th>\n      <td>15174.0</td>\n      <td>170.628974</td>\n      <td>16.674839</td>\n      <td>4.118492</td>\n      <td>8.530513</td>\n      <td>24.418545</td>\n      <td>0.545341</td>\n      <td>1.954729</td>\n      <td>2.437524</td>\n      <td>2024.0</td>\n      <td>...</td>\n      <td>21.497872</td>\n      <td>0.451064</td>\n      <td>1.239148</td>\n      <td>1.604013</td>\n      <td>0.0</td>\n      <td>73</td>\n      <td>2022-12-28 19:16:05</td>\n      <td>12153780908</td>\n      <td>142</td>\n      <td>116</td>\n    </tr>\n    <tr>\n      <th>1730455</th>\n      <td>3852.0</td>\n      <td>153.905220</td>\n      <td>9.868640</td>\n      <td>1.928868</td>\n      <td>6.599429</td>\n      <td>7.002077</td>\n      <td>0.594756</td>\n      <td>1.495378</td>\n      <td>1.787656</td>\n      <td>15174.0</td>\n      <td>...</td>\n      <td>27.348982</td>\n      <td>0.592195</td>\n      <td>1.516892</td>\n      <td>1.976510</td>\n      <td>0.0</td>\n      <td>73</td>\n      <td>2022-12-28 19:32:36</td>\n      <td>12153874512</td>\n      <td>151</td>\n      <td>149</td>\n    </tr>\n    <tr>\n      <th>1730456</th>\n      <td>2196.0</td>\n      <td>163.112964</td>\n      <td>16.972678</td>\n      <td>4.117486</td>\n      <td>9.576503</td>\n      <td>26.020036</td>\n      <td>0.528233</td>\n      <td>1.772325</td>\n      <td>2.202282</td>\n      <td>1141.0</td>\n      <td>...</td>\n      <td>22.379874</td>\n      <td>0.483019</td>\n      <td>1.239597</td>\n      <td>1.707276</td>\n      <td>0.0</td>\n      <td>73</td>\n      <td>2022-12-28 19:45:04</td>\n      <td>12153943044</td>\n      <td>151</td>\n      <td>138</td>\n    </tr>\n    <tr>\n      <th>1730457</th>\n      <td>184.0</td>\n      <td>219.015600</td>\n      <td>17.793478</td>\n      <td>3.972826</td>\n      <td>7.907609</td>\n      <td>34.869565</td>\n      <td>0.782609</td>\n      <td>2.250172</td>\n      <td>2.752577</td>\n      <td>3384.0</td>\n      <td>...</td>\n      <td>20.612193</td>\n      <td>0.418033</td>\n      <td>1.043242</td>\n      <td>1.411790</td>\n      <td>0.0</td>\n      <td>71</td>\n      <td>2022-12-28 20:42:27</td>\n      <td>12154292337</td>\n      <td>95</td>\n      <td>69</td>\n    </tr>\n  </tbody>\n</table>\n<p>1730458 rows × 114 columns</p>\n</div>"
     },
     "execution_count": 15,
     "metadata": {},
     "output_type": "execute_result"
    }
   ],
   "source": [
    "train = pd.DataFrame()\n",
    "train[PLAYERS_COLUMNS] = pd.DataFrame(stack, columns=PLAYERS_COLUMNS)\n",
    "train[\"winner\"] = np.zeros(len(train))\n",
    "train[\"mode\"] = activities[\"mode\"]\n",
    "train[\"period\"] = pd.to_datetime(activities[\"period\"], format=BungieAPI.API_DATE_FORMAT)\n",
    "train[\"instance_id\"] = activities[\"instance_id\"]\n",
    "train[\"win_score\"] = activities[\"win_score\"]\n",
    "train[\"loss_score\"] = activities[\"loss_score\"]\n",
    "train"
   ],
   "metadata": {
    "collapsed": false
   }
  },
  {
   "cell_type": "code",
   "execution_count": 16,
   "outputs": [
    {
     "name": "stdout",
     "output_type": "stream",
     "text": [
      "CPU times: total: 2min\n",
      "Wall time: 2min\n"
     ]
    }
   ],
   "source": [
    "%%time\n",
    "# Save in csv for faster loading\n",
    "train.to_csv(os.path.join(ROOT_DATA_FOLDER, \"train.csv\"), index=False)"
   ],
   "metadata": {
    "collapsed": false
   }
  },
  {
   "cell_type": "markdown",
   "source": [
    "### SKlearn basic models with train v2"
   ],
   "metadata": {
    "collapsed": false
   }
  },
  {
   "cell_type": "code",
   "execution_count": 15,
   "outputs": [],
   "source": [
    "X = train.drop(columns=[\"winner\", \"period\"])\n",
    "Y = train[\"winner\"]\n",
    "X_train, X_test, y_train, y_test = train_test_split(X, Y, test_size=0.3, random_state=42, stratify=Y)\n",
    "\n",
    "# Keep period\n",
    "# X = train.drop(columns=[\"winner\"])\n",
    "# Y = train[\"winner\"]\n",
    "# X_train, X_test, y_train, y_test = train_test_split(X, Y, test_size=0.3, random_state=42, stratify=Y)\n",
    "#\n",
    "# X_train_period = X_train[\"period\"]\n",
    "# X_test_period = X_test[\"period\"]\n",
    "# X_train.drop(columns=[\"period\"], inplace=True)\n",
    "# X_test.drop(columns=[\"period\"], inplace=True)\n",
    "\n",
    "# Cut with date\n",
    "# max_train_date = datetime(year=2022, month=5, day=1)\n",
    "# X_train = train[train.period < max_train_date]\n",
    "# y_train = X_train[\"winner\"]\n",
    "# X_train.drop(columns=[\"winner\", \"period\"], inplace=True)\n",
    "# X_test = train[train.period >= max_train_date]\n",
    "# y_test = X_test[\"winner\"]\n",
    "# X_test.drop(columns=[\"winner\", \"period\"], inplace=True)"
   ],
   "metadata": {
    "collapsed": false
   }
  },
  {
   "cell_type": "code",
   "execution_count": null,
   "outputs": [],
   "source": [
    "# Mean of every stat per team -> Decrease performance (79% acc)\n",
    "TEAM_COLUMNS = [f\"team_A_{stat}\" for stat in STATS_NAME] + [f\"team_B_{stat}\" for stat in STATS_NAME]\n",
    "for i in range(len(STATS_NAME)):\n",
    "    col = TEAM_COLUMNS[i]\n",
    "    stat = STATS_NAME[i]\n",
    "    sel = [f\"player_{k}_{stat}\" for k in range(1, 7)]\n",
    "    X[col] = X.loc[:, sel].mean(axis=1)\n",
    "for i in range(len(STATS_NAME)):\n",
    "    col = TEAM_COLUMNS[i+6]\n",
    "    stat = STATS_NAME[i]\n",
    "    sel = [f\"player_{k}_{stat}\" for k in range(7, 13)]\n",
    "    X[col] = X.loc[:, sel].mean(axis=1)\n",
    "X.drop(columns=PLAYERS_COLUMNS, inplace=True)\n",
    "X"
   ],
   "metadata": {
    "collapsed": false
   }
  },
  {
   "cell_type": "code",
   "execution_count": null,
   "outputs": [],
   "source": [
    "pipeline = make_pipeline(StandardScaler(), SVC())\n",
    "acc_scores = cross_val_score(pipeline, X, Y, cv=4, scoring=\"accuracy\", n_jobs=-1)\n",
    "print(f\"Mean acc = {acc_scores.mean()}, Std acc = {acc_scores.std()}\")\n",
    "pipeline"
   ],
   "metadata": {
    "collapsed": false
   }
  },
  {
   "cell_type": "code",
   "execution_count": null,
   "outputs": [],
   "source": [
    "pipeline = make_pipeline(StandardScaler(), RandomForestClassifier())\n",
    "acc_scores = cross_val_score(pipeline, X, Y, cv=4, scoring=\"accuracy\", n_jobs=-1)\n",
    "print(f\"Mean acc = {acc_scores.mean()}, Std acc = {acc_scores.std()}\")\n",
    "print(pipeline)"
   ],
   "metadata": {
    "collapsed": false
   }
  },
  {
   "cell_type": "code",
   "execution_count": null,
   "outputs": [],
   "source": [
    "forest = RandomForestClassifier()\n",
    "forest.fit(X, Y)\n",
    "importances = {\n",
    "    \"combat_rating\": forest.feature_importances_[[i for i in range(0, 12*N_STATS, N_STATS)]].sum(),\n",
    "    \"kills_pga\": forest.feature_importances_[[i for i in range(1, 12*N_STATS, N_STATS)]].sum(),\n",
    "    \"assists_pga\": forest.feature_importances_[[i for i in range(2, 12*N_STATS, N_STATS)]].sum(),\n",
    "    \"deaths_pga\": forest.feature_importances_[[i for i in range(3, 12*N_STATS, N_STATS)]].sum(),\n",
    "    \"score_pga\": forest.feature_importances_[[i for i in range(4, 12*N_STATS, N_STATS)]].sum(),\n",
    "    \"win_ratio\": forest.feature_importances_[[i for i in range(5, 12*N_STATS, N_STATS)]].sum()\n",
    "}\n",
    "pd.DataFrame([v for v in importances.values()], index=[k for k in importances], columns=[\"value\"]).sort_values(by=[\"value\"], ascending=False)"
   ],
   "metadata": {
    "collapsed": false
   }
  },
  {
   "cell_type": "code",
   "execution_count": 26,
   "outputs": [
    {
     "name": "stdout",
     "output_type": "stream",
     "text": [
      "Accuracy: 0.6622035155148465\n",
      "F1-score: 0.6488769229099042\n",
      "[[33519 14354]\n",
      " [17989 29885]]\n",
      "<catboost.core.CatBoostClassifier object at 0x0000023DA2ACE050>\n",
      "Mean proba for each section of the confusion matrix:\n",
      "[[0.79315154 0.70205781]\n",
      " [0.72243322 0.77767144]]\n"
     ]
    }
   ],
   "source": [
    "clf = CatBoostClassifier(verbose=False, random_state=42)\n",
    "clf.fit(X_train, y_train, cat_features=[\"mode\"])\n",
    "\n",
    "y_pred = clf.predict(X_test)\n",
    "print(\"Accuracy:\", accuracy_score(y_test, y_pred))\n",
    "print(\"F1-score:\", f1_score(y_test, y_pred))\n",
    "print(confusion_matrix(y_test, y_pred))\n",
    "print(clf)\n",
    "\n",
    "probs = clf.predict_proba(X_test).max(axis=1)\n",
    "confusion_matrix_mean_prob = np.array([[probs[np.where((y_test == y_pred) & (y_test == 0))].mean(), probs[np.where((y_pred == 1) & (y_test == 0))].mean()],\n",
    "                                       [probs[np.where((y_pred == 0) & (y_test == 1))].mean(), probs[np.where((y_test == y_pred) & (y_test == 1))].mean()]])\n",
    "print(\"Mean proba for each section of the confusion matrix:\")\n",
    "print(confusion_matrix_mean_prob)"
   ],
   "metadata": {
    "collapsed": false
   }
  },
  {
   "cell_type": "code",
   "execution_count": null,
   "outputs": [],
   "source": [
    "clf.save_model(\"model_quickplay.json\", format=\"json\")"
   ],
   "metadata": {
    "collapsed": false
   }
  },
  {
   "cell_type": "code",
   "execution_count": 25,
   "outputs": [
    {
     "data": {
      "text/plain": "<catboost.core.CatBoostClassifier at 0x23da2ace050>"
     },
     "execution_count": 25,
     "metadata": {},
     "output_type": "execute_result"
    }
   ],
   "source": [
    "import catboost\n",
    "\n",
    "clf = catboost.CatBoostClassifier(verbose=False)\n",
    "clf.load_model(\"model_quickplay.json\", \"json\")"
   ],
   "metadata": {
    "collapsed": false
   }
  },
  {
   "cell_type": "markdown",
   "source": [
    "# Deep learning model"
   ],
   "metadata": {
    "collapsed": false
   }
  },
  {
   "cell_type": "code",
   "execution_count": null,
   "outputs": [],
   "source": [
    "import tensorflow as tf\n",
    "from tensorflow import keras\n",
    "from tensorflow.keras import layers\n",
    "from scikeras.wrappers import KerasClassifier\n",
    "# tf.config.list_physical_devices('GPU')"
   ],
   "metadata": {
    "collapsed": false
   }
  },
  {
   "cell_type": "code",
   "execution_count": null,
   "outputs": [],
   "source": [
    "X = train[train[\"mode\"] == 73].drop(columns=[\"winner\", \"period\", \"mode\"])\n",
    "Y = train[train[\"mode\"] == 73][\"winner\"]\n",
    "X_train, X_test, y_train, y_test = train_test_split(X, Y, test_size=0.3, random_state=42, stratify=Y)"
   ],
   "metadata": {
    "collapsed": false
   }
  },
  {
   "cell_type": "code",
   "execution_count": null,
   "outputs": [],
   "source": [
    "model = keras.Sequential()\n",
    "model.add(keras.Input(shape=(len(X_train.columns),)))\n",
    "model.add(layers.Dense(12, activation=\"relu\"))\n",
    "model.add(layers.Dense(1, activation=\"sigmoid\"))\n",
    "model.compile(loss='binary_crossentropy', optimizer='adam', metrics=['accuracy'])\n",
    "clf = KerasClassifier(model=model, epochs=50, batch_size=5)\n",
    "pipeline = make_pipeline(StandardScaler(), clf)\n",
    "\n",
    "model.summary()"
   ],
   "metadata": {
    "collapsed": false
   }
  },
  {
   "cell_type": "code",
   "execution_count": null,
   "outputs": [],
   "source": [
    "pipeline.fit(X_train, y_train)"
   ],
   "metadata": {
    "collapsed": false
   }
  },
  {
   "cell_type": "code",
   "execution_count": null,
   "outputs": [],
   "source": [
    "y_pred = pipeline.predict(X_test)\n",
    "print(\"Accuracy:\", accuracy_score(y_test, y_pred))\n",
    "print(\"F1-score:\", f1_score(y_test, y_pred))\n",
    "print(confusion_matrix(y_test, y_pred))\n",
    "print(pipeline)"
   ],
   "metadata": {
    "collapsed": false
   }
  },
  {
   "cell_type": "markdown",
   "source": [
    "# Test on competitive (3v3)\n",
    "Result: need 2 models, one for quickplay (6v6) and one for competitive (at least for osiris) (3v3)\n",
    "Result2: TBD with mode as categorical feature"
   ],
   "metadata": {
    "collapsed": false
   }
  },
  {
   "cell_type": "code",
   "execution_count": null,
   "outputs": [],
   "source": [
    "# Get activities\n",
    "request = \"SELECT * FROM main.activity WHERE activity.mode=84\"\n",
    "r = db_helper.execute(request, [])\n",
    "activities = pd.DataFrame(data=[dict(row) for row in r])\n",
    "activities"
   ],
   "metadata": {
    "collapsed": false
   }
  },
  {
   "cell_type": "code",
   "execution_count": null,
   "outputs": [],
   "source": [
    "t = activities.players.apply(extract_players_stats)\n",
    "stack2 = np.stack(t, axis=0)\n",
    "stack2 = np.reshape(stack2, (len(stack2), 12 * N_STATS))"
   ],
   "metadata": {
    "collapsed": false
   }
  },
  {
   "cell_type": "code",
   "execution_count": null,
   "outputs": [],
   "source": [
    "train_comp = pd.DataFrame()\n",
    "train_comp[PLAYERS_COLUMNS] = pd.DataFrame(stack2, columns=PLAYERS_COLUMNS)\n",
    "train_comp[\"winner\"] = np.zeros(len(train_comp))\n",
    "train_comp"
   ],
   "metadata": {
    "collapsed": false
   }
  },
  {
   "cell_type": "code",
   "execution_count": null,
   "outputs": [],
   "source": [
    "# Shuffle winning team\n",
    "mid = len(train_comp) // 2\n",
    "\n",
    "player_cols_team_A = get_cols_name(1, 7)\n",
    "player_cols_team_B = get_cols_name(7, 13)\n",
    "tmp_cols = [f\"tmp_{i}\" for i in range(6*N_STATS)]\n",
    "\n",
    "# False positive warning (see https://stackoverflow.com/questions/20625582/how-to-deal-with-settingwithcopywarning-in-pandas)\n",
    "train_comp.loc[:mid] = (train_comp.loc[:mid].rename(columns={player_cols_team_A[i]: tmp_cols[i] for i in range(len(player_cols_team_A))})\n",
    "                                            .rename(columns={player_cols_team_B[i]: player_cols_team_A[i] for i in range(len(player_cols_team_A))})\n",
    "                                            .rename(columns={tmp_cols[i]: player_cols_team_B[i] for i in range(len(player_cols_team_A))}))\\\n",
    "                                            [list(PLAYERS_COLUMNS) + [\"winner\"]]  # reorder columns\n",
    "train_comp.loc[:mid, \"winner\"] = [1 for i in range(mid + 1)]\n",
    "train_comp = train_comp.sample(frac=1.0).reset_index(drop=True)\n",
    "train_comp"
   ],
   "metadata": {
    "collapsed": false
   }
  },
  {
   "cell_type": "code",
   "execution_count": null,
   "outputs": [],
   "source": [
    "X, Y = train_comp[PLAYERS_COLUMNS], train_comp[\"winner\"]\n",
    "X_train, X_test, y_train, y_test = train_test_split(X, Y, test_size=0.3, random_state=42, stratify=Y)\n",
    "\n",
    "clf_comp = CatBoostClassifier(verbose=False)\n",
    "clf_comp.fit(X_train, y_train)\n",
    "\n",
    "y_pred = clf_comp.predict(X_test)\n",
    "print(\"Accuracy:\", accuracy_score(y_test, y_pred))\n",
    "print(\"F1-score:\", f1_score(y_test, y_pred))\n",
    "print(confusion_matrix(y_test, y_pred))\n",
    "print(clf)\n",
    "\n",
    "probs = clf.predict_proba(X_test).max(axis=1)\n",
    "confusion_matrix_mean_prob = np.array([[probs[np.where((y_test == y_pred) & (y_test == 0))].mean(), probs[np.where((y_pred == 1) & (y_test == 0))].mean()],\n",
    "                                       [probs[np.where((y_pred == 0) & (y_test == 1))].mean(), probs[np.where((y_test == y_pred) & (y_test == 1))].mean()]])\n",
    "print(\"Mean proba for each section of the confusion matrix:\")\n",
    "print(confusion_matrix_mean_prob)"
   ],
   "metadata": {
    "collapsed": false
   }
  },
  {
   "cell_type": "markdown",
   "source": [
    "### Compare time sql and pandas"
   ],
   "metadata": {
    "collapsed": false
   }
  },
  {
   "cell_type": "code",
   "execution_count": null,
   "outputs": [],
   "source": [
    "membership_id = 4611686018489429030\n",
    "membership_type = 3\n",
    "character_id = 2305843009503194358\n",
    "\n",
    "# Retrieve guardian with sql\n",
    "start_time = time.time()\n",
    "for i in range(1000):\n",
    "    g = db_helper.get_guardian_from_ids(\n",
    "        Guardian(membership_id=membership_id, membership_type=membership_type, character_id=character_id))\n",
    "print(f\"SQL query took {time.time() - start_time}s to complete.\")\n",
    "\n",
    "# Retrieve guardian with pandas\n",
    "start_time = time.time()\n",
    "for i in range(1000):\n",
    "    g = guardians.loc[(guardians.membership_id == membership_id) & (guardians.membership_type == membership_type) & (\n",
    "                guardians.character_id == character_id)]\n",
    "print(f\"Pandas query took {time.time() - start_time}s to complete.\")"
   ],
   "metadata": {
    "collapsed": false
   }
  }
 ],
 "metadata": {
  "kernelspec": {
   "display_name": "Python 3",
   "language": "python",
   "name": "python3"
  },
  "language_info": {
   "codemirror_mode": {
    "name": "ipython",
    "version": 2
   },
   "file_extension": ".py",
   "mimetype": "text/x-python",
   "name": "python",
   "nbconvert_exporter": "python",
   "pygments_lexer": "ipython2",
   "version": "2.7.6"
  }
 },
 "nbformat": 4,
 "nbformat_minor": 0
}
