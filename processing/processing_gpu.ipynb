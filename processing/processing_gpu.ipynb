{
 "nbformat": 4,
 "nbformat_minor": 0,
 "metadata": {
  "colab": {
   "provenance": []
  },
  "kernelspec": {
   "name": "python3",
   "display_name": "Python 3"
  },
  "language_info": {
   "name": "python"
  },
  "accelerator": "GPU",
  "gpuClass": "standard"
 },
 "cells": [
  {
   "cell_type": "markdown",
   "source": [
    "# Imports"
   ],
   "metadata": {
    "id": "uJ1cl2BK-yh9"
   }
  },
  {
   "cell_type": "code",
   "source": [
    "import time\n",
    "from pathlib import Path\n",
    "from datetime import datetime\n",
    "import pandas as pd\n",
    "import numpy as np\n",
    "import os, sys\n",
    "import seaborn as sns\n",
    "import json\n",
    "import sqlite3\n",
    "\n",
    "from sklearn.model_selection import train_test_split, cross_val_score\n",
    "from sklearn.metrics import accuracy_score, confusion_matrix, f1_score, explained_variance_score, max_error, mean_absolute_error, mean_squared_error\n",
    "from sklearn.pipeline import make_pipeline\n",
    "from sklearn.preprocessing import MinMaxScaler, StandardScaler\n",
    "from sklearn.svm import SVC\n",
    "from sklearn.decomposition import PCA\n",
    "from sklearn.ensemble import RandomForestClassifier\n",
    "from catboost import CatBoostClassifier, CatBoostRegressor"
   ],
   "metadata": {
    "id": "gHCWcR4R9tGt"
   },
   "execution_count": 1,
   "outputs": []
  },
  {
   "cell_type": "code",
   "source": [
    "ROOT_DATA_FOLDER = \"../data\"\n",
    "API_DATE_FORMAT = \"%Y-%m-%dT%H:%M:%SZ\"\n",
    "RANDOM_STATE = 40"
   ],
   "metadata": {
    "id": "-WW1JvtJMkVB"
   },
   "execution_count": 2,
   "outputs": []
  },
  {
   "cell_type": "markdown",
   "source": [
    "# Functions"
   ],
   "metadata": {
    "id": "_t99q8Q6_CRs"
   }
  },
  {
   "cell_type": "code",
   "source": [
    "def pad(l: list, n: int, value=0):\n",
    "    return l + [value] * (n - len(l))"
   ],
   "metadata": {
    "id": "GVXPVRdB_DZz"
   },
   "execution_count": 3,
   "outputs": []
  },
  {
   "cell_type": "code",
   "source": [
    "def get_stat_columns(stat_name):\n",
    "    \"\"\"\n",
    "    Get the columns of a stat from all players.\n",
    "    :param feature_name: \n",
    "    :return: \n",
    "    \"\"\"\n",
    "    return [f\"player_{i}_{stat_name}\" for i in range(1, 13)]"
   ],
   "metadata": {
    "id": "U-ifbPRRTc2Q"
   },
   "execution_count": 4,
   "outputs": []
  },
  {
   "cell_type": "code",
   "execution_count": 5,
   "outputs": [],
   "source": [
    "def get_cols_name(player_range_start: int, player_range_end: int):\n",
    "    \"\"\"\n",
    "    Get columns of all stats from the range of players\n",
    "    :param player_range_start: \n",
    "    :param player_range_end: \n",
    "    :return: \n",
    "    \"\"\"\n",
    "    return np.array(\n",
    "        [[f\"player_{i}_{stat}\" for stat in STATS_NAME] for i in range(player_range_start, player_range_end)]).reshape(\n",
    "        (player_range_end - player_range_start) * N_STATS)"
   ],
   "metadata": {
    "collapsed": false
   }
  },
  {
   "cell_type": "code",
   "execution_count": 6,
   "outputs": [],
   "source": [
    "def get_player_columns(player_number):\n",
    "    \"\"\"\n",
    "    Get all columns of a player.\n",
    "    :param player_number: \n",
    "    :return: \n",
    "    \"\"\"\n",
    "    return [f\"player_{player_number}_{stat}\" for stat in STATS_NAME]"
   ],
   "metadata": {
    "collapsed": false
   }
  },
  {
   "cell_type": "code",
   "source": [
    "# Shuffle teams so that half of the activities were won\n",
    "def shuffle_winning_team(df):\n",
    "    # Not optimal - renaming columns but the rvalue consume memory as well\n",
    "    mid = len(df) // 2\n",
    "\n",
    "    # First shuffle dataframe to ensure dates are shuffle as well\n",
    "    df = df.sample(frac=1.0, random_state=RANDOM_STATE).reset_index(drop=True)\n",
    "\n",
    "    player_cols_team_A = get_cols_name(1, 7)\n",
    "    player_cols_team_B = get_cols_name(7, 13)\n",
    "    tmp_cols = [f\"tmp_{i}\" for i in range(6*N_STATS)]\n",
    "\n",
    "    # False positive warning (see https://stackoverflow.com/questions/20625582/how-to-deal-with-settingwithcopywarning-in-pandas)\n",
    "    df.loc[:mid] = (df.loc[:mid].rename(columns={player_cols_team_A[i]: tmp_cols[i] for i in range(len(player_cols_team_A))})\n",
    "                                    .rename(columns={player_cols_team_B[i]: player_cols_team_A[i] for i in range(len(player_cols_team_A))})\n",
    "                                    .rename(columns={tmp_cols[i]: player_cols_team_B[i] for i in range(len(player_cols_team_A))}))\\\n",
    "                                    [df.columns]  # reorder columns\n",
    "    df.loc[:mid, \"winner\"] = [1 for i in range(mid + 1)]\n",
    "    \n",
    "    df = df.sample(frac=1.0, random_state=RANDOM_STATE+1).reset_index(drop=True)\n",
    "    return df"
   ],
   "metadata": {
    "id": "0vYvIVt4BPnr"
   },
   "execution_count": 7,
   "outputs": []
  },
  {
   "cell_type": "markdown",
   "source": [
    "# Load data"
   ],
   "metadata": {
    "id": "MHcwQpiSBzFk"
   }
  },
  {
   "cell_type": "code",
   "source": [
    "%%time\n",
    "train = pd.read_csv(os.path.join(ROOT_DATA_FOLDER, \"train.csv\"))\n",
    "train[\"period\"] = pd.to_datetime(train[\"period\"], format=\"%Y-%m-%d %H:%M:%S\")\n",
    "train"
   ],
   "metadata": {
    "colab": {
     "base_uri": "https://localhost:8080/",
     "height": 661
    },
    "id": "ZNwqs2YsB0ET",
    "outputId": "7983e2ff-7c8c-45c8-af45-f9ad5dc25a4f"
   },
   "execution_count": 8,
   "outputs": [
    {
     "name": "stdout",
     "output_type": "stream",
     "text": [
      "CPU times: total: 23.4 s\n",
      "Wall time: 25.7 s\n"
     ]
    },
    {
     "data": {
      "text/plain": "         player_1_activities_entered  player_1_combat_rating  \\\n0                              261.0              168.135969   \n1                              390.0              161.895219   \n2                              390.0              161.895219   \n3                              390.0              161.895219   \n4                               17.0              130.364239   \n...                              ...                     ...   \n1730453                         -1.0               -1.000000   \n1730454                      15174.0              170.628974   \n1730455                       3852.0              153.905220   \n1730456                       2196.0              163.112964   \n1730457                        184.0              219.015600   \n\n         player_1_kills_pga  player_1_assists_pga  player_1_deaths_pga  \\\n0                  8.103448              3.252874             8.176245   \n1                 11.684615              3.951282             8.828205   \n2                 11.684615              3.951282             8.828205   \n3                 11.684615              3.951282             8.828205   \n4                 10.176471              5.176471            10.764706   \n...                     ...                   ...                  ...   \n1730453           -1.000000             -1.000000            -1.000000   \n1730454           16.674839              4.118492             8.530513   \n1730455            9.868640              1.928868             6.599429   \n1730456           16.972678              4.117486             9.576503   \n1730457           17.793478              3.972826             7.907609   \n\n         player_1_score_pga  player_1_win_ratio  player_1_kd  player_1_kda  \\\n0                  5.896552            0.444444     0.991097      1.388941   \n1                 15.935897            0.551282     1.323555      1.771130   \n2                 15.935897            0.551282     1.323555      1.771130   \n3                 15.935897            0.551282     1.323555      1.771130   \n4                 15.411765            0.352941     0.945355      1.426230   \n...                     ...                 ...          ...           ...   \n1730453           -1.000000           -1.000000    -1.000000     -1.000000   \n1730454           24.418545            0.545341     1.954729      2.437524   \n1730455            7.002077            0.594756     1.495378      1.787656   \n1730456           26.020036            0.528233     1.772325      2.202282   \n1730457           34.869565            0.782609     2.250172      2.752577   \n\n         player_2_activities_entered  ...  player_12_score_pga  \\\n0                             2417.0  ...             0.000000   \n1                             2417.0  ...             0.000000   \n2                             2417.0  ...             0.000000   \n3                             2417.0  ...             0.000000   \n4                               49.0  ...             0.000000   \n...                              ...  ...                  ...   \n1730453                         -1.0  ...            -1.000000   \n1730454                       2024.0  ...            21.497872   \n1730455                      15174.0  ...            27.348982   \n1730456                       1141.0  ...            22.379874   \n1730457                       3384.0  ...            20.612193   \n\n         player_12_win_ratio  player_12_kd  player_12_kda  winner  mode  \\\n0                   0.000000      0.000000       0.000000     0.0    71   \n1                   0.000000      0.000000       0.000000     0.0    71   \n2                   0.000000      0.000000       0.000000     0.0    73   \n3                   0.000000      0.000000       0.000000     0.0    73   \n4                   0.000000      0.000000       0.000000     0.0    73   \n...                      ...           ...            ...     ...   ...   \n1730453            -1.000000     -1.000000      -1.000000     0.0    73   \n1730454             0.451064      1.239148       1.604013     0.0    73   \n1730455             0.592195      1.516892       1.976510     0.0    73   \n1730456             0.483019      1.239597       1.707276     0.0    73   \n1730457             0.418033      1.043242       1.411790     0.0    71   \n\n                     period  instance_id  win_score  loss_score  \n0       2017-09-05 23:32:24      1885169         58          35  \n1       2017-09-05 23:42:27      2024057         39          36  \n2       2017-09-05 23:53:01      2159868         85          54  \n3       2017-09-06 00:04:05      2269987         77          25  \n4       2017-09-06 05:42:33      7875392         95          51  \n...                     ...          ...        ...         ...  \n1730453 2022-12-28 18:58:17  12153675395        149          98  \n1730454 2022-12-28 19:16:05  12153780908        142         116  \n1730455 2022-12-28 19:32:36  12153874512        151         149  \n1730456 2022-12-28 19:45:04  12153943044        151         138  \n1730457 2022-12-28 20:42:27  12154292337         95          69  \n\n[1730458 rows x 114 columns]",
      "text/html": "<div>\n<style scoped>\n    .dataframe tbody tr th:only-of-type {\n        vertical-align: middle;\n    }\n\n    .dataframe tbody tr th {\n        vertical-align: top;\n    }\n\n    .dataframe thead th {\n        text-align: right;\n    }\n</style>\n<table border=\"1\" class=\"dataframe\">\n  <thead>\n    <tr style=\"text-align: right;\">\n      <th></th>\n      <th>player_1_activities_entered</th>\n      <th>player_1_combat_rating</th>\n      <th>player_1_kills_pga</th>\n      <th>player_1_assists_pga</th>\n      <th>player_1_deaths_pga</th>\n      <th>player_1_score_pga</th>\n      <th>player_1_win_ratio</th>\n      <th>player_1_kd</th>\n      <th>player_1_kda</th>\n      <th>player_2_activities_entered</th>\n      <th>...</th>\n      <th>player_12_score_pga</th>\n      <th>player_12_win_ratio</th>\n      <th>player_12_kd</th>\n      <th>player_12_kda</th>\n      <th>winner</th>\n      <th>mode</th>\n      <th>period</th>\n      <th>instance_id</th>\n      <th>win_score</th>\n      <th>loss_score</th>\n    </tr>\n  </thead>\n  <tbody>\n    <tr>\n      <th>0</th>\n      <td>261.0</td>\n      <td>168.135969</td>\n      <td>8.103448</td>\n      <td>3.252874</td>\n      <td>8.176245</td>\n      <td>5.896552</td>\n      <td>0.444444</td>\n      <td>0.991097</td>\n      <td>1.388941</td>\n      <td>2417.0</td>\n      <td>...</td>\n      <td>0.000000</td>\n      <td>0.000000</td>\n      <td>0.000000</td>\n      <td>0.000000</td>\n      <td>0.0</td>\n      <td>71</td>\n      <td>2017-09-05 23:32:24</td>\n      <td>1885169</td>\n      <td>58</td>\n      <td>35</td>\n    </tr>\n    <tr>\n      <th>1</th>\n      <td>390.0</td>\n      <td>161.895219</td>\n      <td>11.684615</td>\n      <td>3.951282</td>\n      <td>8.828205</td>\n      <td>15.935897</td>\n      <td>0.551282</td>\n      <td>1.323555</td>\n      <td>1.771130</td>\n      <td>2417.0</td>\n      <td>...</td>\n      <td>0.000000</td>\n      <td>0.000000</td>\n      <td>0.000000</td>\n      <td>0.000000</td>\n      <td>0.0</td>\n      <td>71</td>\n      <td>2017-09-05 23:42:27</td>\n      <td>2024057</td>\n      <td>39</td>\n      <td>36</td>\n    </tr>\n    <tr>\n      <th>2</th>\n      <td>390.0</td>\n      <td>161.895219</td>\n      <td>11.684615</td>\n      <td>3.951282</td>\n      <td>8.828205</td>\n      <td>15.935897</td>\n      <td>0.551282</td>\n      <td>1.323555</td>\n      <td>1.771130</td>\n      <td>2417.0</td>\n      <td>...</td>\n      <td>0.000000</td>\n      <td>0.000000</td>\n      <td>0.000000</td>\n      <td>0.000000</td>\n      <td>0.0</td>\n      <td>73</td>\n      <td>2017-09-05 23:53:01</td>\n      <td>2159868</td>\n      <td>85</td>\n      <td>54</td>\n    </tr>\n    <tr>\n      <th>3</th>\n      <td>390.0</td>\n      <td>161.895219</td>\n      <td>11.684615</td>\n      <td>3.951282</td>\n      <td>8.828205</td>\n      <td>15.935897</td>\n      <td>0.551282</td>\n      <td>1.323555</td>\n      <td>1.771130</td>\n      <td>2417.0</td>\n      <td>...</td>\n      <td>0.000000</td>\n      <td>0.000000</td>\n      <td>0.000000</td>\n      <td>0.000000</td>\n      <td>0.0</td>\n      <td>73</td>\n      <td>2017-09-06 00:04:05</td>\n      <td>2269987</td>\n      <td>77</td>\n      <td>25</td>\n    </tr>\n    <tr>\n      <th>4</th>\n      <td>17.0</td>\n      <td>130.364239</td>\n      <td>10.176471</td>\n      <td>5.176471</td>\n      <td>10.764706</td>\n      <td>15.411765</td>\n      <td>0.352941</td>\n      <td>0.945355</td>\n      <td>1.426230</td>\n      <td>49.0</td>\n      <td>...</td>\n      <td>0.000000</td>\n      <td>0.000000</td>\n      <td>0.000000</td>\n      <td>0.000000</td>\n      <td>0.0</td>\n      <td>73</td>\n      <td>2017-09-06 05:42:33</td>\n      <td>7875392</td>\n      <td>95</td>\n      <td>51</td>\n    </tr>\n    <tr>\n      <th>...</th>\n      <td>...</td>\n      <td>...</td>\n      <td>...</td>\n      <td>...</td>\n      <td>...</td>\n      <td>...</td>\n      <td>...</td>\n      <td>...</td>\n      <td>...</td>\n      <td>...</td>\n      <td>...</td>\n      <td>...</td>\n      <td>...</td>\n      <td>...</td>\n      <td>...</td>\n      <td>...</td>\n      <td>...</td>\n      <td>...</td>\n      <td>...</td>\n      <td>...</td>\n      <td>...</td>\n    </tr>\n    <tr>\n      <th>1730453</th>\n      <td>-1.0</td>\n      <td>-1.000000</td>\n      <td>-1.000000</td>\n      <td>-1.000000</td>\n      <td>-1.000000</td>\n      <td>-1.000000</td>\n      <td>-1.000000</td>\n      <td>-1.000000</td>\n      <td>-1.000000</td>\n      <td>-1.0</td>\n      <td>...</td>\n      <td>-1.000000</td>\n      <td>-1.000000</td>\n      <td>-1.000000</td>\n      <td>-1.000000</td>\n      <td>0.0</td>\n      <td>73</td>\n      <td>2022-12-28 18:58:17</td>\n      <td>12153675395</td>\n      <td>149</td>\n      <td>98</td>\n    </tr>\n    <tr>\n      <th>1730454</th>\n      <td>15174.0</td>\n      <td>170.628974</td>\n      <td>16.674839</td>\n      <td>4.118492</td>\n      <td>8.530513</td>\n      <td>24.418545</td>\n      <td>0.545341</td>\n      <td>1.954729</td>\n      <td>2.437524</td>\n      <td>2024.0</td>\n      <td>...</td>\n      <td>21.497872</td>\n      <td>0.451064</td>\n      <td>1.239148</td>\n      <td>1.604013</td>\n      <td>0.0</td>\n      <td>73</td>\n      <td>2022-12-28 19:16:05</td>\n      <td>12153780908</td>\n      <td>142</td>\n      <td>116</td>\n    </tr>\n    <tr>\n      <th>1730455</th>\n      <td>3852.0</td>\n      <td>153.905220</td>\n      <td>9.868640</td>\n      <td>1.928868</td>\n      <td>6.599429</td>\n      <td>7.002077</td>\n      <td>0.594756</td>\n      <td>1.495378</td>\n      <td>1.787656</td>\n      <td>15174.0</td>\n      <td>...</td>\n      <td>27.348982</td>\n      <td>0.592195</td>\n      <td>1.516892</td>\n      <td>1.976510</td>\n      <td>0.0</td>\n      <td>73</td>\n      <td>2022-12-28 19:32:36</td>\n      <td>12153874512</td>\n      <td>151</td>\n      <td>149</td>\n    </tr>\n    <tr>\n      <th>1730456</th>\n      <td>2196.0</td>\n      <td>163.112964</td>\n      <td>16.972678</td>\n      <td>4.117486</td>\n      <td>9.576503</td>\n      <td>26.020036</td>\n      <td>0.528233</td>\n      <td>1.772325</td>\n      <td>2.202282</td>\n      <td>1141.0</td>\n      <td>...</td>\n      <td>22.379874</td>\n      <td>0.483019</td>\n      <td>1.239597</td>\n      <td>1.707276</td>\n      <td>0.0</td>\n      <td>73</td>\n      <td>2022-12-28 19:45:04</td>\n      <td>12153943044</td>\n      <td>151</td>\n      <td>138</td>\n    </tr>\n    <tr>\n      <th>1730457</th>\n      <td>184.0</td>\n      <td>219.015600</td>\n      <td>17.793478</td>\n      <td>3.972826</td>\n      <td>7.907609</td>\n      <td>34.869565</td>\n      <td>0.782609</td>\n      <td>2.250172</td>\n      <td>2.752577</td>\n      <td>3384.0</td>\n      <td>...</td>\n      <td>20.612193</td>\n      <td>0.418033</td>\n      <td>1.043242</td>\n      <td>1.411790</td>\n      <td>0.0</td>\n      <td>71</td>\n      <td>2022-12-28 20:42:27</td>\n      <td>12154292337</td>\n      <td>95</td>\n      <td>69</td>\n    </tr>\n  </tbody>\n</table>\n<p>1730458 rows × 114 columns</p>\n</div>"
     },
     "execution_count": 8,
     "metadata": {},
     "output_type": "execute_result"
    }
   ]
  },
  {
   "cell_type": "code",
   "execution_count": 9,
   "outputs": [
    {
     "data": {
      "text/plain": "0.0    1730458\nName: winner, dtype: int64"
     },
     "execution_count": 9,
     "metadata": {},
     "output_type": "execute_result"
    }
   ],
   "source": [
    "train[\"winner\"].value_counts()"
   ],
   "metadata": {
    "collapsed": false
   }
  },
  {
   "cell_type": "markdown",
   "source": [
    "# Preprocessing"
   ],
   "metadata": {
    "id": "fdhXKssS_2pb"
   }
  },
  {
   "cell_type": "code",
   "source": [
    "STATS_NAME = [\"activities_entered\", \"combat_rating\", \"kills_pga\", \"assists_pga\", \"deaths_pga\", \"score_pga\", \"win_ratio\", \"kd\", \"kda\"]\n",
    "N_STATS = len(STATS_NAME)\n",
    "PLAYERS_COLUMNS = np.array([[f\"player_{i}_{stat}\" for stat in STATS_NAME] for i in range(1, 13)]).reshape(12 * N_STATS)\n",
    "OTHER_COLUMNS = [\"instance_id\", \"period\", \"mode\", \"winner\", \"win_score\", \"loss_score\"]"
   ],
   "metadata": {
    "id": "gdXCaLA-_oq0"
   },
   "execution_count": 10,
   "outputs": []
  },
  {
   "cell_type": "code",
   "source": [
    "# Select rows without stats missing\n",
    "req = [f\"(train['{col}'] > -0.5)\" for col in PLAYERS_COLUMNS]\n",
    "req = \" & \".join(req)\n",
    "train = train[eval(req)]  # hey, it's not stupid if it works\n",
    "train.reset_index(inplace=True, drop=True)\n",
    "train"
   ],
   "metadata": {
    "id": "8HcDOmUOAwh7",
    "colab": {
     "base_uri": "https://localhost:8080/",
     "height": 661
    },
    "outputId": "23585e22-d87e-4060-df48-85dbef68f045"
   },
   "execution_count": 11,
   "outputs": [
    {
     "data": {
      "text/plain": "         player_1_activities_entered  player_1_combat_rating  \\\n0                              261.0              168.135969   \n1                              390.0              161.895219   \n2                              390.0              161.895219   \n3                               17.0              130.364239   \n4                              124.0              162.975152   \n...                              ...                     ...   \n1533888                      15174.0              170.628974   \n1533889                      15174.0              170.628974   \n1533890                       3852.0              153.905220   \n1533891                       2196.0              163.112964   \n1533892                        184.0              219.015600   \n\n         player_1_kills_pga  player_1_assists_pga  player_1_deaths_pga  \\\n0                  8.103448              3.252874             8.176245   \n1                 11.684615              3.951282             8.828205   \n2                 11.684615              3.951282             8.828205   \n3                 10.176471              5.176471            10.764706   \n4                 11.685484              3.766129             9.895161   \n...                     ...                   ...                  ...   \n1533888           16.674839              4.118492             8.530513   \n1533889           16.674839              4.118492             8.530513   \n1533890            9.868640              1.928868             6.599429   \n1533891           16.972678              4.117486             9.576503   \n1533892           17.793478              3.972826             7.907609   \n\n         player_1_score_pga  player_1_win_ratio  player_1_kd  player_1_kda  \\\n0                  5.896552            0.444444     0.991097      1.388941   \n1                 15.935897            0.551282     1.323555      1.771130   \n2                 15.935897            0.551282     1.323555      1.771130   \n3                 15.411765            0.352941     0.945355      1.426230   \n4                 17.645161            0.564516     1.180929      1.561532   \n...                     ...                 ...          ...           ...   \n1533888           24.418545            0.545341     1.954729      2.437524   \n1533889           24.418545            0.545341     1.954729      2.437524   \n1533890            7.002077            0.594756     1.495378      1.787656   \n1533891           26.020036            0.528233     1.772325      2.202282   \n1533892           34.869565            0.782609     2.250172      2.752577   \n\n         player_2_activities_entered  ...  player_12_score_pga  \\\n0                             2417.0  ...             0.000000   \n1                             2417.0  ...             0.000000   \n2                             2417.0  ...             0.000000   \n3                               49.0  ...             0.000000   \n4                              547.0  ...             0.000000   \n...                              ...  ...                  ...   \n1533888                       3381.0  ...            19.400411   \n1533889                       2024.0  ...            21.497872   \n1533890                      15174.0  ...            27.348982   \n1533891                       1141.0  ...            22.379874   \n1533892                       3384.0  ...            20.612193   \n\n         player_12_win_ratio  player_12_kd  player_12_kda  winner  mode  \\\n0                   0.000000      0.000000       0.000000     0.0    71   \n1                   0.000000      0.000000       0.000000     0.0    71   \n2                   0.000000      0.000000       0.000000     0.0    73   \n3                   0.000000      0.000000       0.000000     0.0    73   \n4                   0.000000      0.000000       0.000000     0.0    73   \n...                      ...           ...            ...     ...   ...   \n1533888             0.420945      0.879124       1.241751     0.0    73   \n1533889             0.451064      1.239148       1.604013     0.0    73   \n1533890             0.592195      1.516892       1.976510     0.0    73   \n1533891             0.483019      1.239597       1.707276     0.0    73   \n1533892             0.418033      1.043242       1.411790     0.0    71   \n\n                     period  instance_id  win_score  loss_score  \n0       2017-09-05 23:32:24      1885169         58          35  \n1       2017-09-05 23:42:27      2024057         39          36  \n2       2017-09-05 23:53:01      2159868         85          54  \n3       2017-09-06 05:42:33      7875392         95          51  \n4       2017-09-06 09:14:55     12789762         57          56  \n...                     ...          ...        ...         ...  \n1533888 2022-12-28 18:41:22  12153574902        150         113  \n1533889 2022-12-28 19:16:05  12153780908        142         116  \n1533890 2022-12-28 19:32:36  12153874512        151         149  \n1533891 2022-12-28 19:45:04  12153943044        151         138  \n1533892 2022-12-28 20:42:27  12154292337         95          69  \n\n[1533893 rows x 114 columns]",
      "text/html": "<div>\n<style scoped>\n    .dataframe tbody tr th:only-of-type {\n        vertical-align: middle;\n    }\n\n    .dataframe tbody tr th {\n        vertical-align: top;\n    }\n\n    .dataframe thead th {\n        text-align: right;\n    }\n</style>\n<table border=\"1\" class=\"dataframe\">\n  <thead>\n    <tr style=\"text-align: right;\">\n      <th></th>\n      <th>player_1_activities_entered</th>\n      <th>player_1_combat_rating</th>\n      <th>player_1_kills_pga</th>\n      <th>player_1_assists_pga</th>\n      <th>player_1_deaths_pga</th>\n      <th>player_1_score_pga</th>\n      <th>player_1_win_ratio</th>\n      <th>player_1_kd</th>\n      <th>player_1_kda</th>\n      <th>player_2_activities_entered</th>\n      <th>...</th>\n      <th>player_12_score_pga</th>\n      <th>player_12_win_ratio</th>\n      <th>player_12_kd</th>\n      <th>player_12_kda</th>\n      <th>winner</th>\n      <th>mode</th>\n      <th>period</th>\n      <th>instance_id</th>\n      <th>win_score</th>\n      <th>loss_score</th>\n    </tr>\n  </thead>\n  <tbody>\n    <tr>\n      <th>0</th>\n      <td>261.0</td>\n      <td>168.135969</td>\n      <td>8.103448</td>\n      <td>3.252874</td>\n      <td>8.176245</td>\n      <td>5.896552</td>\n      <td>0.444444</td>\n      <td>0.991097</td>\n      <td>1.388941</td>\n      <td>2417.0</td>\n      <td>...</td>\n      <td>0.000000</td>\n      <td>0.000000</td>\n      <td>0.000000</td>\n      <td>0.000000</td>\n      <td>0.0</td>\n      <td>71</td>\n      <td>2017-09-05 23:32:24</td>\n      <td>1885169</td>\n      <td>58</td>\n      <td>35</td>\n    </tr>\n    <tr>\n      <th>1</th>\n      <td>390.0</td>\n      <td>161.895219</td>\n      <td>11.684615</td>\n      <td>3.951282</td>\n      <td>8.828205</td>\n      <td>15.935897</td>\n      <td>0.551282</td>\n      <td>1.323555</td>\n      <td>1.771130</td>\n      <td>2417.0</td>\n      <td>...</td>\n      <td>0.000000</td>\n      <td>0.000000</td>\n      <td>0.000000</td>\n      <td>0.000000</td>\n      <td>0.0</td>\n      <td>71</td>\n      <td>2017-09-05 23:42:27</td>\n      <td>2024057</td>\n      <td>39</td>\n      <td>36</td>\n    </tr>\n    <tr>\n      <th>2</th>\n      <td>390.0</td>\n      <td>161.895219</td>\n      <td>11.684615</td>\n      <td>3.951282</td>\n      <td>8.828205</td>\n      <td>15.935897</td>\n      <td>0.551282</td>\n      <td>1.323555</td>\n      <td>1.771130</td>\n      <td>2417.0</td>\n      <td>...</td>\n      <td>0.000000</td>\n      <td>0.000000</td>\n      <td>0.000000</td>\n      <td>0.000000</td>\n      <td>0.0</td>\n      <td>73</td>\n      <td>2017-09-05 23:53:01</td>\n      <td>2159868</td>\n      <td>85</td>\n      <td>54</td>\n    </tr>\n    <tr>\n      <th>3</th>\n      <td>17.0</td>\n      <td>130.364239</td>\n      <td>10.176471</td>\n      <td>5.176471</td>\n      <td>10.764706</td>\n      <td>15.411765</td>\n      <td>0.352941</td>\n      <td>0.945355</td>\n      <td>1.426230</td>\n      <td>49.0</td>\n      <td>...</td>\n      <td>0.000000</td>\n      <td>0.000000</td>\n      <td>0.000000</td>\n      <td>0.000000</td>\n      <td>0.0</td>\n      <td>73</td>\n      <td>2017-09-06 05:42:33</td>\n      <td>7875392</td>\n      <td>95</td>\n      <td>51</td>\n    </tr>\n    <tr>\n      <th>4</th>\n      <td>124.0</td>\n      <td>162.975152</td>\n      <td>11.685484</td>\n      <td>3.766129</td>\n      <td>9.895161</td>\n      <td>17.645161</td>\n      <td>0.564516</td>\n      <td>1.180929</td>\n      <td>1.561532</td>\n      <td>547.0</td>\n      <td>...</td>\n      <td>0.000000</td>\n      <td>0.000000</td>\n      <td>0.000000</td>\n      <td>0.000000</td>\n      <td>0.0</td>\n      <td>73</td>\n      <td>2017-09-06 09:14:55</td>\n      <td>12789762</td>\n      <td>57</td>\n      <td>56</td>\n    </tr>\n    <tr>\n      <th>...</th>\n      <td>...</td>\n      <td>...</td>\n      <td>...</td>\n      <td>...</td>\n      <td>...</td>\n      <td>...</td>\n      <td>...</td>\n      <td>...</td>\n      <td>...</td>\n      <td>...</td>\n      <td>...</td>\n      <td>...</td>\n      <td>...</td>\n      <td>...</td>\n      <td>...</td>\n      <td>...</td>\n      <td>...</td>\n      <td>...</td>\n      <td>...</td>\n      <td>...</td>\n      <td>...</td>\n    </tr>\n    <tr>\n      <th>1533888</th>\n      <td>15174.0</td>\n      <td>170.628974</td>\n      <td>16.674839</td>\n      <td>4.118492</td>\n      <td>8.530513</td>\n      <td>24.418545</td>\n      <td>0.545341</td>\n      <td>1.954729</td>\n      <td>2.437524</td>\n      <td>3381.0</td>\n      <td>...</td>\n      <td>19.400411</td>\n      <td>0.420945</td>\n      <td>0.879124</td>\n      <td>1.241751</td>\n      <td>0.0</td>\n      <td>73</td>\n      <td>2022-12-28 18:41:22</td>\n      <td>12153574902</td>\n      <td>150</td>\n      <td>113</td>\n    </tr>\n    <tr>\n      <th>1533889</th>\n      <td>15174.0</td>\n      <td>170.628974</td>\n      <td>16.674839</td>\n      <td>4.118492</td>\n      <td>8.530513</td>\n      <td>24.418545</td>\n      <td>0.545341</td>\n      <td>1.954729</td>\n      <td>2.437524</td>\n      <td>2024.0</td>\n      <td>...</td>\n      <td>21.497872</td>\n      <td>0.451064</td>\n      <td>1.239148</td>\n      <td>1.604013</td>\n      <td>0.0</td>\n      <td>73</td>\n      <td>2022-12-28 19:16:05</td>\n      <td>12153780908</td>\n      <td>142</td>\n      <td>116</td>\n    </tr>\n    <tr>\n      <th>1533890</th>\n      <td>3852.0</td>\n      <td>153.905220</td>\n      <td>9.868640</td>\n      <td>1.928868</td>\n      <td>6.599429</td>\n      <td>7.002077</td>\n      <td>0.594756</td>\n      <td>1.495378</td>\n      <td>1.787656</td>\n      <td>15174.0</td>\n      <td>...</td>\n      <td>27.348982</td>\n      <td>0.592195</td>\n      <td>1.516892</td>\n      <td>1.976510</td>\n      <td>0.0</td>\n      <td>73</td>\n      <td>2022-12-28 19:32:36</td>\n      <td>12153874512</td>\n      <td>151</td>\n      <td>149</td>\n    </tr>\n    <tr>\n      <th>1533891</th>\n      <td>2196.0</td>\n      <td>163.112964</td>\n      <td>16.972678</td>\n      <td>4.117486</td>\n      <td>9.576503</td>\n      <td>26.020036</td>\n      <td>0.528233</td>\n      <td>1.772325</td>\n      <td>2.202282</td>\n      <td>1141.0</td>\n      <td>...</td>\n      <td>22.379874</td>\n      <td>0.483019</td>\n      <td>1.239597</td>\n      <td>1.707276</td>\n      <td>0.0</td>\n      <td>73</td>\n      <td>2022-12-28 19:45:04</td>\n      <td>12153943044</td>\n      <td>151</td>\n      <td>138</td>\n    </tr>\n    <tr>\n      <th>1533892</th>\n      <td>184.0</td>\n      <td>219.015600</td>\n      <td>17.793478</td>\n      <td>3.972826</td>\n      <td>7.907609</td>\n      <td>34.869565</td>\n      <td>0.782609</td>\n      <td>2.250172</td>\n      <td>2.752577</td>\n      <td>3384.0</td>\n      <td>...</td>\n      <td>20.612193</td>\n      <td>0.418033</td>\n      <td>1.043242</td>\n      <td>1.411790</td>\n      <td>0.0</td>\n      <td>71</td>\n      <td>2022-12-28 20:42:27</td>\n      <td>12154292337</td>\n      <td>95</td>\n      <td>69</td>\n    </tr>\n  </tbody>\n</table>\n<p>1533893 rows × 114 columns</p>\n</div>"
     },
     "execution_count": 11,
     "metadata": {},
     "output_type": "execute_result"
    }
   ]
  },
  {
   "cell_type": "markdown",
   "source": [
    " # Test"
   ],
   "metadata": {
    "id": "0CagdW-qM55C"
   }
  },
  {
   "cell_type": "markdown",
   "source": [
    "TODO with elo:\n",
    "1. save a 70% acc model for a base reference.\n",
    "2. set all players elo to X (0).\n",
    "3. for each activity, calculate the chance of winning in each team (using the previous model).\n",
    "4. for each activity, improve players elo based on chance of winning.\n",
    "5. ReTrain a new model based on elo.\n",
    "\n",
    "TODO with match score:\n",
    "1. Select only games where score_team_A >> score_team_B (or <<)\n",
    "\n",
    "TODO with rating:\n",
    "1. calculate player rating number (1 number) based on his stats"
   ],
   "metadata": {
    "collapsed": false
   }
  },
  {
   "cell_type": "code",
   "execution_count": 56,
   "outputs": [],
   "source": [
    "%%time\n",
    "def order_players_winrate(row):\n",
    "    cols = [f\"player_{i}_win_ratio\" for i in range(1, 7)]\n",
    "    row[cols] = row[cols].sort_values(ascending=False)\n",
    "    \n",
    "    cols = [f\"player_{i}_win_ratio\" for i in range(7, 13)]\n",
    "    row[cols] = row[cols].sort_values(ascending=False)\n",
    "    return row\n",
    "sel = sel.apply(order_players_winrate, axis=1)\n",
    "sel"
   ],
   "metadata": {
    "collapsed": false
   }
  },
  {
   "cell_type": "code",
   "execution_count": 12,
   "outputs": [],
   "source": [
    "# select only games with score different enough (not close games)\n",
    "sel[\"score_delta\"] = sel[\"win_score\"] - sel[\"loss_score\"]\n",
    "sel2 = sel[sel[\"score_delta\"] <= 30]\n",
    "sel = sel[sel[\"score_delta\"] > 30]\n",
    "sel = sel.drop(columns=[\"win_score\", \"loss_score\", \"score_delta\"])\n",
    "sel2 = sel2.drop(columns=[\"win_score\", \"loss_score\", \"score_delta\"])"
   ],
   "metadata": {
    "collapsed": false
   }
  },
  {
   "cell_type": "code",
   "execution_count": null,
   "outputs": [],
   "source": [],
   "metadata": {
    "collapsed": false
   }
  },
  {
   "cell_type": "markdown",
   "source": [
    "# Data selection"
   ],
   "metadata": {
    "collapsed": false
   }
  },
  {
   "cell_type": "markdown",
   "source": [
    "Gamemodes:\n",
    "1. 73 = control quickplay\n",
    "2. 84 = osiris\n",
    "3. 71 = clash quickplay\n",
    "4. 37 = survival"
   ],
   "metadata": {
    "collapsed": false
   }
  },
  {
   "cell_type": "code",
   "execution_count": 22,
   "outputs": [
    {
     "data": {
      "text/plain": "        player_1_activities_entered  player_1_combat_rating  \\\n0                            2272.0              173.168822   \n1                            1830.0              150.815936   \n2                             950.0              156.686483   \n3                             179.0              114.371419   \n4                            1998.0              149.467585   \n...                             ...                     ...   \n130089                        578.0              165.809994   \n130090                       2148.0              171.227673   \n130091                        222.0              150.598471   \n130092                       1689.0              119.297848   \n130093                       2928.0              140.319486   \n\n        player_1_kills_pga  player_1_assists_pga  player_1_deaths_pga  \\\n0                15.087588              3.073504             7.535651   \n1                13.954098              3.196175             9.161202   \n2                12.753684              2.991579             8.045263   \n3                 8.910615              4.441341            13.413408   \n4                14.053554              3.374374             8.090090   \n...                    ...                   ...                  ...   \n130089           13.733564              5.160900             9.167820   \n130090           10.342179              2.769088             5.803538   \n130091           14.265766              4.108108            10.171171   \n130092           11.843102              3.729426            10.619893   \n130093           10.898224              4.685109             8.744194   \n\n        player_1_score_pga  player_1_win_ratio  player_1_kd  player_1_kda  \\\n0                23.805018            0.590229     2.002161      2.410023   \n1                20.178689            0.483607     1.523173      1.872055   \n2                20.668421            0.590526     1.585241      1.957085   \n3                19.793296            0.486034     0.664307      0.995419   \n4                18.214214            0.524024     1.737132      2.154232   \n...                    ...                 ...          ...           ...   \n130089           31.842561            0.500000     1.498018      2.060955   \n130090           12.417132            0.722533     1.782047      2.259185   \n130091           24.049550            0.549550     1.402569      1.806466   \n130092           15.758437            0.469509     1.115181      1.466354   \n130093           22.934768            0.477117     1.246338      1.782135   \n\n        player_2_activities_entered  ...  player_12_win_ratio  player_12_kd  \\\n0                             270.0  ...             0.449782      0.484625   \n1                             436.0  ...             0.422535      0.444252   \n2                            1502.0  ...             0.434343      0.718423   \n3                            2374.0  ...             0.000000      0.111111   \n4                            2949.0  ...             0.553866      1.263315   \n...                             ...  ...                  ...           ...   \n130089                       4057.0  ...             0.409681      0.837483   \n130090                       1783.0  ...             0.714577      0.953719   \n130091                        110.0  ...             0.477273      0.548780   \n130092                       1198.0  ...             0.473214      1.014304   \n130093                       1631.0  ...             0.551789      1.252047   \n\n        player_12_kda  winner  mode              period  instance_id  \\\n0            0.669127     0.0    73 2021-03-03 23:31:44   8089374187   \n1            0.783362     1.0    73 2021-01-30 14:49:53   7868690028   \n2            1.061545     1.0    73 2020-06-21 13:19:53   6497013629   \n3            0.222222     0.0    73 2021-01-16 11:20:56   7799409533   \n4            1.625030     0.0    73 2021-10-15 17:07:43   9448212416   \n...               ...     ...   ...                 ...          ...   \n130089       1.127620     0.0    73 2021-07-13 16:55:36   8826795379   \n130090       1.310673     0.0    73 2021-08-30 12:21:02   9079019687   \n130091       0.801829     1.0    73 2021-06-02 15:01:39   8591909642   \n130092       1.578830     1.0    73 2021-09-16 19:23:24   9238179785   \n130093       1.594568     1.0    73 2020-01-15 01:52:09   5597851127   \n\n        win_score  loss_score  delta_score  \n0             106          48           58  \n1              96          14           82  \n2             150          83           67  \n3              99          28           71  \n4             150          60           90  \n...           ...         ...          ...  \n130089        150         103           47  \n130090         98          37           61  \n130091        150         101           49  \n130092        151         102           49  \n130093         98          28           70  \n\n[130094 rows x 115 columns]",
      "text/html": "<div>\n<style scoped>\n    .dataframe tbody tr th:only-of-type {\n        vertical-align: middle;\n    }\n\n    .dataframe tbody tr th {\n        vertical-align: top;\n    }\n\n    .dataframe thead th {\n        text-align: right;\n    }\n</style>\n<table border=\"1\" class=\"dataframe\">\n  <thead>\n    <tr style=\"text-align: right;\">\n      <th></th>\n      <th>player_1_activities_entered</th>\n      <th>player_1_combat_rating</th>\n      <th>player_1_kills_pga</th>\n      <th>player_1_assists_pga</th>\n      <th>player_1_deaths_pga</th>\n      <th>player_1_score_pga</th>\n      <th>player_1_win_ratio</th>\n      <th>player_1_kd</th>\n      <th>player_1_kda</th>\n      <th>player_2_activities_entered</th>\n      <th>...</th>\n      <th>player_12_win_ratio</th>\n      <th>player_12_kd</th>\n      <th>player_12_kda</th>\n      <th>winner</th>\n      <th>mode</th>\n      <th>period</th>\n      <th>instance_id</th>\n      <th>win_score</th>\n      <th>loss_score</th>\n      <th>delta_score</th>\n    </tr>\n  </thead>\n  <tbody>\n    <tr>\n      <th>0</th>\n      <td>2272.0</td>\n      <td>173.168822</td>\n      <td>15.087588</td>\n      <td>3.073504</td>\n      <td>7.535651</td>\n      <td>23.805018</td>\n      <td>0.590229</td>\n      <td>2.002161</td>\n      <td>2.410023</td>\n      <td>270.0</td>\n      <td>...</td>\n      <td>0.449782</td>\n      <td>0.484625</td>\n      <td>0.669127</td>\n      <td>0.0</td>\n      <td>73</td>\n      <td>2021-03-03 23:31:44</td>\n      <td>8089374187</td>\n      <td>106</td>\n      <td>48</td>\n      <td>58</td>\n    </tr>\n    <tr>\n      <th>1</th>\n      <td>1830.0</td>\n      <td>150.815936</td>\n      <td>13.954098</td>\n      <td>3.196175</td>\n      <td>9.161202</td>\n      <td>20.178689</td>\n      <td>0.483607</td>\n      <td>1.523173</td>\n      <td>1.872055</td>\n      <td>436.0</td>\n      <td>...</td>\n      <td>0.422535</td>\n      <td>0.444252</td>\n      <td>0.783362</td>\n      <td>1.0</td>\n      <td>73</td>\n      <td>2021-01-30 14:49:53</td>\n      <td>7868690028</td>\n      <td>96</td>\n      <td>14</td>\n      <td>82</td>\n    </tr>\n    <tr>\n      <th>2</th>\n      <td>950.0</td>\n      <td>156.686483</td>\n      <td>12.753684</td>\n      <td>2.991579</td>\n      <td>8.045263</td>\n      <td>20.668421</td>\n      <td>0.590526</td>\n      <td>1.585241</td>\n      <td>1.957085</td>\n      <td>1502.0</td>\n      <td>...</td>\n      <td>0.434343</td>\n      <td>0.718423</td>\n      <td>1.061545</td>\n      <td>1.0</td>\n      <td>73</td>\n      <td>2020-06-21 13:19:53</td>\n      <td>6497013629</td>\n      <td>150</td>\n      <td>83</td>\n      <td>67</td>\n    </tr>\n    <tr>\n      <th>3</th>\n      <td>179.0</td>\n      <td>114.371419</td>\n      <td>8.910615</td>\n      <td>4.441341</td>\n      <td>13.413408</td>\n      <td>19.793296</td>\n      <td>0.486034</td>\n      <td>0.664307</td>\n      <td>0.995419</td>\n      <td>2374.0</td>\n      <td>...</td>\n      <td>0.000000</td>\n      <td>0.111111</td>\n      <td>0.222222</td>\n      <td>0.0</td>\n      <td>73</td>\n      <td>2021-01-16 11:20:56</td>\n      <td>7799409533</td>\n      <td>99</td>\n      <td>28</td>\n      <td>71</td>\n    </tr>\n    <tr>\n      <th>4</th>\n      <td>1998.0</td>\n      <td>149.467585</td>\n      <td>14.053554</td>\n      <td>3.374374</td>\n      <td>8.090090</td>\n      <td>18.214214</td>\n      <td>0.524024</td>\n      <td>1.737132</td>\n      <td>2.154232</td>\n      <td>2949.0</td>\n      <td>...</td>\n      <td>0.553866</td>\n      <td>1.263315</td>\n      <td>1.625030</td>\n      <td>0.0</td>\n      <td>73</td>\n      <td>2021-10-15 17:07:43</td>\n      <td>9448212416</td>\n      <td>150</td>\n      <td>60</td>\n      <td>90</td>\n    </tr>\n    <tr>\n      <th>...</th>\n      <td>...</td>\n      <td>...</td>\n      <td>...</td>\n      <td>...</td>\n      <td>...</td>\n      <td>...</td>\n      <td>...</td>\n      <td>...</td>\n      <td>...</td>\n      <td>...</td>\n      <td>...</td>\n      <td>...</td>\n      <td>...</td>\n      <td>...</td>\n      <td>...</td>\n      <td>...</td>\n      <td>...</td>\n      <td>...</td>\n      <td>...</td>\n      <td>...</td>\n      <td>...</td>\n    </tr>\n    <tr>\n      <th>130089</th>\n      <td>578.0</td>\n      <td>165.809994</td>\n      <td>13.733564</td>\n      <td>5.160900</td>\n      <td>9.167820</td>\n      <td>31.842561</td>\n      <td>0.500000</td>\n      <td>1.498018</td>\n      <td>2.060955</td>\n      <td>4057.0</td>\n      <td>...</td>\n      <td>0.409681</td>\n      <td>0.837483</td>\n      <td>1.127620</td>\n      <td>0.0</td>\n      <td>73</td>\n      <td>2021-07-13 16:55:36</td>\n      <td>8826795379</td>\n      <td>150</td>\n      <td>103</td>\n      <td>47</td>\n    </tr>\n    <tr>\n      <th>130090</th>\n      <td>2148.0</td>\n      <td>171.227673</td>\n      <td>10.342179</td>\n      <td>2.769088</td>\n      <td>5.803538</td>\n      <td>12.417132</td>\n      <td>0.722533</td>\n      <td>1.782047</td>\n      <td>2.259185</td>\n      <td>1783.0</td>\n      <td>...</td>\n      <td>0.714577</td>\n      <td>0.953719</td>\n      <td>1.310673</td>\n      <td>0.0</td>\n      <td>73</td>\n      <td>2021-08-30 12:21:02</td>\n      <td>9079019687</td>\n      <td>98</td>\n      <td>37</td>\n      <td>61</td>\n    </tr>\n    <tr>\n      <th>130091</th>\n      <td>222.0</td>\n      <td>150.598471</td>\n      <td>14.265766</td>\n      <td>4.108108</td>\n      <td>10.171171</td>\n      <td>24.049550</td>\n      <td>0.549550</td>\n      <td>1.402569</td>\n      <td>1.806466</td>\n      <td>110.0</td>\n      <td>...</td>\n      <td>0.477273</td>\n      <td>0.548780</td>\n      <td>0.801829</td>\n      <td>1.0</td>\n      <td>73</td>\n      <td>2021-06-02 15:01:39</td>\n      <td>8591909642</td>\n      <td>150</td>\n      <td>101</td>\n      <td>49</td>\n    </tr>\n    <tr>\n      <th>130092</th>\n      <td>1689.0</td>\n      <td>119.297848</td>\n      <td>11.843102</td>\n      <td>3.729426</td>\n      <td>10.619893</td>\n      <td>15.758437</td>\n      <td>0.469509</td>\n      <td>1.115181</td>\n      <td>1.466354</td>\n      <td>1198.0</td>\n      <td>...</td>\n      <td>0.473214</td>\n      <td>1.014304</td>\n      <td>1.578830</td>\n      <td>1.0</td>\n      <td>73</td>\n      <td>2021-09-16 19:23:24</td>\n      <td>9238179785</td>\n      <td>151</td>\n      <td>102</td>\n      <td>49</td>\n    </tr>\n    <tr>\n      <th>130093</th>\n      <td>2928.0</td>\n      <td>140.319486</td>\n      <td>10.898224</td>\n      <td>4.685109</td>\n      <td>8.744194</td>\n      <td>22.934768</td>\n      <td>0.477117</td>\n      <td>1.246338</td>\n      <td>1.782135</td>\n      <td>1631.0</td>\n      <td>...</td>\n      <td>0.551789</td>\n      <td>1.252047</td>\n      <td>1.594568</td>\n      <td>1.0</td>\n      <td>73</td>\n      <td>2020-01-15 01:52:09</td>\n      <td>5597851127</td>\n      <td>98</td>\n      <td>28</td>\n      <td>70</td>\n    </tr>\n  </tbody>\n</table>\n<p>130094 rows × 115 columns</p>\n</div>"
     },
     "execution_count": 22,
     "metadata": {},
     "output_type": "execute_result"
    }
   ],
   "source": [
    "sel = train\n",
    "\n",
    "# sel = sel.drop(columns=get_stat_columns(\"activities_entered\")+get_stat_columns(\"combat_rating\"))\n",
    "sel = sel[sel[\"mode\"] == 73]\n",
    "sel = sel[sel.period < datetime(year=2022, month=1, day=1)]\n",
    "# sel = sel[get_player_columns_name(\"kd\") + \n",
    "#           get_player_columns_name(\"win_ratio\") + \n",
    "#           [\"winner\", \"period\", \"mode\", \"instance_id\"]]\n",
    "\n",
    "sel[\"delta_score\"] = sel[\"win_score\"] - sel[\"loss_score\"]\n",
    "sel = sel[sel[\"delta_score\"] > 40]\n",
    "\n",
    "sel = shuffle_winning_team(sel)\n",
    "# sel2 = shuffle_winning_team(sel2)\n",
    "\n",
    "# sel = sel[get_stat_columns(\"win_ratio\") + [\"winner\", \"period\", \"mode\", \"instance_id\"]]\n",
    "\n",
    "sel.reset_index(inplace=True, drop=True)\n",
    "sel"
   ],
   "metadata": {
    "collapsed": false
   }
  },
  {
   "cell_type": "code",
   "execution_count": null,
   "outputs": [],
   "source": [],
   "metadata": {
    "collapsed": false
   }
  },
  {
   "cell_type": "code",
   "execution_count": null,
   "outputs": [],
   "source": [],
   "metadata": {
    "collapsed": false
   }
  },
  {
   "cell_type": "code",
   "execution_count": 88,
   "outputs": [
    {
     "data": {
      "text/plain": "        player_1_activities_entered  player_1_combat_rating  \\\n0                             388.0              164.930174   \n1                           16140.0              213.678353   \n2                            3665.0              140.803213   \n3                            3302.0              156.015809   \n4                            2895.0               90.336669   \n...                             ...                     ...   \n295200                        500.0              180.411662   \n295201                       1147.0              119.504279   \n295202                        508.0              132.281730   \n295203                       3996.0              155.877036   \n295204                        205.0              106.204519   \n\n        player_1_kills_pga  player_1_assists_pga  player_1_deaths_pga  \\\n0                13.407216              3.538660             7.046392   \n1                18.357559              4.060781             7.904399   \n2                13.086494              3.352251             6.863574   \n3                15.457601              3.610539             9.663840   \n4                11.873921              3.423489             9.366149   \n...                    ...                   ...                  ...   \n295200           17.300000              3.826000             7.370000   \n295201           10.297297              4.075850            11.204882   \n295202           10.346457              3.399606            12.155512   \n295203           13.397397              2.972723             7.845345   \n295204            9.434146              3.965854             7.668293   \n\n        player_1_score_pga  player_1_win_ratio  player_1_kd  player_1_kda  \\\n0                15.590206            0.682990     1.902707      2.404901   \n1                33.948947            0.565118     2.322448      2.836185   \n2                19.411460            0.525784     1.906659      2.395071   \n3                21.451545            0.479709     1.599530      1.973143   \n4                 6.812435            0.569948     1.267748      1.633266   \n...                    ...                 ...          ...           ...   \n295200           23.236000            0.618000     2.347354      2.866486   \n295201           20.633827            0.414124     0.919001      1.282758   \n295202           24.730315            0.486220     0.851174      1.130850   \n295203           11.875125            0.626627     1.707687      2.086603   \n295204           12.492683            0.497561     1.230280      1.747455   \n\n        player_2_activities_entered  ...  player_12_score_pga  \\\n0                            2107.0  ...            19.033989   \n1                             450.0  ...            22.375424   \n2                            2212.0  ...            18.542017   \n3                            3879.0  ...            22.433014   \n4                            3484.0  ...            16.559551   \n...                             ...  ...                  ...   \n295200                       4662.0  ...            23.927023   \n295201                       2749.0  ...            22.110555   \n295202                       1404.0  ...            22.590021   \n295203                       1280.0  ...            32.923077   \n295204                         69.0  ...            16.950519   \n\n        player_12_win_ratio  player_12_kd  player_12_kda  winner  mode  \\\n0                  0.361998      0.872762       1.206716     1.0    73   \n1                  0.417515      0.984401       1.322100     1.0    73   \n2                  0.449580      0.543683       0.796371     1.0    73   \n3                  0.409091      1.242742       1.765323     1.0    73   \n4                  0.435955      1.075454       1.450186     1.0    73   \n...                     ...           ...            ...     ...   ...   \n295200             0.446854      1.124109       1.512864     0.0    73   \n295201             0.446456      1.069886       1.499356     0.0    73   \n295202             0.653292      1.162638       1.546977     0.0    73   \n295203             0.485830      1.450680       1.809690     0.0    73   \n295204             0.374302      0.989833       1.380881     0.0    73   \n\n                    period  instance_id  win_score  loss_score  \n0      2022-01-01 00:00:17   9868800016         80          14  \n1      2022-01-01 00:00:42   9868807860        100          39  \n2      2022-01-01 00:00:14   9868827063        150         109  \n3      2022-01-01 00:05:39   9868828782         91          27  \n4      2022-01-01 00:03:16   9868835931        150          85  \n...                    ...          ...        ...         ...  \n295200 2022-12-07 20:46:01  12013386686        152          59  \n295201 2022-12-07 20:48:57  12013402583        150         122  \n295202 2022-12-08 17:10:28  12018726000        138         114  \n295203 2022-12-08 17:46:27  12018884641        150          95  \n295204 2022-12-08 18:20:09  12019036307        151          73  \n\n[295205 rows x 114 columns]",
      "text/html": "<div>\n<style scoped>\n    .dataframe tbody tr th:only-of-type {\n        vertical-align: middle;\n    }\n\n    .dataframe tbody tr th {\n        vertical-align: top;\n    }\n\n    .dataframe thead th {\n        text-align: right;\n    }\n</style>\n<table border=\"1\" class=\"dataframe\">\n  <thead>\n    <tr style=\"text-align: right;\">\n      <th></th>\n      <th>player_1_activities_entered</th>\n      <th>player_1_combat_rating</th>\n      <th>player_1_kills_pga</th>\n      <th>player_1_assists_pga</th>\n      <th>player_1_deaths_pga</th>\n      <th>player_1_score_pga</th>\n      <th>player_1_win_ratio</th>\n      <th>player_1_kd</th>\n      <th>player_1_kda</th>\n      <th>player_2_activities_entered</th>\n      <th>...</th>\n      <th>player_12_score_pga</th>\n      <th>player_12_win_ratio</th>\n      <th>player_12_kd</th>\n      <th>player_12_kda</th>\n      <th>winner</th>\n      <th>mode</th>\n      <th>period</th>\n      <th>instance_id</th>\n      <th>win_score</th>\n      <th>loss_score</th>\n    </tr>\n  </thead>\n  <tbody>\n    <tr>\n      <th>0</th>\n      <td>388.0</td>\n      <td>164.930174</td>\n      <td>13.407216</td>\n      <td>3.538660</td>\n      <td>7.046392</td>\n      <td>15.590206</td>\n      <td>0.682990</td>\n      <td>1.902707</td>\n      <td>2.404901</td>\n      <td>2107.0</td>\n      <td>...</td>\n      <td>19.033989</td>\n      <td>0.361998</td>\n      <td>0.872762</td>\n      <td>1.206716</td>\n      <td>1.0</td>\n      <td>73</td>\n      <td>2022-01-01 00:00:17</td>\n      <td>9868800016</td>\n      <td>80</td>\n      <td>14</td>\n    </tr>\n    <tr>\n      <th>1</th>\n      <td>16140.0</td>\n      <td>213.678353</td>\n      <td>18.357559</td>\n      <td>4.060781</td>\n      <td>7.904399</td>\n      <td>33.948947</td>\n      <td>0.565118</td>\n      <td>2.322448</td>\n      <td>2.836185</td>\n      <td>450.0</td>\n      <td>...</td>\n      <td>22.375424</td>\n      <td>0.417515</td>\n      <td>0.984401</td>\n      <td>1.322100</td>\n      <td>1.0</td>\n      <td>73</td>\n      <td>2022-01-01 00:00:42</td>\n      <td>9868807860</td>\n      <td>100</td>\n      <td>39</td>\n    </tr>\n    <tr>\n      <th>2</th>\n      <td>3665.0</td>\n      <td>140.803213</td>\n      <td>13.086494</td>\n      <td>3.352251</td>\n      <td>6.863574</td>\n      <td>19.411460</td>\n      <td>0.525784</td>\n      <td>1.906659</td>\n      <td>2.395071</td>\n      <td>2212.0</td>\n      <td>...</td>\n      <td>18.542017</td>\n      <td>0.449580</td>\n      <td>0.543683</td>\n      <td>0.796371</td>\n      <td>1.0</td>\n      <td>73</td>\n      <td>2022-01-01 00:00:14</td>\n      <td>9868827063</td>\n      <td>150</td>\n      <td>109</td>\n    </tr>\n    <tr>\n      <th>3</th>\n      <td>3302.0</td>\n      <td>156.015809</td>\n      <td>15.457601</td>\n      <td>3.610539</td>\n      <td>9.663840</td>\n      <td>21.451545</td>\n      <td>0.479709</td>\n      <td>1.599530</td>\n      <td>1.973143</td>\n      <td>3879.0</td>\n      <td>...</td>\n      <td>22.433014</td>\n      <td>0.409091</td>\n      <td>1.242742</td>\n      <td>1.765323</td>\n      <td>1.0</td>\n      <td>73</td>\n      <td>2022-01-01 00:05:39</td>\n      <td>9868828782</td>\n      <td>91</td>\n      <td>27</td>\n    </tr>\n    <tr>\n      <th>4</th>\n      <td>2895.0</td>\n      <td>90.336669</td>\n      <td>11.873921</td>\n      <td>3.423489</td>\n      <td>9.366149</td>\n      <td>6.812435</td>\n      <td>0.569948</td>\n      <td>1.267748</td>\n      <td>1.633266</td>\n      <td>3484.0</td>\n      <td>...</td>\n      <td>16.559551</td>\n      <td>0.435955</td>\n      <td>1.075454</td>\n      <td>1.450186</td>\n      <td>1.0</td>\n      <td>73</td>\n      <td>2022-01-01 00:03:16</td>\n      <td>9868835931</td>\n      <td>150</td>\n      <td>85</td>\n    </tr>\n    <tr>\n      <th>...</th>\n      <td>...</td>\n      <td>...</td>\n      <td>...</td>\n      <td>...</td>\n      <td>...</td>\n      <td>...</td>\n      <td>...</td>\n      <td>...</td>\n      <td>...</td>\n      <td>...</td>\n      <td>...</td>\n      <td>...</td>\n      <td>...</td>\n      <td>...</td>\n      <td>...</td>\n      <td>...</td>\n      <td>...</td>\n      <td>...</td>\n      <td>...</td>\n      <td>...</td>\n      <td>...</td>\n    </tr>\n    <tr>\n      <th>295200</th>\n      <td>500.0</td>\n      <td>180.411662</td>\n      <td>17.300000</td>\n      <td>3.826000</td>\n      <td>7.370000</td>\n      <td>23.236000</td>\n      <td>0.618000</td>\n      <td>2.347354</td>\n      <td>2.866486</td>\n      <td>4662.0</td>\n      <td>...</td>\n      <td>23.927023</td>\n      <td>0.446854</td>\n      <td>1.124109</td>\n      <td>1.512864</td>\n      <td>0.0</td>\n      <td>73</td>\n      <td>2022-12-07 20:46:01</td>\n      <td>12013386686</td>\n      <td>152</td>\n      <td>59</td>\n    </tr>\n    <tr>\n      <th>295201</th>\n      <td>1147.0</td>\n      <td>119.504279</td>\n      <td>10.297297</td>\n      <td>4.075850</td>\n      <td>11.204882</td>\n      <td>20.633827</td>\n      <td>0.414124</td>\n      <td>0.919001</td>\n      <td>1.282758</td>\n      <td>2749.0</td>\n      <td>...</td>\n      <td>22.110555</td>\n      <td>0.446456</td>\n      <td>1.069886</td>\n      <td>1.499356</td>\n      <td>0.0</td>\n      <td>73</td>\n      <td>2022-12-07 20:48:57</td>\n      <td>12013402583</td>\n      <td>150</td>\n      <td>122</td>\n    </tr>\n    <tr>\n      <th>295202</th>\n      <td>508.0</td>\n      <td>132.281730</td>\n      <td>10.346457</td>\n      <td>3.399606</td>\n      <td>12.155512</td>\n      <td>24.730315</td>\n      <td>0.486220</td>\n      <td>0.851174</td>\n      <td>1.130850</td>\n      <td>1404.0</td>\n      <td>...</td>\n      <td>22.590021</td>\n      <td>0.653292</td>\n      <td>1.162638</td>\n      <td>1.546977</td>\n      <td>0.0</td>\n      <td>73</td>\n      <td>2022-12-08 17:10:28</td>\n      <td>12018726000</td>\n      <td>138</td>\n      <td>114</td>\n    </tr>\n    <tr>\n      <th>295203</th>\n      <td>3996.0</td>\n      <td>155.877036</td>\n      <td>13.397397</td>\n      <td>2.972723</td>\n      <td>7.845345</td>\n      <td>11.875125</td>\n      <td>0.626627</td>\n      <td>1.707687</td>\n      <td>2.086603</td>\n      <td>1280.0</td>\n      <td>...</td>\n      <td>32.923077</td>\n      <td>0.485830</td>\n      <td>1.450680</td>\n      <td>1.809690</td>\n      <td>0.0</td>\n      <td>73</td>\n      <td>2022-12-08 17:46:27</td>\n      <td>12018884641</td>\n      <td>150</td>\n      <td>95</td>\n    </tr>\n    <tr>\n      <th>295204</th>\n      <td>205.0</td>\n      <td>106.204519</td>\n      <td>9.434146</td>\n      <td>3.965854</td>\n      <td>7.668293</td>\n      <td>12.492683</td>\n      <td>0.497561</td>\n      <td>1.230280</td>\n      <td>1.747455</td>\n      <td>69.0</td>\n      <td>...</td>\n      <td>16.950519</td>\n      <td>0.374302</td>\n      <td>0.989833</td>\n      <td>1.380881</td>\n      <td>0.0</td>\n      <td>73</td>\n      <td>2022-12-08 18:20:09</td>\n      <td>12019036307</td>\n      <td>151</td>\n      <td>73</td>\n    </tr>\n  </tbody>\n</table>\n<p>295205 rows × 114 columns</p>\n</div>"
     },
     "execution_count": 88,
     "metadata": {},
     "output_type": "execute_result"
    }
   ],
   "source": [
    "# Test - label random\n",
    "sel.loc[:len(sel)//2, \"winner\"] = 1\n",
    "sel"
   ],
   "metadata": {
    "collapsed": false
   }
  },
  {
   "cell_type": "code",
   "execution_count": 80,
   "outputs": [
    {
     "data": {
      "text/plain": "        player_1_activities_entered  player_1_combat_rating  \\\n0                            2686.0              161.890114   \n1                            3564.0              163.212900   \n2                            1727.0              127.738822   \n3                             835.0              102.104961   \n4                            2193.0              114.403012   \n...                             ...                     ...   \n295200                       2707.0              147.558934   \n295201                       4308.0              165.049387   \n295202                        982.0              144.155287   \n295203                       1171.0              121.272301   \n295204                       1163.0              125.433418   \n\n        player_1_kills_pga  player_1_assists_pga  player_1_deaths_pga  \\\n0                13.819806              4.592331             8.306776   \n1                12.352974              2.978395             7.025533   \n2                12.127968              3.160394             8.695426   \n3                 9.498204              2.461078            10.361677   \n4                11.475148              3.737346             9.881897   \n...                    ...                   ...                  ...   \n295200           16.559291              2.974141             8.927595   \n295201           13.205200              3.944290             8.718895   \n295202           11.886965              4.033605            10.718941   \n295203           12.249360              3.489325            10.635354   \n295204           10.209802              3.454858            10.544282   \n\n        player_1_score_pga  player_1_win_ratio  player_1_kd  player_1_kda  \\\n0                29.067759            0.527550     1.663679      2.216520   \n1                16.248878            0.644501     1.758297      2.182236   \n2                15.170237            0.500290     1.394753      1.758207   \n3                14.202395            0.429940     0.916667      1.154184   \n4                14.655267            0.444596     1.161229      1.539431   \n...                    ...                 ...          ...           ...   \n295200           21.466938            0.552641     1.854843      2.187984   \n295201           25.025766            0.516945     1.514550      1.966934   \n295202           25.204684            0.490835     1.108968      1.485275   \n295203           16.667805            0.452605     1.151758      1.479846   \n295204           19.619089            0.480653     0.968279      1.295931   \n\n        player_2_activities_entered  ...  player_12_kd  player_12_kda  winner  \\\n0                             560.0  ...      0.792805       1.125209     0.0   \n1                            2444.0  ...      1.004619       1.340540     1.0   \n2                            1422.0  ...      0.603960       0.798854     0.0   \n3                             701.0  ...      0.996464       1.354227     1.0   \n4                            1360.0  ...      0.846314       1.202492     1.0   \n...                             ...  ...           ...            ...     ...   \n295200                       1267.0  ...      1.621811       2.094757     0.0   \n295201                       1818.0  ...      0.642019       0.893779     1.0   \n295202                        134.0  ...      0.492654       0.803452     0.0   \n295203                        720.0  ...      1.015904       1.485944     0.0   \n295204                        500.0  ...      0.375824       0.649451     1.0   \n\n        mode              period  instance_id  win_score  loss_score  \\\n0         73 2022-09-17 19:35:03  11612563969        150         145   \n1         73 2022-08-02 19:55:26  11242886250        139         104   \n2         73 2022-08-04 10:55:28  11250779590        150         107   \n3         73 2022-01-18 11:06:49   9966010298        134         132   \n4         73 2022-04-01 19:19:22  10534170757        148         112   \n...      ...                 ...          ...        ...         ...   \n295200    73 2022-06-14 14:12:07  10964537936        152          59   \n295201    73 2022-03-27 16:13:35  10504917831        150         133   \n295202    73 2022-06-29 20:59:20  11064351751        151          94   \n295203    73 2022-09-01 10:59:47  11461906919        151          77   \n295204    73 2022-06-21 20:40:24  11014178157        150         123   \n\n        Team_A_kd  Team_B_kd  \n0        1.228996   1.024762  \n1        1.051017   1.325673  \n2        1.173755   1.164310  \n3        0.985466   1.326888  \n4        1.047699   1.070086  \n...           ...        ...  \n295200   1.225693   1.004655  \n295201   1.115224   1.134071  \n295202   1.043877   1.021758  \n295203   0.952963   1.067183  \n295204   0.746344   0.687250  \n\n[295205 rows x 116 columns]",
      "text/html": "<div>\n<style scoped>\n    .dataframe tbody tr th:only-of-type {\n        vertical-align: middle;\n    }\n\n    .dataframe tbody tr th {\n        vertical-align: top;\n    }\n\n    .dataframe thead th {\n        text-align: right;\n    }\n</style>\n<table border=\"1\" class=\"dataframe\">\n  <thead>\n    <tr style=\"text-align: right;\">\n      <th></th>\n      <th>player_1_activities_entered</th>\n      <th>player_1_combat_rating</th>\n      <th>player_1_kills_pga</th>\n      <th>player_1_assists_pga</th>\n      <th>player_1_deaths_pga</th>\n      <th>player_1_score_pga</th>\n      <th>player_1_win_ratio</th>\n      <th>player_1_kd</th>\n      <th>player_1_kda</th>\n      <th>player_2_activities_entered</th>\n      <th>...</th>\n      <th>player_12_kd</th>\n      <th>player_12_kda</th>\n      <th>winner</th>\n      <th>mode</th>\n      <th>period</th>\n      <th>instance_id</th>\n      <th>win_score</th>\n      <th>loss_score</th>\n      <th>Team_A_kd</th>\n      <th>Team_B_kd</th>\n    </tr>\n  </thead>\n  <tbody>\n    <tr>\n      <th>0</th>\n      <td>2686.0</td>\n      <td>161.890114</td>\n      <td>13.819806</td>\n      <td>4.592331</td>\n      <td>8.306776</td>\n      <td>29.067759</td>\n      <td>0.527550</td>\n      <td>1.663679</td>\n      <td>2.216520</td>\n      <td>560.0</td>\n      <td>...</td>\n      <td>0.792805</td>\n      <td>1.125209</td>\n      <td>0.0</td>\n      <td>73</td>\n      <td>2022-09-17 19:35:03</td>\n      <td>11612563969</td>\n      <td>150</td>\n      <td>145</td>\n      <td>1.228996</td>\n      <td>1.024762</td>\n    </tr>\n    <tr>\n      <th>1</th>\n      <td>3564.0</td>\n      <td>163.212900</td>\n      <td>12.352974</td>\n      <td>2.978395</td>\n      <td>7.025533</td>\n      <td>16.248878</td>\n      <td>0.644501</td>\n      <td>1.758297</td>\n      <td>2.182236</td>\n      <td>2444.0</td>\n      <td>...</td>\n      <td>1.004619</td>\n      <td>1.340540</td>\n      <td>1.0</td>\n      <td>73</td>\n      <td>2022-08-02 19:55:26</td>\n      <td>11242886250</td>\n      <td>139</td>\n      <td>104</td>\n      <td>1.051017</td>\n      <td>1.325673</td>\n    </tr>\n    <tr>\n      <th>2</th>\n      <td>1727.0</td>\n      <td>127.738822</td>\n      <td>12.127968</td>\n      <td>3.160394</td>\n      <td>8.695426</td>\n      <td>15.170237</td>\n      <td>0.500290</td>\n      <td>1.394753</td>\n      <td>1.758207</td>\n      <td>1422.0</td>\n      <td>...</td>\n      <td>0.603960</td>\n      <td>0.798854</td>\n      <td>0.0</td>\n      <td>73</td>\n      <td>2022-08-04 10:55:28</td>\n      <td>11250779590</td>\n      <td>150</td>\n      <td>107</td>\n      <td>1.173755</td>\n      <td>1.164310</td>\n    </tr>\n    <tr>\n      <th>3</th>\n      <td>835.0</td>\n      <td>102.104961</td>\n      <td>9.498204</td>\n      <td>2.461078</td>\n      <td>10.361677</td>\n      <td>14.202395</td>\n      <td>0.429940</td>\n      <td>0.916667</td>\n      <td>1.154184</td>\n      <td>701.0</td>\n      <td>...</td>\n      <td>0.996464</td>\n      <td>1.354227</td>\n      <td>1.0</td>\n      <td>73</td>\n      <td>2022-01-18 11:06:49</td>\n      <td>9966010298</td>\n      <td>134</td>\n      <td>132</td>\n      <td>0.985466</td>\n      <td>1.326888</td>\n    </tr>\n    <tr>\n      <th>4</th>\n      <td>2193.0</td>\n      <td>114.403012</td>\n      <td>11.475148</td>\n      <td>3.737346</td>\n      <td>9.881897</td>\n      <td>14.655267</td>\n      <td>0.444596</td>\n      <td>1.161229</td>\n      <td>1.539431</td>\n      <td>1360.0</td>\n      <td>...</td>\n      <td>0.846314</td>\n      <td>1.202492</td>\n      <td>1.0</td>\n      <td>73</td>\n      <td>2022-04-01 19:19:22</td>\n      <td>10534170757</td>\n      <td>148</td>\n      <td>112</td>\n      <td>1.047699</td>\n      <td>1.070086</td>\n    </tr>\n    <tr>\n      <th>...</th>\n      <td>...</td>\n      <td>...</td>\n      <td>...</td>\n      <td>...</td>\n      <td>...</td>\n      <td>...</td>\n      <td>...</td>\n      <td>...</td>\n      <td>...</td>\n      <td>...</td>\n      <td>...</td>\n      <td>...</td>\n      <td>...</td>\n      <td>...</td>\n      <td>...</td>\n      <td>...</td>\n      <td>...</td>\n      <td>...</td>\n      <td>...</td>\n      <td>...</td>\n      <td>...</td>\n    </tr>\n    <tr>\n      <th>295200</th>\n      <td>2707.0</td>\n      <td>147.558934</td>\n      <td>16.559291</td>\n      <td>2.974141</td>\n      <td>8.927595</td>\n      <td>21.466938</td>\n      <td>0.552641</td>\n      <td>1.854843</td>\n      <td>2.187984</td>\n      <td>1267.0</td>\n      <td>...</td>\n      <td>1.621811</td>\n      <td>2.094757</td>\n      <td>0.0</td>\n      <td>73</td>\n      <td>2022-06-14 14:12:07</td>\n      <td>10964537936</td>\n      <td>152</td>\n      <td>59</td>\n      <td>1.225693</td>\n      <td>1.004655</td>\n    </tr>\n    <tr>\n      <th>295201</th>\n      <td>4308.0</td>\n      <td>165.049387</td>\n      <td>13.205200</td>\n      <td>3.944290</td>\n      <td>8.718895</td>\n      <td>25.025766</td>\n      <td>0.516945</td>\n      <td>1.514550</td>\n      <td>1.966934</td>\n      <td>1818.0</td>\n      <td>...</td>\n      <td>0.642019</td>\n      <td>0.893779</td>\n      <td>1.0</td>\n      <td>73</td>\n      <td>2022-03-27 16:13:35</td>\n      <td>10504917831</td>\n      <td>150</td>\n      <td>133</td>\n      <td>1.115224</td>\n      <td>1.134071</td>\n    </tr>\n    <tr>\n      <th>295202</th>\n      <td>982.0</td>\n      <td>144.155287</td>\n      <td>11.886965</td>\n      <td>4.033605</td>\n      <td>10.718941</td>\n      <td>25.204684</td>\n      <td>0.490835</td>\n      <td>1.108968</td>\n      <td>1.485275</td>\n      <td>134.0</td>\n      <td>...</td>\n      <td>0.492654</td>\n      <td>0.803452</td>\n      <td>0.0</td>\n      <td>73</td>\n      <td>2022-06-29 20:59:20</td>\n      <td>11064351751</td>\n      <td>151</td>\n      <td>94</td>\n      <td>1.043877</td>\n      <td>1.021758</td>\n    </tr>\n    <tr>\n      <th>295203</th>\n      <td>1171.0</td>\n      <td>121.272301</td>\n      <td>12.249360</td>\n      <td>3.489325</td>\n      <td>10.635354</td>\n      <td>16.667805</td>\n      <td>0.452605</td>\n      <td>1.151758</td>\n      <td>1.479846</td>\n      <td>720.0</td>\n      <td>...</td>\n      <td>1.015904</td>\n      <td>1.485944</td>\n      <td>0.0</td>\n      <td>73</td>\n      <td>2022-09-01 10:59:47</td>\n      <td>11461906919</td>\n      <td>151</td>\n      <td>77</td>\n      <td>0.952963</td>\n      <td>1.067183</td>\n    </tr>\n    <tr>\n      <th>295204</th>\n      <td>1163.0</td>\n      <td>125.433418</td>\n      <td>10.209802</td>\n      <td>3.454858</td>\n      <td>10.544282</td>\n      <td>19.619089</td>\n      <td>0.480653</td>\n      <td>0.968279</td>\n      <td>1.295931</td>\n      <td>500.0</td>\n      <td>...</td>\n      <td>0.375824</td>\n      <td>0.649451</td>\n      <td>1.0</td>\n      <td>73</td>\n      <td>2022-06-21 20:40:24</td>\n      <td>11014178157</td>\n      <td>150</td>\n      <td>123</td>\n      <td>0.746344</td>\n      <td>0.687250</td>\n    </tr>\n  </tbody>\n</table>\n<p>295205 rows × 116 columns</p>\n</div>"
     },
     "execution_count": 80,
     "metadata": {},
     "output_type": "execute_result"
    }
   ],
   "source": [
    "sel[\"Team_A_kd\"] = sel[get_stat_columns(\"kd\")[:6]].mean(axis=1).values\n",
    "sel[\"Team_B_kd\"] = sel[get_stat_columns(\"kd\")[6:]].mean(axis=1).values\n",
    "sel"
   ],
   "metadata": {
    "collapsed": false
   }
  },
  {
   "cell_type": "code",
   "execution_count": 81,
   "outputs": [],
   "source": [
    "sel = sel.sample(frac=1.0).reset_index(drop=True)\n",
    "X = sel[[\"Team_A_kd\", \"Team_B_kd\"]]\n",
    "Y = sel[\"winner\"]\n",
    "X_train, X_test, y_train, y_test = train_test_split(X, Y, test_size=0.3, random_state=RANDOM_STATE)"
   ],
   "metadata": {
    "collapsed": false
   }
  },
  {
   "cell_type": "code",
   "execution_count": null,
   "outputs": [],
   "source": [],
   "metadata": {
    "collapsed": false
   }
  },
  {
   "cell_type": "code",
   "execution_count": null,
   "outputs": [],
   "source": [],
   "metadata": {
    "collapsed": false
   }
  },
  {
   "cell_type": "code",
   "execution_count": 25,
   "outputs": [
    {
     "data": {
      "text/plain": "        player_1_activities_entered  player_1_combat_rating  \\\n0                            4218.0              115.716890   \n1                            7169.0              187.840995   \n2                            2119.0              159.198293   \n3                             699.0              123.122707   \n4                            2123.0              167.590060   \n...                             ...                     ...   \n101564                       3078.0              159.609414   \n101565                       4823.0              144.001463   \n101566                      10603.0              160.157190   \n101567                        674.0              119.461620   \n101568                        891.0              148.242471   \n\n        player_1_kills_pga  player_1_assists_pga  player_1_deaths_pga  \\\n0                11.842105              3.420578             9.684211   \n1                16.698563              3.618636             7.670107   \n2                12.783388              4.176498            11.458235   \n3                10.529328              3.658083            10.311874   \n4                13.474800              3.648139             9.695243   \n...                    ...                   ...                  ...   \n101564           11.061079              4.157895             6.669266   \n101565           12.286336              4.571429             8.284885   \n101566           13.917948              4.572668             8.989814   \n101567           12.137982              3.170623             9.661721   \n101568           13.617284              4.965208             9.929293   \n\n        player_1_score_pga  player_1_win_ratio  player_1_kd  player_1_kda  \\\n0                13.702229            0.493362     1.222826      1.576038   \n1                27.154136            0.627982     2.177096      2.648881   \n2                27.102879            0.489854     1.115651      1.480148   \n3                18.503577            0.429185     1.021088      1.375832   \n4                25.353745            0.551107     1.389836      1.766118   \n...                    ...                 ...          ...           ...   \n101564           17.910006            0.633203     1.658515      2.281956   \n101565           23.438316            0.512544     1.482982      2.034761   \n101566           20.198246            0.635952     1.548191      2.056841   \n101567           17.706231            0.433234     1.256296      1.584459   \n101568           24.025814            0.503928     1.371425      1.871482   \n\n        player_2_activities_entered  ...  player_12_win_ratio  player_12_kd  \\\n0                            1199.0  ...             0.418182      0.851102   \n1                            1249.0  ...             0.429787      0.851227   \n2                             842.0  ...             0.517361      1.142084   \n3                              95.0  ...             0.607380      1.487761   \n4                             962.0  ...             0.459530      0.732955   \n...                             ...  ...                  ...           ...   \n101564                      16370.0  ...             0.459227      0.744526   \n101565                        809.0  ...             0.485915      0.801548   \n101566                      18083.0  ...             0.514403      1.355191   \n101567                       3940.0  ...             0.444444      1.202656   \n101568                       6482.0  ...             0.402913      0.659396   \n\n        player_12_kda  winner  mode              period  instance_id  \\\n0            1.284693     1.0    73 2019-09-07 18:23:00   4622502520   \n1            1.186350     1.0    71 2019-06-20 18:17:53   4128417109   \n2            1.571944     1.0    73 2020-02-06 14:17:56   5697753480   \n3            1.969627     1.0    73 2020-10-21 14:34:44   7050817918   \n4            1.054383     1.0    73 2019-04-10 19:40:36   3852498318   \n...               ...     ...   ...                 ...          ...   \n101564       1.137549     0.0    73 2020-11-28 23:03:56   7397914910   \n101565       1.124378     0.0    73 2021-10-04 15:35:18   9373822180   \n101566       1.749920     0.0    73 2021-06-02 21:20:51   8594094863   \n101567       1.669750     0.0    73 2020-02-28 19:50:51   5798944922   \n101568       0.927852     0.0    73 2019-01-05 16:41:42   3392719546   \n\n        win_score  loss_score  delta_score  \n0             150         109          -41  \n1             100          76          -24  \n2             151          63          -88  \n3              96          21          -75  \n4             143         114          -29  \n...           ...         ...          ...  \n101564        150         107           43  \n101565        138         132            6  \n101566        122          62           60  \n101567        151          76           75  \n101568        150         130           20  \n\n[101569 rows x 115 columns]",
      "text/html": "<div>\n<style scoped>\n    .dataframe tbody tr th:only-of-type {\n        vertical-align: middle;\n    }\n\n    .dataframe tbody tr th {\n        vertical-align: top;\n    }\n\n    .dataframe thead th {\n        text-align: right;\n    }\n</style>\n<table border=\"1\" class=\"dataframe\">\n  <thead>\n    <tr style=\"text-align: right;\">\n      <th></th>\n      <th>player_1_activities_entered</th>\n      <th>player_1_combat_rating</th>\n      <th>player_1_kills_pga</th>\n      <th>player_1_assists_pga</th>\n      <th>player_1_deaths_pga</th>\n      <th>player_1_score_pga</th>\n      <th>player_1_win_ratio</th>\n      <th>player_1_kd</th>\n      <th>player_1_kda</th>\n      <th>player_2_activities_entered</th>\n      <th>...</th>\n      <th>player_12_win_ratio</th>\n      <th>player_12_kd</th>\n      <th>player_12_kda</th>\n      <th>winner</th>\n      <th>mode</th>\n      <th>period</th>\n      <th>instance_id</th>\n      <th>win_score</th>\n      <th>loss_score</th>\n      <th>delta_score</th>\n    </tr>\n  </thead>\n  <tbody>\n    <tr>\n      <th>0</th>\n      <td>4218.0</td>\n      <td>115.716890</td>\n      <td>11.842105</td>\n      <td>3.420578</td>\n      <td>9.684211</td>\n      <td>13.702229</td>\n      <td>0.493362</td>\n      <td>1.222826</td>\n      <td>1.576038</td>\n      <td>1199.0</td>\n      <td>...</td>\n      <td>0.418182</td>\n      <td>0.851102</td>\n      <td>1.284693</td>\n      <td>1.0</td>\n      <td>73</td>\n      <td>2019-09-07 18:23:00</td>\n      <td>4622502520</td>\n      <td>150</td>\n      <td>109</td>\n      <td>-41</td>\n    </tr>\n    <tr>\n      <th>1</th>\n      <td>7169.0</td>\n      <td>187.840995</td>\n      <td>16.698563</td>\n      <td>3.618636</td>\n      <td>7.670107</td>\n      <td>27.154136</td>\n      <td>0.627982</td>\n      <td>2.177096</td>\n      <td>2.648881</td>\n      <td>1249.0</td>\n      <td>...</td>\n      <td>0.429787</td>\n      <td>0.851227</td>\n      <td>1.186350</td>\n      <td>1.0</td>\n      <td>71</td>\n      <td>2019-06-20 18:17:53</td>\n      <td>4128417109</td>\n      <td>100</td>\n      <td>76</td>\n      <td>-24</td>\n    </tr>\n    <tr>\n      <th>2</th>\n      <td>2119.0</td>\n      <td>159.198293</td>\n      <td>12.783388</td>\n      <td>4.176498</td>\n      <td>11.458235</td>\n      <td>27.102879</td>\n      <td>0.489854</td>\n      <td>1.115651</td>\n      <td>1.480148</td>\n      <td>842.0</td>\n      <td>...</td>\n      <td>0.517361</td>\n      <td>1.142084</td>\n      <td>1.571944</td>\n      <td>1.0</td>\n      <td>73</td>\n      <td>2020-02-06 14:17:56</td>\n      <td>5697753480</td>\n      <td>151</td>\n      <td>63</td>\n      <td>-88</td>\n    </tr>\n    <tr>\n      <th>3</th>\n      <td>699.0</td>\n      <td>123.122707</td>\n      <td>10.529328</td>\n      <td>3.658083</td>\n      <td>10.311874</td>\n      <td>18.503577</td>\n      <td>0.429185</td>\n      <td>1.021088</td>\n      <td>1.375832</td>\n      <td>95.0</td>\n      <td>...</td>\n      <td>0.607380</td>\n      <td>1.487761</td>\n      <td>1.969627</td>\n      <td>1.0</td>\n      <td>73</td>\n      <td>2020-10-21 14:34:44</td>\n      <td>7050817918</td>\n      <td>96</td>\n      <td>21</td>\n      <td>-75</td>\n    </tr>\n    <tr>\n      <th>4</th>\n      <td>2123.0</td>\n      <td>167.590060</td>\n      <td>13.474800</td>\n      <td>3.648139</td>\n      <td>9.695243</td>\n      <td>25.353745</td>\n      <td>0.551107</td>\n      <td>1.389836</td>\n      <td>1.766118</td>\n      <td>962.0</td>\n      <td>...</td>\n      <td>0.459530</td>\n      <td>0.732955</td>\n      <td>1.054383</td>\n      <td>1.0</td>\n      <td>73</td>\n      <td>2019-04-10 19:40:36</td>\n      <td>3852498318</td>\n      <td>143</td>\n      <td>114</td>\n      <td>-29</td>\n    </tr>\n    <tr>\n      <th>...</th>\n      <td>...</td>\n      <td>...</td>\n      <td>...</td>\n      <td>...</td>\n      <td>...</td>\n      <td>...</td>\n      <td>...</td>\n      <td>...</td>\n      <td>...</td>\n      <td>...</td>\n      <td>...</td>\n      <td>...</td>\n      <td>...</td>\n      <td>...</td>\n      <td>...</td>\n      <td>...</td>\n      <td>...</td>\n      <td>...</td>\n      <td>...</td>\n      <td>...</td>\n      <td>...</td>\n    </tr>\n    <tr>\n      <th>101564</th>\n      <td>3078.0</td>\n      <td>159.609414</td>\n      <td>11.061079</td>\n      <td>4.157895</td>\n      <td>6.669266</td>\n      <td>17.910006</td>\n      <td>0.633203</td>\n      <td>1.658515</td>\n      <td>2.281956</td>\n      <td>16370.0</td>\n      <td>...</td>\n      <td>0.459227</td>\n      <td>0.744526</td>\n      <td>1.137549</td>\n      <td>0.0</td>\n      <td>73</td>\n      <td>2020-11-28 23:03:56</td>\n      <td>7397914910</td>\n      <td>150</td>\n      <td>107</td>\n      <td>43</td>\n    </tr>\n    <tr>\n      <th>101565</th>\n      <td>4823.0</td>\n      <td>144.001463</td>\n      <td>12.286336</td>\n      <td>4.571429</td>\n      <td>8.284885</td>\n      <td>23.438316</td>\n      <td>0.512544</td>\n      <td>1.482982</td>\n      <td>2.034761</td>\n      <td>809.0</td>\n      <td>...</td>\n      <td>0.485915</td>\n      <td>0.801548</td>\n      <td>1.124378</td>\n      <td>0.0</td>\n      <td>73</td>\n      <td>2021-10-04 15:35:18</td>\n      <td>9373822180</td>\n      <td>138</td>\n      <td>132</td>\n      <td>6</td>\n    </tr>\n    <tr>\n      <th>101566</th>\n      <td>10603.0</td>\n      <td>160.157190</td>\n      <td>13.917948</td>\n      <td>4.572668</td>\n      <td>8.989814</td>\n      <td>20.198246</td>\n      <td>0.635952</td>\n      <td>1.548191</td>\n      <td>2.056841</td>\n      <td>18083.0</td>\n      <td>...</td>\n      <td>0.514403</td>\n      <td>1.355191</td>\n      <td>1.749920</td>\n      <td>0.0</td>\n      <td>73</td>\n      <td>2021-06-02 21:20:51</td>\n      <td>8594094863</td>\n      <td>122</td>\n      <td>62</td>\n      <td>60</td>\n    </tr>\n    <tr>\n      <th>101567</th>\n      <td>674.0</td>\n      <td>119.461620</td>\n      <td>12.137982</td>\n      <td>3.170623</td>\n      <td>9.661721</td>\n      <td>17.706231</td>\n      <td>0.433234</td>\n      <td>1.256296</td>\n      <td>1.584459</td>\n      <td>3940.0</td>\n      <td>...</td>\n      <td>0.444444</td>\n      <td>1.202656</td>\n      <td>1.669750</td>\n      <td>0.0</td>\n      <td>73</td>\n      <td>2020-02-28 19:50:51</td>\n      <td>5798944922</td>\n      <td>151</td>\n      <td>76</td>\n      <td>75</td>\n    </tr>\n    <tr>\n      <th>101568</th>\n      <td>891.0</td>\n      <td>148.242471</td>\n      <td>13.617284</td>\n      <td>4.965208</td>\n      <td>9.929293</td>\n      <td>24.025814</td>\n      <td>0.503928</td>\n      <td>1.371425</td>\n      <td>1.871482</td>\n      <td>6482.0</td>\n      <td>...</td>\n      <td>0.402913</td>\n      <td>0.659396</td>\n      <td>0.927852</td>\n      <td>0.0</td>\n      <td>73</td>\n      <td>2019-01-05 16:41:42</td>\n      <td>3392719546</td>\n      <td>150</td>\n      <td>130</td>\n      <td>20</td>\n    </tr>\n  </tbody>\n</table>\n<p>101569 rows × 115 columns</p>\n</div>"
     },
     "execution_count": 25,
     "metadata": {},
     "output_type": "execute_result"
    }
   ],
   "source": [
    "sel[\"delta_score\"] = sel[\"win_score\"] - sel[\"loss_score\"]\n",
    "sel.loc[:len(sel)//2, \"delta_score\"] = -sel.loc[:len(sel)//2, \"delta_score\"]\n",
    "sel"
   ],
   "metadata": {
    "collapsed": false
   }
  },
  {
   "cell_type": "code",
   "source": [
    "X = sel.drop(columns=[\"winner\", \"period\", \"instance_id\", \"loss_score\", \"win_score\", \"delta_score\"])\n",
    "Y = sel[\"winner\"]\n",
    "X_train, X_test, y_train, y_test = train_test_split(X, Y, test_size=0.3, random_state=RANDOM_STATE, stratify=Y)"
   ],
   "metadata": {
    "id": "FnBYDrufEodR"
   },
   "execution_count": 23,
   "outputs": []
  },
  {
   "cell_type": "code",
   "execution_count": 118,
   "outputs": [],
   "source": [
    "X = sel.drop(columns=[\"winner\", \"period\", \"instance_id\", \"loss_score\", \"win_score\", \"delta_score\"])\n",
    "Y = sel[\"delta_score\"]\n",
    "X_train, X_test, y_train, y_test = train_test_split(X, Y, test_size=0.3, random_state=RANDOM_STATE)"
   ],
   "metadata": {
    "collapsed": false
   }
  },
  {
   "cell_type": "code",
   "source": [
    "# Keep period\n",
    "X = sel.drop(columns=[\"winner\"])\n",
    "Y = sel[\"winner\"]\n",
    "X_train, X_test, y_train, y_test = train_test_split(X, Y, test_size=0.3, random_state=RANDOM_STATE, stratify=Y)\n",
    "\n",
    "X_train_period = X_train[\"period\"]\n",
    "X_test_period = X_test[\"period\"]\n",
    "X_train.drop(columns=[\"period\"], inplace=True)\n",
    "X_test.drop(columns=[\"period\"], inplace=True)"
   ],
   "metadata": {
    "id": "3zOh1YAOFJYL"
   },
   "execution_count": 20,
   "outputs": []
  },
  {
   "cell_type": "code",
   "source": [
    "# split train with date\n",
    "max_train_date = datetime(year=2022, month=1, day=1)\n",
    "\n",
    "X_train = sel[train.period < max_train_date]\n",
    "y_train = X_train[\"winner\"]\n",
    "X_train.drop(columns=[\"winner\", \"period\"], inplace=True)\n",
    "\n",
    "X_test = sel[train.period >= max_train_date]\n",
    "y_test = X_test[\"winner\"]\n",
    "X_test.drop(columns=[\"winner\", \"period\"], inplace=True)"
   ],
   "metadata": {
    "colab": {
     "base_uri": "https://localhost:8080/"
    },
    "id": "wYm-dv_9FgI8",
    "outputId": "c894c8d6-452e-46a6-c4cb-e781c9cbf32e"
   },
   "execution_count": null,
   "outputs": []
  },
  {
   "cell_type": "code",
   "source": [
    "# PCA test\n",
    "X = sel.drop(columns=[\"winner\", \"period\", \"instance_id\"])\n",
    "Y = sel[\"winner\"]\n",
    "X_train, X_test, y_train, y_test = train_test_split(X, Y, test_size=0.3, random_state=RANDOM_STATE, stratify=Y)\n",
    "\n",
    "team_A_columns = []\n",
    "for i in range(1, 7):\n",
    "    for stat in STATS_NAME:\n",
    "        team_A_columns.append(f\"player_{i}_{stat}\")\n",
    "\n",
    "team_B_columns = []\n",
    "for i in range(1, 7):\n",
    "    for stat in STATS_NAME:\n",
    "        team_B_columns.append(f\"player_{i}_{stat}\")\n",
    "\n",
    "pca = PCA(n_components=N_STATS)\n",
    "pca.fit(X_train[team_A_columns])\n",
    "\n",
    "X_train = np.concatenate((pca.transform(X_train[team_A_columns]),\n",
    "                          pca.transform(X_train[team_B_columns])), axis=1)\n",
    "X_test = np.concatenate((pca.transform(X_test[team_A_columns]),\n",
    "                         pca.transform(X_test[team_B_columns])), axis=1)"
   ],
   "metadata": {
    "id": "Ryjauhk3trrr"
   },
   "execution_count": null,
   "outputs": []
  },
  {
   "cell_type": "code",
   "source": [
    "# Mean of every stat per team\n",
    "X = sel.drop(columns=[\"winner\", \"period\", \"instance_id\"])\n",
    "Y = sel[\"winner\"]\n",
    "\n",
    "TEAM_COLUMNS = [f\"team_A_{stat}\" for stat in STATS_NAME] + [f\"team_B_{stat}\" for stat in STATS_NAME]\n",
    "for i in range(len(STATS_NAME)):\n",
    "    col = TEAM_COLUMNS[i]\n",
    "    stat = STATS_NAME[i]\n",
    "    c = [f\"player_{k}_{stat}\" for k in range(1, 7)]\n",
    "    X[col] = X.loc[:, c].mean(axis=1)\n",
    "for i in range(len(STATS_NAME)):\n",
    "    col = TEAM_COLUMNS[i+N_STATS]\n",
    "    stat = STATS_NAME[i]\n",
    "    c = [f\"player_{k}_{stat}\" for k in range(7, 13)]\n",
    "    X[col] = X.loc[:, c].mean(axis=1)\n",
    "X.drop(columns=PLAYERS_COLUMNS, inplace=True)\n",
    "\n",
    "X_train, X_test, y_train, y_test = train_test_split(X, Y, test_size=0.3, random_state=RANDOM_STATE, stratify=Y)"
   ],
   "metadata": {
    "id": "XUIsvpnEv7Af"
   },
   "execution_count": 13,
   "outputs": []
  },
  {
   "cell_type": "code",
   "execution_count": 90,
   "outputs": [
    {
     "data": {
      "text/plain": "        player_1_activities_entered  player_1_combat_rating  \\\n0                             388.0              164.930174   \n1                           16140.0              213.678353   \n2                            3665.0              140.803213   \n3                            3302.0              156.015809   \n4                            2895.0               90.336669   \n...                             ...                     ...   \n295200                        500.0              180.411662   \n295201                       1147.0              119.504279   \n295202                        508.0              132.281730   \n295203                       3996.0              155.877036   \n295204                        205.0              106.204519   \n\n        player_1_kills_pga  player_1_assists_pga  player_1_deaths_pga  \\\n0                13.407216              3.538660             7.046392   \n1                18.357559              4.060781             7.904399   \n2                13.086494              3.352251             6.863574   \n3                15.457601              3.610539             9.663840   \n4                11.873921              3.423489             9.366149   \n...                    ...                   ...                  ...   \n295200           17.300000              3.826000             7.370000   \n295201           10.297297              4.075850            11.204882   \n295202           10.346457              3.399606            12.155512   \n295203           13.397397              2.972723             7.845345   \n295204            9.434146              3.965854             7.668293   \n\n        player_1_score_pga  player_1_win_ratio  player_1_kd  player_1_kda  \\\n0                15.590206            0.682990     1.902707      2.404901   \n1                33.948947            0.565118     2.322448      2.836185   \n2                19.411460            0.525784     1.906659      2.395071   \n3                21.451545            0.479709     1.599530      1.973143   \n4                 6.812435            0.569948     1.267748      1.633266   \n...                    ...                 ...          ...           ...   \n295200           23.236000            0.618000     2.347354      2.866486   \n295201           20.633827            0.414124     0.919001      1.282758   \n295202           24.730315            0.486220     0.851174      1.130850   \n295203           11.875125            0.626627     1.707687      2.086603   \n295204           12.492683            0.497561     1.230280      1.747455   \n\n        player_2_activities_entered  ...  player_12_activities_entered  \\\n0                            2107.0  ...                        2442.0   \n1                             450.0  ...                        1473.0   \n2                            2212.0  ...                         238.0   \n3                            3879.0  ...                         418.0   \n4                            3484.0  ...                        1335.0   \n...                             ...  ...                           ...   \n295200                       4662.0  ...                        1891.0   \n295201                       2749.0  ...                        2596.0   \n295202                       1404.0  ...                        1944.0   \n295203                       1280.0  ...                         247.0   \n295204                         69.0  ...                        1253.0   \n\n        player_12_combat_rating  player_12_kills_pga  player_12_assists_pga  \\\n0                    111.558901             9.982801               3.819820   \n1                    125.337795            11.482010               3.938900   \n2                     89.504364             6.798319               3.159664   \n3                    126.119254            11.059809               4.650718   \n4                    108.594616            10.164045               3.541573   \n...                         ...                  ...                    ...   \n295200               147.842234            12.338445               4.267054   \n295201               137.178877            11.523112               4.625578   \n295202               151.968335            11.998971               3.966564   \n295203               182.614288            16.850202               4.170040   \n295204                98.063255             7.924980               3.130886   \n\n        player_12_deaths_pga  player_12_score_pga  player_12_win_ratio  \\\n0                  11.438165            19.033989             0.361998   \n1                  11.663951            22.375424             0.417515   \n2                  12.504202            18.542017             0.449580   \n3                   8.899522            22.433014             0.409091   \n4                   9.450936            16.559551             0.435955   \n...                      ...                  ...                  ...   \n295200             10.976203            23.927023             0.446854   \n295201             10.770416            22.110555             0.446456   \n295202             10.320473            22.590021             0.653292   \n295203             11.615385            32.923077             0.485830   \n295204              8.006385            16.950519             0.374302   \n\n        player_12_kd  player_12_kda  mode  \n0           0.872762       1.206716    73  \n1           0.984401       1.322100    73  \n2           0.543683       0.796371    73  \n3           1.242742       1.765323    73  \n4           1.075454       1.450186    73  \n...              ...            ...   ...  \n295200      1.124109       1.512864    73  \n295201      1.069886       1.499356    73  \n295202      1.162638       1.546977    73  \n295203      1.450680       1.809690    73  \n295204      0.989833       1.380881    73  \n\n[295205 rows x 109 columns]",
      "text/html": "<div>\n<style scoped>\n    .dataframe tbody tr th:only-of-type {\n        vertical-align: middle;\n    }\n\n    .dataframe tbody tr th {\n        vertical-align: top;\n    }\n\n    .dataframe thead th {\n        text-align: right;\n    }\n</style>\n<table border=\"1\" class=\"dataframe\">\n  <thead>\n    <tr style=\"text-align: right;\">\n      <th></th>\n      <th>player_1_activities_entered</th>\n      <th>player_1_combat_rating</th>\n      <th>player_1_kills_pga</th>\n      <th>player_1_assists_pga</th>\n      <th>player_1_deaths_pga</th>\n      <th>player_1_score_pga</th>\n      <th>player_1_win_ratio</th>\n      <th>player_1_kd</th>\n      <th>player_1_kda</th>\n      <th>player_2_activities_entered</th>\n      <th>...</th>\n      <th>player_12_activities_entered</th>\n      <th>player_12_combat_rating</th>\n      <th>player_12_kills_pga</th>\n      <th>player_12_assists_pga</th>\n      <th>player_12_deaths_pga</th>\n      <th>player_12_score_pga</th>\n      <th>player_12_win_ratio</th>\n      <th>player_12_kd</th>\n      <th>player_12_kda</th>\n      <th>mode</th>\n    </tr>\n  </thead>\n  <tbody>\n    <tr>\n      <th>0</th>\n      <td>388.0</td>\n      <td>164.930174</td>\n      <td>13.407216</td>\n      <td>3.538660</td>\n      <td>7.046392</td>\n      <td>15.590206</td>\n      <td>0.682990</td>\n      <td>1.902707</td>\n      <td>2.404901</td>\n      <td>2107.0</td>\n      <td>...</td>\n      <td>2442.0</td>\n      <td>111.558901</td>\n      <td>9.982801</td>\n      <td>3.819820</td>\n      <td>11.438165</td>\n      <td>19.033989</td>\n      <td>0.361998</td>\n      <td>0.872762</td>\n      <td>1.206716</td>\n      <td>73</td>\n    </tr>\n    <tr>\n      <th>1</th>\n      <td>16140.0</td>\n      <td>213.678353</td>\n      <td>18.357559</td>\n      <td>4.060781</td>\n      <td>7.904399</td>\n      <td>33.948947</td>\n      <td>0.565118</td>\n      <td>2.322448</td>\n      <td>2.836185</td>\n      <td>450.0</td>\n      <td>...</td>\n      <td>1473.0</td>\n      <td>125.337795</td>\n      <td>11.482010</td>\n      <td>3.938900</td>\n      <td>11.663951</td>\n      <td>22.375424</td>\n      <td>0.417515</td>\n      <td>0.984401</td>\n      <td>1.322100</td>\n      <td>73</td>\n    </tr>\n    <tr>\n      <th>2</th>\n      <td>3665.0</td>\n      <td>140.803213</td>\n      <td>13.086494</td>\n      <td>3.352251</td>\n      <td>6.863574</td>\n      <td>19.411460</td>\n      <td>0.525784</td>\n      <td>1.906659</td>\n      <td>2.395071</td>\n      <td>2212.0</td>\n      <td>...</td>\n      <td>238.0</td>\n      <td>89.504364</td>\n      <td>6.798319</td>\n      <td>3.159664</td>\n      <td>12.504202</td>\n      <td>18.542017</td>\n      <td>0.449580</td>\n      <td>0.543683</td>\n      <td>0.796371</td>\n      <td>73</td>\n    </tr>\n    <tr>\n      <th>3</th>\n      <td>3302.0</td>\n      <td>156.015809</td>\n      <td>15.457601</td>\n      <td>3.610539</td>\n      <td>9.663840</td>\n      <td>21.451545</td>\n      <td>0.479709</td>\n      <td>1.599530</td>\n      <td>1.973143</td>\n      <td>3879.0</td>\n      <td>...</td>\n      <td>418.0</td>\n      <td>126.119254</td>\n      <td>11.059809</td>\n      <td>4.650718</td>\n      <td>8.899522</td>\n      <td>22.433014</td>\n      <td>0.409091</td>\n      <td>1.242742</td>\n      <td>1.765323</td>\n      <td>73</td>\n    </tr>\n    <tr>\n      <th>4</th>\n      <td>2895.0</td>\n      <td>90.336669</td>\n      <td>11.873921</td>\n      <td>3.423489</td>\n      <td>9.366149</td>\n      <td>6.812435</td>\n      <td>0.569948</td>\n      <td>1.267748</td>\n      <td>1.633266</td>\n      <td>3484.0</td>\n      <td>...</td>\n      <td>1335.0</td>\n      <td>108.594616</td>\n      <td>10.164045</td>\n      <td>3.541573</td>\n      <td>9.450936</td>\n      <td>16.559551</td>\n      <td>0.435955</td>\n      <td>1.075454</td>\n      <td>1.450186</td>\n      <td>73</td>\n    </tr>\n    <tr>\n      <th>...</th>\n      <td>...</td>\n      <td>...</td>\n      <td>...</td>\n      <td>...</td>\n      <td>...</td>\n      <td>...</td>\n      <td>...</td>\n      <td>...</td>\n      <td>...</td>\n      <td>...</td>\n      <td>...</td>\n      <td>...</td>\n      <td>...</td>\n      <td>...</td>\n      <td>...</td>\n      <td>...</td>\n      <td>...</td>\n      <td>...</td>\n      <td>...</td>\n      <td>...</td>\n      <td>...</td>\n    </tr>\n    <tr>\n      <th>295200</th>\n      <td>500.0</td>\n      <td>180.411662</td>\n      <td>17.300000</td>\n      <td>3.826000</td>\n      <td>7.370000</td>\n      <td>23.236000</td>\n      <td>0.618000</td>\n      <td>2.347354</td>\n      <td>2.866486</td>\n      <td>4662.0</td>\n      <td>...</td>\n      <td>1891.0</td>\n      <td>147.842234</td>\n      <td>12.338445</td>\n      <td>4.267054</td>\n      <td>10.976203</td>\n      <td>23.927023</td>\n      <td>0.446854</td>\n      <td>1.124109</td>\n      <td>1.512864</td>\n      <td>73</td>\n    </tr>\n    <tr>\n      <th>295201</th>\n      <td>1147.0</td>\n      <td>119.504279</td>\n      <td>10.297297</td>\n      <td>4.075850</td>\n      <td>11.204882</td>\n      <td>20.633827</td>\n      <td>0.414124</td>\n      <td>0.919001</td>\n      <td>1.282758</td>\n      <td>2749.0</td>\n      <td>...</td>\n      <td>2596.0</td>\n      <td>137.178877</td>\n      <td>11.523112</td>\n      <td>4.625578</td>\n      <td>10.770416</td>\n      <td>22.110555</td>\n      <td>0.446456</td>\n      <td>1.069886</td>\n      <td>1.499356</td>\n      <td>73</td>\n    </tr>\n    <tr>\n      <th>295202</th>\n      <td>508.0</td>\n      <td>132.281730</td>\n      <td>10.346457</td>\n      <td>3.399606</td>\n      <td>12.155512</td>\n      <td>24.730315</td>\n      <td>0.486220</td>\n      <td>0.851174</td>\n      <td>1.130850</td>\n      <td>1404.0</td>\n      <td>...</td>\n      <td>1944.0</td>\n      <td>151.968335</td>\n      <td>11.998971</td>\n      <td>3.966564</td>\n      <td>10.320473</td>\n      <td>22.590021</td>\n      <td>0.653292</td>\n      <td>1.162638</td>\n      <td>1.546977</td>\n      <td>73</td>\n    </tr>\n    <tr>\n      <th>295203</th>\n      <td>3996.0</td>\n      <td>155.877036</td>\n      <td>13.397397</td>\n      <td>2.972723</td>\n      <td>7.845345</td>\n      <td>11.875125</td>\n      <td>0.626627</td>\n      <td>1.707687</td>\n      <td>2.086603</td>\n      <td>1280.0</td>\n      <td>...</td>\n      <td>247.0</td>\n      <td>182.614288</td>\n      <td>16.850202</td>\n      <td>4.170040</td>\n      <td>11.615385</td>\n      <td>32.923077</td>\n      <td>0.485830</td>\n      <td>1.450680</td>\n      <td>1.809690</td>\n      <td>73</td>\n    </tr>\n    <tr>\n      <th>295204</th>\n      <td>205.0</td>\n      <td>106.204519</td>\n      <td>9.434146</td>\n      <td>3.965854</td>\n      <td>7.668293</td>\n      <td>12.492683</td>\n      <td>0.497561</td>\n      <td>1.230280</td>\n      <td>1.747455</td>\n      <td>69.0</td>\n      <td>...</td>\n      <td>1253.0</td>\n      <td>98.063255</td>\n      <td>7.924980</td>\n      <td>3.130886</td>\n      <td>8.006385</td>\n      <td>16.950519</td>\n      <td>0.374302</td>\n      <td>0.989833</td>\n      <td>1.380881</td>\n      <td>73</td>\n    </tr>\n  </tbody>\n</table>\n<p>295205 rows × 109 columns</p>\n</div>"
     },
     "execution_count": 90,
     "metadata": {},
     "output_type": "execute_result"
    }
   ],
   "source": [
    "X"
   ],
   "metadata": {
    "collapsed": false
   }
  },
  {
   "cell_type": "markdown",
   "source": [
    "# Catboost"
   ],
   "metadata": {
    "id": "ZgmcWhxqvmfw"
   }
  },
  {
   "cell_type": "code",
   "source": [
    "%%time\n",
    "clf = CatBoostClassifier(verbose=False, task_type='GPU', random_state=RANDOM_STATE)\n",
    "clf.fit(X_train, y_train, cat_features=[\"mode\"])\n",
    "\n",
    "y_pred = clf.predict(X_test)\n",
    "print(\"Accuracy:\", accuracy_score(y_test, y_pred))\n",
    "print(\"F1-score:\", f1_score(y_test, y_pred))\n",
    "print(confusion_matrix(y_test, y_pred))\n",
    "\n",
    "# probs = clf.predict_proba(X_test).max(axis=1)\n",
    "# confusion_matrix_mean_prob = np.array([[probs[np.where((y_test == y_pred) & (y_test == 0))].mean(), probs[np.where((y_pred == 1) & (y_test == 0))].mean()],\n",
    "#                                        [probs[np.where((y_pred == 0) & (y_test == 1))].mean(), probs[np.where((y_test == y_pred) & (y_test == 1))].mean()]])\n",
    "# print(\"\\nMean proba for each section of the confusion matrix:\")\n",
    "# print(confusion_matrix_mean_prob)\n",
    "\n",
    "# print(\"\\nAccuracy per mode:\")\n",
    "# for mode in X_test[\"mode\"].unique():\n",
    "#     x = X_test[X_test[\"mode\"] == mode]\n",
    "#     yp = clf.predict(x)\n",
    "#     yt = y_test[x.index]\n",
    "#     print(\"Accuracy mode \", mode, \": \", accuracy_score(yt, yp))"
   ],
   "metadata": {
    "colab": {
     "base_uri": "https://localhost:8080/",
     "height": 461
    },
    "id": "UDTWo7OWB9TT",
    "outputId": "36e75b82-4a2d-4c3f-f734-a0f256f7b0f3"
   },
   "execution_count": 24,
   "outputs": [
    {
     "name": "stdout",
     "output_type": "stream",
     "text": [
      "Accuracy: 0.7800866022701068\n",
      "F1-score: 0.7799061466266637\n",
      "[[15239  4275]\n",
      " [ 4308 15207]]\n",
      "CPU times: total: 17.9 s\n",
      "Wall time: 13.2 s\n"
     ]
    }
   ]
  },
  {
   "cell_type": "code",
   "execution_count": 120,
   "outputs": [
    {
     "name": "stdout",
     "output_type": "stream",
     "text": [
      "Explained variance: 0.35656850697531206\n",
      "Max error: 154.48574495581147\n",
      "Mean absolute error: 34.47726762565088\n",
      "Mean squared error: 1769.9699700164363\n",
      "As a classification:\n",
      "Accuracy: 0.7250062103385199\n",
      "F1-score: 0.7250310488878853\n",
      "[[32100 12165]\n",
      " [12189 32108]]\n",
      "CPU times: total: 15.5 s\n",
      "Wall time: 16.1 s\n"
     ]
    }
   ],
   "source": [
    "%%time\n",
    "clf = CatBoostRegressor(verbose=False, task_type='GPU', random_state=RANDOM_STATE)\n",
    "clf.fit(X_train, y_train, cat_features=[\"mode\"])\n",
    "\n",
    "y_pred = clf.predict(X_test)\n",
    "print(\"Explained variance:\", explained_variance_score(y_test, y_pred))\n",
    "print(\"Max error:\", max_error(y_test, y_pred))\n",
    "print(\"Mean absolute error:\", mean_absolute_error(y_test, y_pred))\n",
    "print(\"Mean squared error:\", mean_squared_error(y_test, y_pred))\n",
    "\n",
    "print(\"\\nAs a classification:\")\n",
    "y_cls = np.where(y_test > 0, 0, 1)\n",
    "y_pred_cls = np.where(y_pred > 0, 0, 1)\n",
    "print(\"Accuracy:\", accuracy_score(y_cls, y_pred_cls))\n",
    "print(\"F1-score:\", f1_score(y_cls, y_pred_cls))\n",
    "print(confusion_matrix(y_cls, y_pred_cls))"
   ],
   "metadata": {
    "collapsed": false
   }
  },
  {
   "cell_type": "code",
   "source": [
    "level = 0.7\n",
    "\n",
    "level_idx = np.where(probs > level)[0]\n",
    "y_level = y_pred[level_idx]\n",
    "y_true = y_test.values[level_idx]\n",
    "\n",
    "print(\"Accuracy:\", accuracy_score(y_true, y_level))\n",
    "print(\"F1-score:\", f1_score(y_true, y_level))\n",
    "\n",
    "print(\"Total tests: \", len(y_test))\n",
    "print(\"Number of predictions: \", len(level_idx))\n",
    "print(\"Number of uncertain predictions: \", len(y_test) - len(level_idx))\n",
    "print(\"Loss predictions: \", 1-(len(level_idx) / len(y_test)))\n",
    "\n",
    "print(confusion_matrix(y_true, y_level))"
   ],
   "metadata": {
    "colab": {
     "base_uri": "https://localhost:8080/"
    },
    "id": "JnwwNJbABMNk",
    "outputId": "4371232e-d25c-434d-d6a1-c48fd923bd53"
   },
   "execution_count": 94,
   "outputs": [
    {
     "name": "stdout",
     "output_type": "stream",
     "text": [
      "Accuracy: 0.8765183169759985\n",
      "F1-score: 0.8758093283490925\n",
      "Total tests:  88562\n",
      "Number of predictions:  41164\n",
      "Number of uncertain predictions:  47398\n",
      "Loss predictions:  0.535195682121\n",
      "[[18158  2517]\n",
      " [ 2566 17923]]\n"
     ]
    }
   ]
  },
  {
   "cell_type": "code",
   "source": [
    "importances = pd.DataFrame()\n",
    "importances[\"feature\"] = X_test.columns\n",
    "importances[\"importance\"] = clf.feature_importances_\n",
    "importances.sort_values(by=[\"importance\"], ascending=False, inplace=True)\n",
    "importances"
   ],
   "metadata": {
    "colab": {
     "base_uri": "https://localhost:8080/",
     "height": 363
    },
    "id": "FG--rvyNfefG",
    "outputId": "6b71a3b5-5050-4a9f-a1f3-ab27085e83d3"
   },
   "execution_count": 18,
   "outputs": [
    {
     "data": {
      "text/plain": "                  feature  importance\n81    player_12_win_ratio    6.383496\n39     player_6_win_ratio    6.058766\n47            player_7_kd    4.979779\n5             player_1_kd    4.631426\n4      player_1_win_ratio    4.583194\n..                    ...         ...\n22   player_4_assists_pga    0.019971\n36   player_6_assists_pga    0.007813\n29   player_5_assists_pga    0.007027\n71  player_11_assists_pga    0.000000\n84                   mode    0.000000\n\n[85 rows x 2 columns]",
      "text/html": "<div>\n<style scoped>\n    .dataframe tbody tr th:only-of-type {\n        vertical-align: middle;\n    }\n\n    .dataframe tbody tr th {\n        vertical-align: top;\n    }\n\n    .dataframe thead th {\n        text-align: right;\n    }\n</style>\n<table border=\"1\" class=\"dataframe\">\n  <thead>\n    <tr style=\"text-align: right;\">\n      <th></th>\n      <th>feature</th>\n      <th>importance</th>\n    </tr>\n  </thead>\n  <tbody>\n    <tr>\n      <th>81</th>\n      <td>player_12_win_ratio</td>\n      <td>6.383496</td>\n    </tr>\n    <tr>\n      <th>39</th>\n      <td>player_6_win_ratio</td>\n      <td>6.058766</td>\n    </tr>\n    <tr>\n      <th>47</th>\n      <td>player_7_kd</td>\n      <td>4.979779</td>\n    </tr>\n    <tr>\n      <th>5</th>\n      <td>player_1_kd</td>\n      <td>4.631426</td>\n    </tr>\n    <tr>\n      <th>4</th>\n      <td>player_1_win_ratio</td>\n      <td>4.583194</td>\n    </tr>\n    <tr>\n      <th>...</th>\n      <td>...</td>\n      <td>...</td>\n    </tr>\n    <tr>\n      <th>22</th>\n      <td>player_4_assists_pga</td>\n      <td>0.019971</td>\n    </tr>\n    <tr>\n      <th>36</th>\n      <td>player_6_assists_pga</td>\n      <td>0.007813</td>\n    </tr>\n    <tr>\n      <th>29</th>\n      <td>player_5_assists_pga</td>\n      <td>0.007027</td>\n    </tr>\n    <tr>\n      <th>71</th>\n      <td>player_11_assists_pga</td>\n      <td>0.000000</td>\n    </tr>\n    <tr>\n      <th>84</th>\n      <td>mode</td>\n      <td>0.000000</td>\n    </tr>\n  </tbody>\n</table>\n<p>85 rows × 2 columns</p>\n</div>"
     },
     "execution_count": 18,
     "metadata": {},
     "output_type": "execute_result"
    }
   ]
  },
  {
   "cell_type": "code",
   "execution_count": 19,
   "outputs": [
    {
     "data": {
      "text/plain": "<AxesSubplot:xlabel='feature'>"
     },
     "execution_count": 19,
     "metadata": {},
     "output_type": "execute_result"
    },
    {
     "data": {
      "text/plain": "<Figure size 1440x360 with 1 Axes>",
      "image/png": "[encoded data removed]"
     },
     "metadata": {},
     "output_type": "display_data"
    }
   ],
   "source": [
    "importances.plot(kind=\"bar\", x=\"feature\", y=\"importance\", figsize=(20, 5))"
   ],
   "metadata": {
    "collapsed": false
   }
  },
  {
   "cell_type": "code",
   "source": [
    "class CustomCatBoostClassifier(CatBoostClassifier):\n",
    "    def fit(self, X, y=None, **fit_params):\n",
    "        return super().fit(\n",
    "            X,\n",
    "            y=y,\n",
    "            cat_features=[\"mode\"],\n",
    "            **fit_params\n",
    "            )\n",
    "\n",
    "pipeline = make_pipeline(CustomCatBoostClassifier(verbose=False, task_type='GPU', random_state=RANDOM_STATE))\n",
    "acc_scores = cross_val_score(pipeline, X, Y, cv=3, scoring=\"accuracy\", n_jobs=-1)\n",
    "print(f\"Mean acc = {acc_scores.mean()}, Std acc = {acc_scores.std()}\")\n",
    "print(pipeline)"
   ],
   "metadata": {
    "colab": {
     "base_uri": "https://localhost:8080/"
    },
    "id": "swwNtjJezwXv",
    "outputId": "21665d48-8bd8-4b4b-c8c6-5003c1f5ef3f"
   },
   "execution_count": null,
   "outputs": [
    {
     "output_type": "stream",
     "name": "stdout",
     "text": [
      "Mean acc = 0.7354318113840592, Std acc = 0.0006893767656310474\n",
      "Pipeline(steps=[('customcatboostclassifier',\n",
      "                 <__main__.CustomCatBoostClassifier object at 0x7f974ddf0b20>)])\n"
     ]
    }
   ]
  },
  {
   "cell_type": "code",
   "source": [],
   "metadata": {
    "id": "UWNJ0UBj1dBT"
   },
   "execution_count": null,
   "outputs": []
  },
  {
   "cell_type": "markdown",
   "source": [
    "# Random forest"
   ],
   "metadata": {
    "id": "dmGOSjPpyiXi"
   }
  },
  {
   "cell_type": "code",
   "source": [
    "pipeline = make_pipeline(RandomForestClassifier())\n",
    "acc_scores = cross_val_score(pipeline, X, Y, cv=4, scoring=\"accuracy\", n_jobs=-1)\n",
    "print(f\"Mean acc = {acc_scores.mean()}, Std acc = {acc_scores.std()}\")\n",
    "print(pipeline)"
   ],
   "metadata": {
    "colab": {
     "base_uri": "https://localhost:8080/"
    },
    "id": "8exg1BYVyjwL",
    "outputId": "484fbc83-36c3-4fb1-9422-acbd59833551"
   },
   "execution_count": null,
   "outputs": [
    {
     "output_type": "stream",
     "name": "stdout",
     "text": [
      "Mean acc = 0.7165999548704958, Std acc = 0.0007046547932585566\n",
      "Pipeline(steps=[('randomforestclassifier', RandomForestClassifier())])\n"
     ]
    }
   ]
  },
  {
   "cell_type": "markdown",
   "source": [
    "# Deep learning model"
   ],
   "metadata": {
    "id": "9DQLN99-OSLT"
   }
  },
  {
   "cell_type": "code",
   "source": [
    "import tensorflow as tf\n",
    "from tensorflow import keras\n",
    "from tensorflow.keras import layers\n",
    "from scikeras.wrappers import KerasClassifier\n",
    "tf.test.gpu_device_name()"
   ],
   "metadata": {
    "colab": {
     "base_uri": "https://localhost:8080/",
     "height": 35
    },
    "id": "SzM0d_cEOTqB",
    "outputId": "3199c1ca-d3ea-414c-c482-8b1ed92fc0ea"
   },
   "execution_count": 14,
   "outputs": [
    {
     "data": {
      "text/plain": "'/device:GPU:0'"
     },
     "execution_count": 14,
     "metadata": {},
     "output_type": "execute_result"
    }
   ]
  },
  {
   "cell_type": "code",
   "source": [
    "X_train.drop(columns=[\"mode\"], inplace=True)\n",
    "X_test.drop(columns=[\"mode\"], inplace=True)"
   ],
   "metadata": {
    "id": "NzssUBC8OVFR"
   },
   "execution_count": 15,
   "outputs": []
  },
  {
   "cell_type": "code",
   "source": [
    "model = keras.Sequential()\n",
    "model.add(keras.Input(shape=(len(X_train.columns),)))\n",
    "# model.add(layers.Dense(len(X_train.columns), activation=\"relu\"))\n",
    "# model.add(layers.Dropout(0.1))\n",
    "model.add(layers.Dense(12, activation=\"relu\"))\n",
    "model.add(layers.Dropout(0.1))\n",
    "model.add(layers.Dense(1, activation=\"sigmoid\"))\n",
    "\n",
    "model.compile(loss='binary_crossentropy', optimizer='adam', metrics=['accuracy'])\n",
    "\n",
    "clf = KerasClassifier(model=model, epochs=25, batch_size=25)\n",
    "\n",
    "pipeline = make_pipeline(clf)\n",
    "\n",
    "model.summary()"
   ],
   "metadata": {
    "colab": {
     "base_uri": "https://localhost:8080/"
    },
    "id": "lqtLnVE6OYlI",
    "outputId": "2825d5a0-26ef-4bac-e096-45e2f9946e55"
   },
   "execution_count": 18,
   "outputs": [
    {
     "name": "stdout",
     "output_type": "stream",
     "text": [
      "Model: \"sequential_1\"\n",
      "_________________________________________________________________\n",
      " Layer (type)                Output Shape              Param #   \n",
      "=================================================================\n",
      " dense_3 (Dense)             (None, 12)                1308      \n",
      "                                                                 \n",
      " dropout_2 (Dropout)         (None, 12)                0         \n",
      "                                                                 \n",
      " dense_4 (Dense)             (None, 1)                 13        \n",
      "                                                                 \n",
      "=================================================================\n",
      "Total params: 1,321\n",
      "Trainable params: 1,321\n",
      "Non-trainable params: 0\n",
      "_________________________________________________________________\n"
     ]
    }
   ]
  },
  {
   "cell_type": "code",
   "source": [
    "pipeline.fit(X_train, y_train)"
   ],
   "metadata": {
    "colab": {
     "base_uri": "https://localhost:8080/"
    },
    "id": "uMKzUm40OYno",
    "outputId": "95be44b2-82c9-446c-e291-f2ee94647e4f"
   },
   "execution_count": 19,
   "outputs": [
    {
     "name": "stdout",
     "output_type": "stream",
     "text": [
      "Epoch 1/25\n",
      "8266/8266 [==============================] - 35s 4ms/step - loss: 4.5296 - accuracy: 0.5072\n",
      "Epoch 2/25\n",
      "8266/8266 [==============================] - 35s 4ms/step - loss: 0.6934 - accuracy: 0.5002\n",
      "Epoch 3/25\n",
      "4901/8266 [================>.............] - ETA: 14s - loss: 0.6932 - accuracy: 0.5017"
     ]
    },
    {
     "ename": "KeyboardInterrupt",
     "evalue": "",
     "output_type": "error",
     "traceback": [
      "\u001B[1;31m---------------------------------------------------------------------------\u001B[0m",
      "\u001B[1;31mKeyboardInterrupt\u001B[0m                         Traceback (most recent call last)",
      "Input \u001B[1;32mIn [19]\u001B[0m, in \u001B[0;36m<cell line: 1>\u001B[1;34m()\u001B[0m\n\u001B[1;32m----> 1\u001B[0m \u001B[43mpipeline\u001B[49m\u001B[38;5;241;43m.\u001B[39;49m\u001B[43mfit\u001B[49m\u001B[43m(\u001B[49m\u001B[43mX_train\u001B[49m\u001B[43m,\u001B[49m\u001B[43m \u001B[49m\u001B[43my_train\u001B[49m\u001B[43m)\u001B[49m\n",
      "File \u001B[1;32mD:\\GameDev\\ThesisPy\\venv\\lib\\site-packages\\sklearn\\pipeline.py:394\u001B[0m, in \u001B[0;36mPipeline.fit\u001B[1;34m(self, X, y, **fit_params)\u001B[0m\n\u001B[0;32m    392\u001B[0m     \u001B[38;5;28;01mif\u001B[39;00m \u001B[38;5;28mself\u001B[39m\u001B[38;5;241m.\u001B[39m_final_estimator \u001B[38;5;241m!=\u001B[39m \u001B[38;5;124m\"\u001B[39m\u001B[38;5;124mpassthrough\u001B[39m\u001B[38;5;124m\"\u001B[39m:\n\u001B[0;32m    393\u001B[0m         fit_params_last_step \u001B[38;5;241m=\u001B[39m fit_params_steps[\u001B[38;5;28mself\u001B[39m\u001B[38;5;241m.\u001B[39msteps[\u001B[38;5;241m-\u001B[39m\u001B[38;5;241m1\u001B[39m][\u001B[38;5;241m0\u001B[39m]]\n\u001B[1;32m--> 394\u001B[0m         \u001B[38;5;28mself\u001B[39m\u001B[38;5;241m.\u001B[39m_final_estimator\u001B[38;5;241m.\u001B[39mfit(Xt, y, \u001B[38;5;241m*\u001B[39m\u001B[38;5;241m*\u001B[39mfit_params_last_step)\n\u001B[0;32m    396\u001B[0m \u001B[38;5;28;01mreturn\u001B[39;00m \u001B[38;5;28mself\u001B[39m\n",
      "File \u001B[1;32mD:\\GameDev\\ThesisPy\\venv\\lib\\site-packages\\scikeras\\wrappers.py:1474\u001B[0m, in \u001B[0;36mKerasClassifier.fit\u001B[1;34m(self, X, y, sample_weight, **kwargs)\u001B[0m\n\u001B[0;32m   1472\u001B[0m     sample_weight \u001B[38;5;241m=\u001B[39m \u001B[38;5;241m1\u001B[39m \u001B[38;5;28;01mif\u001B[39;00m sample_weight \u001B[38;5;129;01mis\u001B[39;00m \u001B[38;5;28;01mNone\u001B[39;00m \u001B[38;5;28;01melse\u001B[39;00m sample_weight\n\u001B[0;32m   1473\u001B[0m     sample_weight \u001B[38;5;241m*\u001B[39m\u001B[38;5;241m=\u001B[39m compute_sample_weight(class_weight\u001B[38;5;241m=\u001B[39m\u001B[38;5;28mself\u001B[39m\u001B[38;5;241m.\u001B[39mclass_weight, y\u001B[38;5;241m=\u001B[39my)\n\u001B[1;32m-> 1474\u001B[0m \u001B[38;5;28msuper\u001B[39m()\u001B[38;5;241m.\u001B[39mfit(X\u001B[38;5;241m=\u001B[39mX, y\u001B[38;5;241m=\u001B[39my, sample_weight\u001B[38;5;241m=\u001B[39msample_weight, \u001B[38;5;241m*\u001B[39m\u001B[38;5;241m*\u001B[39mkwargs)\n\u001B[0;32m   1475\u001B[0m \u001B[38;5;28;01mreturn\u001B[39;00m \u001B[38;5;28mself\u001B[39m\n",
      "File \u001B[1;32mD:\\GameDev\\ThesisPy\\venv\\lib\\site-packages\\scikeras\\wrappers.py:742\u001B[0m, in \u001B[0;36mBaseWrapper.fit\u001B[1;34m(self, X, y, sample_weight, **kwargs)\u001B[0m\n\u001B[0;32m    737\u001B[0m kwargs[\u001B[38;5;124m\"\u001B[39m\u001B[38;5;124mepochs\u001B[39m\u001B[38;5;124m\"\u001B[39m] \u001B[38;5;241m=\u001B[39m kwargs\u001B[38;5;241m.\u001B[39mget(\n\u001B[0;32m    738\u001B[0m     \u001B[38;5;124m\"\u001B[39m\u001B[38;5;124mepochs\u001B[39m\u001B[38;5;124m\"\u001B[39m, \u001B[38;5;28mgetattr\u001B[39m(\u001B[38;5;28mself\u001B[39m, \u001B[38;5;124m\"\u001B[39m\u001B[38;5;124mfit__epochs\u001B[39m\u001B[38;5;124m\"\u001B[39m, \u001B[38;5;28mself\u001B[39m\u001B[38;5;241m.\u001B[39mepochs)\n\u001B[0;32m    739\u001B[0m )\n\u001B[0;32m    740\u001B[0m kwargs[\u001B[38;5;124m\"\u001B[39m\u001B[38;5;124minitial_epoch\u001B[39m\u001B[38;5;124m\"\u001B[39m] \u001B[38;5;241m=\u001B[39m kwargs\u001B[38;5;241m.\u001B[39mget(\u001B[38;5;124m\"\u001B[39m\u001B[38;5;124minitial_epoch\u001B[39m\u001B[38;5;124m\"\u001B[39m, \u001B[38;5;241m0\u001B[39m)\n\u001B[1;32m--> 742\u001B[0m \u001B[38;5;28mself\u001B[39m\u001B[38;5;241m.\u001B[39m_fit(\n\u001B[0;32m    743\u001B[0m     X\u001B[38;5;241m=\u001B[39mX,\n\u001B[0;32m    744\u001B[0m     y\u001B[38;5;241m=\u001B[39my,\n\u001B[0;32m    745\u001B[0m     sample_weight\u001B[38;5;241m=\u001B[39msample_weight,\n\u001B[0;32m    746\u001B[0m     warm_start\u001B[38;5;241m=\u001B[39m\u001B[38;5;28mself\u001B[39m\u001B[38;5;241m.\u001B[39mwarm_start,\n\u001B[0;32m    747\u001B[0m     \u001B[38;5;241m*\u001B[39m\u001B[38;5;241m*\u001B[39mkwargs,\n\u001B[0;32m    748\u001B[0m )\n\u001B[0;32m    750\u001B[0m \u001B[38;5;28;01mreturn\u001B[39;00m \u001B[38;5;28mself\u001B[39m\n",
      "File \u001B[1;32mD:\\GameDev\\ThesisPy\\venv\\lib\\site-packages\\scikeras\\wrappers.py:911\u001B[0m, in \u001B[0;36mBaseWrapper._fit\u001B[1;34m(self, X, y, sample_weight, warm_start, epochs, initial_epoch, **kwargs)\u001B[0m\n\u001B[0;32m    907\u001B[0m X \u001B[38;5;241m=\u001B[39m \u001B[38;5;28mself\u001B[39m\u001B[38;5;241m.\u001B[39mfeature_encoder_\u001B[38;5;241m.\u001B[39mtransform(X)\n\u001B[0;32m    909\u001B[0m \u001B[38;5;28mself\u001B[39m\u001B[38;5;241m.\u001B[39m_check_model_compatibility(y)\n\u001B[1;32m--> 911\u001B[0m \u001B[38;5;28mself\u001B[39m\u001B[38;5;241m.\u001B[39m_fit_keras_model(\n\u001B[0;32m    912\u001B[0m     X,\n\u001B[0;32m    913\u001B[0m     y,\n\u001B[0;32m    914\u001B[0m     sample_weight\u001B[38;5;241m=\u001B[39msample_weight,\n\u001B[0;32m    915\u001B[0m     warm_start\u001B[38;5;241m=\u001B[39mwarm_start,\n\u001B[0;32m    916\u001B[0m     epochs\u001B[38;5;241m=\u001B[39mepochs,\n\u001B[0;32m    917\u001B[0m     initial_epoch\u001B[38;5;241m=\u001B[39minitial_epoch,\n\u001B[0;32m    918\u001B[0m     \u001B[38;5;241m*\u001B[39m\u001B[38;5;241m*\u001B[39mkwargs,\n\u001B[0;32m    919\u001B[0m )\n",
      "File \u001B[1;32mD:\\GameDev\\ThesisPy\\venv\\lib\\site-packages\\scikeras\\wrappers.py:515\u001B[0m, in \u001B[0;36mBaseWrapper._fit_keras_model\u001B[1;34m(self, X, y, sample_weight, warm_start, epochs, initial_epoch, **kwargs)\u001B[0m\n\u001B[0;32m    513\u001B[0m         hist \u001B[38;5;241m=\u001B[39m \u001B[38;5;28mself\u001B[39m\u001B[38;5;241m.\u001B[39mmodel_\u001B[38;5;241m.\u001B[39mfit(x\u001B[38;5;241m=\u001B[39mX, y\u001B[38;5;241m=\u001B[39my, \u001B[38;5;241m*\u001B[39m\u001B[38;5;241m*\u001B[39mfit_args)\n\u001B[0;32m    514\u001B[0m \u001B[38;5;28;01melse\u001B[39;00m:\n\u001B[1;32m--> 515\u001B[0m     hist \u001B[38;5;241m=\u001B[39m \u001B[38;5;28mself\u001B[39m\u001B[38;5;241m.\u001B[39mmodel_\u001B[38;5;241m.\u001B[39mfit(x\u001B[38;5;241m=\u001B[39mX, y\u001B[38;5;241m=\u001B[39my, \u001B[38;5;241m*\u001B[39m\u001B[38;5;241m*\u001B[39mfit_args)\n\u001B[0;32m    517\u001B[0m \u001B[38;5;28;01mif\u001B[39;00m \u001B[38;5;129;01mnot\u001B[39;00m warm_start \u001B[38;5;129;01mor\u001B[39;00m \u001B[38;5;129;01mnot\u001B[39;00m \u001B[38;5;28mhasattr\u001B[39m(\u001B[38;5;28mself\u001B[39m, \u001B[38;5;124m\"\u001B[39m\u001B[38;5;124mhistory_\u001B[39m\u001B[38;5;124m\"\u001B[39m) \u001B[38;5;129;01mor\u001B[39;00m initial_epoch \u001B[38;5;241m==\u001B[39m \u001B[38;5;241m0\u001B[39m:\n\u001B[0;32m    518\u001B[0m     \u001B[38;5;28mself\u001B[39m\u001B[38;5;241m.\u001B[39mhistory_ \u001B[38;5;241m=\u001B[39m defaultdict(\u001B[38;5;28mlist\u001B[39m)\n",
      "File \u001B[1;32mD:\\GameDev\\ThesisPy\\venv\\lib\\site-packages\\keras\\utils\\traceback_utils.py:64\u001B[0m, in \u001B[0;36mfilter_traceback.<locals>.error_handler\u001B[1;34m(*args, **kwargs)\u001B[0m\n\u001B[0;32m     62\u001B[0m filtered_tb \u001B[38;5;241m=\u001B[39m \u001B[38;5;28;01mNone\u001B[39;00m\n\u001B[0;32m     63\u001B[0m \u001B[38;5;28;01mtry\u001B[39;00m:\n\u001B[1;32m---> 64\u001B[0m   \u001B[38;5;28;01mreturn\u001B[39;00m fn(\u001B[38;5;241m*\u001B[39margs, \u001B[38;5;241m*\u001B[39m\u001B[38;5;241m*\u001B[39mkwargs)\n\u001B[0;32m     65\u001B[0m \u001B[38;5;28;01mexcept\u001B[39;00m \u001B[38;5;167;01mException\u001B[39;00m \u001B[38;5;28;01mas\u001B[39;00m e:  \u001B[38;5;66;03m# pylint: disable=broad-except\u001B[39;00m\n\u001B[0;32m     66\u001B[0m   filtered_tb \u001B[38;5;241m=\u001B[39m _process_traceback_frames(e\u001B[38;5;241m.\u001B[39m__traceback__)\n",
      "File \u001B[1;32mD:\\GameDev\\ThesisPy\\venv\\lib\\site-packages\\keras\\engine\\training.py:1384\u001B[0m, in \u001B[0;36mModel.fit\u001B[1;34m(self, x, y, batch_size, epochs, verbose, callbacks, validation_split, validation_data, shuffle, class_weight, sample_weight, initial_epoch, steps_per_epoch, validation_steps, validation_batch_size, validation_freq, max_queue_size, workers, use_multiprocessing)\u001B[0m\n\u001B[0;32m   1377\u001B[0m \u001B[38;5;28;01mwith\u001B[39;00m tf\u001B[38;5;241m.\u001B[39mprofiler\u001B[38;5;241m.\u001B[39mexperimental\u001B[38;5;241m.\u001B[39mTrace(\n\u001B[0;32m   1378\u001B[0m     \u001B[38;5;124m'\u001B[39m\u001B[38;5;124mtrain\u001B[39m\u001B[38;5;124m'\u001B[39m,\n\u001B[0;32m   1379\u001B[0m     epoch_num\u001B[38;5;241m=\u001B[39mepoch,\n\u001B[0;32m   1380\u001B[0m     step_num\u001B[38;5;241m=\u001B[39mstep,\n\u001B[0;32m   1381\u001B[0m     batch_size\u001B[38;5;241m=\u001B[39mbatch_size,\n\u001B[0;32m   1382\u001B[0m     _r\u001B[38;5;241m=\u001B[39m\u001B[38;5;241m1\u001B[39m):\n\u001B[0;32m   1383\u001B[0m   callbacks\u001B[38;5;241m.\u001B[39mon_train_batch_begin(step)\n\u001B[1;32m-> 1384\u001B[0m   tmp_logs \u001B[38;5;241m=\u001B[39m \u001B[38;5;28;43mself\u001B[39;49m\u001B[38;5;241;43m.\u001B[39;49m\u001B[43mtrain_function\u001B[49m\u001B[43m(\u001B[49m\u001B[43miterator\u001B[49m\u001B[43m)\u001B[49m\n\u001B[0;32m   1385\u001B[0m   \u001B[38;5;28;01mif\u001B[39;00m data_handler\u001B[38;5;241m.\u001B[39mshould_sync:\n\u001B[0;32m   1386\u001B[0m     context\u001B[38;5;241m.\u001B[39masync_wait()\n",
      "File \u001B[1;32mD:\\GameDev\\ThesisPy\\venv\\lib\\site-packages\\tensorflow\\python\\util\\traceback_utils.py:150\u001B[0m, in \u001B[0;36mfilter_traceback.<locals>.error_handler\u001B[1;34m(*args, **kwargs)\u001B[0m\n\u001B[0;32m    148\u001B[0m filtered_tb \u001B[38;5;241m=\u001B[39m \u001B[38;5;28;01mNone\u001B[39;00m\n\u001B[0;32m    149\u001B[0m \u001B[38;5;28;01mtry\u001B[39;00m:\n\u001B[1;32m--> 150\u001B[0m   \u001B[38;5;28;01mreturn\u001B[39;00m fn(\u001B[38;5;241m*\u001B[39margs, \u001B[38;5;241m*\u001B[39m\u001B[38;5;241m*\u001B[39mkwargs)\n\u001B[0;32m    151\u001B[0m \u001B[38;5;28;01mexcept\u001B[39;00m \u001B[38;5;167;01mException\u001B[39;00m \u001B[38;5;28;01mas\u001B[39;00m e:\n\u001B[0;32m    152\u001B[0m   filtered_tb \u001B[38;5;241m=\u001B[39m _process_traceback_frames(e\u001B[38;5;241m.\u001B[39m__traceback__)\n",
      "File \u001B[1;32mD:\\GameDev\\ThesisPy\\venv\\lib\\site-packages\\tensorflow\\python\\eager\\def_function.py:915\u001B[0m, in \u001B[0;36mFunction.__call__\u001B[1;34m(self, *args, **kwds)\u001B[0m\n\u001B[0;32m    912\u001B[0m compiler \u001B[38;5;241m=\u001B[39m \u001B[38;5;124m\"\u001B[39m\u001B[38;5;124mxla\u001B[39m\u001B[38;5;124m\"\u001B[39m \u001B[38;5;28;01mif\u001B[39;00m \u001B[38;5;28mself\u001B[39m\u001B[38;5;241m.\u001B[39m_jit_compile \u001B[38;5;28;01melse\u001B[39;00m \u001B[38;5;124m\"\u001B[39m\u001B[38;5;124mnonXla\u001B[39m\u001B[38;5;124m\"\u001B[39m\n\u001B[0;32m    914\u001B[0m \u001B[38;5;28;01mwith\u001B[39;00m OptionalXlaContext(\u001B[38;5;28mself\u001B[39m\u001B[38;5;241m.\u001B[39m_jit_compile):\n\u001B[1;32m--> 915\u001B[0m   result \u001B[38;5;241m=\u001B[39m \u001B[38;5;28mself\u001B[39m\u001B[38;5;241m.\u001B[39m_call(\u001B[38;5;241m*\u001B[39margs, \u001B[38;5;241m*\u001B[39m\u001B[38;5;241m*\u001B[39mkwds)\n\u001B[0;32m    917\u001B[0m new_tracing_count \u001B[38;5;241m=\u001B[39m \u001B[38;5;28mself\u001B[39m\u001B[38;5;241m.\u001B[39mexperimental_get_tracing_count()\n\u001B[0;32m    918\u001B[0m without_tracing \u001B[38;5;241m=\u001B[39m (tracing_count \u001B[38;5;241m==\u001B[39m new_tracing_count)\n",
      "File \u001B[1;32mD:\\GameDev\\ThesisPy\\venv\\lib\\site-packages\\tensorflow\\python\\eager\\def_function.py:947\u001B[0m, in \u001B[0;36mFunction._call\u001B[1;34m(self, *args, **kwds)\u001B[0m\n\u001B[0;32m    944\u001B[0m   \u001B[38;5;28mself\u001B[39m\u001B[38;5;241m.\u001B[39m_lock\u001B[38;5;241m.\u001B[39mrelease()\n\u001B[0;32m    945\u001B[0m   \u001B[38;5;66;03m# In this case we have created variables on the first call, so we run the\u001B[39;00m\n\u001B[0;32m    946\u001B[0m   \u001B[38;5;66;03m# defunned version which is guaranteed to never create variables.\u001B[39;00m\n\u001B[1;32m--> 947\u001B[0m   \u001B[38;5;28;01mreturn\u001B[39;00m \u001B[38;5;28mself\u001B[39m\u001B[38;5;241m.\u001B[39m_stateless_fn(\u001B[38;5;241m*\u001B[39margs, \u001B[38;5;241m*\u001B[39m\u001B[38;5;241m*\u001B[39mkwds)  \u001B[38;5;66;03m# pylint: disable=not-callable\u001B[39;00m\n\u001B[0;32m    948\u001B[0m \u001B[38;5;28;01melif\u001B[39;00m \u001B[38;5;28mself\u001B[39m\u001B[38;5;241m.\u001B[39m_stateful_fn \u001B[38;5;129;01mis\u001B[39;00m \u001B[38;5;129;01mnot\u001B[39;00m \u001B[38;5;28;01mNone\u001B[39;00m:\n\u001B[0;32m    949\u001B[0m   \u001B[38;5;66;03m# Release the lock early so that multiple threads can perform the call\u001B[39;00m\n\u001B[0;32m    950\u001B[0m   \u001B[38;5;66;03m# in parallel.\u001B[39;00m\n\u001B[0;32m    951\u001B[0m   \u001B[38;5;28mself\u001B[39m\u001B[38;5;241m.\u001B[39m_lock\u001B[38;5;241m.\u001B[39mrelease()\n",
      "File \u001B[1;32mD:\\GameDev\\ThesisPy\\venv\\lib\\site-packages\\tensorflow\\python\\eager\\function.py:2956\u001B[0m, in \u001B[0;36mFunction.__call__\u001B[1;34m(self, *args, **kwargs)\u001B[0m\n\u001B[0;32m   2953\u001B[0m \u001B[38;5;28;01mwith\u001B[39;00m \u001B[38;5;28mself\u001B[39m\u001B[38;5;241m.\u001B[39m_lock:\n\u001B[0;32m   2954\u001B[0m   (graph_function,\n\u001B[0;32m   2955\u001B[0m    filtered_flat_args) \u001B[38;5;241m=\u001B[39m \u001B[38;5;28mself\u001B[39m\u001B[38;5;241m.\u001B[39m_maybe_define_function(args, kwargs)\n\u001B[1;32m-> 2956\u001B[0m \u001B[38;5;28;01mreturn\u001B[39;00m \u001B[43mgraph_function\u001B[49m\u001B[38;5;241;43m.\u001B[39;49m\u001B[43m_call_flat\u001B[49m\u001B[43m(\u001B[49m\n\u001B[0;32m   2957\u001B[0m \u001B[43m    \u001B[49m\u001B[43mfiltered_flat_args\u001B[49m\u001B[43m,\u001B[49m\u001B[43m \u001B[49m\u001B[43mcaptured_inputs\u001B[49m\u001B[38;5;241;43m=\u001B[39;49m\u001B[43mgraph_function\u001B[49m\u001B[38;5;241;43m.\u001B[39;49m\u001B[43mcaptured_inputs\u001B[49m\u001B[43m)\u001B[49m\n",
      "File \u001B[1;32mD:\\GameDev\\ThesisPy\\venv\\lib\\site-packages\\tensorflow\\python\\eager\\function.py:1853\u001B[0m, in \u001B[0;36mConcreteFunction._call_flat\u001B[1;34m(self, args, captured_inputs, cancellation_manager)\u001B[0m\n\u001B[0;32m   1849\u001B[0m possible_gradient_type \u001B[38;5;241m=\u001B[39m gradients_util\u001B[38;5;241m.\u001B[39mPossibleTapeGradientTypes(args)\n\u001B[0;32m   1850\u001B[0m \u001B[38;5;28;01mif\u001B[39;00m (possible_gradient_type \u001B[38;5;241m==\u001B[39m gradients_util\u001B[38;5;241m.\u001B[39mPOSSIBLE_GRADIENT_TYPES_NONE\n\u001B[0;32m   1851\u001B[0m     \u001B[38;5;129;01mand\u001B[39;00m executing_eagerly):\n\u001B[0;32m   1852\u001B[0m   \u001B[38;5;66;03m# No tape is watching; skip to running the function.\u001B[39;00m\n\u001B[1;32m-> 1853\u001B[0m   \u001B[38;5;28;01mreturn\u001B[39;00m \u001B[38;5;28mself\u001B[39m\u001B[38;5;241m.\u001B[39m_build_call_outputs(\u001B[38;5;28;43mself\u001B[39;49m\u001B[38;5;241;43m.\u001B[39;49m\u001B[43m_inference_function\u001B[49m\u001B[38;5;241;43m.\u001B[39;49m\u001B[43mcall\u001B[49m\u001B[43m(\u001B[49m\n\u001B[0;32m   1854\u001B[0m \u001B[43m      \u001B[49m\u001B[43mctx\u001B[49m\u001B[43m,\u001B[49m\u001B[43m \u001B[49m\u001B[43margs\u001B[49m\u001B[43m,\u001B[49m\u001B[43m \u001B[49m\u001B[43mcancellation_manager\u001B[49m\u001B[38;5;241;43m=\u001B[39;49m\u001B[43mcancellation_manager\u001B[49m\u001B[43m)\u001B[49m)\n\u001B[0;32m   1855\u001B[0m forward_backward \u001B[38;5;241m=\u001B[39m \u001B[38;5;28mself\u001B[39m\u001B[38;5;241m.\u001B[39m_select_forward_and_backward_functions(\n\u001B[0;32m   1856\u001B[0m     args,\n\u001B[0;32m   1857\u001B[0m     possible_gradient_type,\n\u001B[0;32m   1858\u001B[0m     executing_eagerly)\n\u001B[0;32m   1859\u001B[0m forward_function, args_with_tangents \u001B[38;5;241m=\u001B[39m forward_backward\u001B[38;5;241m.\u001B[39mforward()\n",
      "File \u001B[1;32mD:\\GameDev\\ThesisPy\\venv\\lib\\site-packages\\tensorflow\\python\\eager\\function.py:499\u001B[0m, in \u001B[0;36m_EagerDefinedFunction.call\u001B[1;34m(self, ctx, args, cancellation_manager)\u001B[0m\n\u001B[0;32m    497\u001B[0m \u001B[38;5;28;01mwith\u001B[39;00m _InterpolateFunctionError(\u001B[38;5;28mself\u001B[39m):\n\u001B[0;32m    498\u001B[0m   \u001B[38;5;28;01mif\u001B[39;00m cancellation_manager \u001B[38;5;129;01mis\u001B[39;00m \u001B[38;5;28;01mNone\u001B[39;00m:\n\u001B[1;32m--> 499\u001B[0m     outputs \u001B[38;5;241m=\u001B[39m \u001B[43mexecute\u001B[49m\u001B[38;5;241;43m.\u001B[39;49m\u001B[43mexecute\u001B[49m\u001B[43m(\u001B[49m\n\u001B[0;32m    500\u001B[0m \u001B[43m        \u001B[49m\u001B[38;5;28;43mstr\u001B[39;49m\u001B[43m(\u001B[49m\u001B[38;5;28;43mself\u001B[39;49m\u001B[38;5;241;43m.\u001B[39;49m\u001B[43msignature\u001B[49m\u001B[38;5;241;43m.\u001B[39;49m\u001B[43mname\u001B[49m\u001B[43m)\u001B[49m\u001B[43m,\u001B[49m\n\u001B[0;32m    501\u001B[0m \u001B[43m        \u001B[49m\u001B[43mnum_outputs\u001B[49m\u001B[38;5;241;43m=\u001B[39;49m\u001B[38;5;28;43mself\u001B[39;49m\u001B[38;5;241;43m.\u001B[39;49m\u001B[43m_num_outputs\u001B[49m\u001B[43m,\u001B[49m\n\u001B[0;32m    502\u001B[0m \u001B[43m        \u001B[49m\u001B[43minputs\u001B[49m\u001B[38;5;241;43m=\u001B[39;49m\u001B[43margs\u001B[49m\u001B[43m,\u001B[49m\n\u001B[0;32m    503\u001B[0m \u001B[43m        \u001B[49m\u001B[43mattrs\u001B[49m\u001B[38;5;241;43m=\u001B[39;49m\u001B[43mattrs\u001B[49m\u001B[43m,\u001B[49m\n\u001B[0;32m    504\u001B[0m \u001B[43m        \u001B[49m\u001B[43mctx\u001B[49m\u001B[38;5;241;43m=\u001B[39;49m\u001B[43mctx\u001B[49m\u001B[43m)\u001B[49m\n\u001B[0;32m    505\u001B[0m   \u001B[38;5;28;01melse\u001B[39;00m:\n\u001B[0;32m    506\u001B[0m     outputs \u001B[38;5;241m=\u001B[39m execute\u001B[38;5;241m.\u001B[39mexecute_with_cancellation(\n\u001B[0;32m    507\u001B[0m         \u001B[38;5;28mstr\u001B[39m(\u001B[38;5;28mself\u001B[39m\u001B[38;5;241m.\u001B[39msignature\u001B[38;5;241m.\u001B[39mname),\n\u001B[0;32m    508\u001B[0m         num_outputs\u001B[38;5;241m=\u001B[39m\u001B[38;5;28mself\u001B[39m\u001B[38;5;241m.\u001B[39m_num_outputs,\n\u001B[1;32m   (...)\u001B[0m\n\u001B[0;32m    511\u001B[0m         ctx\u001B[38;5;241m=\u001B[39mctx,\n\u001B[0;32m    512\u001B[0m         cancellation_manager\u001B[38;5;241m=\u001B[39mcancellation_manager)\n",
      "File \u001B[1;32mD:\\GameDev\\ThesisPy\\venv\\lib\\site-packages\\tensorflow\\python\\eager\\execute.py:54\u001B[0m, in \u001B[0;36mquick_execute\u001B[1;34m(op_name, num_outputs, inputs, attrs, ctx, name)\u001B[0m\n\u001B[0;32m     52\u001B[0m \u001B[38;5;28;01mtry\u001B[39;00m:\n\u001B[0;32m     53\u001B[0m   ctx\u001B[38;5;241m.\u001B[39mensure_initialized()\n\u001B[1;32m---> 54\u001B[0m   tensors \u001B[38;5;241m=\u001B[39m \u001B[43mpywrap_tfe\u001B[49m\u001B[38;5;241;43m.\u001B[39;49m\u001B[43mTFE_Py_Execute\u001B[49m\u001B[43m(\u001B[49m\u001B[43mctx\u001B[49m\u001B[38;5;241;43m.\u001B[39;49m\u001B[43m_handle\u001B[49m\u001B[43m,\u001B[49m\u001B[43m \u001B[49m\u001B[43mdevice_name\u001B[49m\u001B[43m,\u001B[49m\u001B[43m \u001B[49m\u001B[43mop_name\u001B[49m\u001B[43m,\u001B[49m\n\u001B[0;32m     55\u001B[0m \u001B[43m                                      \u001B[49m\u001B[43minputs\u001B[49m\u001B[43m,\u001B[49m\u001B[43m \u001B[49m\u001B[43mattrs\u001B[49m\u001B[43m,\u001B[49m\u001B[43m \u001B[49m\u001B[43mnum_outputs\u001B[49m\u001B[43m)\u001B[49m\n\u001B[0;32m     56\u001B[0m \u001B[38;5;28;01mexcept\u001B[39;00m core\u001B[38;5;241m.\u001B[39m_NotOkStatusException \u001B[38;5;28;01mas\u001B[39;00m e:\n\u001B[0;32m     57\u001B[0m   \u001B[38;5;28;01mif\u001B[39;00m name \u001B[38;5;129;01mis\u001B[39;00m \u001B[38;5;129;01mnot\u001B[39;00m \u001B[38;5;28;01mNone\u001B[39;00m:\n",
      "\u001B[1;31mKeyboardInterrupt\u001B[0m: "
     ]
    }
   ]
  },
  {
   "cell_type": "code",
   "source": [
    "y_pred = pipeline.predict(X_test)\n",
    "print(\"Accuracy:\", accuracy_score(y_test, y_pred))\n",
    "print(\"F1-score:\", f1_score(y_test, y_pred))\n",
    "print(confusion_matrix(y_test, y_pred))\n",
    "print(pipeline)"
   ],
   "metadata": {
    "colab": {
     "base_uri": "https://localhost:8080/"
    },
    "id": "3Nk9OThvOYp8",
    "outputId": "f6decfeb-3469-4046-b7b2-576997d6633a"
   },
   "execution_count": null,
   "outputs": []
  },
  {
   "cell_type": "code",
   "source": [],
   "metadata": {
    "id": "aj8yjFqrLxOE"
   },
   "execution_count": null,
   "outputs": []
  }
 ]
}
