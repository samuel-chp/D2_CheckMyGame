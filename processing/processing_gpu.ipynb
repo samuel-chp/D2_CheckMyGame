{
 "nbformat": 4,
 "nbformat_minor": 0,
 "metadata": {
  "colab": {
   "provenance": []
  },
  "kernelspec": {
   "name": "python3",
   "display_name": "Python 3"
  },
  "language_info": {
   "name": "python"
  },
  "accelerator": "GPU",
  "gpuClass": "standard"
 },
 "cells": [
  {
   "cell_type": "markdown",
   "source": [
    "# Imports"
   ],
   "metadata": {
    "id": "uJ1cl2BK-yh9"
   }
  },
  {
   "cell_type": "code",
   "source": [
    "import time\n",
    "from pathlib import Path\n",
    "from datetime import datetime\n",
    "import pandas as pd\n",
    "import numpy as np\n",
    "import os, sys\n",
    "import seaborn as sns\n",
    "import json\n",
    "import sqlite3\n",
    "\n",
    "from sklearn.model_selection import train_test_split, cross_val_score\n",
    "from sklearn.metrics import accuracy_score, confusion_matrix, f1_score\n",
    "from sklearn.pipeline import make_pipeline\n",
    "from sklearn.preprocessing import MinMaxScaler, StandardScaler\n",
    "from sklearn.svm import SVC\n",
    "from sklearn.decomposition import PCA\n",
    "from sklearn.ensemble import RandomForestClassifier\n",
    "from catboost import CatBoostClassifier"
   ],
   "metadata": {
    "id": "gHCWcR4R9tGt"
   },
   "execution_count": 38,
   "outputs": []
  },
  {
   "cell_type": "code",
   "source": [
    "ROOT_DATA_FOLDER = \"../data\"\n",
    "API_DATE_FORMAT = \"%Y-%m-%dT%H:%M:%SZ\"\n",
    "RANDOM_STATE = 42"
   ],
   "metadata": {
    "id": "-WW1JvtJMkVB"
   },
   "execution_count": 39,
   "outputs": []
  },
  {
   "cell_type": "markdown",
   "source": [
    "# Functions"
   ],
   "metadata": {
    "id": "_t99q8Q6_CRs"
   }
  },
  {
   "cell_type": "code",
   "source": [
    "def pad(l: list, n: int, value=0):\n",
    "    return l + [value] * (n - len(l))"
   ],
   "metadata": {
    "id": "GVXPVRdB_DZz"
   },
   "execution_count": 40,
   "outputs": []
  },
  {
   "cell_type": "code",
   "source": [
    "def get_player_columns_name(feature_name):\n",
    "    return [f\"player_{i}_{feature_name}\" for i in range(1, 13)]"
   ],
   "metadata": {
    "id": "U-ifbPRRTc2Q"
   },
   "execution_count": 41,
   "outputs": []
  },
  {
   "cell_type": "code",
   "source": [
    "# Shuffle teams so that half of the activities were won\n",
    "def get_cols_name(player_range_start: int, player_range_end: int):\n",
    "    return np.array(\n",
    "        [[f\"player_{i}_{stat}\" for stat in STATS_NAME] for i in range(player_range_start, player_range_end)]).reshape(\n",
    "        (player_range_end - player_range_start) * N_STATS)\n",
    "\n",
    "def shuffle_winning_team(df):\n",
    "    # Not optimal - renaming columns but the rvalue consume memory as well\n",
    "    mid = len(df) // 2\n",
    "\n",
    "    # First shuffle dataframe to ensure dates are shuffle as well\n",
    "    df = df.sample(frac=1.0, random_state=RANDOM_STATE).reset_index(drop=True)\n",
    "\n",
    "    player_cols_team_A = get_cols_name(1, 7)\n",
    "    player_cols_team_B = get_cols_name(7, 13)\n",
    "    tmp_cols = [f\"tmp_{i}\" for i in range(6*N_STATS)]\n",
    "\n",
    "    # False positive warning (see https://stackoverflow.com/questions/20625582/how-to-deal-with-settingwithcopywarning-in-pandas)\n",
    "    df.loc[:mid] = (df.loc[:mid].rename(columns={player_cols_team_A[i]: tmp_cols[i] for i in range(len(player_cols_team_A))})\n",
    "                                    .rename(columns={player_cols_team_B[i]: player_cols_team_A[i] for i in range(len(player_cols_team_A))})\n",
    "                                    .rename(columns={tmp_cols[i]: player_cols_team_B[i] for i in range(len(player_cols_team_A))}))\\\n",
    "                                    [df.columns]  # reorder columns\n",
    "    df.loc[:mid, \"winner\"] = [1 for i in range(mid + 1)]\n",
    "    return df"
   ],
   "metadata": {
    "id": "0vYvIVt4BPnr"
   },
   "execution_count": 42,
   "outputs": []
  },
  {
   "cell_type": "markdown",
   "source": [
    "# Load data"
   ],
   "metadata": {
    "id": "MHcwQpiSBzFk"
   }
  },
  {
   "cell_type": "code",
   "source": [
    "%%time\n",
    "train = pd.read_csv(os.path.join(ROOT_DATA_FOLDER, \"train.csv\"))\n",
    "train[\"period\"] = pd.to_datetime(train[\"period\"], format=\"%Y-%m-%d %H:%M:%S\")\n",
    "train"
   ],
   "metadata": {
    "colab": {
     "base_uri": "https://localhost:8080/",
     "height": 661
    },
    "id": "ZNwqs2YsB0ET",
    "outputId": "7983e2ff-7c8c-45c8-af45-f9ad5dc25a4f"
   },
   "execution_count": 43,
   "outputs": [
    {
     "name": "stdout",
     "output_type": "stream",
     "text": [
      "CPU times: total: 14.5 s\n",
      "Wall time: 15.7 s\n"
     ]
    },
    {
     "data": {
      "text/plain": "         player_1_activities_entered  player_1_combat_rating  \\\n0                              261.0              168.135969   \n1                              390.0              161.895219   \n2                              390.0              161.895219   \n3                              390.0              161.895219   \n4                               17.0              130.364239   \n...                              ...                     ...   \n1024538                      33121.0              151.767243   \n1024539                        205.0              106.204519   \n1024540                       5810.0              158.251602   \n1024541                      33121.0              151.767243   \n1024542                        419.0              156.880766   \n\n         player_1_kills_pga  player_1_assists_pga  player_1_deaths_pga  \\\n0                  8.103448              3.252874             8.176245   \n1                 11.684615              3.951282             8.828205   \n2                 11.684615              3.951282             8.828205   \n3                 11.684615              3.951282             8.828205   \n4                 10.176471              5.176471            10.764706   \n...                     ...                   ...                  ...   \n1024538           13.157091              2.760122             7.054618   \n1024539            9.434146              3.965854             7.668293   \n1024540           14.374355              4.447332             9.278141   \n1024541           13.157091              2.760122             7.054618   \n1024542           15.448687              4.558473             8.360382   \n\n         player_1_score_pga  player_1_win_ratio  player_1_kd  player_1_kda  \\\n0                  5.896552            0.444444     0.991097      1.388941   \n1                 15.935897            0.551282     1.323555      1.771130   \n2                 15.935897            0.551282     1.323555      1.771130   \n3                 15.935897            0.551282     1.323555      1.771130   \n4                 15.411765            0.352941     0.945355      1.426230   \n...                     ...                 ...          ...           ...   \n1024538           18.008031            0.597959     1.865032      2.256283   \n1024539           12.492683            0.497561     1.230280      1.747455   \n1024540           27.070224            0.481239     1.549271      2.028605   \n1024541           18.008031            0.597959     1.865032      2.256283   \n1024542           25.085919            0.539379     1.847845      2.393092   \n\n         player_2_activities_entered  ...  player_12_assists_pga  \\\n0                             2417.0  ...               0.000000   \n1                             2417.0  ...               0.000000   \n2                             2417.0  ...               0.000000   \n3                             2417.0  ...               0.000000   \n4                               49.0  ...               0.000000   \n...                              ...  ...                    ...   \n1024538                       4026.0  ...               3.380557   \n1024539                         69.0  ...               3.130886   \n1024540                       1693.0  ...               3.800287   \n1024541                        799.0  ...               3.353251   \n1024542                       7843.0  ...               2.579592   \n\n         player_12_deaths_pga  player_12_score_pga  player_12_win_ratio  \\\n0                    0.000000             0.000000             0.000000   \n1                    0.000000             0.000000             0.000000   \n2                    0.000000             0.000000             0.000000   \n3                    0.000000             0.000000             0.000000   \n4                    0.000000             0.000000             0.000000   \n...                       ...                  ...                  ...   \n1024538              8.950066            23.629230             0.603351   \n1024539              8.006385            16.950519             0.374302   \n1024540              9.218901            17.859679             0.346038   \n1024541              9.996485            20.509666             0.471002   \n1024542              7.706122            18.910204             0.546939   \n\n         player_12_kd  player_12_kda  winner  mode              period  \\\n0            0.000000       0.000000     0.0    71 2017-09-05 23:32:24   \n1            0.000000       0.000000     0.0    71 2017-09-05 23:42:27   \n2            0.000000       0.000000     0.0    73 2017-09-05 23:53:01   \n3            0.000000       0.000000     0.0    73 2017-09-06 00:04:05   \n4            0.000000       0.000000     0.0    73 2017-09-06 05:42:33   \n...               ...            ...     ...   ...                 ...   \n1024538      1.693500       2.071213     0.0    71 2022-12-08 18:11:22   \n1024539      0.989833       1.380881     0.0    73 2022-12-08 18:20:09   \n1024540      1.059581       1.471809     0.0    71 2022-12-08 18:29:49   \n1024541      0.899965       1.235408     0.0    88 2022-12-08 16:59:30   \n1024542      1.940678       2.275424     0.0    71 2022-12-08 21:59:31   \n\n         instance_id  \n0            1885169  \n1            2024057  \n2            2159868  \n3            2269987  \n4            7875392  \n...              ...  \n1024538  12018990154  \n1024539  12019036307  \n1024540  12019094299  \n1024541  12019833328  \n1024542  12020140409  \n\n[1024543 rows x 112 columns]",
      "text/html": "<div>\n<style scoped>\n    .dataframe tbody tr th:only-of-type {\n        vertical-align: middle;\n    }\n\n    .dataframe tbody tr th {\n        vertical-align: top;\n    }\n\n    .dataframe thead th {\n        text-align: right;\n    }\n</style>\n<table border=\"1\" class=\"dataframe\">\n  <thead>\n    <tr style=\"text-align: right;\">\n      <th></th>\n      <th>player_1_activities_entered</th>\n      <th>player_1_combat_rating</th>\n      <th>player_1_kills_pga</th>\n      <th>player_1_assists_pga</th>\n      <th>player_1_deaths_pga</th>\n      <th>player_1_score_pga</th>\n      <th>player_1_win_ratio</th>\n      <th>player_1_kd</th>\n      <th>player_1_kda</th>\n      <th>player_2_activities_entered</th>\n      <th>...</th>\n      <th>player_12_assists_pga</th>\n      <th>player_12_deaths_pga</th>\n      <th>player_12_score_pga</th>\n      <th>player_12_win_ratio</th>\n      <th>player_12_kd</th>\n      <th>player_12_kda</th>\n      <th>winner</th>\n      <th>mode</th>\n      <th>period</th>\n      <th>instance_id</th>\n    </tr>\n  </thead>\n  <tbody>\n    <tr>\n      <th>0</th>\n      <td>261.0</td>\n      <td>168.135969</td>\n      <td>8.103448</td>\n      <td>3.252874</td>\n      <td>8.176245</td>\n      <td>5.896552</td>\n      <td>0.444444</td>\n      <td>0.991097</td>\n      <td>1.388941</td>\n      <td>2417.0</td>\n      <td>...</td>\n      <td>0.000000</td>\n      <td>0.000000</td>\n      <td>0.000000</td>\n      <td>0.000000</td>\n      <td>0.000000</td>\n      <td>0.000000</td>\n      <td>0.0</td>\n      <td>71</td>\n      <td>2017-09-05 23:32:24</td>\n      <td>1885169</td>\n    </tr>\n    <tr>\n      <th>1</th>\n      <td>390.0</td>\n      <td>161.895219</td>\n      <td>11.684615</td>\n      <td>3.951282</td>\n      <td>8.828205</td>\n      <td>15.935897</td>\n      <td>0.551282</td>\n      <td>1.323555</td>\n      <td>1.771130</td>\n      <td>2417.0</td>\n      <td>...</td>\n      <td>0.000000</td>\n      <td>0.000000</td>\n      <td>0.000000</td>\n      <td>0.000000</td>\n      <td>0.000000</td>\n      <td>0.000000</td>\n      <td>0.0</td>\n      <td>71</td>\n      <td>2017-09-05 23:42:27</td>\n      <td>2024057</td>\n    </tr>\n    <tr>\n      <th>2</th>\n      <td>390.0</td>\n      <td>161.895219</td>\n      <td>11.684615</td>\n      <td>3.951282</td>\n      <td>8.828205</td>\n      <td>15.935897</td>\n      <td>0.551282</td>\n      <td>1.323555</td>\n      <td>1.771130</td>\n      <td>2417.0</td>\n      <td>...</td>\n      <td>0.000000</td>\n      <td>0.000000</td>\n      <td>0.000000</td>\n      <td>0.000000</td>\n      <td>0.000000</td>\n      <td>0.000000</td>\n      <td>0.0</td>\n      <td>73</td>\n      <td>2017-09-05 23:53:01</td>\n      <td>2159868</td>\n    </tr>\n    <tr>\n      <th>3</th>\n      <td>390.0</td>\n      <td>161.895219</td>\n      <td>11.684615</td>\n      <td>3.951282</td>\n      <td>8.828205</td>\n      <td>15.935897</td>\n      <td>0.551282</td>\n      <td>1.323555</td>\n      <td>1.771130</td>\n      <td>2417.0</td>\n      <td>...</td>\n      <td>0.000000</td>\n      <td>0.000000</td>\n      <td>0.000000</td>\n      <td>0.000000</td>\n      <td>0.000000</td>\n      <td>0.000000</td>\n      <td>0.0</td>\n      <td>73</td>\n      <td>2017-09-06 00:04:05</td>\n      <td>2269987</td>\n    </tr>\n    <tr>\n      <th>4</th>\n      <td>17.0</td>\n      <td>130.364239</td>\n      <td>10.176471</td>\n      <td>5.176471</td>\n      <td>10.764706</td>\n      <td>15.411765</td>\n      <td>0.352941</td>\n      <td>0.945355</td>\n      <td>1.426230</td>\n      <td>49.0</td>\n      <td>...</td>\n      <td>0.000000</td>\n      <td>0.000000</td>\n      <td>0.000000</td>\n      <td>0.000000</td>\n      <td>0.000000</td>\n      <td>0.000000</td>\n      <td>0.0</td>\n      <td>73</td>\n      <td>2017-09-06 05:42:33</td>\n      <td>7875392</td>\n    </tr>\n    <tr>\n      <th>...</th>\n      <td>...</td>\n      <td>...</td>\n      <td>...</td>\n      <td>...</td>\n      <td>...</td>\n      <td>...</td>\n      <td>...</td>\n      <td>...</td>\n      <td>...</td>\n      <td>...</td>\n      <td>...</td>\n      <td>...</td>\n      <td>...</td>\n      <td>...</td>\n      <td>...</td>\n      <td>...</td>\n      <td>...</td>\n      <td>...</td>\n      <td>...</td>\n      <td>...</td>\n      <td>...</td>\n    </tr>\n    <tr>\n      <th>1024538</th>\n      <td>33121.0</td>\n      <td>151.767243</td>\n      <td>13.157091</td>\n      <td>2.760122</td>\n      <td>7.054618</td>\n      <td>18.008031</td>\n      <td>0.597959</td>\n      <td>1.865032</td>\n      <td>2.256283</td>\n      <td>4026.0</td>\n      <td>...</td>\n      <td>3.380557</td>\n      <td>8.950066</td>\n      <td>23.629230</td>\n      <td>0.603351</td>\n      <td>1.693500</td>\n      <td>2.071213</td>\n      <td>0.0</td>\n      <td>71</td>\n      <td>2022-12-08 18:11:22</td>\n      <td>12018990154</td>\n    </tr>\n    <tr>\n      <th>1024539</th>\n      <td>205.0</td>\n      <td>106.204519</td>\n      <td>9.434146</td>\n      <td>3.965854</td>\n      <td>7.668293</td>\n      <td>12.492683</td>\n      <td>0.497561</td>\n      <td>1.230280</td>\n      <td>1.747455</td>\n      <td>69.0</td>\n      <td>...</td>\n      <td>3.130886</td>\n      <td>8.006385</td>\n      <td>16.950519</td>\n      <td>0.374302</td>\n      <td>0.989833</td>\n      <td>1.380881</td>\n      <td>0.0</td>\n      <td>73</td>\n      <td>2022-12-08 18:20:09</td>\n      <td>12019036307</td>\n    </tr>\n    <tr>\n      <th>1024540</th>\n      <td>5810.0</td>\n      <td>158.251602</td>\n      <td>14.374355</td>\n      <td>4.447332</td>\n      <td>9.278141</td>\n      <td>27.070224</td>\n      <td>0.481239</td>\n      <td>1.549271</td>\n      <td>2.028605</td>\n      <td>1693.0</td>\n      <td>...</td>\n      <td>3.800287</td>\n      <td>9.218901</td>\n      <td>17.859679</td>\n      <td>0.346038</td>\n      <td>1.059581</td>\n      <td>1.471809</td>\n      <td>0.0</td>\n      <td>71</td>\n      <td>2022-12-08 18:29:49</td>\n      <td>12019094299</td>\n    </tr>\n    <tr>\n      <th>1024541</th>\n      <td>33121.0</td>\n      <td>151.767243</td>\n      <td>13.157091</td>\n      <td>2.760122</td>\n      <td>7.054618</td>\n      <td>18.008031</td>\n      <td>0.597959</td>\n      <td>1.865032</td>\n      <td>2.256283</td>\n      <td>799.0</td>\n      <td>...</td>\n      <td>3.353251</td>\n      <td>9.996485</td>\n      <td>20.509666</td>\n      <td>0.471002</td>\n      <td>0.899965</td>\n      <td>1.235408</td>\n      <td>0.0</td>\n      <td>88</td>\n      <td>2022-12-08 16:59:30</td>\n      <td>12019833328</td>\n    </tr>\n    <tr>\n      <th>1024542</th>\n      <td>419.0</td>\n      <td>156.880766</td>\n      <td>15.448687</td>\n      <td>4.558473</td>\n      <td>8.360382</td>\n      <td>25.085919</td>\n      <td>0.539379</td>\n      <td>1.847845</td>\n      <td>2.393092</td>\n      <td>7843.0</td>\n      <td>...</td>\n      <td>2.579592</td>\n      <td>7.706122</td>\n      <td>18.910204</td>\n      <td>0.546939</td>\n      <td>1.940678</td>\n      <td>2.275424</td>\n      <td>0.0</td>\n      <td>71</td>\n      <td>2022-12-08 21:59:31</td>\n      <td>12020140409</td>\n    </tr>\n  </tbody>\n</table>\n<p>1024543 rows × 112 columns</p>\n</div>"
     },
     "execution_count": 43,
     "metadata": {},
     "output_type": "execute_result"
    }
   ]
  },
  {
   "cell_type": "code",
   "execution_count": 44,
   "outputs": [
    {
     "data": {
      "text/plain": "0.0    1024543\nName: winner, dtype: int64"
     },
     "execution_count": 44,
     "metadata": {},
     "output_type": "execute_result"
    }
   ],
   "source": [
    "train[\"winner\"].value_counts()"
   ],
   "metadata": {
    "collapsed": false
   }
  },
  {
   "cell_type": "code",
   "execution_count": null,
   "outputs": [],
   "source": [],
   "metadata": {
    "collapsed": false
   }
  },
  {
   "cell_type": "markdown",
   "source": [
    "# Preprocessing"
   ],
   "metadata": {
    "id": "fdhXKssS_2pb"
   }
  },
  {
   "cell_type": "code",
   "source": [
    "STATS_NAME = [\"activities_entered\", \"combat_rating\", \"kills_pga\", \"assists_pga\", \"deaths_pga\", \"score_pga\", \"win_ratio\", \"kd\", \"kda\"]\n",
    "N_STATS = len(STATS_NAME)\n",
    "PLAYERS_COLUMNS = np.array([[f\"player_{i}_{stat}\" for stat in STATS_NAME] for i in range(1, 13)]).reshape(12 * N_STATS)"
   ],
   "metadata": {
    "id": "gdXCaLA-_oq0"
   },
   "execution_count": 45,
   "outputs": []
  },
  {
   "cell_type": "code",
   "source": [
    "# Select rows without stats missing\n",
    "req = [f\"(train['{col}'] > -0.5)\" for col in PLAYERS_COLUMNS]\n",
    "req = \" & \".join(req)\n",
    "train = train[eval(req)]  # hey, it's not stupid if it works\n",
    "train.reset_index(inplace=True, drop=True)\n",
    "train"
   ],
   "metadata": {
    "id": "8HcDOmUOAwh7",
    "colab": {
     "base_uri": "https://localhost:8080/",
     "height": 661
    },
    "outputId": "23585e22-d87e-4060-df48-85dbef68f045"
   },
   "execution_count": 46,
   "outputs": [
    {
     "data": {
      "text/plain": "        player_1_activities_entered  player_1_combat_rating  \\\n0                             261.0              168.135969   \n1                             390.0              161.895219   \n2                             390.0              161.895219   \n3                              17.0              130.364239   \n4                             124.0              162.975152   \n...                             ...                     ...   \n895418                        940.0              177.178008   \n895419                      33121.0              151.767243   \n895420                        205.0              106.204519   \n895421                      33121.0              151.767243   \n895422                        419.0              156.880766   \n\n        player_1_kills_pga  player_1_assists_pga  player_1_deaths_pga  \\\n0                 8.103448              3.252874             8.176245   \n1                11.684615              3.951282             8.828205   \n2                11.684615              3.951282             8.828205   \n3                10.176471              5.176471            10.764706   \n4                11.685484              3.766129             9.895161   \n...                    ...                   ...                  ...   \n895418           16.147872              3.550000             9.417021   \n895419           13.157091              2.760122             7.054618   \n895420            9.434146              3.965854             7.668293   \n895421           13.157091              2.760122             7.054618   \n895422           15.448687              4.558473             8.360382   \n\n        player_1_score_pga  player_1_win_ratio  player_1_kd  player_1_kda  \\\n0                 5.896552            0.444444     0.991097      1.388941   \n1                15.935897            0.551282     1.323555      1.771130   \n2                15.935897            0.551282     1.323555      1.771130   \n3                15.411765            0.352941     0.945355      1.426230   \n4                17.645161            0.564516     1.180929      1.561532   \n...                    ...                 ...          ...           ...   \n895418           31.580851            0.522340     1.714754      2.091731   \n895419           18.008031            0.597959     1.865032      2.256283   \n895420           12.492683            0.497561     1.230280      1.747455   \n895421           18.008031            0.597959     1.865032      2.256283   \n895422           25.085919            0.539379     1.847845      2.393092   \n\n        player_2_activities_entered  ...  player_12_assists_pga  \\\n0                            2417.0  ...               0.000000   \n1                            2417.0  ...               0.000000   \n2                            2417.0  ...               0.000000   \n3                              49.0  ...               0.000000   \n4                             547.0  ...               0.000000   \n...                             ...  ...                    ...   \n895418                        614.0  ...               2.659341   \n895419                       4026.0  ...               3.380557   \n895420                         69.0  ...               3.130886   \n895421                        799.0  ...               3.353251   \n895422                       7843.0  ...               2.579592   \n\n        player_12_deaths_pga  player_12_score_pga  player_12_win_ratio  \\\n0                   0.000000             0.000000             0.000000   \n1                   0.000000             0.000000             0.000000   \n2                   0.000000             0.000000             0.000000   \n3                   0.000000             0.000000             0.000000   \n4                   0.000000             0.000000             0.000000   \n...                      ...                  ...                  ...   \n895418              9.806593            17.496703             0.509890   \n895419              8.950066            23.629230             0.603351   \n895420              8.006385            16.950519             0.374302   \n895421              9.996485            20.509666             0.471002   \n895422              7.706122            18.910204             0.546939   \n\n        player_12_kd  player_12_kda  winner  mode              period  \\\n0           0.000000       0.000000     0.0    71 2017-09-05 23:32:24   \n1           0.000000       0.000000     0.0    71 2017-09-05 23:42:27   \n2           0.000000       0.000000     0.0    73 2017-09-05 23:53:01   \n3           0.000000       0.000000     0.0    73 2017-09-06 05:42:33   \n4           0.000000       0.000000     0.0    73 2017-09-06 09:14:55   \n...              ...            ...     ...   ...                 ...   \n895418      1.425146       1.696325     0.0    71 2022-12-08 17:58:28   \n895419      1.693500       2.071213     0.0    71 2022-12-08 18:11:22   \n895420      0.989833       1.380881     0.0    73 2022-12-08 18:20:09   \n895421      0.899965       1.235408     0.0    88 2022-12-08 16:59:30   \n895422      1.940678       2.275424     0.0    71 2022-12-08 21:59:31   \n\n        instance_id  \n0           1885169  \n1           2024057  \n2           2159868  \n3           7875392  \n4          12789762  \n...             ...  \n895418  12018945431  \n895419  12018990154  \n895420  12019036307  \n895421  12019833328  \n895422  12020140409  \n\n[895423 rows x 112 columns]",
      "text/html": "<div>\n<style scoped>\n    .dataframe tbody tr th:only-of-type {\n        vertical-align: middle;\n    }\n\n    .dataframe tbody tr th {\n        vertical-align: top;\n    }\n\n    .dataframe thead th {\n        text-align: right;\n    }\n</style>\n<table border=\"1\" class=\"dataframe\">\n  <thead>\n    <tr style=\"text-align: right;\">\n      <th></th>\n      <th>player_1_activities_entered</th>\n      <th>player_1_combat_rating</th>\n      <th>player_1_kills_pga</th>\n      <th>player_1_assists_pga</th>\n      <th>player_1_deaths_pga</th>\n      <th>player_1_score_pga</th>\n      <th>player_1_win_ratio</th>\n      <th>player_1_kd</th>\n      <th>player_1_kda</th>\n      <th>player_2_activities_entered</th>\n      <th>...</th>\n      <th>player_12_assists_pga</th>\n      <th>player_12_deaths_pga</th>\n      <th>player_12_score_pga</th>\n      <th>player_12_win_ratio</th>\n      <th>player_12_kd</th>\n      <th>player_12_kda</th>\n      <th>winner</th>\n      <th>mode</th>\n      <th>period</th>\n      <th>instance_id</th>\n    </tr>\n  </thead>\n  <tbody>\n    <tr>\n      <th>0</th>\n      <td>261.0</td>\n      <td>168.135969</td>\n      <td>8.103448</td>\n      <td>3.252874</td>\n      <td>8.176245</td>\n      <td>5.896552</td>\n      <td>0.444444</td>\n      <td>0.991097</td>\n      <td>1.388941</td>\n      <td>2417.0</td>\n      <td>...</td>\n      <td>0.000000</td>\n      <td>0.000000</td>\n      <td>0.000000</td>\n      <td>0.000000</td>\n      <td>0.000000</td>\n      <td>0.000000</td>\n      <td>0.0</td>\n      <td>71</td>\n      <td>2017-09-05 23:32:24</td>\n      <td>1885169</td>\n    </tr>\n    <tr>\n      <th>1</th>\n      <td>390.0</td>\n      <td>161.895219</td>\n      <td>11.684615</td>\n      <td>3.951282</td>\n      <td>8.828205</td>\n      <td>15.935897</td>\n      <td>0.551282</td>\n      <td>1.323555</td>\n      <td>1.771130</td>\n      <td>2417.0</td>\n      <td>...</td>\n      <td>0.000000</td>\n      <td>0.000000</td>\n      <td>0.000000</td>\n      <td>0.000000</td>\n      <td>0.000000</td>\n      <td>0.000000</td>\n      <td>0.0</td>\n      <td>71</td>\n      <td>2017-09-05 23:42:27</td>\n      <td>2024057</td>\n    </tr>\n    <tr>\n      <th>2</th>\n      <td>390.0</td>\n      <td>161.895219</td>\n      <td>11.684615</td>\n      <td>3.951282</td>\n      <td>8.828205</td>\n      <td>15.935897</td>\n      <td>0.551282</td>\n      <td>1.323555</td>\n      <td>1.771130</td>\n      <td>2417.0</td>\n      <td>...</td>\n      <td>0.000000</td>\n      <td>0.000000</td>\n      <td>0.000000</td>\n      <td>0.000000</td>\n      <td>0.000000</td>\n      <td>0.000000</td>\n      <td>0.0</td>\n      <td>73</td>\n      <td>2017-09-05 23:53:01</td>\n      <td>2159868</td>\n    </tr>\n    <tr>\n      <th>3</th>\n      <td>17.0</td>\n      <td>130.364239</td>\n      <td>10.176471</td>\n      <td>5.176471</td>\n      <td>10.764706</td>\n      <td>15.411765</td>\n      <td>0.352941</td>\n      <td>0.945355</td>\n      <td>1.426230</td>\n      <td>49.0</td>\n      <td>...</td>\n      <td>0.000000</td>\n      <td>0.000000</td>\n      <td>0.000000</td>\n      <td>0.000000</td>\n      <td>0.000000</td>\n      <td>0.000000</td>\n      <td>0.0</td>\n      <td>73</td>\n      <td>2017-09-06 05:42:33</td>\n      <td>7875392</td>\n    </tr>\n    <tr>\n      <th>4</th>\n      <td>124.0</td>\n      <td>162.975152</td>\n      <td>11.685484</td>\n      <td>3.766129</td>\n      <td>9.895161</td>\n      <td>17.645161</td>\n      <td>0.564516</td>\n      <td>1.180929</td>\n      <td>1.561532</td>\n      <td>547.0</td>\n      <td>...</td>\n      <td>0.000000</td>\n      <td>0.000000</td>\n      <td>0.000000</td>\n      <td>0.000000</td>\n      <td>0.000000</td>\n      <td>0.000000</td>\n      <td>0.0</td>\n      <td>73</td>\n      <td>2017-09-06 09:14:55</td>\n      <td>12789762</td>\n    </tr>\n    <tr>\n      <th>...</th>\n      <td>...</td>\n      <td>...</td>\n      <td>...</td>\n      <td>...</td>\n      <td>...</td>\n      <td>...</td>\n      <td>...</td>\n      <td>...</td>\n      <td>...</td>\n      <td>...</td>\n      <td>...</td>\n      <td>...</td>\n      <td>...</td>\n      <td>...</td>\n      <td>...</td>\n      <td>...</td>\n      <td>...</td>\n      <td>...</td>\n      <td>...</td>\n      <td>...</td>\n      <td>...</td>\n    </tr>\n    <tr>\n      <th>895418</th>\n      <td>940.0</td>\n      <td>177.178008</td>\n      <td>16.147872</td>\n      <td>3.550000</td>\n      <td>9.417021</td>\n      <td>31.580851</td>\n      <td>0.522340</td>\n      <td>1.714754</td>\n      <td>2.091731</td>\n      <td>614.0</td>\n      <td>...</td>\n      <td>2.659341</td>\n      <td>9.806593</td>\n      <td>17.496703</td>\n      <td>0.509890</td>\n      <td>1.425146</td>\n      <td>1.696325</td>\n      <td>0.0</td>\n      <td>71</td>\n      <td>2022-12-08 17:58:28</td>\n      <td>12018945431</td>\n    </tr>\n    <tr>\n      <th>895419</th>\n      <td>33121.0</td>\n      <td>151.767243</td>\n      <td>13.157091</td>\n      <td>2.760122</td>\n      <td>7.054618</td>\n      <td>18.008031</td>\n      <td>0.597959</td>\n      <td>1.865032</td>\n      <td>2.256283</td>\n      <td>4026.0</td>\n      <td>...</td>\n      <td>3.380557</td>\n      <td>8.950066</td>\n      <td>23.629230</td>\n      <td>0.603351</td>\n      <td>1.693500</td>\n      <td>2.071213</td>\n      <td>0.0</td>\n      <td>71</td>\n      <td>2022-12-08 18:11:22</td>\n      <td>12018990154</td>\n    </tr>\n    <tr>\n      <th>895420</th>\n      <td>205.0</td>\n      <td>106.204519</td>\n      <td>9.434146</td>\n      <td>3.965854</td>\n      <td>7.668293</td>\n      <td>12.492683</td>\n      <td>0.497561</td>\n      <td>1.230280</td>\n      <td>1.747455</td>\n      <td>69.0</td>\n      <td>...</td>\n      <td>3.130886</td>\n      <td>8.006385</td>\n      <td>16.950519</td>\n      <td>0.374302</td>\n      <td>0.989833</td>\n      <td>1.380881</td>\n      <td>0.0</td>\n      <td>73</td>\n      <td>2022-12-08 18:20:09</td>\n      <td>12019036307</td>\n    </tr>\n    <tr>\n      <th>895421</th>\n      <td>33121.0</td>\n      <td>151.767243</td>\n      <td>13.157091</td>\n      <td>2.760122</td>\n      <td>7.054618</td>\n      <td>18.008031</td>\n      <td>0.597959</td>\n      <td>1.865032</td>\n      <td>2.256283</td>\n      <td>799.0</td>\n      <td>...</td>\n      <td>3.353251</td>\n      <td>9.996485</td>\n      <td>20.509666</td>\n      <td>0.471002</td>\n      <td>0.899965</td>\n      <td>1.235408</td>\n      <td>0.0</td>\n      <td>88</td>\n      <td>2022-12-08 16:59:30</td>\n      <td>12019833328</td>\n    </tr>\n    <tr>\n      <th>895422</th>\n      <td>419.0</td>\n      <td>156.880766</td>\n      <td>15.448687</td>\n      <td>4.558473</td>\n      <td>8.360382</td>\n      <td>25.085919</td>\n      <td>0.539379</td>\n      <td>1.847845</td>\n      <td>2.393092</td>\n      <td>7843.0</td>\n      <td>...</td>\n      <td>2.579592</td>\n      <td>7.706122</td>\n      <td>18.910204</td>\n      <td>0.546939</td>\n      <td>1.940678</td>\n      <td>2.275424</td>\n      <td>0.0</td>\n      <td>71</td>\n      <td>2022-12-08 21:59:31</td>\n      <td>12020140409</td>\n    </tr>\n  </tbody>\n</table>\n<p>895423 rows × 112 columns</p>\n</div>"
     },
     "execution_count": 46,
     "metadata": {},
     "output_type": "execute_result"
    }
   ]
  },
  {
   "cell_type": "markdown",
   "source": [
    " # Test"
   ],
   "metadata": {
    "id": "0CagdW-qM55C"
   }
  },
  {
   "cell_type": "code",
   "source": [
    "team_A_columns = []\n",
    "for i in range(1, 7):\n",
    "    for stat in STATS_NAME:\n",
    "        team_A_columns.append(f\"player_{i}_{stat}\")\n",
    "\n",
    "X = train[team_A_columns]\n",
    "\n",
    "pca = PCA(n_components=N_STATS)"
   ],
   "metadata": {
    "id": "Ekf1lyucM8ig"
   },
   "execution_count": null,
   "outputs": []
  },
  {
   "cell_type": "code",
   "source": [
    "pca.fit(X)"
   ],
   "metadata": {
    "colab": {
     "base_uri": "https://localhost:8080/"
    },
    "id": "IihlthoGsXhu",
    "outputId": "f1905da5-e97f-413d-e3c4-8ab638366a89"
   },
   "execution_count": null,
   "outputs": [
    {
     "output_type": "execute_result",
     "data": {
      "text/plain": [
       "PCA(n_components=9)"
      ]
     },
     "metadata": {},
     "execution_count": 28
    }
   ]
  },
  {
   "cell_type": "code",
   "source": [
    "a = pca.transform(X)\n",
    "b = pca.transform(X)"
   ],
   "metadata": {
    "id": "MDtaRA82sXmp"
   },
   "execution_count": null,
   "outputs": []
  },
  {
   "cell_type": "code",
   "source": [
    "a.shape"
   ],
   "metadata": {
    "colab": {
     "base_uri": "https://localhost:8080/"
    },
    "id": "YBFmrUGKt6px",
    "outputId": "37cd214f-b587-43fd-fdbe-f187ff302539"
   },
   "execution_count": null,
   "outputs": [
    {
     "output_type": "execute_result",
     "data": {
      "text/plain": [
       "(432560, 9)"
      ]
     },
     "metadata": {},
     "execution_count": 44
    }
   ]
  },
  {
   "cell_type": "code",
   "source": [
    "np.concatenate((a, b, [[0] for i in range(432560)]), axis=1).shape"
   ],
   "metadata": {
    "colab": {
     "base_uri": "https://localhost:8080/"
    },
    "id": "8KzdSzYnt6sK",
    "outputId": "9b9ef9f5-ebe4-4eed-bd8e-6c706a8c7718"
   },
   "execution_count": null,
   "outputs": [
    {
     "output_type": "execute_result",
     "data": {
      "text/plain": [
       "(432560, 19)"
      ]
     },
     "metadata": {},
     "execution_count": 43
    }
   ]
  },
  {
   "cell_type": "markdown",
   "source": [
    "# Data selection"
   ],
   "metadata": {
    "id": "GRbADQdkB8e0"
   }
  },
  {
   "cell_type": "markdown",
   "source": [
    "Gamemodes:\n",
    "1. 73 = control quickplay\n",
    "2. 84 = osiris\n",
    "3. 71 = clash quickplay\n",
    "4. 37 = survival"
   ],
   "metadata": {
    "collapsed": false
   }
  },
  {
   "cell_type": "code",
   "source": [
    "sel = train\n",
    "\n",
    "# sel = sel.drop(columns=get_player_columns_name(\"activities_entered\"))\n",
    "sel = sel[sel[\"mode\"] == 73]\n",
    "sel = sel[sel.period < datetime(year=2022, month=1, day=1)]\n",
    "# sel = sel[get_player_columns_name(\"combat_rating\")]\n",
    "# sel = sel[get_player_columns_name(\"kd\") + \n",
    "#           get_player_columns_name(\"win_ratio\") + \n",
    "#           [\"winner\", \"period\", \"mode\", \"instance_id\"]]\n",
    "\n",
    "sel = shuffle_winning_team(sel)\n",
    "\n",
    "sel"
   ],
   "metadata": {
    "colab": {
     "base_uri": "https://localhost:8080/",
     "height": 661
    },
    "id": "DcTdCPjMRGDb",
    "outputId": "be9fbabe-f874-44b6-c55d-82d1f36062ab"
   },
   "execution_count": 72,
   "outputs": [
    {
     "data": {
      "text/plain": "       player_1_activities_entered  player_1_combat_rating  \\\n0                           2310.0              123.951145   \n1                           3172.0              150.251895   \n2                            618.0              154.624202   \n3                           1758.0              127.213594   \n4                           5500.0              174.151722   \n...                            ...                     ...   \n85537                        290.0              123.158212   \n85538                       1815.0              141.456115   \n85539                       3737.0              173.568412   \n85540                        764.0              158.704299   \n85541                        449.0              130.892529   \n\n       player_1_kills_pga  player_1_assists_pga  player_1_deaths_pga  \\\n0                9.732035              3.724242             8.127273   \n1                9.945460              2.408575             6.020807   \n2               13.783172              4.281553            10.703883   \n3               11.014221              3.445961             8.771900   \n4               15.347455              4.041091             9.335273   \n...                   ...                   ...                  ...   \n85537            9.127586              3.303448             8.434483   \n85538           11.634160              3.861157             9.012672   \n85539           16.798769              4.433235            10.033182   \n85540           13.045812              3.943717             7.836387   \n85541            9.768374              3.100223             9.685969   \n\n       player_1_score_pga  player_1_win_ratio  player_1_kd  player_1_kda  \\\n0               13.992641            0.535498     1.197454      1.655694   \n1               11.230769            0.641866     1.651848      2.051890   \n2               28.556634            0.529126     1.287680      1.687680   \n3               12.751991            0.520478     1.255625      1.648466   \n4               31.632909            0.438182     1.644029      2.076913   \n...                   ...                 ...          ...           ...   \n85537           19.796552            0.568966     1.082175      1.473835   \n85538           19.710744            0.506336     1.290867      1.719281   \n85539           26.890019            0.540273     1.674321      2.116179   \n85540           25.520942            0.586387     1.664774      2.168031   \n85541           21.665924            0.463252     1.008508      1.328581   \n\n       player_2_activities_entered  ...  player_12_assists_pga  \\\n0                            296.0  ...               1.333333   \n1                           1039.0  ...               3.483673   \n2                           1788.0  ...               2.704047   \n3                           3468.0  ...               3.041958   \n4                             27.0  ...               4.548552   \n...                            ...  ...                    ...   \n85537                       4101.0  ...               3.565676   \n85538                        655.0  ...               1.916230   \n85539                       4052.0  ...               2.164384   \n85540                        244.0  ...               0.000000   \n85541                         82.0  ...               4.233516   \n\n       player_12_deaths_pga  player_12_score_pga  player_12_win_ratio  \\\n0                 12.333333             6.666667             0.333333   \n1                 10.929592            20.627806             0.384184   \n2                  8.310287            13.200675             0.391231   \n3                 12.181818            12.825175             0.475524   \n4                 10.628620            30.412266             0.514480   \n...                     ...                  ...                  ...   \n85537              9.652924            16.040268             0.444871   \n85538             10.445026             7.649215             0.486911   \n85539              8.068493             4.390411             0.356164   \n85540              0.000000             0.000000             0.000000   \n85541             10.098901            22.552198             0.521978   \n\n       player_12_kd  player_12_kda  winner  mode              period  \\\n0          0.162162       0.270270     1.0    73 2021-11-28 20:13:37   \n1          1.046378       1.365115     1.0    73 2020-12-05 22:11:27   \n2          0.754464       1.079850     1.0    73 2020-10-08 20:23:49   \n3          0.309414       0.559127     1.0    73 2021-04-26 23:18:35   \n4          1.292675       1.720628     1.0    73 2021-05-09 19:43:10   \n...             ...            ...     ...   ...                 ...   \n85537      1.098331       1.467720     0.0    73 2019-01-15 07:03:23   \n85538      0.212531       0.395990     0.0    73 2021-03-09 21:21:22   \n85539      0.448217       0.716469     0.0    73 2021-09-25 19:20:44   \n85540      0.000000       0.000000     0.0    73 2017-11-19 22:31:43   \n85541      1.072905       1.492111     0.0    73 2019-12-26 10:52:03   \n\n       instance_id  \n0       9662113161  \n1       7468845040  \n2       7000652752  \n3       8362034483  \n4       8410231794  \n...            ...  \n85537   3467221164  \n85538   8126987533  \n85539   9311637131  \n85540   1054785712  \n85541   5457061196  \n\n[85542 rows x 112 columns]",
      "text/html": "<div>\n<style scoped>\n    .dataframe tbody tr th:only-of-type {\n        vertical-align: middle;\n    }\n\n    .dataframe tbody tr th {\n        vertical-align: top;\n    }\n\n    .dataframe thead th {\n        text-align: right;\n    }\n</style>\n<table border=\"1\" class=\"dataframe\">\n  <thead>\n    <tr style=\"text-align: right;\">\n      <th></th>\n      <th>player_1_activities_entered</th>\n      <th>player_1_combat_rating</th>\n      <th>player_1_kills_pga</th>\n      <th>player_1_assists_pga</th>\n      <th>player_1_deaths_pga</th>\n      <th>player_1_score_pga</th>\n      <th>player_1_win_ratio</th>\n      <th>player_1_kd</th>\n      <th>player_1_kda</th>\n      <th>player_2_activities_entered</th>\n      <th>...</th>\n      <th>player_12_assists_pga</th>\n      <th>player_12_deaths_pga</th>\n      <th>player_12_score_pga</th>\n      <th>player_12_win_ratio</th>\n      <th>player_12_kd</th>\n      <th>player_12_kda</th>\n      <th>winner</th>\n      <th>mode</th>\n      <th>period</th>\n      <th>instance_id</th>\n    </tr>\n  </thead>\n  <tbody>\n    <tr>\n      <th>0</th>\n      <td>2310.0</td>\n      <td>123.951145</td>\n      <td>9.732035</td>\n      <td>3.724242</td>\n      <td>8.127273</td>\n      <td>13.992641</td>\n      <td>0.535498</td>\n      <td>1.197454</td>\n      <td>1.655694</td>\n      <td>296.0</td>\n      <td>...</td>\n      <td>1.333333</td>\n      <td>12.333333</td>\n      <td>6.666667</td>\n      <td>0.333333</td>\n      <td>0.162162</td>\n      <td>0.270270</td>\n      <td>1.0</td>\n      <td>73</td>\n      <td>2021-11-28 20:13:37</td>\n      <td>9662113161</td>\n    </tr>\n    <tr>\n      <th>1</th>\n      <td>3172.0</td>\n      <td>150.251895</td>\n      <td>9.945460</td>\n      <td>2.408575</td>\n      <td>6.020807</td>\n      <td>11.230769</td>\n      <td>0.641866</td>\n      <td>1.651848</td>\n      <td>2.051890</td>\n      <td>1039.0</td>\n      <td>...</td>\n      <td>3.483673</td>\n      <td>10.929592</td>\n      <td>20.627806</td>\n      <td>0.384184</td>\n      <td>1.046378</td>\n      <td>1.365115</td>\n      <td>1.0</td>\n      <td>73</td>\n      <td>2020-12-05 22:11:27</td>\n      <td>7468845040</td>\n    </tr>\n    <tr>\n      <th>2</th>\n      <td>618.0</td>\n      <td>154.624202</td>\n      <td>13.783172</td>\n      <td>4.281553</td>\n      <td>10.703883</td>\n      <td>28.556634</td>\n      <td>0.529126</td>\n      <td>1.287680</td>\n      <td>1.687680</td>\n      <td>1788.0</td>\n      <td>...</td>\n      <td>2.704047</td>\n      <td>8.310287</td>\n      <td>13.200675</td>\n      <td>0.391231</td>\n      <td>0.754464</td>\n      <td>1.079850</td>\n      <td>1.0</td>\n      <td>73</td>\n      <td>2020-10-08 20:23:49</td>\n      <td>7000652752</td>\n    </tr>\n    <tr>\n      <th>3</th>\n      <td>1758.0</td>\n      <td>127.213594</td>\n      <td>11.014221</td>\n      <td>3.445961</td>\n      <td>8.771900</td>\n      <td>12.751991</td>\n      <td>0.520478</td>\n      <td>1.255625</td>\n      <td>1.648466</td>\n      <td>3468.0</td>\n      <td>...</td>\n      <td>3.041958</td>\n      <td>12.181818</td>\n      <td>12.825175</td>\n      <td>0.475524</td>\n      <td>0.309414</td>\n      <td>0.559127</td>\n      <td>1.0</td>\n      <td>73</td>\n      <td>2021-04-26 23:18:35</td>\n      <td>8362034483</td>\n    </tr>\n    <tr>\n      <th>4</th>\n      <td>5500.0</td>\n      <td>174.151722</td>\n      <td>15.347455</td>\n      <td>4.041091</td>\n      <td>9.335273</td>\n      <td>31.632909</td>\n      <td>0.438182</td>\n      <td>1.644029</td>\n      <td>2.076913</td>\n      <td>27.0</td>\n      <td>...</td>\n      <td>4.548552</td>\n      <td>10.628620</td>\n      <td>30.412266</td>\n      <td>0.514480</td>\n      <td>1.292675</td>\n      <td>1.720628</td>\n      <td>1.0</td>\n      <td>73</td>\n      <td>2021-05-09 19:43:10</td>\n      <td>8410231794</td>\n    </tr>\n    <tr>\n      <th>...</th>\n      <td>...</td>\n      <td>...</td>\n      <td>...</td>\n      <td>...</td>\n      <td>...</td>\n      <td>...</td>\n      <td>...</td>\n      <td>...</td>\n      <td>...</td>\n      <td>...</td>\n      <td>...</td>\n      <td>...</td>\n      <td>...</td>\n      <td>...</td>\n      <td>...</td>\n      <td>...</td>\n      <td>...</td>\n      <td>...</td>\n      <td>...</td>\n      <td>...</td>\n      <td>...</td>\n    </tr>\n    <tr>\n      <th>85537</th>\n      <td>290.0</td>\n      <td>123.158212</td>\n      <td>9.127586</td>\n      <td>3.303448</td>\n      <td>8.434483</td>\n      <td>19.796552</td>\n      <td>0.568966</td>\n      <td>1.082175</td>\n      <td>1.473835</td>\n      <td>4101.0</td>\n      <td>...</td>\n      <td>3.565676</td>\n      <td>9.652924</td>\n      <td>16.040268</td>\n      <td>0.444871</td>\n      <td>1.098331</td>\n      <td>1.467720</td>\n      <td>0.0</td>\n      <td>73</td>\n      <td>2019-01-15 07:03:23</td>\n      <td>3467221164</td>\n    </tr>\n    <tr>\n      <th>85538</th>\n      <td>1815.0</td>\n      <td>141.456115</td>\n      <td>11.634160</td>\n      <td>3.861157</td>\n      <td>9.012672</td>\n      <td>19.710744</td>\n      <td>0.506336</td>\n      <td>1.290867</td>\n      <td>1.719281</td>\n      <td>655.0</td>\n      <td>...</td>\n      <td>1.916230</td>\n      <td>10.445026</td>\n      <td>7.649215</td>\n      <td>0.486911</td>\n      <td>0.212531</td>\n      <td>0.395990</td>\n      <td>0.0</td>\n      <td>73</td>\n      <td>2021-03-09 21:21:22</td>\n      <td>8126987533</td>\n    </tr>\n    <tr>\n      <th>85539</th>\n      <td>3737.0</td>\n      <td>173.568412</td>\n      <td>16.798769</td>\n      <td>4.433235</td>\n      <td>10.033182</td>\n      <td>26.890019</td>\n      <td>0.540273</td>\n      <td>1.674321</td>\n      <td>2.116179</td>\n      <td>4052.0</td>\n      <td>...</td>\n      <td>2.164384</td>\n      <td>8.068493</td>\n      <td>4.390411</td>\n      <td>0.356164</td>\n      <td>0.448217</td>\n      <td>0.716469</td>\n      <td>0.0</td>\n      <td>73</td>\n      <td>2021-09-25 19:20:44</td>\n      <td>9311637131</td>\n    </tr>\n    <tr>\n      <th>85540</th>\n      <td>764.0</td>\n      <td>158.704299</td>\n      <td>13.045812</td>\n      <td>3.943717</td>\n      <td>7.836387</td>\n      <td>25.520942</td>\n      <td>0.586387</td>\n      <td>1.664774</td>\n      <td>2.168031</td>\n      <td>244.0</td>\n      <td>...</td>\n      <td>0.000000</td>\n      <td>0.000000</td>\n      <td>0.000000</td>\n      <td>0.000000</td>\n      <td>0.000000</td>\n      <td>0.000000</td>\n      <td>0.0</td>\n      <td>73</td>\n      <td>2017-11-19 22:31:43</td>\n      <td>1054785712</td>\n    </tr>\n    <tr>\n      <th>85541</th>\n      <td>449.0</td>\n      <td>130.892529</td>\n      <td>9.768374</td>\n      <td>3.100223</td>\n      <td>9.685969</td>\n      <td>21.665924</td>\n      <td>0.463252</td>\n      <td>1.008508</td>\n      <td>1.328581</td>\n      <td>82.0</td>\n      <td>...</td>\n      <td>4.233516</td>\n      <td>10.098901</td>\n      <td>22.552198</td>\n      <td>0.521978</td>\n      <td>1.072905</td>\n      <td>1.492111</td>\n      <td>0.0</td>\n      <td>73</td>\n      <td>2019-12-26 10:52:03</td>\n      <td>5457061196</td>\n    </tr>\n  </tbody>\n</table>\n<p>85542 rows × 112 columns</p>\n</div>"
     },
     "execution_count": 72,
     "metadata": {},
     "output_type": "execute_result"
    }
   ]
  },
  {
   "cell_type": "code",
   "source": [
    "sel[\"winner\"].value_counts()"
   ],
   "metadata": {
    "colab": {
     "base_uri": "https://localhost:8080/"
    },
    "id": "HMymoG6iNqce",
    "outputId": "28f22094-a12f-4051-ddf7-0e8f9e5db5dc"
   },
   "execution_count": 73,
   "outputs": [
    {
     "data": {
      "text/plain": "1.0    42772\n0.0    42770\nName: winner, dtype: int64"
     },
     "execution_count": 73,
     "metadata": {},
     "output_type": "execute_result"
    }
   ]
  },
  {
   "cell_type": "code",
   "source": [
    "X = sel.drop(columns=[\"winner\", \"period\", \"instance_id\"])\n",
    "Y = sel[\"winner\"]\n",
    "X_train, X_test, y_train, y_test = train_test_split(X, Y, test_size=0.3, random_state=RANDOM_STATE, stratify=Y)"
   ],
   "metadata": {
    "id": "FnBYDrufEodR"
   },
   "execution_count": 74,
   "outputs": []
  },
  {
   "cell_type": "code",
   "source": [
    "# Keep period\n",
    "X = sel.drop(columns=[\"winner\"])\n",
    "Y = sel[\"winner\"]\n",
    "X_train, X_test, y_train, y_test = train_test_split(X, Y, test_size=0.3, random_state=RANDOM_STATE, stratify=Y)\n",
    "\n",
    "X_train_period = X_train[\"period\"]\n",
    "X_test_period = X_test[\"period\"]\n",
    "X_train.drop(columns=[\"period\"], inplace=True)\n",
    "X_test.drop(columns=[\"period\"], inplace=True)"
   ],
   "metadata": {
    "id": "3zOh1YAOFJYL"
   },
   "execution_count": null,
   "outputs": []
  },
  {
   "cell_type": "code",
   "source": [
    "# split train with date\n",
    "max_train_date = datetime(year=2022, month=1, day=1)\n",
    "\n",
    "X_train = sel[train.period < max_train_date]\n",
    "y_train = X_train[\"winner\"]\n",
    "X_train.drop(columns=[\"winner\", \"period\"], inplace=True)\n",
    "\n",
    "X_test = sel[train.period >= max_train_date]\n",
    "y_test = X_test[\"winner\"]\n",
    "X_test.drop(columns=[\"winner\", \"period\"], inplace=True)"
   ],
   "metadata": {
    "colab": {
     "base_uri": "https://localhost:8080/"
    },
    "id": "wYm-dv_9FgI8",
    "outputId": "c894c8d6-452e-46a6-c4cb-e781c9cbf32e"
   },
   "execution_count": null,
   "outputs": [
    {
     "output_type": "stream",
     "name": "stderr",
     "text": [
      "<ipython-input-26-c3501dbf63d0>:3: UserWarning: Boolean Series key will be reindexed to match DataFrame index.\n",
      "  X_train = sel[train.period < max_train_date]\n",
      "/usr/local/lib/python3.8/dist-packages/pandas/core/frame.py:4906: SettingWithCopyWarning: \n",
      "A value is trying to be set on a copy of a slice from a DataFrame\n",
      "\n",
      "See the caveats in the documentation: https://pandas.pydata.org/pandas-docs/stable/user_guide/indexing.html#returning-a-view-versus-a-copy\n",
      "  return super().drop(\n",
      "<ipython-input-26-c3501dbf63d0>:7: UserWarning: Boolean Series key will be reindexed to match DataFrame index.\n",
      "  X_test = sel[train.period >= max_train_date]\n"
     ]
    }
   ]
  },
  {
   "cell_type": "code",
   "source": [
    "# PCA test\n",
    "X = sel.drop(columns=[\"winner\", \"period\", \"instance_id\"])\n",
    "Y = sel[\"winner\"]\n",
    "X_train, X_test, y_train, y_test = train_test_split(X, Y, test_size=0.3, random_state=RANDOM_STATE, stratify=Y)\n",
    "\n",
    "team_A_columns = []\n",
    "for i in range(1, 7):\n",
    "    for stat in STATS_NAME:\n",
    "        team_A_columns.append(f\"player_{i}_{stat}\")\n",
    "\n",
    "team_B_columns = []\n",
    "for i in range(1, 7):\n",
    "    for stat in STATS_NAME:\n",
    "        team_B_columns.append(f\"player_{i}_{stat}\")\n",
    "\n",
    "pca = PCA(n_components=N_STATS)\n",
    "pca.fit(X_train[team_A_columns])\n",
    "\n",
    "X_train = np.concatenate((pca.transform(X_train[team_A_columns]),\n",
    "                          pca.transform(X_train[team_B_columns])), axis=1)\n",
    "X_test = np.concatenate((pca.transform(X_test[team_A_columns]),\n",
    "                         pca.transform(X_test[team_B_columns])), axis=1)"
   ],
   "metadata": {
    "id": "Ryjauhk3trrr"
   },
   "execution_count": null,
   "outputs": []
  },
  {
   "cell_type": "code",
   "source": [
    "# Mean of every stat per team\n",
    "X = sel.drop(columns=[\"winner\", \"period\", \"instance_id\"])\n",
    "Y = sel[\"winner\"]\n",
    "\n",
    "TEAM_COLUMNS = [f\"team_A_{stat}\" for stat in STATS_NAME] + [f\"team_B_{stat}\" for stat in STATS_NAME]\n",
    "for i in range(len(STATS_NAME)):\n",
    "    col = TEAM_COLUMNS[i]\n",
    "    stat = STATS_NAME[i]\n",
    "    c = [f\"player_{k}_{stat}\" for k in range(1, 7)]\n",
    "    X[col] = X.loc[:, c].mean(axis=1)\n",
    "for i in range(len(STATS_NAME)):\n",
    "    col = TEAM_COLUMNS[i+N_STATS]\n",
    "    stat = STATS_NAME[i]\n",
    "    c = [f\"player_{k}_{stat}\" for k in range(7, 13)]\n",
    "    X[col] = X.loc[:, c].mean(axis=1)\n",
    "X.drop(columns=PLAYERS_COLUMNS, inplace=True)\n",
    "\n",
    "X_train, X_test, y_train, y_test = train_test_split(X, Y, test_size=0.3, random_state=RANDOM_STATE, stratify=Y)"
   ],
   "metadata": {
    "id": "XUIsvpnEv7Af"
   },
   "execution_count": null,
   "outputs": []
  },
  {
   "cell_type": "markdown",
   "source": [
    "# Catboost"
   ],
   "metadata": {
    "id": "ZgmcWhxqvmfw"
   }
  },
  {
   "cell_type": "code",
   "source": [
    "%%time\n",
    "clf = CatBoostClassifier(verbose=False, task_type='GPU', random_state=RANDOM_STATE)\n",
    "clf.fit(X_train, y_train, cat_features=[\"mode\"])\n",
    "\n",
    "y_pred = clf.predict(X_test)\n",
    "print(\"Accuracy:\", accuracy_score(y_test, y_pred))\n",
    "print(\"F1-score:\", f1_score(y_test, y_pred))\n",
    "print(confusion_matrix(y_test, y_pred))\n",
    "\n",
    "probs = clf.predict_proba(X_test).max(axis=1)\n",
    "confusion_matrix_mean_prob = np.array([[probs[np.where((y_test == y_pred) & (y_test == 0))].mean(), probs[np.where((y_pred == 1) & (y_test == 0))].mean()],\n",
    "                                       [probs[np.where((y_pred == 0) & (y_test == 1))].mean(), probs[np.where((y_test == y_pred) & (y_test == 1))].mean()]])\n",
    "print(\"Mean proba for each section of the confusion matrix:\")\n",
    "print(confusion_matrix_mean_prob)"
   ],
   "metadata": {
    "colab": {
     "base_uri": "https://localhost:8080/",
     "height": 461
    },
    "id": "UDTWo7OWB9TT",
    "outputId": "36e75b82-4a2d-4c3f-f734-a0f256f7b0f3"
   },
   "execution_count": 75,
   "outputs": [
    {
     "name": "stdout",
     "output_type": "stream",
     "text": [
      "Accuracy: 0.7064645598721895\n",
      "F1-score: 0.7066246056782334\n",
      "[[9058 3773]\n",
      " [3760 9072]]\n",
      "Mean proba for each section of the confusion matrix:\n",
      "[[0.71853743 0.63589884]\n",
      " [0.634087   0.71814287]]\n",
      "CPU times: total: 19.7 s\n",
      "Wall time: 17.4 s\n"
     ]
    }
   ]
  },
  {
   "cell_type": "code",
   "source": [
    "level = 0.7\n",
    "\n",
    "level_idx = np.where(probs > level)[0]\n",
    "y_level = y_pred[level_idx]\n",
    "y_true = y_test.values[level_idx]\n",
    "\n",
    "print(\"Accuracy:\", accuracy_score(y_true, y_level))\n",
    "print(\"F1-score:\", f1_score(y_true, y_level))\n",
    "\n",
    "print(\"Total tests: \", len(y_test))\n",
    "print(\"Number of predictions: \", len(level_idx))\n",
    "print(\"Number of uncertain predictions: \", len(y_test) - len(level_idx))\n",
    "print(\"Loss predictions: \", 1-(len(level_idx) / len(y_test)))\n",
    "\n",
    "print(confusion_matrix(y_true, y_level))"
   ],
   "metadata": {
    "colab": {
     "base_uri": "https://localhost:8080/"
    },
    "id": "JnwwNJbABMNk",
    "outputId": "4371232e-d25c-434d-d6a1-c48fd923bd53"
   },
   "execution_count": 53,
   "outputs": [
    {
     "name": "stdout",
     "output_type": "stream",
     "text": [
      "Accuracy: 0.8488988580750407\n",
      "F1-score: 0.8483525479227779\n",
      "Total tests:  88562\n",
      "Number of predictions:  44136\n",
      "Number of uncertain predictions:  44426\n",
      "Loss predictions:  0.5016372710643391\n",
      "[[18813  3333]\n",
      " [ 3336 18654]]\n"
     ]
    }
   ]
  },
  {
   "cell_type": "code",
   "source": [
    "importances = pd.DataFrame()\n",
    "importances[\"feature\"] = X_test.columns\n",
    "importances[\"importance\"] = clf.feature_importances_\n",
    "importances.sort_values(by=[\"importance\"], ascending=False, inplace=True)\n",
    "importances"
   ],
   "metadata": {
    "colab": {
     "base_uri": "https://localhost:8080/",
     "height": 363
    },
    "id": "FG--rvyNfefG",
    "outputId": "6b71a3b5-5050-4a9f-a1f3-ab27085e83d3"
   },
   "execution_count": 76,
   "outputs": [
    {
     "data": {
      "text/plain": "                    feature  importance\n51       player_6_win_ratio    5.590670\n105     player_12_win_ratio    5.130185\n60       player_7_win_ratio    3.838154\n6        player_1_win_ratio    3.741160\n42       player_5_win_ratio    3.394585\n..                      ...         ...\n68       player_8_score_pga    0.095843\n46   player_6_combat_rating    0.083657\n23       player_3_score_pga    0.075295\n93    player_11_assists_pga    0.051652\n108                    mode    0.000000\n\n[109 rows x 2 columns]",
      "text/html": "<div>\n<style scoped>\n    .dataframe tbody tr th:only-of-type {\n        vertical-align: middle;\n    }\n\n    .dataframe tbody tr th {\n        vertical-align: top;\n    }\n\n    .dataframe thead th {\n        text-align: right;\n    }\n</style>\n<table border=\"1\" class=\"dataframe\">\n  <thead>\n    <tr style=\"text-align: right;\">\n      <th></th>\n      <th>feature</th>\n      <th>importance</th>\n    </tr>\n  </thead>\n  <tbody>\n    <tr>\n      <th>51</th>\n      <td>player_6_win_ratio</td>\n      <td>5.590670</td>\n    </tr>\n    <tr>\n      <th>105</th>\n      <td>player_12_win_ratio</td>\n      <td>5.130185</td>\n    </tr>\n    <tr>\n      <th>60</th>\n      <td>player_7_win_ratio</td>\n      <td>3.838154</td>\n    </tr>\n    <tr>\n      <th>6</th>\n      <td>player_1_win_ratio</td>\n      <td>3.741160</td>\n    </tr>\n    <tr>\n      <th>42</th>\n      <td>player_5_win_ratio</td>\n      <td>3.394585</td>\n    </tr>\n    <tr>\n      <th>...</th>\n      <td>...</td>\n      <td>...</td>\n    </tr>\n    <tr>\n      <th>68</th>\n      <td>player_8_score_pga</td>\n      <td>0.095843</td>\n    </tr>\n    <tr>\n      <th>46</th>\n      <td>player_6_combat_rating</td>\n      <td>0.083657</td>\n    </tr>\n    <tr>\n      <th>23</th>\n      <td>player_3_score_pga</td>\n      <td>0.075295</td>\n    </tr>\n    <tr>\n      <th>93</th>\n      <td>player_11_assists_pga</td>\n      <td>0.051652</td>\n    </tr>\n    <tr>\n      <th>108</th>\n      <td>mode</td>\n      <td>0.000000</td>\n    </tr>\n  </tbody>\n</table>\n<p>109 rows × 2 columns</p>\n</div>"
     },
     "execution_count": 76,
     "metadata": {},
     "output_type": "execute_result"
    }
   ]
  },
  {
   "cell_type": "code",
   "execution_count": 77,
   "outputs": [
    {
     "data": {
      "text/plain": "<AxesSubplot:xlabel='feature'>"
     },
     "execution_count": 77,
     "metadata": {},
     "output_type": "execute_result"
    },
    {
     "data": {
      "text/plain": "<Figure size 1440x360 with 1 Axes>",
      "image/png": "[encoded data removed]"
     },
     "metadata": {},
     "output_type": "display_data"
    }
   ],
   "source": [
    "importances.plot(kind=\"bar\", x=\"feature\", y=\"importance\", figsize=(20, 5))"
   ],
   "metadata": {
    "collapsed": false
   }
  },
  {
   "cell_type": "code",
   "source": [
    "class CustomCatBoostClassifier(CatBoostClassifier):\n",
    "    def fit(self, X, y=None, **fit_params):\n",
    "        return super().fit(\n",
    "            X,\n",
    "            y=y,\n",
    "            cat_features=[\"mode\"],\n",
    "            **fit_params\n",
    "            )\n",
    "\n",
    "pipeline = make_pipeline(CustomCatBoostClassifier(verbose=False, task_type='GPU', random_state=RANDOM_STATE))\n",
    "acc_scores = cross_val_score(pipeline, X, Y, cv=3, scoring=\"accuracy\", n_jobs=-1)\n",
    "print(f\"Mean acc = {acc_scores.mean()}, Std acc = {acc_scores.std()}\")\n",
    "print(pipeline)"
   ],
   "metadata": {
    "colab": {
     "base_uri": "https://localhost:8080/"
    },
    "id": "swwNtjJezwXv",
    "outputId": "21665d48-8bd8-4b4b-c8c6-5003c1f5ef3f"
   },
   "execution_count": null,
   "outputs": [
    {
     "output_type": "stream",
     "name": "stdout",
     "text": [
      "Mean acc = 0.7354318113840592, Std acc = 0.0006893767656310474\n",
      "Pipeline(steps=[('customcatboostclassifier',\n",
      "                 <__main__.CustomCatBoostClassifier object at 0x7f974ddf0b20>)])\n"
     ]
    }
   ]
  },
  {
   "cell_type": "code",
   "source": [],
   "metadata": {
    "id": "UWNJ0UBj1dBT"
   },
   "execution_count": null,
   "outputs": []
  },
  {
   "cell_type": "markdown",
   "source": [
    "# Random forest"
   ],
   "metadata": {
    "id": "dmGOSjPpyiXi"
   }
  },
  {
   "cell_type": "code",
   "source": [
    "pipeline = make_pipeline(RandomForestClassifier())\n",
    "acc_scores = cross_val_score(pipeline, X, Y, cv=4, scoring=\"accuracy\", n_jobs=-1)\n",
    "print(f\"Mean acc = {acc_scores.mean()}, Std acc = {acc_scores.std()}\")\n",
    "print(pipeline)"
   ],
   "metadata": {
    "colab": {
     "base_uri": "https://localhost:8080/"
    },
    "id": "8exg1BYVyjwL",
    "outputId": "484fbc83-36c3-4fb1-9422-acbd59833551"
   },
   "execution_count": null,
   "outputs": [
    {
     "output_type": "stream",
     "name": "stdout",
     "text": [
      "Mean acc = 0.7165999548704958, Std acc = 0.0007046547932585566\n",
      "Pipeline(steps=[('randomforestclassifier', RandomForestClassifier())])\n"
     ]
    }
   ]
  },
  {
   "cell_type": "markdown",
   "source": [
    "# Deep learning model"
   ],
   "metadata": {
    "id": "9DQLN99-OSLT"
   }
  },
  {
   "cell_type": "code",
   "source": [
    "import tensorflow as tf\n",
    "from tensorflow import keras\n",
    "from tensorflow.keras import layers\n",
    "from scikeras.wrappers import KerasClassifier\n",
    "tf.test.gpu_device_name()"
   ],
   "metadata": {
    "colab": {
     "base_uri": "https://localhost:8080/",
     "height": 35
    },
    "id": "SzM0d_cEOTqB",
    "outputId": "3199c1ca-d3ea-414c-c482-8b1ed92fc0ea"
   },
   "execution_count": null,
   "outputs": [
    {
     "output_type": "execute_result",
     "data": {
      "text/plain": [
       "'/device:GPU:0'"
      ],
      "application/vnd.google.colaboratory.intrinsic+json": {
       "type": "string"
      }
     },
     "metadata": {},
     "execution_count": 30
    }
   ]
  },
  {
   "cell_type": "code",
   "source": [
    "X_train.drop(columns=[\"mode\"], inplace=True)\n",
    "X_test.drop(columns=[\"mode\"], inplace=True)"
   ],
   "metadata": {
    "id": "NzssUBC8OVFR"
   },
   "execution_count": null,
   "outputs": []
  },
  {
   "cell_type": "code",
   "source": [
    "model = keras.Sequential()\n",
    "model.add(keras.Input(shape=(len(X_train.columns),)))\n",
    "model.add(layers.Dense(len(X_train.columns), activation=\"relu\"))\n",
    "model.add(layers.Dropout(0.1))\n",
    "model.add(layers.Dense(12, activation=\"relu\"))\n",
    "model.add(layers.Dropout(0.1))\n",
    "model.add(layers.Dense(1, activation=\"sigmoid\"))\n",
    "\n",
    "model.compile(loss='binary_crossentropy', optimizer='adam', metrics=['accuracy'])\n",
    "\n",
    "clf = KerasClassifier(model=model, epochs=25, batch_size=25)\n",
    "\n",
    "pipeline = make_pipeline(StandardScaler(), clf)\n",
    "\n",
    "model.summary()"
   ],
   "metadata": {
    "colab": {
     "base_uri": "https://localhost:8080/"
    },
    "id": "lqtLnVE6OYlI",
    "outputId": "2825d5a0-26ef-4bac-e096-45e2f9946e55"
   },
   "execution_count": null,
   "outputs": [
    {
     "output_type": "stream",
     "name": "stdout",
     "text": [
      "Model: \"sequential\"\n",
      "_________________________________________________________________\n",
      " Layer (type)                Output Shape              Param #   \n",
      "=================================================================\n",
      " dense (Dense)               (None, 108)               11772     \n",
      "                                                                 \n",
      " dropout (Dropout)           (None, 108)               0         \n",
      "                                                                 \n",
      " dense_1 (Dense)             (None, 12)                1308      \n",
      "                                                                 \n",
      " dropout_1 (Dropout)         (None, 12)                0         \n",
      "                                                                 \n",
      " dense_2 (Dense)             (None, 1)                 13        \n",
      "                                                                 \n",
      "=================================================================\n",
      "Total params: 13,093\n",
      "Trainable params: 13,093\n",
      "Non-trainable params: 0\n",
      "_________________________________________________________________\n"
     ]
    }
   ]
  },
  {
   "cell_type": "code",
   "source": [
    "pipeline.fit(X_train, y_train)"
   ],
   "metadata": {
    "colab": {
     "base_uri": "https://localhost:8080/"
    },
    "id": "uMKzUm40OYno",
    "outputId": "95be44b2-82c9-446c-e291-f2ee94647e4f"
   },
   "execution_count": null,
   "outputs": [
    {
     "output_type": "stream",
     "name": "stdout",
     "text": [
      "Epoch 1/25\n",
      "6527/6527 [==============================] - 22s 3ms/step - loss: 0.4550 - accuracy: 0.7847\n",
      "Epoch 2/25\n",
      "6527/6527 [==============================] - 19s 3ms/step - loss: 0.4456 - accuracy: 0.7895\n",
      "Epoch 3/25\n",
      "6527/6527 [==============================] - 19s 3ms/step - loss: 0.4441 - accuracy: 0.7894\n",
      "Epoch 4/25\n",
      "6527/6527 [==============================] - 19s 3ms/step - loss: 0.4432 - accuracy: 0.7901\n",
      "Epoch 5/25\n",
      "6527/6527 [==============================] - 19s 3ms/step - loss: 0.4417 - accuracy: 0.7908\n",
      "Epoch 6/25\n",
      "6527/6527 [==============================] - 18s 3ms/step - loss: 0.4412 - accuracy: 0.7918\n",
      "Epoch 7/25\n",
      "6527/6527 [==============================] - 19s 3ms/step - loss: 0.4403 - accuracy: 0.7920\n",
      "Epoch 8/25\n",
      "6527/6527 [==============================] - 19s 3ms/step - loss: 0.4399 - accuracy: 0.7920\n",
      "Epoch 9/25\n",
      "6527/6527 [==============================] - 19s 3ms/step - loss: 0.4390 - accuracy: 0.7923\n",
      "Epoch 10/25\n",
      "6527/6527 [==============================] - 19s 3ms/step - loss: 0.4386 - accuracy: 0.7927\n",
      "Epoch 11/25\n",
      "6527/6527 [==============================] - 19s 3ms/step - loss: 0.4378 - accuracy: 0.7930\n",
      "Epoch 12/25\n",
      "6527/6527 [==============================] - 19s 3ms/step - loss: 0.4379 - accuracy: 0.7930\n",
      "Epoch 13/25\n",
      "6527/6527 [==============================] - 19s 3ms/step - loss: 0.4371 - accuracy: 0.7932\n",
      "Epoch 14/25\n",
      "6527/6527 [==============================] - 19s 3ms/step - loss: 0.4366 - accuracy: 0.7938\n",
      "Epoch 15/25\n",
      "6527/6527 [==============================] - 18s 3ms/step - loss: 0.4366 - accuracy: 0.7935\n",
      "Epoch 16/25\n",
      "6527/6527 [==============================] - 19s 3ms/step - loss: 0.4355 - accuracy: 0.7939\n",
      "Epoch 17/25\n",
      "6527/6527 [==============================] - 18s 3ms/step - loss: 0.4356 - accuracy: 0.7931\n",
      "Epoch 18/25\n",
      "6527/6527 [==============================] - 18s 3ms/step - loss: 0.4354 - accuracy: 0.7941\n",
      "Epoch 19/25\n",
      "6527/6527 [==============================] - 18s 3ms/step - loss: 0.4346 - accuracy: 0.7944\n",
      "Epoch 20/25\n",
      "6527/6527 [==============================] - 18s 3ms/step - loss: 0.4346 - accuracy: 0.7950\n",
      "Epoch 21/25\n",
      "6527/6527 [==============================] - 18s 3ms/step - loss: 0.4339 - accuracy: 0.7947\n",
      "Epoch 22/25\n",
      "6527/6527 [==============================] - 18s 3ms/step - loss: 0.4337 - accuracy: 0.7951\n",
      "Epoch 23/25\n",
      "6527/6527 [==============================] - 18s 3ms/step - loss: 0.4326 - accuracy: 0.7948\n",
      "Epoch 24/25\n",
      "6527/6527 [==============================] - 18s 3ms/step - loss: 0.4330 - accuracy: 0.7956\n",
      "Epoch 25/25\n",
      "6527/6527 [==============================] - 19s 3ms/step - loss: 0.4323 - accuracy: 0.7952\n"
     ]
    },
    {
     "output_type": "execute_result",
     "data": {
      "text/plain": [
       "Pipeline(steps=[('standardscaler', StandardScaler()),\n",
       "                ('kerasclassifier',\n",
       "                 KerasClassifier(batch_size=25, epochs=25, model=<keras.engine.sequential.Sequential object at 0x7f88fb582340>))])"
      ]
     },
     "metadata": {},
     "execution_count": 36
    }
   ]
  },
  {
   "cell_type": "code",
   "source": [
    "y_pred = pipeline.predict(X_test)\n",
    "print(\"Accuracy:\", accuracy_score(y_test, y_pred))\n",
    "print(\"F1-score:\", f1_score(y_test, y_pred))\n",
    "print(confusion_matrix(y_test, y_pred))\n",
    "print(pipeline)"
   ],
   "metadata": {
    "colab": {
     "base_uri": "https://localhost:8080/"
    },
    "id": "3Nk9OThvOYp8",
    "outputId": "f6decfeb-3469-4046-b7b2-576997d6633a"
   },
   "execution_count": null,
   "outputs": [
    {
     "output_type": "stream",
     "name": "stdout",
     "text": [
      "2798/2798 [==============================] - 4s 1ms/step\n",
      "Accuracy: 0.7870411417294685\n",
      "F1-score: 0.7866047631330065\n",
      "[[27590  7374]\n",
      " [ 7518 27447]]\n",
      "Pipeline(steps=[('standardscaler', StandardScaler()),\n",
      "                ('kerasclassifier',\n",
      "                 KerasClassifier(batch_size=25, epochs=25, model=<keras.engine.sequential.Sequential object at 0x7f88fb582340>))])\n"
     ]
    }
   ]
  },
  {
   "cell_type": "code",
   "source": [],
   "metadata": {
    "id": "aj8yjFqrLxOE"
   },
   "execution_count": null,
   "outputs": []
  }
 ]
}
