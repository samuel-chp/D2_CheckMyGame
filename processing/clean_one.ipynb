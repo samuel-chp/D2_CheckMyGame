﻿{
 "cells": [
  {
   "cell_type": "markdown",
   "source": [
    "# Imports"
   ],
   "metadata": {
    "collapsed": false
   }
  },
  {
   "cell_type": "code",
   "execution_count": 3,
   "outputs": [],
   "source": [
    "import time\n",
    "from pathlib import Path\n",
    "from datetime import datetime\n",
    "import pandas as pd\n",
    "import numpy as np\n",
    "import os, sys\n",
    "import seaborn as sns\n",
    "import json\n",
    "import sqlite3\n",
    "\n",
    "from sklearn.model_selection import train_test_split, cross_val_score\n",
    "from sklearn.metrics import accuracy_score, confusion_matrix, f1_score, explained_variance_score, max_error, mean_absolute_error, mean_squared_error\n",
    "from sklearn.pipeline import make_pipeline\n",
    "from sklearn.preprocessing import MinMaxScaler, StandardScaler\n",
    "from sklearn.svm import SVC\n",
    "from sklearn.decomposition import PCA\n",
    "from sklearn.ensemble import RandomForestClassifier\n",
    "from catboost import CatBoostClassifier, CatBoostRegressor"
   ],
   "metadata": {
    "collapsed": false
   }
  },
  {
   "cell_type": "code",
   "execution_count": 4,
   "outputs": [],
   "source": [
    "ROOT_DATA_FOLDER = \"../data\"\n",
    "API_DATE_FORMAT = \"%Y-%m-%dT%H:%M:%SZ\"\n",
    "RANDOM_STATE = 40"
   ],
   "metadata": {
    "collapsed": false
   }
  },
  {
   "cell_type": "markdown",
   "source": [
    "# Functions"
   ],
   "metadata": {
    "collapsed": false
   }
  },
  {
   "cell_type": "code",
   "execution_count": 5,
   "outputs": [],
   "source": [
    "def pad(l: list, n: int, value=0):\n",
    "    return l + [value] * (n - len(l))"
   ],
   "metadata": {
    "collapsed": false
   }
  },
  {
   "cell_type": "code",
   "execution_count": 6,
   "outputs": [],
   "source": [
    "def get_stat_columns(stat_name):\n",
    "    \"\"\"\n",
    "    Get the columns of a stat from all players.\n",
    "    :param feature_name: \n",
    "    :return: \n",
    "    \"\"\"\n",
    "    return [f\"player_{i}_{stat_name}\" for i in range(1, 13)]"
   ],
   "metadata": {
    "collapsed": false
   }
  },
  {
   "cell_type": "code",
   "execution_count": 7,
   "outputs": [],
   "source": [
    "def get_cols_name(player_range_start: int, player_range_end: int):\n",
    "    \"\"\"\n",
    "    Get columns of all stats from the range of players\n",
    "    :param player_range_start: \n",
    "    :param player_range_end: \n",
    "    :return: \n",
    "    \"\"\"\n",
    "    return np.array(\n",
    "        [[f\"player_{i}_{stat}\" for stat in STATS_NAME] for i in range(player_range_start, player_range_end)]).reshape(\n",
    "        (player_range_end - player_range_start) * N_STATS)"
   ],
   "metadata": {
    "collapsed": false
   }
  },
  {
   "cell_type": "code",
   "execution_count": 8,
   "outputs": [],
   "source": [
    "def get_player_columns(player_number):\n",
    "    \"\"\"\n",
    "    Get all columns of a player.\n",
    "    :param player_number: \n",
    "    :return: \n",
    "    \"\"\"\n",
    "    return [f\"player_{player_number}_{stat}\" for stat in STATS_NAME]"
   ],
   "metadata": {
    "collapsed": false
   }
  },
  {
   "cell_type": "code",
   "execution_count": 9,
   "outputs": [],
   "source": [
    "# Shuffle teams so that half of the activities were won\n",
    "def shuffle_winning_team(df):\n",
    "    mid = len(df) // 2\n",
    "\n",
    "    # First shuffle dataframe to ensure dates are shuffle as well\n",
    "    df = df.sample(frac=1.0, random_state=RANDOM_STATE).reset_index(drop=True)\n",
    "\n",
    "    player_cols_team_A = get_cols_name(1, 7)\n",
    "    player_cols_team_B = get_cols_name(7, 13)\n",
    "    tmp_cols = [f\"tmp_{i}\" for i in range(6*N_STATS)]\n",
    "\n",
    "    # False positive warning (see https://stackoverflow.com/questions/20625582/how-to-deal-with-settingwithcopywarning-in-pandas)\n",
    "    df.loc[:mid] = (df.loc[:mid].rename(columns={player_cols_team_A[i]: tmp_cols[i] for i in range(len(player_cols_team_A))})\n",
    "                                .rename(columns={player_cols_team_B[i]: player_cols_team_A[i] for i in range(len(player_cols_team_A))})\n",
    "                                .rename(columns={tmp_cols[i]: player_cols_team_B[i] for i in range(len(player_cols_team_A))}))\\\n",
    "                                [df.columns]  # reorder columns\n",
    "    df.loc[:mid, \"winner\"] = [1 for i in range(mid + 1)]\n",
    "    \n",
    "    df = df.sample(frac=1.0, random_state=RANDOM_STATE+1).reset_index(drop=True)\n",
    "    return df"
   ],
   "metadata": {
    "collapsed": false
   }
  },
  {
   "cell_type": "markdown",
   "source": [
    "# Load data"
   ],
   "metadata": {
    "collapsed": false
   }
  },
  {
   "cell_type": "code",
   "execution_count": 10,
   "outputs": [
    {
     "name": "stdout",
     "output_type": "stream",
     "text": [
      "CPU times: total: 23.9 s\n",
      "Wall time: 26.7 s\n"
     ]
    },
    {
     "data": {
      "text/plain": "         player_1_activities_entered  player_1_combat_rating  \\\n0                              261.0              168.135969   \n1                              390.0              161.895219   \n2                              390.0              161.895219   \n3                              390.0              161.895219   \n4                               17.0              130.364239   \n...                              ...                     ...   \n1730453                         -1.0               -1.000000   \n1730454                      15174.0              170.628974   \n1730455                       3852.0              153.905220   \n1730456                       2196.0              163.112964   \n1730457                        184.0              219.015600   \n\n         player_1_kills_pga  player_1_assists_pga  player_1_deaths_pga  \\\n0                  8.103448              3.252874             8.176245   \n1                 11.684615              3.951282             8.828205   \n2                 11.684615              3.951282             8.828205   \n3                 11.684615              3.951282             8.828205   \n4                 10.176471              5.176471            10.764706   \n...                     ...                   ...                  ...   \n1730453           -1.000000             -1.000000            -1.000000   \n1730454           16.674839              4.118492             8.530513   \n1730455            9.868640              1.928868             6.599429   \n1730456           16.972678              4.117486             9.576503   \n1730457           17.793478              3.972826             7.907609   \n\n         player_1_score_pga  player_1_win_ratio  player_1_kd  player_1_kda  \\\n0                  5.896552            0.444444     0.991097      1.388941   \n1                 15.935897            0.551282     1.323555      1.771130   \n2                 15.935897            0.551282     1.323555      1.771130   \n3                 15.935897            0.551282     1.323555      1.771130   \n4                 15.411765            0.352941     0.945355      1.426230   \n...                     ...                 ...          ...           ...   \n1730453           -1.000000           -1.000000    -1.000000     -1.000000   \n1730454           24.418545            0.545341     1.954729      2.437524   \n1730455            7.002077            0.594756     1.495378      1.787656   \n1730456           26.020036            0.528233     1.772325      2.202282   \n1730457           34.869565            0.782609     2.250172      2.752577   \n\n         player_2_activities_entered  ...  player_12_score_pga  \\\n0                             2417.0  ...             0.000000   \n1                             2417.0  ...             0.000000   \n2                             2417.0  ...             0.000000   \n3                             2417.0  ...             0.000000   \n4                               49.0  ...             0.000000   \n...                              ...  ...                  ...   \n1730453                         -1.0  ...            -1.000000   \n1730454                       2024.0  ...            21.497872   \n1730455                      15174.0  ...            27.348982   \n1730456                       1141.0  ...            22.379874   \n1730457                       3384.0  ...            20.612193   \n\n         player_12_win_ratio  player_12_kd  player_12_kda  winner  mode  \\\n0                   0.000000      0.000000       0.000000     0.0    71   \n1                   0.000000      0.000000       0.000000     0.0    71   \n2                   0.000000      0.000000       0.000000     0.0    73   \n3                   0.000000      0.000000       0.000000     0.0    73   \n4                   0.000000      0.000000       0.000000     0.0    73   \n...                      ...           ...            ...     ...   ...   \n1730453            -1.000000     -1.000000      -1.000000     0.0    73   \n1730454             0.451064      1.239148       1.604013     0.0    73   \n1730455             0.592195      1.516892       1.976510     0.0    73   \n1730456             0.483019      1.239597       1.707276     0.0    73   \n1730457             0.418033      1.043242       1.411790     0.0    71   \n\n                     period  instance_id  win_score  loss_score  \n0       2017-09-05 23:32:24      1885169         58          35  \n1       2017-09-05 23:42:27      2024057         39          36  \n2       2017-09-05 23:53:01      2159868         85          54  \n3       2017-09-06 00:04:05      2269987         77          25  \n4       2017-09-06 05:42:33      7875392         95          51  \n...                     ...          ...        ...         ...  \n1730453 2022-12-28 18:58:17  12153675395        149          98  \n1730454 2022-12-28 19:16:05  12153780908        142         116  \n1730455 2022-12-28 19:32:36  12153874512        151         149  \n1730456 2022-12-28 19:45:04  12153943044        151         138  \n1730457 2022-12-28 20:42:27  12154292337         95          69  \n\n[1730458 rows x 114 columns]",
      "text/html": "<div>\n<style scoped>\n    .dataframe tbody tr th:only-of-type {\n        vertical-align: middle;\n    }\n\n    .dataframe tbody tr th {\n        vertical-align: top;\n    }\n\n    .dataframe thead th {\n        text-align: right;\n    }\n</style>\n<table border=\"1\" class=\"dataframe\">\n  <thead>\n    <tr style=\"text-align: right;\">\n      <th></th>\n      <th>player_1_activities_entered</th>\n      <th>player_1_combat_rating</th>\n      <th>player_1_kills_pga</th>\n      <th>player_1_assists_pga</th>\n      <th>player_1_deaths_pga</th>\n      <th>player_1_score_pga</th>\n      <th>player_1_win_ratio</th>\n      <th>player_1_kd</th>\n      <th>player_1_kda</th>\n      <th>player_2_activities_entered</th>\n      <th>...</th>\n      <th>player_12_score_pga</th>\n      <th>player_12_win_ratio</th>\n      <th>player_12_kd</th>\n      <th>player_12_kda</th>\n      <th>winner</th>\n      <th>mode</th>\n      <th>period</th>\n      <th>instance_id</th>\n      <th>win_score</th>\n      <th>loss_score</th>\n    </tr>\n  </thead>\n  <tbody>\n    <tr>\n      <th>0</th>\n      <td>261.0</td>\n      <td>168.135969</td>\n      <td>8.103448</td>\n      <td>3.252874</td>\n      <td>8.176245</td>\n      <td>5.896552</td>\n      <td>0.444444</td>\n      <td>0.991097</td>\n      <td>1.388941</td>\n      <td>2417.0</td>\n      <td>...</td>\n      <td>0.000000</td>\n      <td>0.000000</td>\n      <td>0.000000</td>\n      <td>0.000000</td>\n      <td>0.0</td>\n      <td>71</td>\n      <td>2017-09-05 23:32:24</td>\n      <td>1885169</td>\n      <td>58</td>\n      <td>35</td>\n    </tr>\n    <tr>\n      <th>1</th>\n      <td>390.0</td>\n      <td>161.895219</td>\n      <td>11.684615</td>\n      <td>3.951282</td>\n      <td>8.828205</td>\n      <td>15.935897</td>\n      <td>0.551282</td>\n      <td>1.323555</td>\n      <td>1.771130</td>\n      <td>2417.0</td>\n      <td>...</td>\n      <td>0.000000</td>\n      <td>0.000000</td>\n      <td>0.000000</td>\n      <td>0.000000</td>\n      <td>0.0</td>\n      <td>71</td>\n      <td>2017-09-05 23:42:27</td>\n      <td>2024057</td>\n      <td>39</td>\n      <td>36</td>\n    </tr>\n    <tr>\n      <th>2</th>\n      <td>390.0</td>\n      <td>161.895219</td>\n      <td>11.684615</td>\n      <td>3.951282</td>\n      <td>8.828205</td>\n      <td>15.935897</td>\n      <td>0.551282</td>\n      <td>1.323555</td>\n      <td>1.771130</td>\n      <td>2417.0</td>\n      <td>...</td>\n      <td>0.000000</td>\n      <td>0.000000</td>\n      <td>0.000000</td>\n      <td>0.000000</td>\n      <td>0.0</td>\n      <td>73</td>\n      <td>2017-09-05 23:53:01</td>\n      <td>2159868</td>\n      <td>85</td>\n      <td>54</td>\n    </tr>\n    <tr>\n      <th>3</th>\n      <td>390.0</td>\n      <td>161.895219</td>\n      <td>11.684615</td>\n      <td>3.951282</td>\n      <td>8.828205</td>\n      <td>15.935897</td>\n      <td>0.551282</td>\n      <td>1.323555</td>\n      <td>1.771130</td>\n      <td>2417.0</td>\n      <td>...</td>\n      <td>0.000000</td>\n      <td>0.000000</td>\n      <td>0.000000</td>\n      <td>0.000000</td>\n      <td>0.0</td>\n      <td>73</td>\n      <td>2017-09-06 00:04:05</td>\n      <td>2269987</td>\n      <td>77</td>\n      <td>25</td>\n    </tr>\n    <tr>\n      <th>4</th>\n      <td>17.0</td>\n      <td>130.364239</td>\n      <td>10.176471</td>\n      <td>5.176471</td>\n      <td>10.764706</td>\n      <td>15.411765</td>\n      <td>0.352941</td>\n      <td>0.945355</td>\n      <td>1.426230</td>\n      <td>49.0</td>\n      <td>...</td>\n      <td>0.000000</td>\n      <td>0.000000</td>\n      <td>0.000000</td>\n      <td>0.000000</td>\n      <td>0.0</td>\n      <td>73</td>\n      <td>2017-09-06 05:42:33</td>\n      <td>7875392</td>\n      <td>95</td>\n      <td>51</td>\n    </tr>\n    <tr>\n      <th>...</th>\n      <td>...</td>\n      <td>...</td>\n      <td>...</td>\n      <td>...</td>\n      <td>...</td>\n      <td>...</td>\n      <td>...</td>\n      <td>...</td>\n      <td>...</td>\n      <td>...</td>\n      <td>...</td>\n      <td>...</td>\n      <td>...</td>\n      <td>...</td>\n      <td>...</td>\n      <td>...</td>\n      <td>...</td>\n      <td>...</td>\n      <td>...</td>\n      <td>...</td>\n      <td>...</td>\n    </tr>\n    <tr>\n      <th>1730453</th>\n      <td>-1.0</td>\n      <td>-1.000000</td>\n      <td>-1.000000</td>\n      <td>-1.000000</td>\n      <td>-1.000000</td>\n      <td>-1.000000</td>\n      <td>-1.000000</td>\n      <td>-1.000000</td>\n      <td>-1.000000</td>\n      <td>-1.0</td>\n      <td>...</td>\n      <td>-1.000000</td>\n      <td>-1.000000</td>\n      <td>-1.000000</td>\n      <td>-1.000000</td>\n      <td>0.0</td>\n      <td>73</td>\n      <td>2022-12-28 18:58:17</td>\n      <td>12153675395</td>\n      <td>149</td>\n      <td>98</td>\n    </tr>\n    <tr>\n      <th>1730454</th>\n      <td>15174.0</td>\n      <td>170.628974</td>\n      <td>16.674839</td>\n      <td>4.118492</td>\n      <td>8.530513</td>\n      <td>24.418545</td>\n      <td>0.545341</td>\n      <td>1.954729</td>\n      <td>2.437524</td>\n      <td>2024.0</td>\n      <td>...</td>\n      <td>21.497872</td>\n      <td>0.451064</td>\n      <td>1.239148</td>\n      <td>1.604013</td>\n      <td>0.0</td>\n      <td>73</td>\n      <td>2022-12-28 19:16:05</td>\n      <td>12153780908</td>\n      <td>142</td>\n      <td>116</td>\n    </tr>\n    <tr>\n      <th>1730455</th>\n      <td>3852.0</td>\n      <td>153.905220</td>\n      <td>9.868640</td>\n      <td>1.928868</td>\n      <td>6.599429</td>\n      <td>7.002077</td>\n      <td>0.594756</td>\n      <td>1.495378</td>\n      <td>1.787656</td>\n      <td>15174.0</td>\n      <td>...</td>\n      <td>27.348982</td>\n      <td>0.592195</td>\n      <td>1.516892</td>\n      <td>1.976510</td>\n      <td>0.0</td>\n      <td>73</td>\n      <td>2022-12-28 19:32:36</td>\n      <td>12153874512</td>\n      <td>151</td>\n      <td>149</td>\n    </tr>\n    <tr>\n      <th>1730456</th>\n      <td>2196.0</td>\n      <td>163.112964</td>\n      <td>16.972678</td>\n      <td>4.117486</td>\n      <td>9.576503</td>\n      <td>26.020036</td>\n      <td>0.528233</td>\n      <td>1.772325</td>\n      <td>2.202282</td>\n      <td>1141.0</td>\n      <td>...</td>\n      <td>22.379874</td>\n      <td>0.483019</td>\n      <td>1.239597</td>\n      <td>1.707276</td>\n      <td>0.0</td>\n      <td>73</td>\n      <td>2022-12-28 19:45:04</td>\n      <td>12153943044</td>\n      <td>151</td>\n      <td>138</td>\n    </tr>\n    <tr>\n      <th>1730457</th>\n      <td>184.0</td>\n      <td>219.015600</td>\n      <td>17.793478</td>\n      <td>3.972826</td>\n      <td>7.907609</td>\n      <td>34.869565</td>\n      <td>0.782609</td>\n      <td>2.250172</td>\n      <td>2.752577</td>\n      <td>3384.0</td>\n      <td>...</td>\n      <td>20.612193</td>\n      <td>0.418033</td>\n      <td>1.043242</td>\n      <td>1.411790</td>\n      <td>0.0</td>\n      <td>71</td>\n      <td>2022-12-28 20:42:27</td>\n      <td>12154292337</td>\n      <td>95</td>\n      <td>69</td>\n    </tr>\n  </tbody>\n</table>\n<p>1730458 rows × 114 columns</p>\n</div>"
     },
     "execution_count": 10,
     "metadata": {},
     "output_type": "execute_result"
    }
   ],
   "source": [
    "%%time\n",
    "train = pd.read_csv(os.path.join(ROOT_DATA_FOLDER, \"train.csv\"))\n",
    "train[\"period\"] = pd.to_datetime(train[\"period\"], format=\"%Y-%m-%d %H:%M:%S\")\n",
    "train"
   ],
   "metadata": {
    "collapsed": false
   }
  },
  {
   "cell_type": "markdown",
   "source": [
    "# Preprocessing"
   ],
   "metadata": {
    "collapsed": false
   }
  },
  {
   "cell_type": "code",
   "execution_count": 14,
   "outputs": [],
   "source": [
    "STATS_NAME = [\"activities_entered\", \"combat_rating\", \"kills_pga\", \"assists_pga\", \"deaths_pga\", \"score_pga\", \"win_ratio\", \"kd\", \"kda\"]\n",
    "N_STATS = len(STATS_NAME)\n",
    "PLAYERS_COLUMNS = np.array([[f\"player_{i}_{stat}\" for stat in STATS_NAME] for i in range(1, 13)]).reshape(12 * N_STATS)\n",
    "OTHER_COLUMNS = [\"instance_id\", \"period\", \"mode\", \"winner\", \"win_score\", \"loss_score\"]"
   ],
   "metadata": {
    "collapsed": false
   }
  },
  {
   "cell_type": "code",
   "execution_count": null,
   "outputs": [],
   "source": [
    "# Select rows without stats missing\n",
    "req = [f\"(train['{col}'] > -0.5)\" for col in PLAYERS_COLUMNS]\n",
    "req = \" & \".join(req)\n",
    "train = train[eval(req)]  # hey, it's not stupid if it works\n",
    "train.reset_index(inplace=True, drop=True)\n",
    "train"
   ],
   "metadata": {
    "collapsed": false,
    "pycharm": {
     "is_executing": true
    }
   }
  },
  {
   "cell_type": "code",
   "execution_count": 20,
   "outputs": [
    {
     "data": {
      "text/plain": "         player_1_activities_entered  player_1_combat_rating  \\\n0                              261.0              168.135969   \n1                              390.0              161.895219   \n2                              390.0              161.895219   \n3                              390.0              161.895219   \n4                               17.0              130.364239   \n...                              ...                     ...   \n1730453                         -1.0               -1.000000   \n1730454                      15174.0              170.628974   \n1730455                       3852.0              153.905220   \n1730456                       2196.0              163.112964   \n1730457                        184.0              219.015600   \n\n         player_1_kills_pga  player_1_assists_pga  player_1_deaths_pga  \\\n0                  8.103448              3.252874             8.176245   \n1                 11.684615              3.951282             8.828205   \n2                 11.684615              3.951282             8.828205   \n3                 11.684615              3.951282             8.828205   \n4                 10.176471              5.176471            10.764706   \n...                     ...                   ...                  ...   \n1730453           -1.000000             -1.000000            -1.000000   \n1730454           16.674839              4.118492             8.530513   \n1730455            9.868640              1.928868             6.599429   \n1730456           16.972678              4.117486             9.576503   \n1730457           17.793478              3.972826             7.907609   \n\n         player_1_score_pga  player_1_win_ratio  player_1_kd  player_1_kda  \\\n0                  5.896552            0.444444     0.991097      1.388941   \n1                 15.935897            0.551282     1.323555      1.771130   \n2                 15.935897            0.551282     1.323555      1.771130   \n3                 15.935897            0.551282     1.323555      1.771130   \n4                 15.411765            0.352941     0.945355      1.426230   \n...                     ...                 ...          ...           ...   \n1730453           -1.000000           -1.000000    -1.000000     -1.000000   \n1730454           24.418545            0.545341     1.954729      2.437524   \n1730455            7.002077            0.594756     1.495378      1.787656   \n1730456           26.020036            0.528233     1.772325      2.202282   \n1730457           34.869565            0.782609     2.250172      2.752577   \n\n         player_2_activities_entered  ...  player_12_kd  player_12_kda  \\\n0                             2417.0  ...      0.000000       0.000000   \n1                             2417.0  ...      0.000000       0.000000   \n2                             2417.0  ...      0.000000       0.000000   \n3                             2417.0  ...      0.000000       0.000000   \n4                               49.0  ...      0.000000       0.000000   \n...                              ...  ...           ...            ...   \n1730453                         -1.0  ...     -1.000000      -1.000000   \n1730454                       2024.0  ...      1.239148       1.604013   \n1730455                      15174.0  ...      1.516892       1.976510   \n1730456                       1141.0  ...      1.239597       1.707276   \n1730457                       3384.0  ...      1.043242       1.411790   \n\n         winner  mode              period  instance_id  win_score  loss_score  \\\n0           0.0    71 2017-09-05 23:32:24      1885169         58          35   \n1           0.0    71 2017-09-05 23:42:27      2024057         39          36   \n2           0.0    73 2017-09-05 23:53:01      2159868         85          54   \n3           0.0    73 2017-09-06 00:04:05      2269987         77          25   \n4           0.0    73 2017-09-06 05:42:33      7875392         95          51   \n...         ...   ...                 ...          ...        ...         ...   \n1730453     0.0    73 2022-12-28 18:58:17  12153675395        149          98   \n1730454     0.0    73 2022-12-28 19:16:05  12153780908        142         116   \n1730455     0.0    73 2022-12-28 19:32:36  12153874512        151         149   \n1730456     0.0    73 2022-12-28 19:45:04  12153943044        151         138   \n1730457     0.0    71 2022-12-28 20:42:27  12154292337         95          69   \n\n         delta_score  delta_score_relative  \n0                 23              0.396552  \n1                  3              0.076923  \n2                 31              0.364706  \n3                 52              0.675325  \n4                 44              0.463158  \n...              ...                   ...  \n1730453           51              0.342282  \n1730454           26              0.183099  \n1730455            2              0.013245  \n1730456           13              0.086093  \n1730457           26              0.273684  \n\n[1730458 rows x 116 columns]",
      "text/html": "<div>\n<style scoped>\n    .dataframe tbody tr th:only-of-type {\n        vertical-align: middle;\n    }\n\n    .dataframe tbody tr th {\n        vertical-align: top;\n    }\n\n    .dataframe thead th {\n        text-align: right;\n    }\n</style>\n<table border=\"1\" class=\"dataframe\">\n  <thead>\n    <tr style=\"text-align: right;\">\n      <th></th>\n      <th>player_1_activities_entered</th>\n      <th>player_1_combat_rating</th>\n      <th>player_1_kills_pga</th>\n      <th>player_1_assists_pga</th>\n      <th>player_1_deaths_pga</th>\n      <th>player_1_score_pga</th>\n      <th>player_1_win_ratio</th>\n      <th>player_1_kd</th>\n      <th>player_1_kda</th>\n      <th>player_2_activities_entered</th>\n      <th>...</th>\n      <th>player_12_kd</th>\n      <th>player_12_kda</th>\n      <th>winner</th>\n      <th>mode</th>\n      <th>period</th>\n      <th>instance_id</th>\n      <th>win_score</th>\n      <th>loss_score</th>\n      <th>delta_score</th>\n      <th>delta_score_relative</th>\n    </tr>\n  </thead>\n  <tbody>\n    <tr>\n      <th>0</th>\n      <td>261.0</td>\n      <td>168.135969</td>\n      <td>8.103448</td>\n      <td>3.252874</td>\n      <td>8.176245</td>\n      <td>5.896552</td>\n      <td>0.444444</td>\n      <td>0.991097</td>\n      <td>1.388941</td>\n      <td>2417.0</td>\n      <td>...</td>\n      <td>0.000000</td>\n      <td>0.000000</td>\n      <td>0.0</td>\n      <td>71</td>\n      <td>2017-09-05 23:32:24</td>\n      <td>1885169</td>\n      <td>58</td>\n      <td>35</td>\n      <td>23</td>\n      <td>0.396552</td>\n    </tr>\n    <tr>\n      <th>1</th>\n      <td>390.0</td>\n      <td>161.895219</td>\n      <td>11.684615</td>\n      <td>3.951282</td>\n      <td>8.828205</td>\n      <td>15.935897</td>\n      <td>0.551282</td>\n      <td>1.323555</td>\n      <td>1.771130</td>\n      <td>2417.0</td>\n      <td>...</td>\n      <td>0.000000</td>\n      <td>0.000000</td>\n      <td>0.0</td>\n      <td>71</td>\n      <td>2017-09-05 23:42:27</td>\n      <td>2024057</td>\n      <td>39</td>\n      <td>36</td>\n      <td>3</td>\n      <td>0.076923</td>\n    </tr>\n    <tr>\n      <th>2</th>\n      <td>390.0</td>\n      <td>161.895219</td>\n      <td>11.684615</td>\n      <td>3.951282</td>\n      <td>8.828205</td>\n      <td>15.935897</td>\n      <td>0.551282</td>\n      <td>1.323555</td>\n      <td>1.771130</td>\n      <td>2417.0</td>\n      <td>...</td>\n      <td>0.000000</td>\n      <td>0.000000</td>\n      <td>0.0</td>\n      <td>73</td>\n      <td>2017-09-05 23:53:01</td>\n      <td>2159868</td>\n      <td>85</td>\n      <td>54</td>\n      <td>31</td>\n      <td>0.364706</td>\n    </tr>\n    <tr>\n      <th>3</th>\n      <td>390.0</td>\n      <td>161.895219</td>\n      <td>11.684615</td>\n      <td>3.951282</td>\n      <td>8.828205</td>\n      <td>15.935897</td>\n      <td>0.551282</td>\n      <td>1.323555</td>\n      <td>1.771130</td>\n      <td>2417.0</td>\n      <td>...</td>\n      <td>0.000000</td>\n      <td>0.000000</td>\n      <td>0.0</td>\n      <td>73</td>\n      <td>2017-09-06 00:04:05</td>\n      <td>2269987</td>\n      <td>77</td>\n      <td>25</td>\n      <td>52</td>\n      <td>0.675325</td>\n    </tr>\n    <tr>\n      <th>4</th>\n      <td>17.0</td>\n      <td>130.364239</td>\n      <td>10.176471</td>\n      <td>5.176471</td>\n      <td>10.764706</td>\n      <td>15.411765</td>\n      <td>0.352941</td>\n      <td>0.945355</td>\n      <td>1.426230</td>\n      <td>49.0</td>\n      <td>...</td>\n      <td>0.000000</td>\n      <td>0.000000</td>\n      <td>0.0</td>\n      <td>73</td>\n      <td>2017-09-06 05:42:33</td>\n      <td>7875392</td>\n      <td>95</td>\n      <td>51</td>\n      <td>44</td>\n      <td>0.463158</td>\n    </tr>\n    <tr>\n      <th>...</th>\n      <td>...</td>\n      <td>...</td>\n      <td>...</td>\n      <td>...</td>\n      <td>...</td>\n      <td>...</td>\n      <td>...</td>\n      <td>...</td>\n      <td>...</td>\n      <td>...</td>\n      <td>...</td>\n      <td>...</td>\n      <td>...</td>\n      <td>...</td>\n      <td>...</td>\n      <td>...</td>\n      <td>...</td>\n      <td>...</td>\n      <td>...</td>\n      <td>...</td>\n      <td>...</td>\n    </tr>\n    <tr>\n      <th>1730453</th>\n      <td>-1.0</td>\n      <td>-1.000000</td>\n      <td>-1.000000</td>\n      <td>-1.000000</td>\n      <td>-1.000000</td>\n      <td>-1.000000</td>\n      <td>-1.000000</td>\n      <td>-1.000000</td>\n      <td>-1.000000</td>\n      <td>-1.0</td>\n      <td>...</td>\n      <td>-1.000000</td>\n      <td>-1.000000</td>\n      <td>0.0</td>\n      <td>73</td>\n      <td>2022-12-28 18:58:17</td>\n      <td>12153675395</td>\n      <td>149</td>\n      <td>98</td>\n      <td>51</td>\n      <td>0.342282</td>\n    </tr>\n    <tr>\n      <th>1730454</th>\n      <td>15174.0</td>\n      <td>170.628974</td>\n      <td>16.674839</td>\n      <td>4.118492</td>\n      <td>8.530513</td>\n      <td>24.418545</td>\n      <td>0.545341</td>\n      <td>1.954729</td>\n      <td>2.437524</td>\n      <td>2024.0</td>\n      <td>...</td>\n      <td>1.239148</td>\n      <td>1.604013</td>\n      <td>0.0</td>\n      <td>73</td>\n      <td>2022-12-28 19:16:05</td>\n      <td>12153780908</td>\n      <td>142</td>\n      <td>116</td>\n      <td>26</td>\n      <td>0.183099</td>\n    </tr>\n    <tr>\n      <th>1730455</th>\n      <td>3852.0</td>\n      <td>153.905220</td>\n      <td>9.868640</td>\n      <td>1.928868</td>\n      <td>6.599429</td>\n      <td>7.002077</td>\n      <td>0.594756</td>\n      <td>1.495378</td>\n      <td>1.787656</td>\n      <td>15174.0</td>\n      <td>...</td>\n      <td>1.516892</td>\n      <td>1.976510</td>\n      <td>0.0</td>\n      <td>73</td>\n      <td>2022-12-28 19:32:36</td>\n      <td>12153874512</td>\n      <td>151</td>\n      <td>149</td>\n      <td>2</td>\n      <td>0.013245</td>\n    </tr>\n    <tr>\n      <th>1730456</th>\n      <td>2196.0</td>\n      <td>163.112964</td>\n      <td>16.972678</td>\n      <td>4.117486</td>\n      <td>9.576503</td>\n      <td>26.020036</td>\n      <td>0.528233</td>\n      <td>1.772325</td>\n      <td>2.202282</td>\n      <td>1141.0</td>\n      <td>...</td>\n      <td>1.239597</td>\n      <td>1.707276</td>\n      <td>0.0</td>\n      <td>73</td>\n      <td>2022-12-28 19:45:04</td>\n      <td>12153943044</td>\n      <td>151</td>\n      <td>138</td>\n      <td>13</td>\n      <td>0.086093</td>\n    </tr>\n    <tr>\n      <th>1730457</th>\n      <td>184.0</td>\n      <td>219.015600</td>\n      <td>17.793478</td>\n      <td>3.972826</td>\n      <td>7.907609</td>\n      <td>34.869565</td>\n      <td>0.782609</td>\n      <td>2.250172</td>\n      <td>2.752577</td>\n      <td>3384.0</td>\n      <td>...</td>\n      <td>1.043242</td>\n      <td>1.411790</td>\n      <td>0.0</td>\n      <td>71</td>\n      <td>2022-12-28 20:42:27</td>\n      <td>12154292337</td>\n      <td>95</td>\n      <td>69</td>\n      <td>26</td>\n      <td>0.273684</td>\n    </tr>\n  </tbody>\n</table>\n<p>1730458 rows × 116 columns</p>\n</div>"
     },
     "execution_count": 20,
     "metadata": {},
     "output_type": "execute_result"
    }
   ],
   "source": [
    "train[\"delta_score\"] = train[\"win_score\"] - train[\"loss_score\"]\n",
    "train[\"delta_score_relative\"] = train[\"delta_score\"] / train[\"win_score\"]\n",
    "train"
   ],
   "metadata": {
    "collapsed": false
   }
  },
  {
   "cell_type": "markdown",
   "source": [
    "# Data selection"
   ],
   "metadata": {
    "collapsed": false
   }
  },
  {
   "cell_type": "code",
   "execution_count": 86,
   "outputs": [
    {
     "data": {
      "text/plain": "         player_1_activities_entered  player_1_combat_rating  \\\n0                              684.0              129.719438   \n1                              607.0              128.560847   \n2                              598.0              141.466934   \n3                             5480.0               69.823546   \n4                               97.0              128.534587   \n...                              ...                     ...   \n1730453                       8576.0              145.038565   \n1730454                         71.0              136.904327   \n1730455                       1454.0              117.344981   \n1730456                       1778.0              116.194666   \n1730457                       1738.0              168.637657   \n\n         player_1_kills_pga  player_1_assists_pga  player_1_deaths_pga  \\\n0                 13.621345              3.967836             9.986842   \n1                 10.056013              3.462932             9.672158   \n2                 14.588629              2.867893             8.911371   \n3                  6.185949              2.811314             7.910036   \n4                  9.463918              4.319588             7.587629   \n...                     ...                   ...                  ...   \n1730453           12.196945              3.788013             7.690648   \n1730454            9.084507              4.873239            12.098592   \n1730455           10.724209              3.468363             9.207703   \n1730456            8.974691              3.221035            12.407762   \n1730457           13.075949              4.475259             9.018412   \n\n         player_1_score_pga  player_1_win_ratio  player_1_kd  player_1_kda  \\\n0                 16.421053            0.504386     1.363929      1.761236   \n1                 24.514003            0.507414     1.039687      1.397718   \n2                 30.474916            0.530100     1.637080      1.958904   \n3                  6.271168            0.448540     0.782038      1.137449   \n4                 17.216495            0.597938     1.247283      1.816576   \n...                     ...                 ...          ...           ...   \n1730453           21.850280            0.539412     1.585945      2.078493   \n1730454           24.760563            0.450704     0.750873      1.153667   \n1730455           17.129986            0.502751     1.164700      1.541380   \n1730456           19.362767            0.443757     0.723313      0.982911   \n1730457           20.106444            0.585155     1.449917      1.946153   \n\n         player_2_activities_entered  ...  player_12_kd  player_12_kda  \\\n0                             1079.0  ...      0.147986       0.292091   \n1                              652.0  ...      0.900839       1.168574   \n2                             1792.0  ...      0.622037       0.884658   \n3                             4046.0  ...      0.000000       0.000000   \n4                              420.0  ...      0.559621       0.787803   \n...                              ...  ...           ...            ...   \n1730453                       5550.0  ...      0.956754       1.298986   \n1730454                       1745.0  ...      0.943489       1.228501   \n1730455                        653.0  ...      0.449231       0.665385   \n1730456                        353.0  ...      0.309339       0.536843   \n1730457                        206.0  ...      0.881554       1.184917   \n\n         winner  mode              period  instance_id  win_score  loss_score  \\\n0           1.0    73 2022-03-08 13:15:46  10357118750        101          45   \n1           1.0    81 2022-05-04 15:12:19  10697285586        135          51   \n2           0.0    81 2022-02-26 22:53:43  10241670294        204         103   \n3           1.0    80 2021-11-18 02:40:05   9619042430          5           4   \n4           1.0    73 2022-03-02 22:49:36  10297754577        153          73   \n...         ...   ...                 ...          ...        ...         ...   \n1730453     1.0    43 2022-02-19 22:20:39  10131025529         99          38   \n1730454     1.0    73 2022-10-07 19:56:16  11754116152        151         103   \n1730455     1.0    73 2022-06-04 22:16:47  10891536631        150         116   \n1730456     1.0    81 2022-08-02 21:04:24  11243188304        201          93   \n1730457     0.0    71 2018-08-26 09:46:24   2081597019        100          69   \n\n         delta_score  delta_score_relative  \n0                 56              0.554455  \n1                 84              0.622222  \n2                101              0.495098  \n3                  1              0.200000  \n4                 80              0.522876  \n...              ...                   ...  \n1730453           61              0.616162  \n1730454           48              0.317881  \n1730455           34              0.226667  \n1730456          108              0.537313  \n1730457           31              0.310000  \n\n[1730458 rows x 116 columns]",
      "text/html": "<div>\n<style scoped>\n    .dataframe tbody tr th:only-of-type {\n        vertical-align: middle;\n    }\n\n    .dataframe tbody tr th {\n        vertical-align: top;\n    }\n\n    .dataframe thead th {\n        text-align: right;\n    }\n</style>\n<table border=\"1\" class=\"dataframe\">\n  <thead>\n    <tr style=\"text-align: right;\">\n      <th></th>\n      <th>player_1_activities_entered</th>\n      <th>player_1_combat_rating</th>\n      <th>player_1_kills_pga</th>\n      <th>player_1_assists_pga</th>\n      <th>player_1_deaths_pga</th>\n      <th>player_1_score_pga</th>\n      <th>player_1_win_ratio</th>\n      <th>player_1_kd</th>\n      <th>player_1_kda</th>\n      <th>player_2_activities_entered</th>\n      <th>...</th>\n      <th>player_12_kd</th>\n      <th>player_12_kda</th>\n      <th>winner</th>\n      <th>mode</th>\n      <th>period</th>\n      <th>instance_id</th>\n      <th>win_score</th>\n      <th>loss_score</th>\n      <th>delta_score</th>\n      <th>delta_score_relative</th>\n    </tr>\n  </thead>\n  <tbody>\n    <tr>\n      <th>0</th>\n      <td>684.0</td>\n      <td>129.719438</td>\n      <td>13.621345</td>\n      <td>3.967836</td>\n      <td>9.986842</td>\n      <td>16.421053</td>\n      <td>0.504386</td>\n      <td>1.363929</td>\n      <td>1.761236</td>\n      <td>1079.0</td>\n      <td>...</td>\n      <td>0.147986</td>\n      <td>0.292091</td>\n      <td>1.0</td>\n      <td>73</td>\n      <td>2022-03-08 13:15:46</td>\n      <td>10357118750</td>\n      <td>101</td>\n      <td>45</td>\n      <td>56</td>\n      <td>0.554455</td>\n    </tr>\n    <tr>\n      <th>1</th>\n      <td>607.0</td>\n      <td>128.560847</td>\n      <td>10.056013</td>\n      <td>3.462932</td>\n      <td>9.672158</td>\n      <td>24.514003</td>\n      <td>0.507414</td>\n      <td>1.039687</td>\n      <td>1.397718</td>\n      <td>652.0</td>\n      <td>...</td>\n      <td>0.900839</td>\n      <td>1.168574</td>\n      <td>1.0</td>\n      <td>81</td>\n      <td>2022-05-04 15:12:19</td>\n      <td>10697285586</td>\n      <td>135</td>\n      <td>51</td>\n      <td>84</td>\n      <td>0.622222</td>\n    </tr>\n    <tr>\n      <th>2</th>\n      <td>598.0</td>\n      <td>141.466934</td>\n      <td>14.588629</td>\n      <td>2.867893</td>\n      <td>8.911371</td>\n      <td>30.474916</td>\n      <td>0.530100</td>\n      <td>1.637080</td>\n      <td>1.958904</td>\n      <td>1792.0</td>\n      <td>...</td>\n      <td>0.622037</td>\n      <td>0.884658</td>\n      <td>0.0</td>\n      <td>81</td>\n      <td>2022-02-26 22:53:43</td>\n      <td>10241670294</td>\n      <td>204</td>\n      <td>103</td>\n      <td>101</td>\n      <td>0.495098</td>\n    </tr>\n    <tr>\n      <th>3</th>\n      <td>5480.0</td>\n      <td>69.823546</td>\n      <td>6.185949</td>\n      <td>2.811314</td>\n      <td>7.910036</td>\n      <td>6.271168</td>\n      <td>0.448540</td>\n      <td>0.782038</td>\n      <td>1.137449</td>\n      <td>4046.0</td>\n      <td>...</td>\n      <td>0.000000</td>\n      <td>0.000000</td>\n      <td>1.0</td>\n      <td>80</td>\n      <td>2021-11-18 02:40:05</td>\n      <td>9619042430</td>\n      <td>5</td>\n      <td>4</td>\n      <td>1</td>\n      <td>0.200000</td>\n    </tr>\n    <tr>\n      <th>4</th>\n      <td>97.0</td>\n      <td>128.534587</td>\n      <td>9.463918</td>\n      <td>4.319588</td>\n      <td>7.587629</td>\n      <td>17.216495</td>\n      <td>0.597938</td>\n      <td>1.247283</td>\n      <td>1.816576</td>\n      <td>420.0</td>\n      <td>...</td>\n      <td>0.559621</td>\n      <td>0.787803</td>\n      <td>1.0</td>\n      <td>73</td>\n      <td>2022-03-02 22:49:36</td>\n      <td>10297754577</td>\n      <td>153</td>\n      <td>73</td>\n      <td>80</td>\n      <td>0.522876</td>\n    </tr>\n    <tr>\n      <th>...</th>\n      <td>...</td>\n      <td>...</td>\n      <td>...</td>\n      <td>...</td>\n      <td>...</td>\n      <td>...</td>\n      <td>...</td>\n      <td>...</td>\n      <td>...</td>\n      <td>...</td>\n      <td>...</td>\n      <td>...</td>\n      <td>...</td>\n      <td>...</td>\n      <td>...</td>\n      <td>...</td>\n      <td>...</td>\n      <td>...</td>\n      <td>...</td>\n      <td>...</td>\n      <td>...</td>\n    </tr>\n    <tr>\n      <th>1730453</th>\n      <td>8576.0</td>\n      <td>145.038565</td>\n      <td>12.196945</td>\n      <td>3.788013</td>\n      <td>7.690648</td>\n      <td>21.850280</td>\n      <td>0.539412</td>\n      <td>1.585945</td>\n      <td>2.078493</td>\n      <td>5550.0</td>\n      <td>...</td>\n      <td>0.956754</td>\n      <td>1.298986</td>\n      <td>1.0</td>\n      <td>43</td>\n      <td>2022-02-19 22:20:39</td>\n      <td>10131025529</td>\n      <td>99</td>\n      <td>38</td>\n      <td>61</td>\n      <td>0.616162</td>\n    </tr>\n    <tr>\n      <th>1730454</th>\n      <td>71.0</td>\n      <td>136.904327</td>\n      <td>9.084507</td>\n      <td>4.873239</td>\n      <td>12.098592</td>\n      <td>24.760563</td>\n      <td>0.450704</td>\n      <td>0.750873</td>\n      <td>1.153667</td>\n      <td>1745.0</td>\n      <td>...</td>\n      <td>0.943489</td>\n      <td>1.228501</td>\n      <td>1.0</td>\n      <td>73</td>\n      <td>2022-10-07 19:56:16</td>\n      <td>11754116152</td>\n      <td>151</td>\n      <td>103</td>\n      <td>48</td>\n      <td>0.317881</td>\n    </tr>\n    <tr>\n      <th>1730455</th>\n      <td>1454.0</td>\n      <td>117.344981</td>\n      <td>10.724209</td>\n      <td>3.468363</td>\n      <td>9.207703</td>\n      <td>17.129986</td>\n      <td>0.502751</td>\n      <td>1.164700</td>\n      <td>1.541380</td>\n      <td>653.0</td>\n      <td>...</td>\n      <td>0.449231</td>\n      <td>0.665385</td>\n      <td>1.0</td>\n      <td>73</td>\n      <td>2022-06-04 22:16:47</td>\n      <td>10891536631</td>\n      <td>150</td>\n      <td>116</td>\n      <td>34</td>\n      <td>0.226667</td>\n    </tr>\n    <tr>\n      <th>1730456</th>\n      <td>1778.0</td>\n      <td>116.194666</td>\n      <td>8.974691</td>\n      <td>3.221035</td>\n      <td>12.407762</td>\n      <td>19.362767</td>\n      <td>0.443757</td>\n      <td>0.723313</td>\n      <td>0.982911</td>\n      <td>353.0</td>\n      <td>...</td>\n      <td>0.309339</td>\n      <td>0.536843</td>\n      <td>1.0</td>\n      <td>81</td>\n      <td>2022-08-02 21:04:24</td>\n      <td>11243188304</td>\n      <td>201</td>\n      <td>93</td>\n      <td>108</td>\n      <td>0.537313</td>\n    </tr>\n    <tr>\n      <th>1730457</th>\n      <td>1738.0</td>\n      <td>168.637657</td>\n      <td>13.075949</td>\n      <td>4.475259</td>\n      <td>9.018412</td>\n      <td>20.106444</td>\n      <td>0.585155</td>\n      <td>1.449917</td>\n      <td>1.946153</td>\n      <td>206.0</td>\n      <td>...</td>\n      <td>0.881554</td>\n      <td>1.184917</td>\n      <td>0.0</td>\n      <td>71</td>\n      <td>2018-08-26 09:46:24</td>\n      <td>2081597019</td>\n      <td>100</td>\n      <td>69</td>\n      <td>31</td>\n      <td>0.310000</td>\n    </tr>\n  </tbody>\n</table>\n<p>1730458 rows × 116 columns</p>\n</div>"
     },
     "execution_count": 86,
     "metadata": {},
     "output_type": "execute_result"
    }
   ],
   "source": [
    "sel = train\n",
    "\n",
    "# sel = sel[sel[\"delta_score_relative\"] > 0.3]\n",
    "\n",
    "sel = shuffle_winning_team(sel)\n",
    "\n",
    "sel.reset_index(inplace=True, drop=True)\n",
    "sel"
   ],
   "metadata": {
    "collapsed": false
   }
  },
  {
   "cell_type": "markdown",
   "source": [
    "# Catboost"
   ],
   "metadata": {
    "collapsed": false
   }
  },
  {
   "cell_type": "code",
   "execution_count": 93,
   "outputs": [],
   "source": [
    "X = sel #[list(PLAYERS_COLUMNS) + [\"mode\"]]\n",
    "Y = sel[\"winner\"]\n",
    "X_train, X_test, y_train, y_test = train_test_split(X, Y, test_size=0.3, random_state=RANDOM_STATE)"
   ],
   "metadata": {
    "collapsed": false
   }
  },
  {
   "cell_type": "code",
   "execution_count": 99,
   "outputs": [
    {
     "name": "stdout",
     "output_type": "stream",
     "text": [
      "Accuracy: 0.7217714750220557\n",
      "F1-score: 0.7206203493623778\n",
      "[[188419  71064]\n",
      " [ 73375 186280]]\n",
      "\n",
      "Accuracy per mode:\n",
      "Accuracy mode  84 :  0.7836557884813934\n",
      "Accuracy mode  73 :  0.7071831959891661\n",
      "Accuracy mode  44 :  0.7103025233514568\n",
      "Accuracy mode  43 :  0.6976603955619874\n",
      "Accuracy mode  37 :  0.6792766675379607\n",
      "Accuracy mode  80 :  0.6854468709855019\n",
      "Accuracy mode  62 :  0.6409701169337375\n",
      "Accuracy mode  59 :  0.787379421221865\n",
      "Accuracy mode  90 :  0.7198378883923933\n",
      "Accuracy mode  89 :  0.6184062850729517\n",
      "Accuracy mode  25 :  0.6404069079725574\n",
      "Accuracy mode  81 :  0.6659210879484656\n",
      "Accuracy mode  71 :  0.7273837059881778\n",
      "Accuracy mode  88 :  0.6844262295081968\n",
      "CPU times: total: 1min 4s\n",
      "Wall time: 52.2 s\n"
     ]
    }
   ],
   "source": [
    "%%time\n",
    "clf = CatBoostClassifier(verbose=False, task_type='GPU', random_state=RANDOM_STATE)\n",
    "clf.fit(\n",
    "    X_train[list(PLAYERS_COLUMNS) + [\"mode\"]],\n",
    "    y_train,\n",
    "    cat_features=[\"mode\"])\n",
    "\n",
    "y_pred = clf.predict(X_test[list(PLAYERS_COLUMNS) + [\"mode\"]])\n",
    "print(\"Accuracy:\", accuracy_score(y_test, y_pred))\n",
    "print(\"F1-score:\", f1_score(y_test, y_pred))\n",
    "print(confusion_matrix(y_test, y_pred))\n",
    "\n",
    "print(\"\\nAccuracy per mode:\")\n",
    "for mode in X_test[\"mode\"].unique():\n",
    "    x = X_test[X_test[\"mode\"] == mode]\n",
    "    yp = clf.predict(x[list(PLAYERS_COLUMNS) + [\"mode\"]])\n",
    "    yt = y_test[x.index]\n",
    "    print(\"Accuracy mode \", mode, \": \", accuracy_score(yt, yp))"
   ],
   "metadata": {
    "collapsed": false
   }
  },
  {
   "cell_type": "markdown",
   "source": [
    "# Analysis"
   ],
   "metadata": {
    "collapsed": false
   }
  },
  {
   "cell_type": "code",
   "execution_count": 95,
   "outputs": [
    {
     "data": {
      "text/plain": "         player_1_activities_entered  player_1_combat_rating  \\\n1522636                       1448.0              132.604234   \n336961                         648.0               93.274126   \n1337930                      10394.0              170.622477   \n968499                         252.0               95.265262   \n426328                         496.0              125.532057   \n...                              ...                     ...   \n345721                         301.0               87.727411   \n1609981                        249.0               77.233649   \n371389                         124.0              115.970415   \n512195                         897.0              145.990276   \n855572                        6586.0              173.169218   \n\n         player_1_kills_pga  player_1_assists_pga  player_1_deaths_pga  \\\n1522636           11.895718              3.270718             9.470994   \n336961             9.171296              2.353395            10.689815   \n1337930           14.731287              4.802386             7.213585   \n968499             8.492063              4.273810             9.892857   \n426328            11.401210              3.389113            10.270161   \n...                     ...                   ...                  ...   \n345721             8.544850              2.950166            10.099668   \n1609981            6.622490              2.401606             9.787149   \n371389             9.274194              3.927419            10.580645   \n512195            12.552954              4.774805            10.370123   \n855572            15.529153              3.177346             8.360917   \n\n         player_1_score_pga  player_1_win_ratio  player_1_kd  player_1_kda  \\\n1522636           15.709945            0.482044     1.256016      1.601356   \n336961             9.302469            0.404321     0.857947      1.078100   \n1337930           22.686069            0.596113     2.042159      2.707901   \n968499            13.257937            0.420635     0.858404      1.290413   \n426328            17.679435            0.520161     1.110130      1.440126   \n...                     ...                 ...          ...           ...   \n345721            14.744186            0.478405     0.846053      1.138158   \n1609981           13.281124            0.405622     0.676652      0.922035   \n371389            13.983871            0.459677     0.876524      1.247713   \n512195            24.351171            0.465998     1.210492      1.670931   \n855572            25.029305            0.624658     1.857350      2.237374   \n\n         player_2_activities_entered  ...  player_12_kda  winner  mode  \\\n1522636                       3598.0  ...       0.000000     1.0    84   \n336961                        2507.0  ...       1.037335     1.0    73   \n1337930                       2858.0  ...       1.122668     0.0    44   \n968499                        1412.0  ...       2.142606     1.0    73   \n426328                         534.0  ...       1.191873     0.0    73   \n...                              ...  ...            ...     ...   ...   \n345721                         337.0  ...       1.198707     1.0    81   \n1609981                        726.0  ...       1.750868     0.0    73   \n371389                          -1.0  ...       0.000000     0.0    37   \n512195                         389.0  ...      -1.000000     0.0    43   \n855572                        7707.0  ...       0.000000     0.0    84   \n\n                     period  instance_id  win_score  loss_score  delta_score  \\\n1522636 2021-03-12 22:45:12   8144251976          5           4            1   \n336961  2021-11-14 06:53:05   9604621326        152          66           86   \n1337930 2022-09-12 15:23:44  11569694464        150         129           21   \n968499  2022-06-13 06:40:05  10956530935        150          60           90   \n426328  2019-12-21 11:29:52   5406735344        145         119           26   \n...                     ...          ...        ...         ...          ...   \n345721  2022-05-04 16:04:14  10697495642        201         128           73   \n1609981 2021-06-04 18:18:08   8605440745         93          29           64   \n371389  2021-06-12 13:59:19   8653899611          4           1            3   \n512195  2022-01-11 23:46:06   9931842138        151          83           68   \n855572  2022-06-12 00:03:17  10946244005          5           4            1   \n\n         delta_score_relative  pred  \n1522636              0.200000   0.0  \n336961               0.565789   1.0  \n1337930              0.140000   0.0  \n968499               0.600000   1.0  \n426328               0.179310   1.0  \n...                       ...   ...  \n345721               0.363184   1.0  \n1609981              0.688172   0.0  \n371389               0.750000   0.0  \n512195               0.450331   1.0  \n855572               0.200000   0.0  \n\n[519138 rows x 117 columns]",
      "text/html": "<div>\n<style scoped>\n    .dataframe tbody tr th:only-of-type {\n        vertical-align: middle;\n    }\n\n    .dataframe tbody tr th {\n        vertical-align: top;\n    }\n\n    .dataframe thead th {\n        text-align: right;\n    }\n</style>\n<table border=\"1\" class=\"dataframe\">\n  <thead>\n    <tr style=\"text-align: right;\">\n      <th></th>\n      <th>player_1_activities_entered</th>\n      <th>player_1_combat_rating</th>\n      <th>player_1_kills_pga</th>\n      <th>player_1_assists_pga</th>\n      <th>player_1_deaths_pga</th>\n      <th>player_1_score_pga</th>\n      <th>player_1_win_ratio</th>\n      <th>player_1_kd</th>\n      <th>player_1_kda</th>\n      <th>player_2_activities_entered</th>\n      <th>...</th>\n      <th>player_12_kda</th>\n      <th>winner</th>\n      <th>mode</th>\n      <th>period</th>\n      <th>instance_id</th>\n      <th>win_score</th>\n      <th>loss_score</th>\n      <th>delta_score</th>\n      <th>delta_score_relative</th>\n      <th>pred</th>\n    </tr>\n  </thead>\n  <tbody>\n    <tr>\n      <th>1522636</th>\n      <td>1448.0</td>\n      <td>132.604234</td>\n      <td>11.895718</td>\n      <td>3.270718</td>\n      <td>9.470994</td>\n      <td>15.709945</td>\n      <td>0.482044</td>\n      <td>1.256016</td>\n      <td>1.601356</td>\n      <td>3598.0</td>\n      <td>...</td>\n      <td>0.000000</td>\n      <td>1.0</td>\n      <td>84</td>\n      <td>2021-03-12 22:45:12</td>\n      <td>8144251976</td>\n      <td>5</td>\n      <td>4</td>\n      <td>1</td>\n      <td>0.200000</td>\n      <td>0.0</td>\n    </tr>\n    <tr>\n      <th>336961</th>\n      <td>648.0</td>\n      <td>93.274126</td>\n      <td>9.171296</td>\n      <td>2.353395</td>\n      <td>10.689815</td>\n      <td>9.302469</td>\n      <td>0.404321</td>\n      <td>0.857947</td>\n      <td>1.078100</td>\n      <td>2507.0</td>\n      <td>...</td>\n      <td>1.037335</td>\n      <td>1.0</td>\n      <td>73</td>\n      <td>2021-11-14 06:53:05</td>\n      <td>9604621326</td>\n      <td>152</td>\n      <td>66</td>\n      <td>86</td>\n      <td>0.565789</td>\n      <td>1.0</td>\n    </tr>\n    <tr>\n      <th>1337930</th>\n      <td>10394.0</td>\n      <td>170.622477</td>\n      <td>14.731287</td>\n      <td>4.802386</td>\n      <td>7.213585</td>\n      <td>22.686069</td>\n      <td>0.596113</td>\n      <td>2.042159</td>\n      <td>2.707901</td>\n      <td>2858.0</td>\n      <td>...</td>\n      <td>1.122668</td>\n      <td>0.0</td>\n      <td>44</td>\n      <td>2022-09-12 15:23:44</td>\n      <td>11569694464</td>\n      <td>150</td>\n      <td>129</td>\n      <td>21</td>\n      <td>0.140000</td>\n      <td>0.0</td>\n    </tr>\n    <tr>\n      <th>968499</th>\n      <td>252.0</td>\n      <td>95.265262</td>\n      <td>8.492063</td>\n      <td>4.273810</td>\n      <td>9.892857</td>\n      <td>13.257937</td>\n      <td>0.420635</td>\n      <td>0.858404</td>\n      <td>1.290413</td>\n      <td>1412.0</td>\n      <td>...</td>\n      <td>2.142606</td>\n      <td>1.0</td>\n      <td>73</td>\n      <td>2022-06-13 06:40:05</td>\n      <td>10956530935</td>\n      <td>150</td>\n      <td>60</td>\n      <td>90</td>\n      <td>0.600000</td>\n      <td>1.0</td>\n    </tr>\n    <tr>\n      <th>426328</th>\n      <td>496.0</td>\n      <td>125.532057</td>\n      <td>11.401210</td>\n      <td>3.389113</td>\n      <td>10.270161</td>\n      <td>17.679435</td>\n      <td>0.520161</td>\n      <td>1.110130</td>\n      <td>1.440126</td>\n      <td>534.0</td>\n      <td>...</td>\n      <td>1.191873</td>\n      <td>0.0</td>\n      <td>73</td>\n      <td>2019-12-21 11:29:52</td>\n      <td>5406735344</td>\n      <td>145</td>\n      <td>119</td>\n      <td>26</td>\n      <td>0.179310</td>\n      <td>1.0</td>\n    </tr>\n    <tr>\n      <th>...</th>\n      <td>...</td>\n      <td>...</td>\n      <td>...</td>\n      <td>...</td>\n      <td>...</td>\n      <td>...</td>\n      <td>...</td>\n      <td>...</td>\n      <td>...</td>\n      <td>...</td>\n      <td>...</td>\n      <td>...</td>\n      <td>...</td>\n      <td>...</td>\n      <td>...</td>\n      <td>...</td>\n      <td>...</td>\n      <td>...</td>\n      <td>...</td>\n      <td>...</td>\n      <td>...</td>\n    </tr>\n    <tr>\n      <th>345721</th>\n      <td>301.0</td>\n      <td>87.727411</td>\n      <td>8.544850</td>\n      <td>2.950166</td>\n      <td>10.099668</td>\n      <td>14.744186</td>\n      <td>0.478405</td>\n      <td>0.846053</td>\n      <td>1.138158</td>\n      <td>337.0</td>\n      <td>...</td>\n      <td>1.198707</td>\n      <td>1.0</td>\n      <td>81</td>\n      <td>2022-05-04 16:04:14</td>\n      <td>10697495642</td>\n      <td>201</td>\n      <td>128</td>\n      <td>73</td>\n      <td>0.363184</td>\n      <td>1.0</td>\n    </tr>\n    <tr>\n      <th>1609981</th>\n      <td>249.0</td>\n      <td>77.233649</td>\n      <td>6.622490</td>\n      <td>2.401606</td>\n      <td>9.787149</td>\n      <td>13.281124</td>\n      <td>0.405622</td>\n      <td>0.676652</td>\n      <td>0.922035</td>\n      <td>726.0</td>\n      <td>...</td>\n      <td>1.750868</td>\n      <td>0.0</td>\n      <td>73</td>\n      <td>2021-06-04 18:18:08</td>\n      <td>8605440745</td>\n      <td>93</td>\n      <td>29</td>\n      <td>64</td>\n      <td>0.688172</td>\n      <td>0.0</td>\n    </tr>\n    <tr>\n      <th>371389</th>\n      <td>124.0</td>\n      <td>115.970415</td>\n      <td>9.274194</td>\n      <td>3.927419</td>\n      <td>10.580645</td>\n      <td>13.983871</td>\n      <td>0.459677</td>\n      <td>0.876524</td>\n      <td>1.247713</td>\n      <td>-1.0</td>\n      <td>...</td>\n      <td>0.000000</td>\n      <td>0.0</td>\n      <td>37</td>\n      <td>2021-06-12 13:59:19</td>\n      <td>8653899611</td>\n      <td>4</td>\n      <td>1</td>\n      <td>3</td>\n      <td>0.750000</td>\n      <td>0.0</td>\n    </tr>\n    <tr>\n      <th>512195</th>\n      <td>897.0</td>\n      <td>145.990276</td>\n      <td>12.552954</td>\n      <td>4.774805</td>\n      <td>10.370123</td>\n      <td>24.351171</td>\n      <td>0.465998</td>\n      <td>1.210492</td>\n      <td>1.670931</td>\n      <td>389.0</td>\n      <td>...</td>\n      <td>-1.000000</td>\n      <td>0.0</td>\n      <td>43</td>\n      <td>2022-01-11 23:46:06</td>\n      <td>9931842138</td>\n      <td>151</td>\n      <td>83</td>\n      <td>68</td>\n      <td>0.450331</td>\n      <td>1.0</td>\n    </tr>\n    <tr>\n      <th>855572</th>\n      <td>6586.0</td>\n      <td>173.169218</td>\n      <td>15.529153</td>\n      <td>3.177346</td>\n      <td>8.360917</td>\n      <td>25.029305</td>\n      <td>0.624658</td>\n      <td>1.857350</td>\n      <td>2.237374</td>\n      <td>7707.0</td>\n      <td>...</td>\n      <td>0.000000</td>\n      <td>0.0</td>\n      <td>84</td>\n      <td>2022-06-12 00:03:17</td>\n      <td>10946244005</td>\n      <td>5</td>\n      <td>4</td>\n      <td>1</td>\n      <td>0.200000</td>\n      <td>0.0</td>\n    </tr>\n  </tbody>\n</table>\n<p>519138 rows × 117 columns</p>\n</div>"
     },
     "execution_count": 95,
     "metadata": {},
     "output_type": "execute_result"
    }
   ],
   "source": [
    "df = X_test\n",
    "df[\"pred\"] = y_pred\n",
    "df"
   ],
   "metadata": {
    "collapsed": false
   }
  },
  {
   "cell_type": "code",
   "execution_count": 97,
   "outputs": [
    {
     "data": {
      "text/plain": "count    144244.000000\nmean          0.380394\nstd           0.271069\nmin           0.000000\n25%           0.170370\n50%           0.320000\n75%           0.589404\nmax           1.000000\nName: delta_score_relative, dtype: float64"
     },
     "execution_count": 97,
     "metadata": {},
     "output_type": "execute_result"
    }
   ],
   "source": [
    "wrong = df[df[\"pred\"] != df[\"winner\"]]\n",
    "wrong.delta_score_relative.describe()"
   ],
   "metadata": {
    "collapsed": false
   }
  },
  {
   "cell_type": "code",
   "execution_count": null,
   "outputs": [],
   "source": [],
   "metadata": {
    "collapsed": false
   }
  },
  {
   "cell_type": "markdown",
   "source": [
    "# Code saves"
   ],
   "metadata": {
    "collapsed": false
   }
  },
  {
   "cell_type": "code",
   "execution_count": null,
   "outputs": [],
   "source": [
    "# print(\"\\nAccuracy per mode:\")\n",
    "# for mode in X_test[\"mode\"].unique():\n",
    "#     x = X_test[X_test[\"mode\"] == mode]\n",
    "#     yp = clf.predict(x)\n",
    "#     yt = y_test[x.index]\n",
    "#     print(\"Accuracy mode \", mode, \": \", accuracy_score(yt, yp))"
   ],
   "metadata": {
    "collapsed": false
   }
  },
  {
   "cell_type": "code",
   "execution_count": 82,
   "outputs": [
    {
     "name": "stderr",
     "output_type": "stream",
     "text": [
      "D:\\GameDev\\ThesisPy\\venv\\lib\\site-packages\\sklearn\\base.py:443: UserWarning: X has feature names, but RBFSampler was fitted without feature names\n",
      "  warnings.warn(\n",
      "D:\\GameDev\\ThesisPy\\venv\\lib\\site-packages\\sklearn\\base.py:443: UserWarning: X has feature names, but RBFSampler was fitted without feature names\n",
      "  warnings.warn(\n",
      "D:\\GameDev\\ThesisPy\\venv\\lib\\site-packages\\sklearn\\base.py:443: UserWarning: X has feature names, but RBFSampler was fitted without feature names\n",
      "  warnings.warn(\n",
      "D:\\GameDev\\ThesisPy\\venv\\lib\\site-packages\\sklearn\\base.py:443: UserWarning: X has feature names, but RBFSampler was fitted without feature names\n",
      "  warnings.warn(\n"
     ]
    }
   ],
   "source": [
    "# dimensionality reduction test\n",
    "from sklearn.kernel_approximation import RBFSampler\n",
    "from numpy.random import RandomState\n",
    "prng = RandomState(RANDOM_STATE)\n",
    "\n",
    "rbf_sampler = RBFSampler(gamma=1, random_state=RANDOM_STATE)\n",
    "\n",
    "rbf_train = np.concatenate([X_train[get_cols_name(1, 7)].values, X_train[get_cols_name(7, 13)].values])\n",
    "prng.shuffle(rbf_train)\n",
    "rbf_sampler.fit(rbf_train)\n",
    "\n",
    "X_train_team_A = rbf_sampler.transform(X_train[get_cols_name(1, 7)])\n",
    "X_train_team_B = rbf_sampler.transform(X_train[get_cols_name(7, 13)])\n",
    "X_train = np.concatenate([X_train_team_A, X_train_team_B], axis=1)\n",
    "\n",
    "X_test_team_A = rbf_sampler.transform(X_test[get_cols_name(1, 7)])\n",
    "X_test_team_B = rbf_sampler.transform(X_test[get_cols_name(7, 13)])\n",
    "X_test = np.concatenate([X_test_team_A, X_test_team_B], axis=1)"
   ],
   "metadata": {
    "collapsed": false
   }
  },
  {
   "cell_type": "code",
   "execution_count": 75,
   "outputs": [
    {
     "name": "stderr",
     "output_type": "stream",
     "text": [
      "D:\\GameDev\\ThesisPy\\venv\\lib\\site-packages\\sklearn\\base.py:443: UserWarning: X has feature names, but PCA was fitted without feature names\n",
      "  warnings.warn(\n",
      "D:\\GameDev\\ThesisPy\\venv\\lib\\site-packages\\sklearn\\base.py:443: UserWarning: X has feature names, but PCA was fitted without feature names\n",
      "  warnings.warn(\n",
      "D:\\GameDev\\ThesisPy\\venv\\lib\\site-packages\\sklearn\\base.py:443: UserWarning: X has feature names, but PCA was fitted without feature names\n",
      "  warnings.warn(\n",
      "D:\\GameDev\\ThesisPy\\venv\\lib\\site-packages\\sklearn\\base.py:443: UserWarning: X has feature names, but PCA was fitted without feature names\n",
      "  warnings.warn(\n"
     ]
    }
   ],
   "source": [
    "# dimensionality reduction test\n",
    "from sklearn.decomposition import PCA\n",
    "from numpy.random import RandomState\n",
    "prng = RandomState(RANDOM_STATE)\n",
    "\n",
    "pca = PCA(n_components=0.9, svd_solver='full')\n",
    "\n",
    "pca_train = np.concatenate([X_train[get_cols_name(1, 7)].values, X_train[get_cols_name(7, 13)].values])\n",
    "prng.shuffle(pca_train)\n",
    "pca.fit(pca_train)\n",
    "\n",
    "X_train_team_A = pca.transform(X_train[get_cols_name(1, 7)])\n",
    "X_train_team_B = pca.transform(X_train[get_cols_name(7, 13)])\n",
    "X_train = np.concatenate([X_train_team_A, X_train_team_B], axis=1)\n",
    "\n",
    "X_test_team_A = pca.transform(X_test[get_cols_name(1, 7)])\n",
    "X_test_team_B = pca.transform(X_test[get_cols_name(7, 13)])\n",
    "X_test = np.concatenate([X_test_team_A, X_test_team_B], axis=1)"
   ],
   "metadata": {
    "collapsed": false
   }
  },
  {
   "cell_type": "code",
   "execution_count": null,
   "outputs": [],
   "source": [],
   "metadata": {
    "collapsed": false
   }
  }
 ],
 "metadata": {
  "kernelspec": {
   "display_name": "Python 3",
   "language": "python",
   "name": "python3"
  },
  "language_info": {
   "codemirror_mode": {
    "name": "ipython",
    "version": 2
   },
   "file_extension": ".py",
   "mimetype": "text/x-python",
   "name": "python",
   "nbconvert_exporter": "python",
   "pygments_lexer": "ipython2",
   "version": "2.7.6"
  }
 },
 "nbformat": 4,
 "nbformat_minor": 0
}
